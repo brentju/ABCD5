{
 "cells": [
  {
   "cell_type": "markdown",
   "metadata": {},
   "source": [
    "# Predicting Sex Assigned at Birth with Regression"
   ]
  },
  {
   "cell_type": "code",
   "execution_count": 1,
   "metadata": {},
   "outputs": [],
   "source": [
    "%load_ext autoreload\n",
    "%autoreload 2"
   ]
  },
  {
   "cell_type": "code",
   "execution_count": 2,
   "metadata": {},
   "outputs": [
    {
     "name": "stdout",
     "output_type": "stream",
     "text": [
      "Intel MKL WARNING: Support of Intel(R) Streaming SIMD Extensions 4.2 (Intel(R) SSE4.2) enabled only processors has been deprecated. Intel oneAPI Math Kernel Library 2025.0 will require Intel(R) Advanced Vector Extensions (Intel(R) AVX) instructions.\n",
      "Intel MKL WARNING: Support of Intel(R) Streaming SIMD Extensions 4.2 (Intel(R) SSE4.2) enabled only processors has been deprecated. Intel oneAPI Math Kernel Library 2025.0 will require Intel(R) Advanced Vector Extensions (Intel(R) AVX) instructions.\n"
     ]
    }
   ],
   "source": [
    "import os\n",
    "import pandas as pd\n",
    "import numpy as np\n",
    "from collections import OrderedDict\n",
    "import torch\n",
    "torch.manual_seed(0)\n",
    "from torch import nn\n",
    "from torch.utils.data import DataLoader\n",
    "from torchvision import datasets\n",
    "from torchvision.transforms import ToTensor\n",
    "from tqdm import tqdm\n",
    "from abcd.local.paths import output_path\n",
    "from abcd.data.read_data import get_subjects_events_sf, subject_cols_to_events\n",
    "import abcd.data.VARS as VARS\n",
    "from abcd.data.define_splits import SITES, save_restore_sex_fmri_splits\n",
    "from abcd.data.divide_with_splits import divide_events_by_splits\n",
    "from abcd.data.var_tailoring.normalization import normalize_var\n",
    "from abcd.data.pytorch.get_dataset import PandasDataset\n",
    "\n",
    "#regresssion-specific imports\n",
    "from abcd.models.regression.MLPRegressor import MLPRegressor, LinearRegressor, MLPRegressorCustom\n",
    "from sklearn.metrics import mean_absolute_error, mean_squared_error, r2_score\n",
    "from abcd.training.RegressorTrainer import RegressorTrainer\n",
    "\n",
    "#plotting\n",
    "import matplotlib.pyplot as plt\n",
    "import pygal\n",
    "from abcd.plotting.pygal.rendering import display_html\n",
    "from sklearn.metrics import confusion_matrix\n",
    "import seaborn as sns\n",
    "import sklearn.metrics as metrics\n",
    "from sklearn.metrics import confusion_matrix\n",
    "from abcd.plotting.seaborn.confusion_matrix import plot_confusion_matrix"
   ]
  },
  {
   "cell_type": "code",
   "execution_count": 3,
   "metadata": {},
   "outputs": [],
   "source": [
    "from datetime import datetime"
   ]
  },
  {
   "cell_type": "code",
   "execution_count": 4,
   "metadata": {},
   "outputs": [],
   "source": [
    "from abcd.analysis.regression import preprocess, train_model"
   ]
  },
  {
   "cell_type": "code",
   "execution_count": 5,
   "metadata": {},
   "outputs": [],
   "source": [
    "bucketing_scheme = \"sex\""
   ]
  },
  {
   "cell_type": "code",
   "execution_count": 6,
   "metadata": {},
   "outputs": [
    {
     "name": "stdout",
     "output_type": "stream",
     "text": [
      "Using cpu device\n"
     ]
    }
   ],
   "source": [
    "# Determine device for training (TODO: figure out why doesn't work with mps)\n",
    "device = \"cpu\" #(\"cuda\" if torch.cuda.is_available() else \"mps\" if torch.backends.mps.is_available() else \"cpu\")\n",
    "print(\"Using {} device\".format(device))"
   ]
  },
  {
   "cell_type": "code",
   "execution_count": 7,
   "metadata": {},
   "outputs": [
    {
     "name": "stdout",
     "output_type": "stream",
     "text": [
      "There are 9632 subjects and 18808 visits with imaging\n",
      "Leaving baseline visits, we have 9085 events\n",
      "\n",
      "4703 visits with Male target\n",
      "4382 visits with Female target\n",
      "\n",
      "Created splits\n",
      "Nr. events: 7063 train, 1738 val, 284 test\n",
      "\n",
      "Created dataloaders\n",
      "Shape and datatype of X: torch.Size([64, 737]), torch.float32\n",
      "Shape and datatype of y: torch.Size([64]), torch.float32\n"
     ]
    }
   ],
   "source": [
    "dataloaders, events_train, events_id_test, events_ood_test, feature_cols = preprocess('kbi_sex_assigned_at_birth', ['fmri', 'smri'], ood_site_num=0)"
   ]
  },
  {
   "cell_type": "markdown",
   "metadata": {},
   "source": [
    "# Linear Regression Baseline"
   ]
  },
  {
   "cell_type": "code",
   "execution_count": 8,
   "metadata": {},
   "outputs": [],
   "source": [
    "#modify\n",
    "config = {'target_col': 'kbi_sex_assigned_at_birth',\n",
    "          'features': ['fmri', 'smri'],\n",
    "          'model': ['abcd.models.regression.MLPRegressor', 'LinearRegressor'],\n",
    "          'lr': 1e-3,\n",
    "          'batch_size': 64,\n",
    "          'nr_epochs': 1000\n",
    "        }\n",
    "\n",
    "#leave unmodified\n",
    "experiment_title = 'ABCD_sex_' + config['model'][1] + \"_\" + datetime.now().strftime(\"%Y-%m-%d %H:%M:%S\") #for saving results\n",
    "models_path = os.path.join(output_path, experiment_title, 'models')"
   ]
  },
  {
   "cell_type": "code",
   "execution_count": 9,
   "metadata": {},
   "outputs": [
    {
     "name": "stdout",
     "output_type": "stream",
     "text": [
      "LinearRegressor(\n",
      "  (sigmoid): Sigmoid()\n",
      "  (linear1): Linear(in_features=737, out_features=1, bias=True)\n",
      "  (linear_layers): Linear(in_features=737, out_features=1, bias=True)\n",
      ")\n"
     ]
    },
    {
     "name": "stderr",
     "output_type": "stream",
     "text": [
      "  0%|          | 0/1000 [00:00<?, ?it/s]"
     ]
    },
    {
     "name": "stdout",
     "output_type": "stream",
     "text": [
      "Epoch 0\n",
      "train MSELoss: 0.246 MSE: 0.246 MAE: 0.488 accuracy: 0.525\n",
      "val MSELoss: 0.246 MSE: 0.245 MAE: 0.489 accuracy: 0.526\n",
      "test MSELoss: 0.249 MSE: 0.249 MAE: 0.494 accuracy: 0.514\n",
      "\n",
      "New best model.\n",
      "\n",
      "Saved PyTorch model state LinearRegressor_epoch0.pth in /Users/carolinezanze/Desktop/abcd5_output/ABCD_sex_LinearRegressor_2023-08-25 11:51:11/models\n",
      "Saved trainer state RegressorTrainer_optimizer_epoch0.pth in /Users/carolinezanze/Desktop/abcd5_output/ABCD_sex_LinearRegressor_2023-08-25 11:51:11/results/states\n",
      "Progress stored in /Users/carolinezanze/Desktop/abcd5_output/ABCD_sex_LinearRegressor_2023-08-25 11:51:11/results\n"
     ]
    },
    {
     "name": "stderr",
     "output_type": "stream",
     "text": [
      "  0%|          | 1/1000 [00:00<04:13,  3.94it/s]"
     ]
    },
    {
     "name": "stdout",
     "output_type": "stream",
     "text": [
      "Ending epoch 1, loss 0.22392568609735988\n"
     ]
    },
    {
     "name": "stderr",
     "output_type": "stream",
     "text": [
      "  1%|          | 11/1000 [00:01<01:33, 10.57it/s]"
     ]
    },
    {
     "name": "stdout",
     "output_type": "stream",
     "text": [
      "Epoch 10\n",
      "train MSELoss: 0.168 MSE: 0.168 MAE: 0.366 accuracy: 0.757\n",
      "val MSELoss: 0.169 MSE: 0.168 MAE: 0.366 accuracy: 0.755\n",
      "test MSELoss: 0.172 MSE: 0.172 MAE: 0.376 accuracy: 0.739\n",
      "\n",
      "New best model.\n",
      "\n",
      "Ending epoch 11, loss 0.16908596503036516\n"
     ]
    },
    {
     "name": "stderr",
     "output_type": "stream",
     "text": [
      "  2%|▏         | 21/1000 [00:01<01:28, 11.06it/s]"
     ]
    },
    {
     "name": "stdout",
     "output_type": "stream",
     "text": [
      "Epoch 20\n",
      "train MSELoss: 0.153 MSE: 0.153 MAE: 0.343 accuracy: 0.788\n",
      "val MSELoss: 0.154 MSE: 0.152 MAE: 0.342 accuracy: 0.791\n",
      "test MSELoss: 0.157 MSE: 0.157 MAE: 0.353 accuracy: 0.785\n",
      "\n",
      "New best model.\n",
      "\n",
      "Ending epoch 21, loss 0.15282815674672257\n"
     ]
    },
    {
     "name": "stderr",
     "output_type": "stream",
     "text": [
      "  3%|▎         | 31/1000 [00:02<01:22, 11.75it/s]"
     ]
    },
    {
     "name": "stdout",
     "output_type": "stream",
     "text": [
      "Epoch 30\n",
      "train MSELoss: 0.143 MSE: 0.143 MAE: 0.326 accuracy: 0.801\n",
      "val MSELoss: 0.145 MSE: 0.143 MAE: 0.327 accuracy: 0.799\n",
      "test MSELoss: 0.143 MSE: 0.144 MAE: 0.335 accuracy: 0.792\n",
      "\n",
      "New best model.\n",
      "\n",
      "Ending epoch 31, loss 0.14373248365816768\n"
     ]
    },
    {
     "name": "stderr",
     "output_type": "stream",
     "text": [
      "  4%|▍         | 43/1000 [00:03<01:13, 13.05it/s]"
     ]
    },
    {
     "name": "stdout",
     "output_type": "stream",
     "text": [
      "Epoch 40\n",
      "train MSELoss: 0.136 MSE: 0.136 MAE: 0.314 accuracy: 0.813\n",
      "val MSELoss: 0.139 MSE: 0.138 MAE: 0.315 accuracy: 0.810\n",
      "test MSELoss: 0.136 MSE: 0.137 MAE: 0.323 accuracy: 0.803\n",
      "\n",
      "New best model.\n",
      "\n",
      "Ending epoch 41, loss 0.1362683053489204\n"
     ]
    },
    {
     "name": "stderr",
     "output_type": "stream",
     "text": [
      "  5%|▌         | 51/1000 [00:04<01:25, 11.16it/s]"
     ]
    },
    {
     "name": "stdout",
     "output_type": "stream",
     "text": [
      "Epoch 50\n",
      "train MSELoss: 0.132 MSE: 0.133 MAE: 0.306 accuracy: 0.820\n",
      "val MSELoss: 0.136 MSE: 0.133 MAE: 0.308 accuracy: 0.825\n",
      "test MSELoss: 0.140 MSE: 0.141 MAE: 0.320 accuracy: 0.792\n",
      "\n",
      "New best model.\n",
      "\n",
      "Saved PyTorch model state LinearRegressor_epoch50.pth in /Users/carolinezanze/Desktop/abcd5_output/ABCD_sex_LinearRegressor_2023-08-25 11:51:11/models\n",
      "Saved trainer state RegressorTrainer_optimizer_epoch50.pth in /Users/carolinezanze/Desktop/abcd5_output/ABCD_sex_LinearRegressor_2023-08-25 11:51:11/results/states\n",
      "Progress stored in /Users/carolinezanze/Desktop/abcd5_output/ABCD_sex_LinearRegressor_2023-08-25 11:51:11/results\n",
      "Ending epoch 51, loss 0.13109969636341473\n"
     ]
    },
    {
     "name": "stderr",
     "output_type": "stream",
     "text": [
      "  6%|▌         | 61/1000 [00:05<01:19, 11.83it/s]"
     ]
    },
    {
     "name": "stdout",
     "output_type": "stream",
     "text": [
      "Epoch 60\n",
      "train MSELoss: 0.127 MSE: 0.127 MAE: 0.296 accuracy: 0.831\n",
      "val MSELoss: 0.131 MSE: 0.129 MAE: 0.299 accuracy: 0.831\n",
      "test MSELoss: 0.128 MSE: 0.130 MAE: 0.307 accuracy: 0.824\n",
      "\n",
      "New best model.\n",
      "\n",
      "Ending epoch 61, loss 0.1277953070160505\n"
     ]
    },
    {
     "name": "stderr",
     "output_type": "stream",
     "text": [
      "  7%|▋         | 73/1000 [00:06<01:10, 13.07it/s]"
     ]
    },
    {
     "name": "stdout",
     "output_type": "stream",
     "text": [
      "Epoch 70\n",
      "train MSELoss: 0.123 MSE: 0.123 MAE: 0.289 accuracy: 0.839\n",
      "val MSELoss: 0.127 MSE: 0.125 MAE: 0.292 accuracy: 0.839\n",
      "test MSELoss: 0.128 MSE: 0.130 MAE: 0.303 accuracy: 0.820\n",
      "\n",
      "New best model.\n",
      "\n",
      "Ending epoch 71, loss 0.12492289246471079\n"
     ]
    },
    {
     "name": "stderr",
     "output_type": "stream",
     "text": [
      "  8%|▊         | 81/1000 [00:06<01:17, 11.93it/s]"
     ]
    },
    {
     "name": "stdout",
     "output_type": "stream",
     "text": [
      "Epoch 80\n",
      "train MSELoss: 0.123 MSE: 0.123 MAE: 0.284 accuracy: 0.834\n",
      "val MSELoss: 0.128 MSE: 0.126 MAE: 0.287 accuracy: 0.829\n",
      "test MSELoss: 0.122 MSE: 0.124 MAE: 0.293 accuracy: 0.827\n",
      "Ending epoch 81, loss 0.12045283494768916\n"
     ]
    },
    {
     "name": "stderr",
     "output_type": "stream",
     "text": [
      "  9%|▉         | 91/1000 [00:07<01:13, 12.43it/s]"
     ]
    },
    {
     "name": "stdout",
     "output_type": "stream",
     "text": [
      "Epoch 90\n",
      "train MSELoss: 0.118 MSE: 0.119 MAE: 0.278 accuracy: 0.842\n",
      "val MSELoss: 0.124 MSE: 0.122 MAE: 0.282 accuracy: 0.841\n",
      "test MSELoss: 0.128 MSE: 0.129 MAE: 0.295 accuracy: 0.810\n",
      "\n",
      "New best model.\n",
      "\n",
      "Ending epoch 91, loss 0.11868828269946682\n"
     ]
    },
    {
     "name": "stderr",
     "output_type": "stream",
     "text": [
      " 10%|█         | 101/1000 [00:08<01:17, 11.57it/s]"
     ]
    },
    {
     "name": "stdout",
     "output_type": "stream",
     "text": [
      "Epoch 100\n",
      "train MSELoss: 0.116 MSE: 0.116 MAE: 0.274 accuracy: 0.847\n",
      "val MSELoss: 0.122 MSE: 0.119 MAE: 0.278 accuracy: 0.845\n",
      "test MSELoss: 0.125 MSE: 0.126 MAE: 0.290 accuracy: 0.817\n",
      "\n",
      "New best model.\n",
      "\n",
      "Saved PyTorch model state LinearRegressor_epoch100.pth in /Users/carolinezanze/Desktop/abcd5_output/ABCD_sex_LinearRegressor_2023-08-25 11:51:11/models\n",
      "Saved trainer state RegressorTrainer_optimizer_epoch100.pth in /Users/carolinezanze/Desktop/abcd5_output/ABCD_sex_LinearRegressor_2023-08-25 11:51:11/results/states\n",
      "Progress stored in /Users/carolinezanze/Desktop/abcd5_output/ABCD_sex_LinearRegressor_2023-08-25 11:51:11/results\n",
      "Ending epoch 101, loss 0.11614778080770562\n"
     ]
    },
    {
     "name": "stderr",
     "output_type": "stream",
     "text": [
      " 11%|█▏        | 113/1000 [00:09<01:08, 13.03it/s]"
     ]
    },
    {
     "name": "stdout",
     "output_type": "stream",
     "text": [
      "Epoch 110\n",
      "train MSELoss: 0.114 MSE: 0.114 MAE: 0.269 accuracy: 0.850\n",
      "val MSELoss: 0.120 MSE: 0.118 MAE: 0.274 accuracy: 0.845\n",
      "test MSELoss: 0.123 MSE: 0.124 MAE: 0.285 accuracy: 0.824\n",
      "\n",
      "New best model.\n",
      "\n",
      "Ending epoch 111, loss 0.11451323223006618\n"
     ]
    },
    {
     "name": "stderr",
     "output_type": "stream",
     "text": [
      " 12%|█▏        | 121/1000 [00:09<01:14, 11.75it/s]"
     ]
    },
    {
     "name": "stdout",
     "output_type": "stream",
     "text": [
      "Epoch 120\n",
      "train MSELoss: 0.113 MSE: 0.112 MAE: 0.265 accuracy: 0.850\n",
      "val MSELoss: 0.120 MSE: 0.117 MAE: 0.270 accuracy: 0.846\n",
      "test MSELoss: 0.118 MSE: 0.119 MAE: 0.278 accuracy: 0.827\n",
      "\n",
      "New best model.\n",
      "\n",
      "Ending epoch 121, loss 0.11295885968584198\n"
     ]
    },
    {
     "name": "stderr",
     "output_type": "stream",
     "text": [
      " 13%|█▎        | 131/1000 [00:10<01:14, 11.72it/s]"
     ]
    },
    {
     "name": "stdout",
     "output_type": "stream",
     "text": [
      "Epoch 130\n",
      "train MSELoss: 0.112 MSE: 0.112 MAE: 0.263 accuracy: 0.850\n",
      "val MSELoss: 0.119 MSE: 0.117 MAE: 0.268 accuracy: 0.842\n",
      "test MSELoss: 0.125 MSE: 0.125 MAE: 0.282 accuracy: 0.810\n",
      "\n",
      "New best model.\n",
      "\n",
      "Ending epoch 131, loss 0.11235875528943431\n"
     ]
    },
    {
     "name": "stderr",
     "output_type": "stream",
     "text": [
      " 14%|█▍        | 141/1000 [00:11<01:16, 11.28it/s]"
     ]
    },
    {
     "name": "stdout",
     "output_type": "stream",
     "text": [
      "Epoch 140\n",
      "train MSELoss: 0.109 MSE: 0.109 MAE: 0.258 accuracy: 0.855\n",
      "val MSELoss: 0.117 MSE: 0.114 MAE: 0.263 accuracy: 0.855\n",
      "test MSELoss: 0.117 MSE: 0.118 MAE: 0.273 accuracy: 0.827\n",
      "\n",
      "New best model.\n",
      "\n",
      "Ending epoch 141, loss 0.1100191496446863\n"
     ]
    },
    {
     "name": "stderr",
     "output_type": "stream",
     "text": [
      " 15%|█▌        | 151/1000 [00:12<01:17, 10.98it/s]"
     ]
    },
    {
     "name": "stdout",
     "output_type": "stream",
     "text": [
      "Epoch 150\n",
      "train MSELoss: 0.110 MSE: 0.109 MAE: 0.256 accuracy: 0.853\n",
      "val MSELoss: 0.118 MSE: 0.115 MAE: 0.262 accuracy: 0.846\n",
      "test MSELoss: 0.114 MSE: 0.115 MAE: 0.269 accuracy: 0.838\n",
      "Saved PyTorch model state LinearRegressor_epoch150.pth in /Users/carolinezanze/Desktop/abcd5_output/ABCD_sex_LinearRegressor_2023-08-25 11:51:11/models\n",
      "Saved trainer state RegressorTrainer_optimizer_epoch150.pth in /Users/carolinezanze/Desktop/abcd5_output/ABCD_sex_LinearRegressor_2023-08-25 11:51:11/results/states\n",
      "Progress stored in /Users/carolinezanze/Desktop/abcd5_output/ABCD_sex_LinearRegressor_2023-08-25 11:51:11/results\n",
      "Ending epoch 151, loss 0.10928652348282102\n"
     ]
    },
    {
     "name": "stderr",
     "output_type": "stream",
     "text": [
      " 16%|█▌        | 161/1000 [00:13<01:11, 11.72it/s]"
     ]
    },
    {
     "name": "stdout",
     "output_type": "stream",
     "text": [
      "Epoch 160\n",
      "train MSELoss: 0.107 MSE: 0.106 MAE: 0.252 accuracy: 0.858\n",
      "val MSELoss: 0.115 MSE: 0.113 MAE: 0.258 accuracy: 0.858\n",
      "test MSELoss: 0.116 MSE: 0.116 MAE: 0.268 accuracy: 0.831\n",
      "\n",
      "New best model.\n",
      "\n",
      "Ending epoch 161, loss 0.1085378885067798\n"
     ]
    },
    {
     "name": "stderr",
     "output_type": "stream",
     "text": [
      " 17%|█▋        | 171/1000 [00:13<01:11, 11.53it/s]"
     ]
    },
    {
     "name": "stdout",
     "output_type": "stream",
     "text": [
      "Epoch 170\n",
      "train MSELoss: 0.107 MSE: 0.107 MAE: 0.250 accuracy: 0.858\n",
      "val MSELoss: 0.115 MSE: 0.113 MAE: 0.257 accuracy: 0.852\n",
      "test MSELoss: 0.114 MSE: 0.114 MAE: 0.265 accuracy: 0.845\n",
      "Ending epoch 171, loss 0.1069935146081555\n"
     ]
    },
    {
     "name": "stderr",
     "output_type": "stream",
     "text": [
      " 18%|█▊        | 181/1000 [00:14<01:10, 11.61it/s]"
     ]
    },
    {
     "name": "stdout",
     "output_type": "stream",
     "text": [
      "Epoch 180\n",
      "train MSELoss: 0.105 MSE: 0.105 MAE: 0.248 accuracy: 0.862\n",
      "val MSELoss: 0.114 MSE: 0.111 MAE: 0.255 accuracy: 0.853\n",
      "test MSELoss: 0.116 MSE: 0.116 MAE: 0.266 accuracy: 0.835\n",
      "\n",
      "New best model.\n",
      "\n",
      "Ending epoch 181, loss 0.10610927990427962\n"
     ]
    },
    {
     "name": "stderr",
     "output_type": "stream",
     "text": [
      " 19%|█▉        | 191/1000 [00:15<01:12, 11.22it/s]"
     ]
    },
    {
     "name": "stdout",
     "output_type": "stream",
     "text": [
      "Epoch 190\n",
      "train MSELoss: 0.104 MSE: 0.104 MAE: 0.245 accuracy: 0.861\n",
      "val MSELoss: 0.113 MSE: 0.111 MAE: 0.252 accuracy: 0.859\n",
      "test MSELoss: 0.114 MSE: 0.114 MAE: 0.262 accuracy: 0.831\n",
      "\n",
      "New best model.\n",
      "\n",
      "Ending epoch 191, loss 0.10501445829868317\n"
     ]
    },
    {
     "name": "stderr",
     "output_type": "stream",
     "text": [
      " 20%|██        | 201/1000 [00:16<01:17, 10.36it/s]"
     ]
    },
    {
     "name": "stdout",
     "output_type": "stream",
     "text": [
      "Epoch 200\n",
      "train MSELoss: 0.108 MSE: 0.108 MAE: 0.247 accuracy: 0.856\n",
      "val MSELoss: 0.117 MSE: 0.114 MAE: 0.255 accuracy: 0.843\n",
      "test MSELoss: 0.124 MSE: 0.123 MAE: 0.268 accuracy: 0.813\n",
      "Saved PyTorch model state LinearRegressor_epoch200.pth in /Users/carolinezanze/Desktop/abcd5_output/ABCD_sex_LinearRegressor_2023-08-25 11:51:11/models\n",
      "Saved trainer state RegressorTrainer_optimizer_epoch200.pth in /Users/carolinezanze/Desktop/abcd5_output/ABCD_sex_LinearRegressor_2023-08-25 11:51:11/results/states\n",
      "Progress stored in /Users/carolinezanze/Desktop/abcd5_output/ABCD_sex_LinearRegressor_2023-08-25 11:51:11/results\n",
      "Ending epoch 201, loss 0.1046316994874327\n"
     ]
    },
    {
     "name": "stderr",
     "output_type": "stream",
     "text": [
      " 21%|██▏       | 213/1000 [00:17<01:00, 12.94it/s]"
     ]
    },
    {
     "name": "stdout",
     "output_type": "stream",
     "text": [
      "Epoch 210\n",
      "train MSELoss: 0.107 MSE: 0.106 MAE: 0.244 accuracy: 0.858\n",
      "val MSELoss: 0.116 MSE: 0.114 MAE: 0.251 accuracy: 0.846\n",
      "test MSELoss: 0.111 MSE: 0.111 MAE: 0.257 accuracy: 0.845\n",
      "Ending epoch 211, loss 0.10288207581988326\n"
     ]
    },
    {
     "name": "stderr",
     "output_type": "stream",
     "text": [
      " 22%|██▏       | 221/1000 [00:17<01:09, 11.18it/s]"
     ]
    },
    {
     "name": "stdout",
     "output_type": "stream",
     "text": [
      "Epoch 220\n",
      "train MSELoss: 0.102 MSE: 0.101 MAE: 0.239 accuracy: 0.865\n",
      "val MSELoss: 0.111 MSE: 0.109 MAE: 0.247 accuracy: 0.860\n",
      "test MSELoss: 0.114 MSE: 0.113 MAE: 0.258 accuracy: 0.835\n",
      "\n",
      "New best model.\n",
      "\n",
      "Ending epoch 221, loss 0.10249857906554197\n"
     ]
    },
    {
     "name": "stderr",
     "output_type": "stream",
     "text": [
      " 23%|██▎       | 231/1000 [00:18<01:07, 11.34it/s]"
     ]
    },
    {
     "name": "stdout",
     "output_type": "stream",
     "text": [
      "Epoch 230\n",
      "train MSELoss: 0.102 MSE: 0.102 MAE: 0.239 accuracy: 0.864\n",
      "val MSELoss: 0.112 MSE: 0.110 MAE: 0.247 accuracy: 0.850\n",
      "test MSELoss: 0.118 MSE: 0.117 MAE: 0.260 accuracy: 0.820\n",
      "Ending epoch 231, loss 0.10131065111171018\n"
     ]
    },
    {
     "name": "stderr",
     "output_type": "stream",
     "text": [
      " 24%|██▍       | 243/1000 [00:19<00:59, 12.79it/s]"
     ]
    },
    {
     "name": "stdout",
     "output_type": "stream",
     "text": [
      "Epoch 240\n",
      "train MSELoss: 0.101 MSE: 0.101 MAE: 0.236 accuracy: 0.866\n",
      "val MSELoss: 0.111 MSE: 0.109 MAE: 0.244 accuracy: 0.857\n",
      "test MSELoss: 0.111 MSE: 0.111 MAE: 0.253 accuracy: 0.845\n",
      "\n",
      "New best model.\n",
      "\n",
      "Ending epoch 241, loss 0.1002379913587828\n"
     ]
    },
    {
     "name": "stderr",
     "output_type": "stream",
     "text": [
      " 25%|██▌       | 251/1000 [00:20<01:10, 10.61it/s]"
     ]
    },
    {
     "name": "stdout",
     "output_type": "stream",
     "text": [
      "Epoch 250\n",
      "train MSELoss: 0.100 MSE: 0.100 MAE: 0.235 accuracy: 0.865\n",
      "val MSELoss: 0.111 MSE: 0.109 MAE: 0.243 accuracy: 0.856\n",
      "test MSELoss: 0.110 MSE: 0.110 MAE: 0.251 accuracy: 0.842\n",
      "\n",
      "New best model.\n",
      "\n",
      "Saved PyTorch model state LinearRegressor_epoch250.pth in /Users/carolinezanze/Desktop/abcd5_output/ABCD_sex_LinearRegressor_2023-08-25 11:51:11/models\n",
      "Saved trainer state RegressorTrainer_optimizer_epoch250.pth in /Users/carolinezanze/Desktop/abcd5_output/ABCD_sex_LinearRegressor_2023-08-25 11:51:11/results/states\n",
      "Progress stored in /Users/carolinezanze/Desktop/abcd5_output/ABCD_sex_LinearRegressor_2023-08-25 11:51:11/results\n",
      "Ending epoch 251, loss 0.10141762151374473\n"
     ]
    },
    {
     "name": "stderr",
     "output_type": "stream",
     "text": [
      " 26%|██▌       | 261/1000 [00:21<01:02, 11.76it/s]"
     ]
    },
    {
     "name": "stdout",
     "output_type": "stream",
     "text": [
      "Epoch 260\n",
      "train MSELoss: 0.099 MSE: 0.099 MAE: 0.233 accuracy: 0.868\n",
      "val MSELoss: 0.110 MSE: 0.107 MAE: 0.241 accuracy: 0.860\n",
      "test MSELoss: 0.113 MSE: 0.112 MAE: 0.252 accuracy: 0.838\n",
      "\n",
      "New best model.\n",
      "\n",
      "Ending epoch 261, loss 0.09976619894842843\n"
     ]
    },
    {
     "name": "stderr",
     "output_type": "stream",
     "text": [
      " 27%|██▋       | 271/1000 [00:21<01:03, 11.52it/s]"
     ]
    },
    {
     "name": "stdout",
     "output_type": "stream",
     "text": [
      "Epoch 270\n",
      "train MSELoss: 0.102 MSE: 0.102 MAE: 0.234 accuracy: 0.863\n",
      "val MSELoss: 0.113 MSE: 0.111 MAE: 0.242 accuracy: 0.850\n",
      "test MSELoss: 0.109 MSE: 0.109 MAE: 0.248 accuracy: 0.845\n",
      "Ending epoch 271, loss 0.09941224052428126\n"
     ]
    },
    {
     "name": "stderr",
     "output_type": "stream",
     "text": [
      " 28%|██▊       | 283/1000 [00:22<00:55, 12.81it/s]"
     ]
    },
    {
     "name": "stdout",
     "output_type": "stream",
     "text": [
      "Epoch 280\n",
      "train MSELoss: 0.103 MSE: 0.103 MAE: 0.234 accuracy: 0.861\n",
      "val MSELoss: 0.114 MSE: 0.112 MAE: 0.242 accuracy: 0.846\n",
      "test MSELoss: 0.109 MSE: 0.109 MAE: 0.247 accuracy: 0.849\n",
      "Ending epoch 281, loss 0.10003942637158944\n"
     ]
    },
    {
     "name": "stderr",
     "output_type": "stream",
     "text": [
      " 29%|██▉       | 291/1000 [00:23<01:00, 11.66it/s]"
     ]
    },
    {
     "name": "stdout",
     "output_type": "stream",
     "text": [
      "Epoch 290\n",
      "train MSELoss: 0.097 MSE: 0.097 MAE: 0.229 accuracy: 0.871\n",
      "val MSELoss: 0.109 MSE: 0.106 MAE: 0.237 accuracy: 0.860\n",
      "test MSELoss: 0.111 MSE: 0.110 MAE: 0.247 accuracy: 0.842\n",
      "\n",
      "New best model.\n",
      "\n",
      "Ending epoch 291, loss 0.09786461870949548\n"
     ]
    },
    {
     "name": "stderr",
     "output_type": "stream",
     "text": [
      " 30%|███       | 301/1000 [00:24<01:04, 10.88it/s]"
     ]
    },
    {
     "name": "stdout",
     "output_type": "stream",
     "text": [
      "Epoch 300\n",
      "train MSELoss: 0.098 MSE: 0.098 MAE: 0.228 accuracy: 0.869\n",
      "val MSELoss: 0.109 MSE: 0.107 MAE: 0.237 accuracy: 0.859\n",
      "test MSELoss: 0.109 MSE: 0.108 MAE: 0.245 accuracy: 0.842\n",
      "Saved PyTorch model state LinearRegressor_epoch300.pth in /Users/carolinezanze/Desktop/abcd5_output/ABCD_sex_LinearRegressor_2023-08-25 11:51:11/models\n",
      "Saved trainer state RegressorTrainer_optimizer_epoch300.pth in /Users/carolinezanze/Desktop/abcd5_output/ABCD_sex_LinearRegressor_2023-08-25 11:51:11/results/states\n",
      "Progress stored in /Users/carolinezanze/Desktop/abcd5_output/ABCD_sex_LinearRegressor_2023-08-25 11:51:11/results\n",
      "Ending epoch 301, loss 0.0975514521469941\n"
     ]
    },
    {
     "name": "stderr",
     "output_type": "stream",
     "text": [
      " 31%|███       | 311/1000 [00:25<00:56, 12.12it/s]"
     ]
    },
    {
     "name": "stdout",
     "output_type": "stream",
     "text": [
      "Epoch 310\n",
      "train MSELoss: 0.099 MSE: 0.099 MAE: 0.229 accuracy: 0.869\n",
      "val MSELoss: 0.111 MSE: 0.108 MAE: 0.238 accuracy: 0.856\n",
      "test MSELoss: 0.118 MSE: 0.117 MAE: 0.251 accuracy: 0.835\n",
      "Ending epoch 311, loss 0.09777889592019287\n"
     ]
    },
    {
     "name": "stderr",
     "output_type": "stream",
     "text": [
      " 32%|███▏      | 321/1000 [00:25<00:57, 11.89it/s]"
     ]
    },
    {
     "name": "stdout",
     "output_type": "stream",
     "text": [
      "Epoch 320\n",
      "train MSELoss: 0.103 MSE: 0.103 MAE: 0.230 accuracy: 0.861\n",
      "val MSELoss: 0.115 MSE: 0.113 MAE: 0.239 accuracy: 0.842\n",
      "test MSELoss: 0.109 MSE: 0.108 MAE: 0.243 accuracy: 0.835\n",
      "Ending epoch 321, loss 0.09757243757983586\n"
     ]
    },
    {
     "name": "stderr",
     "output_type": "stream",
     "text": [
      " 33%|███▎      | 333/1000 [00:26<00:50, 13.18it/s]"
     ]
    },
    {
     "name": "stdout",
     "output_type": "stream",
     "text": [
      "Epoch 330\n",
      "train MSELoss: 0.096 MSE: 0.096 MAE: 0.224 accuracy: 0.873\n",
      "val MSELoss: 0.108 MSE: 0.106 MAE: 0.233 accuracy: 0.860\n",
      "test MSELoss: 0.108 MSE: 0.108 MAE: 0.242 accuracy: 0.845\n",
      "\n",
      "New best model.\n",
      "\n",
      "Ending epoch 331, loss 0.09722497686743736\n"
     ]
    },
    {
     "name": "stderr",
     "output_type": "stream",
     "text": [
      " 34%|███▍      | 341/1000 [00:27<00:55, 11.85it/s]"
     ]
    },
    {
     "name": "stdout",
     "output_type": "stream",
     "text": [
      "Epoch 340\n",
      "train MSELoss: 0.095 MSE: 0.095 MAE: 0.223 accuracy: 0.874\n",
      "val MSELoss: 0.107 MSE: 0.105 MAE: 0.233 accuracy: 0.861\n",
      "test MSELoss: 0.109 MSE: 0.108 MAE: 0.242 accuracy: 0.845\n",
      "\n",
      "New best model.\n",
      "\n",
      "Ending epoch 341, loss 0.09578672115195978\n"
     ]
    },
    {
     "name": "stderr",
     "output_type": "stream",
     "text": [
      " 35%|███▌      | 351/1000 [00:28<01:01, 10.62it/s]"
     ]
    },
    {
     "name": "stdout",
     "output_type": "stream",
     "text": [
      "Epoch 350\n",
      "train MSELoss: 0.097 MSE: 0.097 MAE: 0.224 accuracy: 0.869\n",
      "val MSELoss: 0.110 MSE: 0.107 MAE: 0.233 accuracy: 0.856\n",
      "test MSELoss: 0.107 MSE: 0.107 MAE: 0.240 accuracy: 0.845\n",
      "Saved PyTorch model state LinearRegressor_epoch350.pth in /Users/carolinezanze/Desktop/abcd5_output/ABCD_sex_LinearRegressor_2023-08-25 11:51:11/models\n",
      "Saved trainer state RegressorTrainer_optimizer_epoch350.pth in /Users/carolinezanze/Desktop/abcd5_output/ABCD_sex_LinearRegressor_2023-08-25 11:51:11/results/states\n",
      "Progress stored in /Users/carolinezanze/Desktop/abcd5_output/ABCD_sex_LinearRegressor_2023-08-25 11:51:11/results\n",
      "Ending epoch 351, loss 0.09685595145633628\n"
     ]
    },
    {
     "name": "stderr",
     "output_type": "stream",
     "text": [
      " 36%|███▌      | 361/1000 [00:29<00:57, 11.07it/s]"
     ]
    },
    {
     "name": "stdout",
     "output_type": "stream",
     "text": [
      "Epoch 360\n",
      "train MSELoss: 0.095 MSE: 0.095 MAE: 0.222 accuracy: 0.873\n",
      "val MSELoss: 0.108 MSE: 0.106 MAE: 0.231 accuracy: 0.860\n",
      "test MSELoss: 0.108 MSE: 0.107 MAE: 0.239 accuracy: 0.845\n",
      "Ending epoch 361, loss 0.0959649493095574\n"
     ]
    },
    {
     "name": "stderr",
     "output_type": "stream",
     "text": [
      " 37%|███▋      | 371/1000 [00:29<00:51, 12.24it/s]"
     ]
    },
    {
     "name": "stdout",
     "output_type": "stream",
     "text": [
      "Epoch 370\n",
      "train MSELoss: 0.094 MSE: 0.094 MAE: 0.220 accuracy: 0.876\n",
      "val MSELoss: 0.106 MSE: 0.104 MAE: 0.230 accuracy: 0.862\n",
      "test MSELoss: 0.109 MSE: 0.108 MAE: 0.240 accuracy: 0.845\n",
      "\n",
      "New best model.\n",
      "\n",
      "Ending epoch 371, loss 0.09444044386078645\n"
     ]
    },
    {
     "name": "stderr",
     "output_type": "stream",
     "text": [
      " 38%|███▊      | 381/1000 [00:30<00:53, 11.63it/s]"
     ]
    },
    {
     "name": "stdout",
     "output_type": "stream",
     "text": [
      "Epoch 380\n",
      "train MSELoss: 0.099 MSE: 0.100 MAE: 0.225 accuracy: 0.867\n",
      "val MSELoss: 0.111 MSE: 0.109 MAE: 0.235 accuracy: 0.850\n",
      "test MSELoss: 0.121 MSE: 0.120 MAE: 0.249 accuracy: 0.835\n",
      "Ending epoch 381, loss 0.09442251004480026\n"
     ]
    },
    {
     "name": "stderr",
     "output_type": "stream",
     "text": [
      " 39%|███▉      | 391/1000 [00:31<00:51, 11.91it/s]"
     ]
    },
    {
     "name": "stdout",
     "output_type": "stream",
     "text": [
      "Epoch 390\n",
      "train MSELoss: 0.096 MSE: 0.095 MAE: 0.220 accuracy: 0.874\n",
      "val MSELoss: 0.108 MSE: 0.105 MAE: 0.231 accuracy: 0.861\n",
      "test MSELoss: 0.115 MSE: 0.114 MAE: 0.244 accuracy: 0.849\n",
      "Ending epoch 391, loss 0.09463117660971375\n"
     ]
    },
    {
     "name": "stderr",
     "output_type": "stream",
     "text": [
      " 40%|████      | 401/1000 [00:32<00:54, 10.89it/s]"
     ]
    },
    {
     "name": "stdout",
     "output_type": "stream",
     "text": [
      "Epoch 400\n",
      "train MSELoss: 0.093 MSE: 0.093 MAE: 0.217 accuracy: 0.878\n",
      "val MSELoss: 0.106 MSE: 0.103 MAE: 0.228 accuracy: 0.864\n",
      "test MSELoss: 0.109 MSE: 0.108 MAE: 0.238 accuracy: 0.845\n",
      "\n",
      "New best model.\n",
      "\n",
      "Saved PyTorch model state LinearRegressor_epoch400.pth in /Users/carolinezanze/Desktop/abcd5_output/ABCD_sex_LinearRegressor_2023-08-25 11:51:11/models\n",
      "Saved trainer state RegressorTrainer_optimizer_epoch400.pth in /Users/carolinezanze/Desktop/abcd5_output/ABCD_sex_LinearRegressor_2023-08-25 11:51:11/results/states\n",
      "Progress stored in /Users/carolinezanze/Desktop/abcd5_output/ABCD_sex_LinearRegressor_2023-08-25 11:51:11/results\n",
      "Ending epoch 401, loss 0.09412967876808064\n"
     ]
    },
    {
     "name": "stderr",
     "output_type": "stream",
     "text": [
      " 41%|████      | 411/1000 [00:33<00:50, 11.66it/s]"
     ]
    },
    {
     "name": "stdout",
     "output_type": "stream",
     "text": [
      "Epoch 410\n",
      "train MSELoss: 0.093 MSE: 0.093 MAE: 0.217 accuracy: 0.877\n",
      "val MSELoss: 0.106 MSE: 0.104 MAE: 0.227 accuracy: 0.862\n",
      "test MSELoss: 0.108 MSE: 0.106 MAE: 0.236 accuracy: 0.849\n",
      "Ending epoch 411, loss 0.09361269190773233\n"
     ]
    },
    {
     "name": "stderr",
     "output_type": "stream",
     "text": [
      " 42%|████▏     | 421/1000 [00:33<00:48, 12.02it/s]"
     ]
    },
    {
     "name": "stdout",
     "output_type": "stream",
     "text": [
      "Epoch 420\n",
      "train MSELoss: 0.092 MSE: 0.092 MAE: 0.216 accuracy: 0.879\n",
      "val MSELoss: 0.106 MSE: 0.103 MAE: 0.226 accuracy: 0.863\n",
      "test MSELoss: 0.108 MSE: 0.106 MAE: 0.235 accuracy: 0.849\n",
      "Ending epoch 421, loss 0.09320249153418583\n"
     ]
    },
    {
     "name": "stderr",
     "output_type": "stream",
     "text": [
      " 43%|████▎     | 431/1000 [00:34<00:48, 11.82it/s]"
     ]
    },
    {
     "name": "stdout",
     "output_type": "stream",
     "text": [
      "Epoch 430\n",
      "train MSELoss: 0.092 MSE: 0.092 MAE: 0.215 accuracy: 0.878\n",
      "val MSELoss: 0.106 MSE: 0.103 MAE: 0.226 accuracy: 0.864\n",
      "test MSELoss: 0.107 MSE: 0.106 MAE: 0.234 accuracy: 0.849\n",
      "\n",
      "New best model.\n",
      "\n",
      "Ending epoch 431, loss 0.09243821953465273\n"
     ]
    },
    {
     "name": "stderr",
     "output_type": "stream",
     "text": [
      " 44%|████▍     | 443/1000 [00:35<00:43, 12.87it/s]"
     ]
    },
    {
     "name": "stdout",
     "output_type": "stream",
     "text": [
      "Epoch 440\n",
      "train MSELoss: 0.092 MSE: 0.092 MAE: 0.214 accuracy: 0.878\n",
      "val MSELoss: 0.105 MSE: 0.103 MAE: 0.225 accuracy: 0.861\n",
      "test MSELoss: 0.110 MSE: 0.109 MAE: 0.236 accuracy: 0.842\n",
      "\n",
      "New best model.\n",
      "\n",
      "Ending epoch 441, loss 0.0928397632396973\n"
     ]
    },
    {
     "name": "stderr",
     "output_type": "stream",
     "text": [
      " 45%|████▌     | 451/1000 [00:36<00:51, 10.64it/s]"
     ]
    },
    {
     "name": "stdout",
     "output_type": "stream",
     "text": [
      "Epoch 450\n",
      "train MSELoss: 0.092 MSE: 0.091 MAE: 0.213 accuracy: 0.880\n",
      "val MSELoss: 0.105 MSE: 0.103 MAE: 0.224 accuracy: 0.862\n",
      "test MSELoss: 0.110 MSE: 0.108 MAE: 0.235 accuracy: 0.838\n",
      "\n",
      "New best model.\n",
      "\n",
      "Saved PyTorch model state LinearRegressor_epoch450.pth in /Users/carolinezanze/Desktop/abcd5_output/ABCD_sex_LinearRegressor_2023-08-25 11:51:11/models\n",
      "Saved trainer state RegressorTrainer_optimizer_epoch450.pth in /Users/carolinezanze/Desktop/abcd5_output/ABCD_sex_LinearRegressor_2023-08-25 11:51:11/results/states\n",
      "Progress stored in /Users/carolinezanze/Desktop/abcd5_output/ABCD_sex_LinearRegressor_2023-08-25 11:51:11/results\n",
      "Ending epoch 451, loss 0.09228924437014906\n"
     ]
    },
    {
     "name": "stderr",
     "output_type": "stream",
     "text": [
      " 46%|████▌     | 461/1000 [00:36<00:45, 11.96it/s]"
     ]
    },
    {
     "name": "stdout",
     "output_type": "stream",
     "text": [
      "Epoch 460\n",
      "train MSELoss: 0.092 MSE: 0.091 MAE: 0.213 accuracy: 0.880\n",
      "val MSELoss: 0.105 MSE: 0.103 MAE: 0.224 accuracy: 0.863\n",
      "test MSELoss: 0.111 MSE: 0.110 MAE: 0.236 accuracy: 0.842\n",
      "Ending epoch 461, loss 0.09220540214766253\n"
     ]
    },
    {
     "name": "stderr",
     "output_type": "stream",
     "text": [
      " 47%|████▋     | 473/1000 [00:37<00:40, 12.96it/s]"
     ]
    },
    {
     "name": "stdout",
     "output_type": "stream",
     "text": [
      "Epoch 470\n",
      "train MSELoss: 0.091 MSE: 0.091 MAE: 0.212 accuracy: 0.880\n",
      "val MSELoss: 0.105 MSE: 0.103 MAE: 0.223 accuracy: 0.865\n",
      "test MSELoss: 0.107 MSE: 0.106 MAE: 0.232 accuracy: 0.845\n",
      "\n",
      "New best model.\n",
      "\n",
      "Ending epoch 471, loss 0.09215051976141629\n"
     ]
    },
    {
     "name": "stderr",
     "output_type": "stream",
     "text": [
      " 48%|████▊     | 483/1000 [00:38<00:38, 13.33it/s]"
     ]
    },
    {
     "name": "stdout",
     "output_type": "stream",
     "text": [
      "Epoch 480\n",
      "train MSELoss: 0.091 MSE: 0.091 MAE: 0.211 accuracy: 0.881\n",
      "val MSELoss: 0.105 MSE: 0.102 MAE: 0.222 accuracy: 0.865\n",
      "test MSELoss: 0.107 MSE: 0.106 MAE: 0.231 accuracy: 0.845\n",
      "\n",
      "New best model.\n",
      "\n",
      "Ending epoch 481, loss 0.09098316239075618\n"
     ]
    },
    {
     "name": "stderr",
     "output_type": "stream",
     "text": [
      " 49%|████▉     | 493/1000 [00:39<00:38, 13.18it/s]"
     ]
    },
    {
     "name": "stdout",
     "output_type": "stream",
     "text": [
      "Epoch 490\n",
      "train MSELoss: 0.096 MSE: 0.096 MAE: 0.216 accuracy: 0.870\n",
      "val MSELoss: 0.109 MSE: 0.107 MAE: 0.227 accuracy: 0.851\n",
      "test MSELoss: 0.119 MSE: 0.118 MAE: 0.241 accuracy: 0.842\n",
      "Ending epoch 491, loss 0.0918587839885338\n"
     ]
    },
    {
     "name": "stderr",
     "output_type": "stream",
     "text": [
      " 50%|█████     | 501/1000 [00:40<00:46, 10.72it/s]"
     ]
    },
    {
     "name": "stdout",
     "output_type": "stream",
     "text": [
      "Epoch 500\n",
      "train MSELoss: 0.090 MSE: 0.090 MAE: 0.210 accuracy: 0.881\n",
      "val MSELoss: 0.104 MSE: 0.102 MAE: 0.221 accuracy: 0.864\n",
      "test MSELoss: 0.109 MSE: 0.107 MAE: 0.231 accuracy: 0.845\n",
      "\n",
      "New best model.\n",
      "\n",
      "Saved PyTorch model state LinearRegressor_epoch500.pth in /Users/carolinezanze/Desktop/abcd5_output/ABCD_sex_LinearRegressor_2023-08-25 11:51:11/models\n",
      "Saved trainer state RegressorTrainer_optimizer_epoch500.pth in /Users/carolinezanze/Desktop/abcd5_output/ABCD_sex_LinearRegressor_2023-08-25 11:51:11/results/states\n",
      "Progress stored in /Users/carolinezanze/Desktop/abcd5_output/ABCD_sex_LinearRegressor_2023-08-25 11:51:11/results\n",
      "Ending epoch 501, loss 0.09093724657689128\n"
     ]
    },
    {
     "name": "stderr",
     "output_type": "stream",
     "text": [
      " 51%|█████     | 511/1000 [00:40<00:40, 12.04it/s]"
     ]
    },
    {
     "name": "stdout",
     "output_type": "stream",
     "text": [
      "Epoch 510\n",
      "train MSELoss: 0.091 MSE: 0.091 MAE: 0.210 accuracy: 0.880\n",
      "val MSELoss: 0.105 MSE: 0.103 MAE: 0.222 accuracy: 0.861\n",
      "test MSELoss: 0.106 MSE: 0.105 MAE: 0.229 accuracy: 0.845\n",
      "Ending epoch 511, loss 0.09079361508961196\n"
     ]
    },
    {
     "name": "stderr",
     "output_type": "stream",
     "text": [
      " 52%|█████▏    | 521/1000 [00:41<00:41, 11.67it/s]"
     ]
    },
    {
     "name": "stdout",
     "output_type": "stream",
     "text": [
      "Epoch 520\n",
      "train MSELoss: 0.090 MSE: 0.090 MAE: 0.209 accuracy: 0.882\n",
      "val MSELoss: 0.105 MSE: 0.102 MAE: 0.222 accuracy: 0.865\n",
      "test MSELoss: 0.112 MSE: 0.110 MAE: 0.233 accuracy: 0.849\n",
      "Ending epoch 521, loss 0.09018425962275213\n"
     ]
    },
    {
     "name": "stderr",
     "output_type": "stream",
     "text": [
      " 53%|█████▎    | 533/1000 [00:42<00:37, 12.37it/s]"
     ]
    },
    {
     "name": "stdout",
     "output_type": "stream",
     "text": [
      "Epoch 530\n",
      "train MSELoss: 0.091 MSE: 0.090 MAE: 0.209 accuracy: 0.882\n",
      "val MSELoss: 0.105 MSE: 0.102 MAE: 0.221 accuracy: 0.864\n",
      "test MSELoss: 0.112 MSE: 0.110 MAE: 0.232 accuracy: 0.849\n",
      "Ending epoch 531, loss 0.09117172755770855\n"
     ]
    },
    {
     "name": "stderr",
     "output_type": "stream",
     "text": [
      " 54%|█████▍    | 543/1000 [00:43<00:37, 12.25it/s]"
     ]
    },
    {
     "name": "stdout",
     "output_type": "stream",
     "text": [
      "Epoch 540\n",
      "train MSELoss: 0.090 MSE: 0.090 MAE: 0.208 accuracy: 0.883\n",
      "val MSELoss: 0.104 MSE: 0.102 MAE: 0.220 accuracy: 0.865\n",
      "test MSELoss: 0.111 MSE: 0.109 MAE: 0.232 accuracy: 0.849\n",
      "Ending epoch 541, loss 0.0902864035588127\n"
     ]
    },
    {
     "name": "stderr",
     "output_type": "stream",
     "text": [
      " 55%|█████▌    | 551/1000 [00:44<00:43, 10.22it/s]"
     ]
    },
    {
     "name": "stdout",
     "output_type": "stream",
     "text": [
      "Epoch 550\n",
      "train MSELoss: 0.090 MSE: 0.090 MAE: 0.207 accuracy: 0.884\n",
      "val MSELoss: 0.104 MSE: 0.102 MAE: 0.220 accuracy: 0.865\n",
      "test MSELoss: 0.111 MSE: 0.109 MAE: 0.231 accuracy: 0.849\n",
      "Saved PyTorch model state LinearRegressor_epoch550.pth in /Users/carolinezanze/Desktop/abcd5_output/ABCD_sex_LinearRegressor_2023-08-25 11:51:11/models\n",
      "Saved trainer state RegressorTrainer_optimizer_epoch550.pth in /Users/carolinezanze/Desktop/abcd5_output/ABCD_sex_LinearRegressor_2023-08-25 11:51:11/results/states\n",
      "Progress stored in /Users/carolinezanze/Desktop/abcd5_output/ABCD_sex_LinearRegressor_2023-08-25 11:51:11/results\n",
      "Ending epoch 551, loss 0.08970131030356562\n"
     ]
    },
    {
     "name": "stderr",
     "output_type": "stream",
     "text": [
      " 56%|█████▋    | 563/1000 [00:45<00:35, 12.34it/s]"
     ]
    },
    {
     "name": "stdout",
     "output_type": "stream",
     "text": [
      "Epoch 560\n",
      "train MSELoss: 0.088 MSE: 0.088 MAE: 0.206 accuracy: 0.883\n",
      "val MSELoss: 0.103 MSE: 0.101 MAE: 0.218 accuracy: 0.867\n",
      "test MSELoss: 0.108 MSE: 0.106 MAE: 0.228 accuracy: 0.849\n",
      "\n",
      "New best model.\n",
      "\n",
      "Ending epoch 561, loss 0.08964156436624827\n"
     ]
    },
    {
     "name": "stderr",
     "output_type": "stream",
     "text": [
      " 57%|█████▋    | 571/1000 [00:45<00:36, 11.92it/s]"
     ]
    },
    {
     "name": "stdout",
     "output_type": "stream",
     "text": [
      "Epoch 570\n",
      "train MSELoss: 0.089 MSE: 0.089 MAE: 0.205 accuracy: 0.884\n",
      "val MSELoss: 0.104 MSE: 0.102 MAE: 0.218 accuracy: 0.865\n",
      "test MSELoss: 0.106 MSE: 0.104 MAE: 0.226 accuracy: 0.842\n",
      "Ending epoch 571, loss 0.0901665891948584\n"
     ]
    },
    {
     "name": "stderr",
     "output_type": "stream",
     "text": [
      " 58%|█████▊    | 581/1000 [00:46<00:35, 11.96it/s]"
     ]
    },
    {
     "name": "stdout",
     "output_type": "stream",
     "text": [
      "Epoch 580\n",
      "train MSELoss: 0.088 MSE: 0.088 MAE: 0.205 accuracy: 0.885\n",
      "val MSELoss: 0.103 MSE: 0.101 MAE: 0.218 accuracy: 0.864\n",
      "test MSELoss: 0.109 MSE: 0.107 MAE: 0.228 accuracy: 0.849\n",
      "\n",
      "New best model.\n",
      "\n",
      "Ending epoch 581, loss 0.08910232221892288\n"
     ]
    },
    {
     "name": "stderr",
     "output_type": "stream",
     "text": [
      " 59%|█████▉    | 591/1000 [00:47<00:36, 11.30it/s]"
     ]
    },
    {
     "name": "stdout",
     "output_type": "stream",
     "text": [
      "Epoch 590\n",
      "train MSELoss: 0.092 MSE: 0.092 MAE: 0.207 accuracy: 0.877\n",
      "val MSELoss: 0.107 MSE: 0.105 MAE: 0.220 accuracy: 0.854\n",
      "test MSELoss: 0.105 MSE: 0.104 MAE: 0.225 accuracy: 0.845\n",
      "Ending epoch 591, loss 0.08973893117126044\n"
     ]
    },
    {
     "name": "stderr",
     "output_type": "stream",
     "text": [
      " 60%|██████    | 601/1000 [00:48<00:39, 10.20it/s]"
     ]
    },
    {
     "name": "stdout",
     "output_type": "stream",
     "text": [
      "Epoch 600\n",
      "train MSELoss: 0.088 MSE: 0.088 MAE: 0.204 accuracy: 0.886\n",
      "val MSELoss: 0.103 MSE: 0.101 MAE: 0.217 accuracy: 0.864\n",
      "test MSELoss: 0.110 MSE: 0.108 MAE: 0.228 accuracy: 0.849\n",
      "Saved PyTorch model state LinearRegressor_epoch600.pth in /Users/carolinezanze/Desktop/abcd5_output/ABCD_sex_LinearRegressor_2023-08-25 11:51:11/models\n",
      "Saved trainer state RegressorTrainer_optimizer_epoch600.pth in /Users/carolinezanze/Desktop/abcd5_output/ABCD_sex_LinearRegressor_2023-08-25 11:51:11/results/states\n",
      "Progress stored in /Users/carolinezanze/Desktop/abcd5_output/ABCD_sex_LinearRegressor_2023-08-25 11:51:11/results\n",
      "Ending epoch 601, loss 0.0883506579777679\n"
     ]
    },
    {
     "name": "stderr",
     "output_type": "stream",
     "text": [
      " 61%|██████    | 611/1000 [00:48<00:33, 11.55it/s]"
     ]
    },
    {
     "name": "stdout",
     "output_type": "stream",
     "text": [
      "Epoch 610\n",
      "train MSELoss: 0.088 MSE: 0.088 MAE: 0.203 accuracy: 0.884\n",
      "val MSELoss: 0.103 MSE: 0.101 MAE: 0.216 accuracy: 0.866\n",
      "test MSELoss: 0.106 MSE: 0.104 MAE: 0.224 accuracy: 0.849\n",
      "Ending epoch 611, loss 0.08848190411656827\n"
     ]
    },
    {
     "name": "stderr",
     "output_type": "stream",
     "text": [
      " 62%|██████▏   | 621/1000 [00:49<00:33, 11.45it/s]"
     ]
    },
    {
     "name": "stdout",
     "output_type": "stream",
     "text": [
      "Epoch 620\n",
      "train MSELoss: 0.090 MSE: 0.090 MAE: 0.205 accuracy: 0.882\n",
      "val MSELoss: 0.104 MSE: 0.102 MAE: 0.218 accuracy: 0.862\n",
      "test MSELoss: 0.113 MSE: 0.111 MAE: 0.230 accuracy: 0.849\n",
      "Ending epoch 621, loss 0.08911776116436666\n"
     ]
    },
    {
     "name": "stderr",
     "output_type": "stream",
     "text": [
      " 63%|██████▎   | 631/1000 [00:50<00:34, 10.55it/s]"
     ]
    },
    {
     "name": "stdout",
     "output_type": "stream",
     "text": [
      "Epoch 630\n",
      "train MSELoss: 0.087 MSE: 0.087 MAE: 0.202 accuracy: 0.887\n",
      "val MSELoss: 0.103 MSE: 0.100 MAE: 0.216 accuracy: 0.864\n",
      "test MSELoss: 0.109 MSE: 0.107 MAE: 0.226 accuracy: 0.849\n",
      "\n",
      "New best model.\n",
      "\n",
      "Ending epoch 631, loss 0.0880814533982728\n"
     ]
    },
    {
     "name": "stderr",
     "output_type": "stream",
     "text": [
      " 64%|██████▍   | 641/1000 [00:51<00:31, 11.44it/s]"
     ]
    },
    {
     "name": "stdout",
     "output_type": "stream",
     "text": [
      "Epoch 640\n",
      "train MSELoss: 0.090 MSE: 0.090 MAE: 0.204 accuracy: 0.880\n",
      "val MSELoss: 0.106 MSE: 0.104 MAE: 0.217 accuracy: 0.858\n",
      "test MSELoss: 0.105 MSE: 0.103 MAE: 0.222 accuracy: 0.845\n",
      "Ending epoch 641, loss 0.08756073701891813\n"
     ]
    },
    {
     "name": "stderr",
     "output_type": "stream",
     "text": [
      " 65%|██████▌   | 651/1000 [00:52<00:37,  9.22it/s]"
     ]
    },
    {
     "name": "stdout",
     "output_type": "stream",
     "text": [
      "Epoch 650\n",
      "train MSELoss: 0.088 MSE: 0.088 MAE: 0.202 accuracy: 0.887\n",
      "val MSELoss: 0.104 MSE: 0.102 MAE: 0.215 accuracy: 0.866\n",
      "test MSELoss: 0.105 MSE: 0.104 MAE: 0.222 accuracy: 0.835\n",
      "Saved PyTorch model state LinearRegressor_epoch650.pth in /Users/carolinezanze/Desktop/abcd5_output/ABCD_sex_LinearRegressor_2023-08-25 11:51:11/models\n",
      "Saved trainer state RegressorTrainer_optimizer_epoch650.pth in /Users/carolinezanze/Desktop/abcd5_output/ABCD_sex_LinearRegressor_2023-08-25 11:51:11/results/states\n",
      "Progress stored in /Users/carolinezanze/Desktop/abcd5_output/ABCD_sex_LinearRegressor_2023-08-25 11:51:11/results\n",
      "Ending epoch 651, loss 0.08809173613920943\n"
     ]
    },
    {
     "name": "stderr",
     "output_type": "stream",
     "text": [
      " 66%|██████▌   | 661/1000 [00:53<00:33, 10.03it/s]"
     ]
    },
    {
     "name": "stdout",
     "output_type": "stream",
     "text": [
      "Epoch 660\n",
      "train MSELoss: 0.088 MSE: 0.088 MAE: 0.202 accuracy: 0.884\n",
      "val MSELoss: 0.104 MSE: 0.102 MAE: 0.215 accuracy: 0.865\n",
      "test MSELoss: 0.105 MSE: 0.103 MAE: 0.222 accuracy: 0.838\n",
      "Ending epoch 661, loss 0.08734555794177828\n"
     ]
    },
    {
     "name": "stderr",
     "output_type": "stream",
     "text": [
      " 67%|██████▋   | 671/1000 [00:54<00:29, 11.07it/s]"
     ]
    },
    {
     "name": "stdout",
     "output_type": "stream",
     "text": [
      "Epoch 670\n",
      "train MSELoss: 0.087 MSE: 0.086 MAE: 0.200 accuracy: 0.889\n",
      "val MSELoss: 0.102 MSE: 0.100 MAE: 0.214 accuracy: 0.864\n",
      "test MSELoss: 0.108 MSE: 0.106 MAE: 0.224 accuracy: 0.856\n",
      "\n",
      "New best model.\n",
      "\n",
      "Ending epoch 671, loss 0.08742425130965474\n"
     ]
    },
    {
     "name": "stderr",
     "output_type": "stream",
     "text": [
      " 68%|██████▊   | 681/1000 [00:54<00:28, 11.36it/s]"
     ]
    },
    {
     "name": "stdout",
     "output_type": "stream",
     "text": [
      "Epoch 680\n",
      "train MSELoss: 0.086 MSE: 0.086 MAE: 0.200 accuracy: 0.888\n",
      "val MSELoss: 0.102 MSE: 0.100 MAE: 0.214 accuracy: 0.864\n",
      "test MSELoss: 0.108 MSE: 0.106 MAE: 0.223 accuracy: 0.859\n",
      "\n",
      "New best model.\n",
      "\n",
      "Ending epoch 681, loss 0.08669541044546678\n"
     ]
    },
    {
     "name": "stderr",
     "output_type": "stream",
     "text": [
      " 69%|██████▉   | 691/1000 [00:55<00:25, 12.16it/s]"
     ]
    },
    {
     "name": "stdout",
     "output_type": "stream",
     "text": [
      "Epoch 690\n",
      "train MSELoss: 0.086 MSE: 0.086 MAE: 0.199 accuracy: 0.889\n",
      "val MSELoss: 0.102 MSE: 0.100 MAE: 0.213 accuracy: 0.864\n",
      "test MSELoss: 0.108 MSE: 0.106 MAE: 0.223 accuracy: 0.856\n",
      "\n",
      "New best model.\n",
      "\n",
      "Ending epoch 691, loss 0.08700756409817988\n"
     ]
    },
    {
     "name": "stderr",
     "output_type": "stream",
     "text": [
      " 70%|███████   | 701/1000 [00:56<00:30,  9.81it/s]"
     ]
    },
    {
     "name": "stdout",
     "output_type": "stream",
     "text": [
      "Epoch 700\n",
      "train MSELoss: 0.087 MSE: 0.087 MAE: 0.199 accuracy: 0.888\n",
      "val MSELoss: 0.103 MSE: 0.101 MAE: 0.213 accuracy: 0.867\n",
      "test MSELoss: 0.105 MSE: 0.104 MAE: 0.221 accuracy: 0.838\n",
      "Saved PyTorch model state LinearRegressor_epoch700.pth in /Users/carolinezanze/Desktop/abcd5_output/ABCD_sex_LinearRegressor_2023-08-25 11:51:11/models\n",
      "Saved trainer state RegressorTrainer_optimizer_epoch700.pth in /Users/carolinezanze/Desktop/abcd5_output/ABCD_sex_LinearRegressor_2023-08-25 11:51:11/results/states\n",
      "Progress stored in /Users/carolinezanze/Desktop/abcd5_output/ABCD_sex_LinearRegressor_2023-08-25 11:51:11/results\n",
      "Ending epoch 701, loss 0.08671856523902567\n"
     ]
    },
    {
     "name": "stderr",
     "output_type": "stream",
     "text": [
      " 71%|███████   | 711/1000 [00:57<00:25, 11.36it/s]"
     ]
    },
    {
     "name": "stdout",
     "output_type": "stream",
     "text": [
      "Epoch 710\n",
      "train MSELoss: 0.087 MSE: 0.088 MAE: 0.200 accuracy: 0.888\n",
      "val MSELoss: 0.104 MSE: 0.102 MAE: 0.214 accuracy: 0.866\n",
      "test MSELoss: 0.105 MSE: 0.103 MAE: 0.220 accuracy: 0.838\n",
      "Ending epoch 711, loss 0.08638785282770793\n"
     ]
    },
    {
     "name": "stderr",
     "output_type": "stream",
     "text": [
      " 72%|███████▏  | 721/1000 [00:58<00:23, 11.64it/s]"
     ]
    },
    {
     "name": "stdout",
     "output_type": "stream",
     "text": [
      "Epoch 720\n",
      "train MSELoss: 0.086 MSE: 0.085 MAE: 0.198 accuracy: 0.889\n",
      "val MSELoss: 0.102 MSE: 0.100 MAE: 0.212 accuracy: 0.864\n",
      "test MSELoss: 0.107 MSE: 0.106 MAE: 0.222 accuracy: 0.859\n",
      "\n",
      "New best model.\n",
      "\n",
      "Ending epoch 721, loss 0.08670216647757066\n"
     ]
    },
    {
     "name": "stderr",
     "output_type": "stream",
     "text": [
      " 73%|███████▎  | 731/1000 [00:58<00:23, 11.30it/s]"
     ]
    },
    {
     "name": "stdout",
     "output_type": "stream",
     "text": [
      "Epoch 730\n",
      "train MSELoss: 0.086 MSE: 0.086 MAE: 0.198 accuracy: 0.889\n",
      "val MSELoss: 0.102 MSE: 0.100 MAE: 0.212 accuracy: 0.864\n",
      "test MSELoss: 0.109 MSE: 0.108 MAE: 0.223 accuracy: 0.849\n",
      "Ending epoch 731, loss 0.08709689078701509\n"
     ]
    },
    {
     "name": "stderr",
     "output_type": "stream",
     "text": [
      " 74%|███████▍  | 743/1000 [00:59<00:21, 12.15it/s]"
     ]
    },
    {
     "name": "stdout",
     "output_type": "stream",
     "text": [
      "Epoch 740\n",
      "train MSELoss: 0.087 MSE: 0.087 MAE: 0.198 accuracy: 0.889\n",
      "val MSELoss: 0.103 MSE: 0.101 MAE: 0.212 accuracy: 0.867\n",
      "test MSELoss: 0.105 MSE: 0.103 MAE: 0.219 accuracy: 0.845\n",
      "Ending epoch 741, loss 0.08594035520008556\n"
     ]
    },
    {
     "name": "stderr",
     "output_type": "stream",
     "text": [
      " 75%|███████▌  | 751/1000 [01:00<00:25,  9.94it/s]"
     ]
    },
    {
     "name": "stdout",
     "output_type": "stream",
     "text": [
      "Epoch 750\n",
      "train MSELoss: 0.087 MSE: 0.087 MAE: 0.198 accuracy: 0.889\n",
      "val MSELoss: 0.103 MSE: 0.102 MAE: 0.212 accuracy: 0.866\n",
      "test MSELoss: 0.104 MSE: 0.103 MAE: 0.218 accuracy: 0.842\n",
      "Saved PyTorch model state LinearRegressor_epoch750.pth in /Users/carolinezanze/Desktop/abcd5_output/ABCD_sex_LinearRegressor_2023-08-25 11:51:11/models\n",
      "Saved trainer state RegressorTrainer_optimizer_epoch750.pth in /Users/carolinezanze/Desktop/abcd5_output/ABCD_sex_LinearRegressor_2023-08-25 11:51:11/results/states\n",
      "Progress stored in /Users/carolinezanze/Desktop/abcd5_output/ABCD_sex_LinearRegressor_2023-08-25 11:51:11/results\n",
      "Ending epoch 751, loss 0.08634697266661369\n"
     ]
    },
    {
     "name": "stderr",
     "output_type": "stream",
     "text": [
      " 76%|███████▌  | 761/1000 [01:01<00:21, 11.11it/s]"
     ]
    },
    {
     "name": "stdout",
     "output_type": "stream",
     "text": [
      "Epoch 760\n",
      "train MSELoss: 0.086 MSE: 0.087 MAE: 0.198 accuracy: 0.886\n",
      "val MSELoss: 0.103 MSE: 0.101 MAE: 0.212 accuracy: 0.862\n",
      "test MSELoss: 0.112 MSE: 0.110 MAE: 0.224 accuracy: 0.849\n",
      "Ending epoch 761, loss 0.08622362713019054\n"
     ]
    },
    {
     "name": "stderr",
     "output_type": "stream",
     "text": [
      " 77%|███████▋  | 771/1000 [01:02<00:19, 11.71it/s]"
     ]
    },
    {
     "name": "stdout",
     "output_type": "stream",
     "text": [
      "Epoch 770\n",
      "train MSELoss: 0.085 MSE: 0.085 MAE: 0.196 accuracy: 0.890\n",
      "val MSELoss: 0.101 MSE: 0.099 MAE: 0.211 accuracy: 0.865\n",
      "test MSELoss: 0.107 MSE: 0.105 MAE: 0.220 accuracy: 0.856\n",
      "\n",
      "New best model.\n",
      "\n",
      "Ending epoch 771, loss 0.08549640596181422\n"
     ]
    },
    {
     "name": "stderr",
     "output_type": "stream",
     "text": [
      " 78%|███████▊  | 781/1000 [01:03<00:19, 11.50it/s]"
     ]
    },
    {
     "name": "stdout",
     "output_type": "stream",
     "text": [
      "Epoch 780\n",
      "train MSELoss: 0.086 MSE: 0.085 MAE: 0.196 accuracy: 0.888\n",
      "val MSELoss: 0.102 MSE: 0.100 MAE: 0.211 accuracy: 0.865\n",
      "test MSELoss: 0.110 MSE: 0.108 MAE: 0.222 accuracy: 0.849\n",
      "Ending epoch 781, loss 0.08586043478535102\n"
     ]
    },
    {
     "name": "stderr",
     "output_type": "stream",
     "text": [
      " 79%|███████▉  | 791/1000 [01:03<00:18, 11.27it/s]"
     ]
    },
    {
     "name": "stdout",
     "output_type": "stream",
     "text": [
      "Epoch 790\n",
      "train MSELoss: 0.084 MSE: 0.084 MAE: 0.195 accuracy: 0.891\n",
      "val MSELoss: 0.101 MSE: 0.099 MAE: 0.210 accuracy: 0.864\n",
      "test MSELoss: 0.107 MSE: 0.105 MAE: 0.219 accuracy: 0.856\n",
      "\n",
      "New best model.\n",
      "\n",
      "Ending epoch 791, loss 0.08525488965280421\n"
     ]
    },
    {
     "name": "stderr",
     "output_type": "stream",
     "text": [
      " 80%|████████  | 801/1000 [01:04<00:19, 10.14it/s]"
     ]
    },
    {
     "name": "stdout",
     "output_type": "stream",
     "text": [
      "Epoch 800\n",
      "train MSELoss: 0.085 MSE: 0.085 MAE: 0.196 accuracy: 0.890\n",
      "val MSELoss: 0.101 MSE: 0.100 MAE: 0.211 accuracy: 0.864\n",
      "test MSELoss: 0.110 MSE: 0.108 MAE: 0.221 accuracy: 0.852\n",
      "Saved PyTorch model state LinearRegressor_epoch800.pth in /Users/carolinezanze/Desktop/abcd5_output/ABCD_sex_LinearRegressor_2023-08-25 11:51:11/models\n",
      "Saved trainer state RegressorTrainer_optimizer_epoch800.pth in /Users/carolinezanze/Desktop/abcd5_output/ABCD_sex_LinearRegressor_2023-08-25 11:51:11/results/states\n",
      "Progress stored in /Users/carolinezanze/Desktop/abcd5_output/ABCD_sex_LinearRegressor_2023-08-25 11:51:11/results\n",
      "Ending epoch 801, loss 0.08515442672881994\n"
     ]
    },
    {
     "name": "stderr",
     "output_type": "stream",
     "text": [
      " 81%|████████  | 811/1000 [01:05<00:16, 11.68it/s]"
     ]
    },
    {
     "name": "stdout",
     "output_type": "stream",
     "text": [
      "Epoch 810\n",
      "train MSELoss: 0.085 MSE: 0.085 MAE: 0.195 accuracy: 0.890\n",
      "val MSELoss: 0.102 MSE: 0.100 MAE: 0.210 accuracy: 0.867\n",
      "test MSELoss: 0.105 MSE: 0.104 MAE: 0.217 accuracy: 0.842\n",
      "Ending epoch 811, loss 0.08541202461263081\n"
     ]
    },
    {
     "name": "stderr",
     "output_type": "stream",
     "text": [
      " 82%|████████▏ | 821/1000 [01:06<00:15, 11.75it/s]"
     ]
    },
    {
     "name": "stdout",
     "output_type": "stream",
     "text": [
      "Epoch 820\n",
      "train MSELoss: 0.084 MSE: 0.084 MAE: 0.194 accuracy: 0.890\n",
      "val MSELoss: 0.101 MSE: 0.100 MAE: 0.209 accuracy: 0.866\n",
      "test MSELoss: 0.106 MSE: 0.104 MAE: 0.217 accuracy: 0.849\n",
      "Ending epoch 821, loss 0.08603612494629782\n"
     ]
    },
    {
     "name": "stderr",
     "output_type": "stream",
     "text": [
      " 83%|████████▎ | 831/1000 [01:07<00:14, 11.29it/s]"
     ]
    },
    {
     "name": "stdout",
     "output_type": "stream",
     "text": [
      "Epoch 830\n",
      "train MSELoss: 0.084 MSE: 0.084 MAE: 0.194 accuracy: 0.891\n",
      "val MSELoss: 0.101 MSE: 0.099 MAE: 0.209 accuracy: 0.862\n",
      "test MSELoss: 0.108 MSE: 0.106 MAE: 0.219 accuracy: 0.856\n",
      "\n",
      "New best model.\n",
      "\n",
      "Ending epoch 831, loss 0.08541288344306988\n"
     ]
    },
    {
     "name": "stderr",
     "output_type": "stream",
     "text": [
      " 84%|████████▍ | 841/1000 [01:08<00:13, 11.62it/s]"
     ]
    },
    {
     "name": "stdout",
     "output_type": "stream",
     "text": [
      "Epoch 840\n",
      "train MSELoss: 0.085 MSE: 0.084 MAE: 0.193 accuracy: 0.891\n",
      "val MSELoss: 0.101 MSE: 0.099 MAE: 0.209 accuracy: 0.866\n",
      "test MSELoss: 0.106 MSE: 0.104 MAE: 0.217 accuracy: 0.849\n",
      "Ending epoch 841, loss 0.08465484996233974\n"
     ]
    },
    {
     "name": "stderr",
     "output_type": "stream",
     "text": [
      " 85%|████████▌ | 851/1000 [01:08<00:15,  9.50it/s]"
     ]
    },
    {
     "name": "stdout",
     "output_type": "stream",
     "text": [
      "Epoch 850\n",
      "train MSELoss: 0.084 MSE: 0.084 MAE: 0.194 accuracy: 0.889\n",
      "val MSELoss: 0.101 MSE: 0.099 MAE: 0.209 accuracy: 0.863\n",
      "test MSELoss: 0.110 MSE: 0.108 MAE: 0.220 accuracy: 0.849\n",
      "Saved PyTorch model state LinearRegressor_epoch850.pth in /Users/carolinezanze/Desktop/abcd5_output/ABCD_sex_LinearRegressor_2023-08-25 11:51:11/models\n",
      "Saved trainer state RegressorTrainer_optimizer_epoch850.pth in /Users/carolinezanze/Desktop/abcd5_output/ABCD_sex_LinearRegressor_2023-08-25 11:51:11/results/states\n",
      "Progress stored in /Users/carolinezanze/Desktop/abcd5_output/ABCD_sex_LinearRegressor_2023-08-25 11:51:11/results\n",
      "Ending epoch 851, loss 0.08490093106085116\n"
     ]
    },
    {
     "name": "stderr",
     "output_type": "stream",
     "text": [
      " 86%|████████▌ | 861/1000 [01:09<00:11, 11.76it/s]"
     ]
    },
    {
     "name": "stdout",
     "output_type": "stream",
     "text": [
      "Epoch 860\n",
      "train MSELoss: 0.085 MSE: 0.085 MAE: 0.194 accuracy: 0.889\n",
      "val MSELoss: 0.102 MSE: 0.100 MAE: 0.209 accuracy: 0.861\n",
      "test MSELoss: 0.111 MSE: 0.109 MAE: 0.220 accuracy: 0.852\n",
      "Ending epoch 861, loss 0.08504193991019919\n"
     ]
    },
    {
     "name": "stderr",
     "output_type": "stream",
     "text": [
      " 87%|████████▋ | 871/1000 [01:10<00:12, 10.35it/s]"
     ]
    },
    {
     "name": "stdout",
     "output_type": "stream",
     "text": [
      "Epoch 870\n",
      "train MSELoss: 0.084 MSE: 0.084 MAE: 0.192 accuracy: 0.891\n",
      "val MSELoss: 0.101 MSE: 0.099 MAE: 0.208 accuracy: 0.865\n",
      "test MSELoss: 0.109 MSE: 0.107 MAE: 0.218 accuracy: 0.852\n",
      "\n",
      "New best model.\n",
      "\n",
      "Ending epoch 871, loss 0.08484281122952968\n"
     ]
    },
    {
     "name": "stderr",
     "output_type": "stream",
     "text": [
      " 88%|████████▊ | 881/1000 [01:11<00:10, 11.70it/s]"
     ]
    },
    {
     "name": "stdout",
     "output_type": "stream",
     "text": [
      "Epoch 880\n",
      "train MSELoss: 0.084 MSE: 0.084 MAE: 0.192 accuracy: 0.891\n",
      "val MSELoss: 0.101 MSE: 0.099 MAE: 0.208 accuracy: 0.865\n",
      "test MSELoss: 0.109 MSE: 0.107 MAE: 0.218 accuracy: 0.852\n",
      "\n",
      "New best model.\n",
      "\n",
      "Ending epoch 881, loss 0.08499719095122707\n"
     ]
    },
    {
     "name": "stderr",
     "output_type": "stream",
     "text": [
      " 89%|████████▉ | 891/1000 [01:12<00:09, 10.91it/s]"
     ]
    },
    {
     "name": "stdout",
     "output_type": "stream",
     "text": [
      "Epoch 890\n",
      "train MSELoss: 0.085 MSE: 0.085 MAE: 0.193 accuracy: 0.892\n",
      "val MSELoss: 0.102 MSE: 0.100 MAE: 0.208 accuracy: 0.867\n",
      "test MSELoss: 0.105 MSE: 0.103 MAE: 0.215 accuracy: 0.849\n",
      "Ending epoch 891, loss 0.08463772429942011\n"
     ]
    },
    {
     "name": "stderr",
     "output_type": "stream",
     "text": [
      " 90%|█████████ | 901/1000 [01:13<00:10,  9.71it/s]"
     ]
    },
    {
     "name": "stdout",
     "output_type": "stream",
     "text": [
      "Epoch 900\n",
      "train MSELoss: 0.083 MSE: 0.083 MAE: 0.191 accuracy: 0.894\n",
      "val MSELoss: 0.101 MSE: 0.099 MAE: 0.207 accuracy: 0.865\n",
      "test MSELoss: 0.107 MSE: 0.105 MAE: 0.216 accuracy: 0.856\n",
      "\n",
      "New best model.\n",
      "\n",
      "Saved PyTorch model state LinearRegressor_epoch900.pth in /Users/carolinezanze/Desktop/abcd5_output/ABCD_sex_LinearRegressor_2023-08-25 11:51:11/models\n",
      "Saved trainer state RegressorTrainer_optimizer_epoch900.pth in /Users/carolinezanze/Desktop/abcd5_output/ABCD_sex_LinearRegressor_2023-08-25 11:51:11/results/states\n",
      "Progress stored in /Users/carolinezanze/Desktop/abcd5_output/ABCD_sex_LinearRegressor_2023-08-25 11:51:11/results\n",
      "Ending epoch 901, loss 0.08387143238707706\n"
     ]
    },
    {
     "name": "stderr",
     "output_type": "stream",
     "text": [
      " 91%|█████████ | 911/1000 [01:14<00:08,  9.91it/s]"
     ]
    },
    {
     "name": "stdout",
     "output_type": "stream",
     "text": [
      "Epoch 910\n",
      "train MSELoss: 0.083 MSE: 0.084 MAE: 0.191 accuracy: 0.890\n",
      "val MSELoss: 0.101 MSE: 0.099 MAE: 0.207 accuracy: 0.866\n",
      "test MSELoss: 0.109 MSE: 0.107 MAE: 0.218 accuracy: 0.852\n",
      "Ending epoch 911, loss 0.08460656842132946\n"
     ]
    },
    {
     "name": "stderr",
     "output_type": "stream",
     "text": [
      " 92%|█████████▏| 921/1000 [01:14<00:07, 10.96it/s]"
     ]
    },
    {
     "name": "stdout",
     "output_type": "stream",
     "text": [
      "Epoch 920\n",
      "train MSELoss: 0.085 MSE: 0.085 MAE: 0.192 accuracy: 0.891\n",
      "val MSELoss: 0.103 MSE: 0.101 MAE: 0.208 accuracy: 0.862\n",
      "test MSELoss: 0.104 MSE: 0.102 MAE: 0.213 accuracy: 0.852\n",
      "Ending epoch 921, loss 0.08367305681914897\n"
     ]
    },
    {
     "name": "stderr",
     "output_type": "stream",
     "text": [
      " 93%|█████████▎| 931/1000 [01:15<00:05, 11.74it/s]"
     ]
    },
    {
     "name": "stdout",
     "output_type": "stream",
     "text": [
      "Epoch 930\n",
      "train MSELoss: 0.083 MSE: 0.083 MAE: 0.190 accuracy: 0.894\n",
      "val MSELoss: 0.101 MSE: 0.099 MAE: 0.206 accuracy: 0.867\n",
      "test MSELoss: 0.105 MSE: 0.104 MAE: 0.214 accuracy: 0.849\n",
      "Ending epoch 931, loss 0.08371697107816602\n"
     ]
    },
    {
     "name": "stderr",
     "output_type": "stream",
     "text": [
      " 94%|█████████▍| 941/1000 [01:16<00:05, 11.62it/s]"
     ]
    },
    {
     "name": "stdout",
     "output_type": "stream",
     "text": [
      "Epoch 940\n",
      "train MSELoss: 0.084 MSE: 0.084 MAE: 0.192 accuracy: 0.888\n",
      "val MSELoss: 0.102 MSE: 0.100 MAE: 0.208 accuracy: 0.860\n",
      "test MSELoss: 0.112 MSE: 0.110 MAE: 0.220 accuracy: 0.845\n",
      "Ending epoch 941, loss 0.08376518136880419\n"
     ]
    },
    {
     "name": "stderr",
     "output_type": "stream",
     "text": [
      " 95%|█████████▌| 951/1000 [01:17<00:04,  9.90it/s]"
     ]
    },
    {
     "name": "stdout",
     "output_type": "stream",
     "text": [
      "Epoch 950\n",
      "train MSELoss: 0.083 MSE: 0.083 MAE: 0.190 accuracy: 0.895\n",
      "val MSELoss: 0.100 MSE: 0.099 MAE: 0.206 accuracy: 0.864\n",
      "test MSELoss: 0.107 MSE: 0.105 MAE: 0.215 accuracy: 0.856\n",
      "\n",
      "New best model.\n",
      "\n",
      "Saved PyTorch model state LinearRegressor_epoch950.pth in /Users/carolinezanze/Desktop/abcd5_output/ABCD_sex_LinearRegressor_2023-08-25 11:51:11/models\n",
      "Saved trainer state RegressorTrainer_optimizer_epoch950.pth in /Users/carolinezanze/Desktop/abcd5_output/ABCD_sex_LinearRegressor_2023-08-25 11:51:11/results/states\n",
      "Progress stored in /Users/carolinezanze/Desktop/abcd5_output/ABCD_sex_LinearRegressor_2023-08-25 11:51:11/results\n",
      "Ending epoch 951, loss 0.08420577578179471\n"
     ]
    },
    {
     "name": "stderr",
     "output_type": "stream",
     "text": [
      " 96%|█████████▌| 961/1000 [01:18<00:03, 10.90it/s]"
     ]
    },
    {
     "name": "stdout",
     "output_type": "stream",
     "text": [
      "Epoch 960\n",
      "train MSELoss: 0.083 MSE: 0.083 MAE: 0.190 accuracy: 0.891\n",
      "val MSELoss: 0.101 MSE: 0.099 MAE: 0.207 accuracy: 0.861\n",
      "test MSELoss: 0.111 MSE: 0.109 MAE: 0.218 accuracy: 0.852\n",
      "Ending epoch 961, loss 0.08370246526760024\n"
     ]
    },
    {
     "name": "stderr",
     "output_type": "stream",
     "text": [
      " 97%|█████████▋| 971/1000 [01:19<00:02, 11.65it/s]"
     ]
    },
    {
     "name": "stdout",
     "output_type": "stream",
     "text": [
      "Epoch 970\n",
      "train MSELoss: 0.083 MSE: 0.083 MAE: 0.190 accuracy: 0.893\n",
      "val MSELoss: 0.101 MSE: 0.100 MAE: 0.206 accuracy: 0.865\n",
      "test MSELoss: 0.105 MSE: 0.103 MAE: 0.213 accuracy: 0.849\n",
      "Ending epoch 971, loss 0.08384941078655354\n"
     ]
    },
    {
     "name": "stderr",
     "output_type": "stream",
     "text": [
      " 98%|█████████▊| 981/1000 [01:19<00:01, 10.88it/s]"
     ]
    },
    {
     "name": "stdout",
     "output_type": "stream",
     "text": [
      "Epoch 980\n",
      "train MSELoss: 0.085 MSE: 0.085 MAE: 0.191 accuracy: 0.886\n",
      "val MSELoss: 0.102 MSE: 0.101 MAE: 0.208 accuracy: 0.857\n",
      "test MSELoss: 0.113 MSE: 0.111 MAE: 0.219 accuracy: 0.838\n",
      "Ending epoch 981, loss 0.0841246849379024\n"
     ]
    },
    {
     "name": "stderr",
     "output_type": "stream",
     "text": [
      " 99%|█████████▉| 993/1000 [01:20<00:00, 12.29it/s]"
     ]
    },
    {
     "name": "stdout",
     "output_type": "stream",
     "text": [
      "Epoch 990\n",
      "train MSELoss: 0.084 MSE: 0.084 MAE: 0.191 accuracy: 0.888\n",
      "val MSELoss: 0.102 MSE: 0.100 MAE: 0.207 accuracy: 0.859\n",
      "test MSELoss: 0.112 MSE: 0.110 MAE: 0.219 accuracy: 0.845\n",
      "Ending epoch 991, loss 0.08391110062062203\n"
     ]
    },
    {
     "name": "stderr",
     "output_type": "stream",
     "text": [
      "100%|██████████| 1000/1000 [01:21<00:00, 12.28it/s]\n"
     ]
    },
    {
     "name": "stdout",
     "output_type": "stream",
     "text": [
      "Finished training\n",
      "Epoch 1000\n",
      "train MSELoss: 0.083 MSE: 0.083 MAE: 0.188 accuracy: 0.894\n",
      "val MSELoss: 0.101 MSE: 0.099 MAE: 0.205 accuracy: 0.867\n",
      "test MSELoss: 0.105 MSE: 0.103 MAE: 0.212 accuracy: 0.852\n",
      "Saved PyTorch model state LinearRegressor_epoch1000.pth in /Users/carolinezanze/Desktop/abcd5_output/ABCD_sex_LinearRegressor_2023-08-25 11:51:11/models\n",
      "Saved trainer state RegressorTrainer_optimizer_epoch1000.pth in /Users/carolinezanze/Desktop/abcd5_output/ABCD_sex_LinearRegressor_2023-08-25 11:51:11/results/states\n",
      "Progress stored in /Users/carolinezanze/Desktop/abcd5_output/ABCD_sex_LinearRegressor_2023-08-25 11:51:11/results\n"
     ]
    }
   ],
   "source": [
    "model = LinearRegressor(save_path=models_path, input_size=len(feature_cols)) #modfiy\n",
    "\n",
    "model = model.to(device)\n",
    "print(model)\n",
    "trainer = train_model(model, device, config, experiment_title, dataloaders, verbose=True, bucketing_scheme=bucketing_scheme)\n",
    "best_model_details = trainer.export_best_model(config=config)"
   ]
  },
  {
   "cell_type": "markdown",
   "metadata": {},
   "source": [
    "# Custom MLP"
   ]
  },
  {
   "cell_type": "code",
   "execution_count": 8,
   "metadata": {},
   "outputs": [
    {
     "name": "stdout",
     "output_type": "stream",
     "text": [
      "sex_MLPReg_2023-08-25 06:58:52\n"
     ]
    }
   ],
   "source": [
    "#modify\n",
    "experiment_title = 'sex_MLPReg_' + datetime.now().strftime(\"%Y-%m-%d %H:%M:%S\") #for saving results\n",
    "print(experiment_title)\n",
    "\n",
    "config = {'target_col': 'kbi_sex_assigned_at_birth',\n",
    "          'features': ['fmri', 'smri'],\n",
    "          'model': ['abcd.models.regression.MLPRegressor', 'MLPRegressorCustom'],\n",
    "          'batch_size': 64,\n",
    "\n",
    "          #tune\n",
    "          'lr': 1e-3,\n",
    "          'nr_epochs': 150,\n",
    "          'hidden_sizes': [256, 64]\n",
    "        }\n",
    "\n",
    "#leave unmodified\n",
    "models_path = os.path.join(output_path, experiment_title, 'models')"
   ]
  },
  {
   "cell_type": "code",
   "execution_count": 9,
   "metadata": {},
   "outputs": [
    {
     "name": "stdout",
     "output_type": "stream",
     "text": [
      "MLPRegressorCustom(\n",
      "  (sigmoid): Sigmoid()\n",
      "  (linear_layers): Sequential(\n",
      "    (0): Linear(in_features=737, out_features=256, bias=True)\n",
      "    (1): ReLU()\n",
      "    (2): Linear(in_features=256, out_features=64, bias=True)\n",
      "    (3): ReLU()\n",
      "    (4): Linear(in_features=64, out_features=1, bias=True)\n",
      "  )\n",
      ")\n"
     ]
    },
    {
     "name": "stderr",
     "output_type": "stream",
     "text": [
      "  0%|          | 0/150 [00:00<?, ?it/s]"
     ]
    },
    {
     "name": "stdout",
     "output_type": "stream",
     "text": [
      "Epoch 0\n",
      "train MSELoss: 0.252 MSE: 0.252 MAE: 0.491 accuracy: 0.517\n",
      "val MSELoss: 0.252 MSE: 0.252 MAE: 0.491 accuracy: 0.520\n",
      "test MSELoss: 0.254 MSE: 0.254 MAE: 0.493 accuracy: 0.507\n",
      "\n",
      "New best model.\n",
      "\n",
      "Saved PyTorch model state MLPRegressorCustom_epoch0.pth in /Users/carolinezanze/Desktop/abcd5_output/sex_MLPReg_2023-08-25 06:58:52/models\n",
      "Saved trainer state RegressorTrainer_optimizer_epoch0.pth in /Users/carolinezanze/Desktop/abcd5_output/sex_MLPReg_2023-08-25 06:58:52/results/states\n",
      "Progress stored in /Users/carolinezanze/Desktop/abcd5_output/sex_MLPReg_2023-08-25 06:58:52/results\n"
     ]
    },
    {
     "name": "stderr",
     "output_type": "stream",
     "text": [
      "  1%|          | 1/150 [00:00<01:31,  1.62it/s]"
     ]
    },
    {
     "name": "stdout",
     "output_type": "stream",
     "text": [
      "Ending epoch 1, loss 0.21174884016986364\n"
     ]
    },
    {
     "name": "stderr",
     "output_type": "stream",
     "text": [
      "  7%|▋         | 10/150 [00:04<00:51,  2.72it/s]"
     ]
    },
    {
     "name": "stdout",
     "output_type": "stream",
     "text": [
      "Epoch 10\n",
      "train MSELoss: 0.123 MSE: 0.124 MAE: 0.275 accuracy: 0.829\n",
      "val MSELoss: 0.128 MSE: 0.127 MAE: 0.278 accuracy: 0.823\n",
      "test MSELoss: 0.121 MSE: 0.122 MAE: 0.282 accuracy: 0.806\n",
      "\n",
      "New best model.\n",
      "\n"
     ]
    },
    {
     "name": "stderr",
     "output_type": "stream",
     "text": [
      "  7%|▋         | 11/150 [00:04<01:00,  2.29it/s]"
     ]
    },
    {
     "name": "stdout",
     "output_type": "stream",
     "text": [
      "Ending epoch 11, loss 0.1272617398618578\n"
     ]
    },
    {
     "name": "stderr",
     "output_type": "stream",
     "text": [
      " 13%|█▎        | 20/150 [00:07<00:46,  2.77it/s]"
     ]
    },
    {
     "name": "stdout",
     "output_type": "stream",
     "text": [
      "Epoch 20\n",
      "train MSELoss: 0.106 MSE: 0.106 MAE: 0.223 accuracy: 0.850\n",
      "val MSELoss: 0.116 MSE: 0.114 MAE: 0.229 accuracy: 0.848\n",
      "test MSELoss: 0.112 MSE: 0.113 MAE: 0.239 accuracy: 0.827\n",
      "\n",
      "New best model.\n",
      "\n"
     ]
    },
    {
     "name": "stderr",
     "output_type": "stream",
     "text": [
      " 14%|█▍        | 21/150 [00:08<00:53,  2.39it/s]"
     ]
    },
    {
     "name": "stdout",
     "output_type": "stream",
     "text": [
      "Ending epoch 21, loss 0.11500414534732029\n"
     ]
    },
    {
     "name": "stderr",
     "output_type": "stream",
     "text": [
      " 20%|██        | 30/150 [00:11<00:42,  2.86it/s]"
     ]
    },
    {
     "name": "stdout",
     "output_type": "stream",
     "text": [
      "Epoch 30\n",
      "train MSELoss: 0.105 MSE: 0.105 MAE: 0.224 accuracy: 0.857\n",
      "val MSELoss: 0.116 MSE: 0.112 MAE: 0.232 accuracy: 0.841\n",
      "test MSELoss: 0.127 MSE: 0.127 MAE: 0.252 accuracy: 0.813\n",
      "\n",
      "New best model.\n",
      "\n"
     ]
    },
    {
     "name": "stderr",
     "output_type": "stream",
     "text": [
      " 21%|██        | 31/150 [00:12<00:47,  2.50it/s]"
     ]
    },
    {
     "name": "stdout",
     "output_type": "stream",
     "text": [
      "Ending epoch 31, loss 0.10828129272605921\n"
     ]
    },
    {
     "name": "stderr",
     "output_type": "stream",
     "text": [
      " 27%|██▋       | 40/150 [00:15<00:38,  2.83it/s]"
     ]
    },
    {
     "name": "stdout",
     "output_type": "stream",
     "text": [
      "Epoch 40\n",
      "train MSELoss: 0.109 MSE: 0.109 MAE: 0.218 accuracy: 0.845\n",
      "val MSELoss: 0.121 MSE: 0.118 MAE: 0.227 accuracy: 0.832\n",
      "test MSELoss: 0.131 MSE: 0.131 MAE: 0.243 accuracy: 0.813\n"
     ]
    },
    {
     "name": "stderr",
     "output_type": "stream",
     "text": [
      " 27%|██▋       | 41/150 [00:15<00:43,  2.51it/s]"
     ]
    },
    {
     "name": "stdout",
     "output_type": "stream",
     "text": [
      "Ending epoch 41, loss 0.10130281665840664\n"
     ]
    },
    {
     "name": "stderr",
     "output_type": "stream",
     "text": [
      " 33%|███▎      | 50/150 [00:18<00:36,  2.76it/s]"
     ]
    },
    {
     "name": "stdout",
     "output_type": "stream",
     "text": [
      "Epoch 50\n",
      "train MSELoss: 0.091 MSE: 0.092 MAE: 0.192 accuracy: 0.874\n",
      "val MSELoss: 0.108 MSE: 0.105 MAE: 0.204 accuracy: 0.860\n",
      "test MSELoss: 0.113 MSE: 0.111 MAE: 0.218 accuracy: 0.842\n",
      "\n",
      "New best model.\n",
      "\n",
      "Saved PyTorch model state MLPRegressorCustom_epoch50.pth in /Users/carolinezanze/Desktop/abcd5_output/sex_MLPReg_2023-08-25 06:58:52/models\n",
      "Saved trainer state RegressorTrainer_optimizer_epoch50.pth in /Users/carolinezanze/Desktop/abcd5_output/sex_MLPReg_2023-08-25 06:58:52/results/states\n",
      "Progress stored in /Users/carolinezanze/Desktop/abcd5_output/sex_MLPReg_2023-08-25 06:58:52/results\n"
     ]
    },
    {
     "name": "stderr",
     "output_type": "stream",
     "text": [
      " 34%|███▍      | 51/150 [00:19<00:43,  2.26it/s]"
     ]
    },
    {
     "name": "stdout",
     "output_type": "stream",
     "text": [
      "Ending epoch 51, loss 0.1076392672016277\n"
     ]
    },
    {
     "name": "stderr",
     "output_type": "stream",
     "text": [
      " 40%|████      | 60/150 [00:22<00:33,  2.71it/s]"
     ]
    },
    {
     "name": "stdout",
     "output_type": "stream",
     "text": [
      "Epoch 60\n",
      "train MSELoss: 0.091 MSE: 0.091 MAE: 0.199 accuracy: 0.876\n",
      "val MSELoss: 0.107 MSE: 0.104 MAE: 0.212 accuracy: 0.861\n",
      "test MSELoss: 0.112 MSE: 0.110 MAE: 0.221 accuracy: 0.838\n",
      "\n",
      "New best model.\n",
      "\n"
     ]
    },
    {
     "name": "stderr",
     "output_type": "stream",
     "text": [
      " 41%|████      | 61/150 [00:23<00:38,  2.34it/s]"
     ]
    },
    {
     "name": "stdout",
     "output_type": "stream",
     "text": [
      "Ending epoch 61, loss 0.09664521983883402\n"
     ]
    },
    {
     "name": "stderr",
     "output_type": "stream",
     "text": [
      " 47%|████▋     | 70/150 [00:26<00:28,  2.83it/s]"
     ]
    },
    {
     "name": "stdout",
     "output_type": "stream",
     "text": [
      "Epoch 70\n",
      "train MSELoss: 0.101 MSE: 0.101 MAE: 0.213 accuracy: 0.859\n",
      "val MSELoss: 0.115 MSE: 0.112 MAE: 0.225 accuracy: 0.838\n",
      "test MSELoss: 0.128 MSE: 0.128 MAE: 0.241 accuracy: 0.813\n"
     ]
    },
    {
     "name": "stderr",
     "output_type": "stream",
     "text": [
      " 47%|████▋     | 71/150 [00:27<00:32,  2.40it/s]"
     ]
    },
    {
     "name": "stdout",
     "output_type": "stream",
     "text": [
      "Ending epoch 71, loss 0.09300591645611299\n"
     ]
    },
    {
     "name": "stderr",
     "output_type": "stream",
     "text": [
      " 53%|█████▎    | 80/150 [00:30<00:24,  2.80it/s]"
     ]
    },
    {
     "name": "stdout",
     "output_type": "stream",
     "text": [
      "Epoch 80\n",
      "train MSELoss: 0.084 MSE: 0.085 MAE: 0.175 accuracy: 0.886\n",
      "val MSELoss: 0.104 MSE: 0.101 MAE: 0.191 accuracy: 0.867\n",
      "test MSELoss: 0.109 MSE: 0.107 MAE: 0.201 accuracy: 0.849\n",
      "\n",
      "New best model.\n",
      "\n"
     ]
    },
    {
     "name": "stderr",
     "output_type": "stream",
     "text": [
      " 54%|█████▍    | 81/150 [00:30<00:28,  2.39it/s]"
     ]
    },
    {
     "name": "stdout",
     "output_type": "stream",
     "text": [
      "Ending epoch 81, loss 0.0915720495185605\n"
     ]
    },
    {
     "name": "stderr",
     "output_type": "stream",
     "text": [
      " 60%|██████    | 90/150 [00:34<00:21,  2.76it/s]"
     ]
    },
    {
     "name": "stdout",
     "output_type": "stream",
     "text": [
      "Epoch 90\n",
      "train MSELoss: 0.087 MSE: 0.087 MAE: 0.179 accuracy: 0.883\n",
      "val MSELoss: 0.106 MSE: 0.104 MAE: 0.196 accuracy: 0.856\n",
      "test MSELoss: 0.121 MSE: 0.120 MAE: 0.216 accuracy: 0.835\n"
     ]
    },
    {
     "name": "stderr",
     "output_type": "stream",
     "text": [
      " 61%|██████    | 91/150 [00:34<00:24,  2.41it/s]"
     ]
    },
    {
     "name": "stdout",
     "output_type": "stream",
     "text": [
      "Ending epoch 91, loss 0.09577847698384577\n"
     ]
    },
    {
     "name": "stderr",
     "output_type": "stream",
     "text": [
      " 67%|██████▋   | 100/150 [00:38<00:18,  2.70it/s]"
     ]
    },
    {
     "name": "stdout",
     "output_type": "stream",
     "text": [
      "Epoch 100\n",
      "train MSELoss: 0.089 MSE: 0.088 MAE: 0.188 accuracy: 0.880\n",
      "val MSELoss: 0.107 MSE: 0.104 MAE: 0.204 accuracy: 0.858\n",
      "test MSELoss: 0.120 MSE: 0.119 MAE: 0.219 accuracy: 0.835\n",
      "Saved PyTorch model state MLPRegressorCustom_epoch100.pth in /Users/carolinezanze/Desktop/abcd5_output/sex_MLPReg_2023-08-25 06:58:52/models\n",
      "Saved trainer state RegressorTrainer_optimizer_epoch100.pth in /Users/carolinezanze/Desktop/abcd5_output/sex_MLPReg_2023-08-25 06:58:52/results/states\n",
      "Progress stored in /Users/carolinezanze/Desktop/abcd5_output/sex_MLPReg_2023-08-25 06:58:52/results\n"
     ]
    },
    {
     "name": "stderr",
     "output_type": "stream",
     "text": [
      " 67%|██████▋   | 101/150 [00:38<00:21,  2.27it/s]"
     ]
    },
    {
     "name": "stdout",
     "output_type": "stream",
     "text": [
      "Ending epoch 101, loss 0.10250626615173108\n"
     ]
    },
    {
     "name": "stderr",
     "output_type": "stream",
     "text": [
      " 73%|███████▎  | 110/150 [00:41<00:14,  2.69it/s]"
     ]
    },
    {
     "name": "stdout",
     "output_type": "stream",
     "text": [
      "Epoch 110\n",
      "train MSELoss: 0.109 MSE: 0.109 MAE: 0.207 accuracy: 0.844\n",
      "val MSELoss: 0.125 MSE: 0.123 MAE: 0.222 accuracy: 0.829\n",
      "test MSELoss: 0.148 MSE: 0.149 MAE: 0.243 accuracy: 0.796\n"
     ]
    },
    {
     "name": "stderr",
     "output_type": "stream",
     "text": [
      " 74%|███████▍  | 111/150 [00:42<00:16,  2.39it/s]"
     ]
    },
    {
     "name": "stdout",
     "output_type": "stream",
     "text": [
      "Ending epoch 111, loss 0.0920499627654617\n"
     ]
    },
    {
     "name": "stderr",
     "output_type": "stream",
     "text": [
      " 80%|████████  | 120/150 [00:45<00:10,  2.79it/s]"
     ]
    },
    {
     "name": "stdout",
     "output_type": "stream",
     "text": [
      "Epoch 120\n",
      "train MSELoss: 0.110 MSE: 0.110 MAE: 0.199 accuracy: 0.842\n",
      "val MSELoss: 0.128 MSE: 0.126 MAE: 0.215 accuracy: 0.823\n",
      "test MSELoss: 0.116 MSE: 0.116 MAE: 0.207 accuracy: 0.824\n"
     ]
    },
    {
     "name": "stderr",
     "output_type": "stream",
     "text": [
      " 81%|████████  | 121/150 [00:46<00:12,  2.36it/s]"
     ]
    },
    {
     "name": "stdout",
     "output_type": "stream",
     "text": [
      "Ending epoch 121, loss 0.09839461148120798\n"
     ]
    },
    {
     "name": "stderr",
     "output_type": "stream",
     "text": [
      " 87%|████████▋ | 130/150 [00:49<00:07,  2.67it/s]"
     ]
    },
    {
     "name": "stdout",
     "output_type": "stream",
     "text": [
      "Epoch 130\n",
      "train MSELoss: 0.081 MSE: 0.081 MAE: 0.178 accuracy: 0.894\n",
      "val MSELoss: 0.102 MSE: 0.101 MAE: 0.198 accuracy: 0.857\n",
      "test MSELoss: 0.114 MSE: 0.111 MAE: 0.206 accuracy: 0.842\n",
      "\n",
      "New best model.\n",
      "\n"
     ]
    },
    {
     "name": "stderr",
     "output_type": "stream",
     "text": [
      " 87%|████████▋ | 131/150 [00:50<00:08,  2.34it/s]"
     ]
    },
    {
     "name": "stdout",
     "output_type": "stream",
     "text": [
      "Ending epoch 131, loss 0.10050949234481868\n"
     ]
    },
    {
     "name": "stderr",
     "output_type": "stream",
     "text": [
      " 93%|█████████▎| 140/150 [00:53<00:03,  2.72it/s]"
     ]
    },
    {
     "name": "stdout",
     "output_type": "stream",
     "text": [
      "Epoch 140\n",
      "train MSELoss: 0.080 MSE: 0.080 MAE: 0.175 accuracy: 0.893\n",
      "val MSELoss: 0.105 MSE: 0.104 MAE: 0.199 accuracy: 0.857\n",
      "test MSELoss: 0.110 MSE: 0.108 MAE: 0.207 accuracy: 0.842\n"
     ]
    },
    {
     "name": "stderr",
     "output_type": "stream",
     "text": [
      " 94%|█████████▍| 141/150 [00:54<00:03,  2.35it/s]"
     ]
    },
    {
     "name": "stdout",
     "output_type": "stream",
     "text": [
      "Ending epoch 141, loss 0.09725392576273498\n"
     ]
    },
    {
     "name": "stderr",
     "output_type": "stream",
     "text": [
      "100%|██████████| 150/150 [00:57<00:00,  2.61it/s]\n"
     ]
    },
    {
     "name": "stdout",
     "output_type": "stream",
     "text": [
      "Finished training\n",
      "Epoch 150\n",
      "train MSELoss: 0.076 MSE: 0.076 MAE: 0.152 accuracy: 0.900\n",
      "val MSELoss: 0.105 MSE: 0.102 MAE: 0.178 accuracy: 0.862\n",
      "test MSELoss: 0.115 MSE: 0.112 MAE: 0.188 accuracy: 0.849\n",
      "Saved PyTorch model state MLPRegressorCustom_epoch150.pth in /Users/carolinezanze/Desktop/abcd5_output/sex_MLPReg_2023-08-25 06:58:52/models\n",
      "Saved trainer state RegressorTrainer_optimizer_epoch150.pth in /Users/carolinezanze/Desktop/abcd5_output/sex_MLPReg_2023-08-25 06:58:52/results/states\n",
      "Progress stored in /Users/carolinezanze/Desktop/abcd5_output/sex_MLPReg_2023-08-25 06:58:52/results\n"
     ]
    },
    {
     "data": {
      "text/plain": [
       "{'state_dict': OrderedDict([('linear_layers.0.weight',\n",
       "               tensor([[ 0.0195, -0.0033, -0.1237,  ..., -0.0884,  0.0488, -0.0142],\n",
       "                       [-0.0136,  0.0685, -0.0477,  ...,  0.0111, -0.0553,  0.0173],\n",
       "                       [-0.0522,  0.0318, -0.0063,  ...,  0.0560, -0.0402, -0.0233],\n",
       "                       ...,\n",
       "                       [-0.0737, -0.0332, -0.0649,  ..., -0.0247,  0.0716, -0.0088],\n",
       "                       [-0.0759, -0.0008, -0.0101,  ...,  0.0561,  0.0313, -0.0203],\n",
       "                       [ 0.0296,  0.0517, -0.0352,  ..., -0.0312,  0.0461,  0.0606]])),\n",
       "              ('linear_layers.0.bias',\n",
       "               tensor([ 0.0222, -0.0067, -0.0284, -0.0056, -0.0425, -0.0450, -0.0043,  0.0000,\n",
       "                        0.0000, -0.0056,  0.0014, -0.0086,  0.0410, -0.0059,  0.0000, -0.0082,\n",
       "                       -0.0030,  0.0000,  0.0000,  0.0108,  0.0246, -0.0072, -0.0051, -0.0066,\n",
       "                        0.0000, -0.0034,  0.0000, -0.0070, -0.0072, -0.0203, -0.0053, -0.0029,\n",
       "                        0.0000, -0.0462, -0.0069,  0.0000, -0.0262, -0.0058,  0.0000, -0.0173,\n",
       "                        0.0170, -0.0060, -0.0060, -0.0064, -0.0060, -0.0014, -0.0027,  0.0325,\n",
       "                        0.0000,  0.0000, -0.0040, -0.0051, -0.0363,  0.0116,  0.0000,  0.0000,\n",
       "                       -0.0041,  0.0440,  0.0235, -0.0318,  0.0000,  0.0049, -0.0101, -0.0054,\n",
       "                       -0.0055, -0.0030,  0.0011, -0.0045, -0.0042,  0.0000,  0.0000,  0.0000,\n",
       "                        0.0000, -0.0063, -0.0060, -0.0102, -0.0101,  0.0000, -0.0402, -0.0060,\n",
       "                       -0.0017, -0.0063,  0.0000, -0.0319, -0.0056,  0.0057,  0.0000, -0.0013,\n",
       "                       -0.0060,  0.0000, -0.0059,  0.0000,  0.0246,  0.0000,  0.0000, -0.0060,\n",
       "                       -0.0060,  0.0577, -0.0043, -0.0137,  0.0000, -0.0182,  0.0153, -0.0099,\n",
       "                       -0.0060,  0.0000, -0.0054, -0.0024, -0.0025,  0.0000, -0.0092,  0.0392,\n",
       "                       -0.0010, -0.0075, -0.0010, -0.0108, -0.0060, -0.0060,  0.0238, -0.0081,\n",
       "                        0.0076, -0.0089, -0.0056,  0.0000, -0.0009, -0.0005, -0.0354, -0.0060,\n",
       "                        0.0331, -0.0020, -0.0068, -0.0341, -0.0056, -0.0104, -0.0093,  0.0000,\n",
       "                       -0.0056, -0.0065,  0.0431,  0.0000, -0.0039,  0.0000,  0.0020,  0.0000,\n",
       "                       -0.0052, -0.0045,  0.0000,  0.0000, -0.0403, -0.0049,  0.0242, -0.0101,\n",
       "                       -0.0055, -0.0102,  0.0000, -0.0426, -0.0043,  0.0000,  0.0444, -0.0012,\n",
       "                       -0.0056, -0.0068, -0.0060,  0.0000, -0.0066, -0.0156, -0.0047, -0.0201,\n",
       "                       -0.0060, -0.0109, -0.0058, -0.0068,  0.0014, -0.0051, -0.0045,  0.0072,\n",
       "                       -0.0106, -0.0080, -0.0360, -0.0055, -0.0255, -0.0060, -0.0031, -0.0415,\n",
       "                       -0.0042, -0.0060, -0.0045, -0.0066, -0.0067, -0.0051, -0.0060, -0.0238,\n",
       "                       -0.0414, -0.0063, -0.0035, -0.0161, -0.0060, -0.0028,  0.0423, -0.0060,\n",
       "                       -0.0058, -0.0051, -0.0060, -0.0066, -0.0056,  0.0000, -0.0060,  0.0000,\n",
       "                       -0.0052, -0.0074, -0.0023, -0.0034, -0.0052, -0.0422,  0.0137,  0.0000,\n",
       "                       -0.0060, -0.0060,  0.0113,  0.0427,  0.0002, -0.0053, -0.0060,  0.0484,\n",
       "                       -0.0024, -0.0032,  0.0000, -0.0309, -0.0058,  0.0012,  0.0000, -0.0094,\n",
       "                       -0.0068,  0.0359, -0.0394, -0.0063, -0.0159,  0.0000,  0.0436, -0.0390,\n",
       "                       -0.0060, -0.0109, -0.0039, -0.0080,  0.0000, -0.0063, -0.0060, -0.0039,\n",
       "                        0.0000, -0.0446, -0.0124, -0.0023, -0.0120, -0.0033, -0.0277,  0.0227])),\n",
       "              ('linear_layers.2.weight',\n",
       "               tensor([[ 0.0752, -0.0972, -0.0762,  ..., -0.1062, -0.0135,  0.0615],\n",
       "                       [-0.0514,  0.0850, -0.1311,  ..., -0.0836, -0.0615,  0.0854],\n",
       "                       [-0.0129, -0.1045,  0.0306,  ...,  0.1316,  0.0373,  0.1848],\n",
       "                       ...,\n",
       "                       [ 0.0278, -0.0185,  0.0170,  ..., -0.1187, -0.1305,  0.1582],\n",
       "                       [-0.0427,  0.0094,  0.0163,  ...,  0.0375,  0.0832, -0.1105],\n",
       "                       [-0.0274, -0.1174,  0.0241,  ...,  0.1186, -0.0765, -0.1493]])),\n",
       "              ('linear_layers.2.bias',\n",
       "               tensor([ 0.0463, -0.0297,  0.0486, -0.0774, -0.0883, -0.0580,  0.0065, -0.0151,\n",
       "                       -0.0093,  0.0745,  0.0588,  0.0486,  0.0720,  0.0017, -0.0529, -0.0242,\n",
       "                       -0.0844, -0.0118, -0.0490, -0.0345,  0.0852, -0.0098, -0.0878, -0.0243,\n",
       "                       -0.0020, -0.0462, -0.0386,  0.0411, -0.0236,  0.0768,  0.0501, -0.0679,\n",
       "                       -0.0513, -0.0154, -0.0774,  0.0187,  0.0252, -0.1011, -0.0178,  0.0032,\n",
       "                       -0.0151,  0.0192, -0.0028,  0.0046,  0.0750,  0.0402, -0.0360, -0.0018,\n",
       "                        0.0244, -0.0438,  0.0696,  0.0339,  0.0167, -0.0146,  0.0038, -0.0620,\n",
       "                        0.0493,  0.0574, -0.0056, -0.0274, -0.0686, -0.0226,  0.0191, -0.0515])),\n",
       "              ('linear_layers.4.weight',\n",
       "               tensor([[ 1.2593e-01,  2.1394e-01,  1.8989e-01,  8.4988e-02,  2.8195e-01,\n",
       "                         3.6503e-02, -3.0324e-01, -1.7711e-01, -1.7501e-01,  4.0886e-01,\n",
       "                         2.3497e-01,  1.9547e-01,  2.5212e-01, -3.2857e-01,  2.4946e-01,\n",
       "                        -2.3872e-01, -4.5240e-04, -2.8466e-01, -1.0519e-02,  1.1200e-02,\n",
       "                         2.0631e-01, -3.1223e-01,  9.5254e-02, -2.7522e-01, -2.8135e-01,\n",
       "                        -1.6557e-01, -2.7637e-01,  2.0057e-01, -2.8491e-01,  1.6090e-01,\n",
       "                         4.0010e-01, -5.7307e-03,  5.8520e-03, -1.7511e-01,  9.9046e-02,\n",
       "                        -3.6803e-01, -3.0529e-01, -8.0167e-03, -1.6229e-01,  1.5286e-02,\n",
       "                        -2.2565e-01,  1.5585e-01, -3.0746e-01, -3.4255e-01,  1.7770e-01,\n",
       "                         1.9043e-01,  1.6760e-02, -1.9358e-01,  2.7803e-01,  1.0201e-01,\n",
       "                         3.6062e-01,  2.2064e-01,  8.7372e-02, -2.7856e-01, -1.7301e-01,\n",
       "                         1.9748e-02,  5.4120e-01,  3.5626e-01, -3.0751e-01,  1.4122e-01,\n",
       "                         2.3217e-01, -2.5193e-01, -2.6342e-01,  5.0104e-02]])),\n",
       "              ('linear_layers.4.bias', tensor([0.0277]))]),\n",
       " 'metrics': {'train': {'MSELoss': 0.08073639027304477,\n",
       "   'MSE': 0.0807222,\n",
       "   'MAE': 0.17822012,\n",
       "   'accuracy': 0.894237576100807},\n",
       "  'val': {'MSELoss': 0.10246448165604047,\n",
       "   'MSE': 0.10059001,\n",
       "   'MAE': 0.1978897,\n",
       "   'accuracy': 0.8567318757192175},\n",
       "  'test': {'MSELoss': 0.11391124874353409,\n",
       "   'MSE': 0.110973306,\n",
       "   'MAE': 0.20643097,\n",
       "   'accuracy': 0.8415492957746479}},\n",
       " 'epoch_ix': 130,\n",
       " 'architecture': 'MLPRegressorCustom(\\n  (sigmoid): Sigmoid()\\n  (linear_layers): Sequential(\\n    (0): Linear(in_features=737, out_features=256, bias=True)\\n    (1): ReLU()\\n    (2): Linear(in_features=256, out_features=64, bias=True)\\n    (3): ReLU()\\n    (4): Linear(in_features=64, out_features=1, bias=True)\\n  )\\n)',\n",
       " 'cms': {'train': array([[3251,  404],\n",
       "         [ 343, 3065]]),\n",
       "  'val': array([[780, 124],\n",
       "         [125, 709]]),\n",
       "  'test': array([[109,  35],\n",
       "         [ 10, 130]])}}"
      ]
     },
     "execution_count": 9,
     "metadata": {},
     "output_type": "execute_result"
    }
   ],
   "source": [
    "model = MLPRegressorCustom(save_path=models_path, input_size=len(feature_cols), hidden_sizes=config['hidden_sizes']) #modfiy\n",
    "\n",
    "model = model.to(device)\n",
    "print(model)\n",
    "trainer = train_model(model, device, config, experiment_title, dataloaders, verbose=True, bucketing_scheme=bucketing_scheme)\n",
    "trainer.export_best_model(config=config)"
   ]
  },
  {
   "cell_type": "markdown",
   "metadata": {},
   "source": [
    "# Hyperparameter Search with Cusom MLP"
   ]
  },
  {
   "cell_type": "code",
   "execution_count": 8,
   "metadata": {},
   "outputs": [],
   "source": [
    "hidden_sizes = [\n",
    "    (128, 64),\n",
    "    (256, 128, 64), \n",
    "    (512, 256, 128, 64),\n",
    "]\n",
    "\n",
    "learning_rates = [1e-3, 1e-5, 1e-7]"
   ]
  },
  {
   "cell_type": "code",
   "execution_count": 10,
   "metadata": {},
   "outputs": [
    {
     "name": "stdout",
     "output_type": "stream",
     "text": [
      "experiment 0 : sex_MLPReg_2023-08-25 07:06:50\n"
     ]
    },
    {
     "name": "stderr",
     "output_type": "stream",
     "text": [
      "100%|██████████| 250/250 [01:13<00:00,  3.38it/s]\n"
     ]
    },
    {
     "name": "stdout",
     "output_type": "stream",
     "text": [
      "experiment 1 : sex_MLPReg_2023-08-25 07:08:05\n"
     ]
    },
    {
     "name": "stderr",
     "output_type": "stream",
     "text": [
      "100%|██████████| 250/250 [01:54<00:00,  2.19it/s]\n"
     ]
    },
    {
     "name": "stdout",
     "output_type": "stream",
     "text": [
      "experiment 2 : sex_MLPReg_2023-08-25 07:09:59\n"
     ]
    },
    {
     "name": "stderr",
     "output_type": "stream",
     "text": [
      "100%|██████████| 250/250 [03:01<00:00,  1.37it/s]\n"
     ]
    },
    {
     "name": "stdout",
     "output_type": "stream",
     "text": [
      "experiment 3 : sex_MLPReg_2023-08-25 07:13:02\n"
     ]
    },
    {
     "name": "stderr",
     "output_type": "stream",
     "text": [
      "100%|██████████| 250/250 [01:14<00:00,  3.38it/s]\n"
     ]
    },
    {
     "name": "stdout",
     "output_type": "stream",
     "text": [
      "experiment 4 : sex_MLPReg_2023-08-25 07:14:17\n"
     ]
    },
    {
     "name": "stderr",
     "output_type": "stream",
     "text": [
      "100%|██████████| 250/250 [01:54<00:00,  2.19it/s]\n"
     ]
    },
    {
     "name": "stdout",
     "output_type": "stream",
     "text": [
      "experiment 5 : sex_MLPReg_2023-08-25 07:16:11\n"
     ]
    },
    {
     "name": "stderr",
     "output_type": "stream",
     "text": [
      "100%|██████████| 250/250 [03:13<00:00,  1.29it/s]\n"
     ]
    },
    {
     "name": "stdout",
     "output_type": "stream",
     "text": [
      "experiment 6 : sex_MLPReg_2023-08-25 07:19:25\n"
     ]
    },
    {
     "name": "stderr",
     "output_type": "stream",
     "text": [
      "100%|██████████| 250/250 [01:14<00:00,  3.36it/s]\n"
     ]
    },
    {
     "name": "stdout",
     "output_type": "stream",
     "text": [
      "experiment 7 : sex_MLPReg_2023-08-25 07:20:40\n"
     ]
    },
    {
     "name": "stderr",
     "output_type": "stream",
     "text": [
      "100%|██████████| 250/250 [02:03<00:00,  2.03it/s]\n"
     ]
    },
    {
     "name": "stdout",
     "output_type": "stream",
     "text": [
      "experiment 8 : sex_MLPReg_2023-08-25 07:22:45\n"
     ]
    },
    {
     "name": "stderr",
     "output_type": "stream",
     "text": [
      "100%|██████████| 250/250 [03:24<00:00,  1.22it/s]\n"
     ]
    },
    {
     "name": "stdout",
     "output_type": "stream",
     "text": [
      "\n",
      "\n",
      "Experiment over. Best model: sex_MLPReg_2023-08-25 07:09:59 \n",
      " {'state_dict': OrderedDict([('linear_layers.0.weight', tensor([[ 0.0245,  0.0467, -0.0403,  ...,  0.0505, -0.0050,  0.0347],\n",
      "        [-0.0262, -0.0278,  0.0033,  ..., -0.0476, -0.0188,  0.0350],\n",
      "        [ 0.0027,  0.0385,  0.0554,  ...,  0.0008, -0.0375, -0.0542],\n",
      "        ...,\n",
      "        [-0.0637, -0.0446, -0.0767,  ..., -0.0479, -0.0501, -0.0743],\n",
      "        [ 0.0635, -0.0462, -0.0167,  ...,  0.0128,  0.0647, -0.0221],\n",
      "        [-0.1490, -0.1099, -0.0542,  ..., -0.0299,  0.0499,  0.0479]])), ('linear_layers.0.bias', tensor([-8.2581e-03, -5.0180e-03, -3.3046e-03, -5.5849e-03, -2.1489e-02,\n",
      "         0.0000e+00,  0.0000e+00, -5.1597e-03, -4.2635e-03, -7.5176e-03,\n",
      "         0.0000e+00,  2.3924e-03,  1.9830e-02,  0.0000e+00, -4.6496e-03,\n",
      "        -6.0054e-03, -3.7849e-03, -6.5353e-03, -4.4883e-03,  0.0000e+00,\n",
      "        -1.1326e-02, -1.2418e-02,  0.0000e+00, -3.0849e-02, -9.6788e-03,\n",
      "        -6.8603e-03, -4.7983e-03, -8.4239e-03,  1.5392e-03, -1.4906e-03,\n",
      "        -7.6204e-03, -4.3131e-03, -6.0053e-03, -8.8580e-03, -4.7249e-03,\n",
      "        -2.2756e-02, -5.4550e-03, -4.2898e-02,  0.0000e+00, -7.1165e-03,\n",
      "         0.0000e+00,  0.0000e+00,  1.1981e-03, -7.5604e-03, -4.8352e-03,\n",
      "        -6.0049e-03, -3.9305e-03, -5.4710e-03, -4.1364e-03, -3.5941e-03,\n",
      "        -1.6308e-02,  4.1497e-02,  0.0000e+00, -7.6230e-03,  2.5162e-03,\n",
      "         0.0000e+00,  0.0000e+00,  0.0000e+00, -1.0415e-02, -1.2440e-02,\n",
      "        -3.1250e-03, -1.0668e-02, -1.5227e-02, -6.8099e-03, -4.0994e-03,\n",
      "        -6.9816e-03, -1.3213e-02,  5.1287e-03,  0.0000e+00, -6.1444e-03,\n",
      "        -4.6592e-03, -6.7374e-03, -2.7382e-03,  4.8571e-03,  0.0000e+00,\n",
      "         0.0000e+00, -7.9879e-03, -5.3438e-03, -4.5437e-03, -1.2447e-02,\n",
      "        -4.9481e-03, -4.1153e-03,  0.0000e+00, -1.0739e-02, -4.8625e-03,\n",
      "         0.0000e+00, -5.8428e-03, -5.0776e-03, -8.1729e-03, -6.0046e-03,\n",
      "         0.0000e+00, -3.3968e-03,  0.0000e+00, -5.1574e-03, -6.0047e-03,\n",
      "        -2.9664e-03, -5.5184e-03, -5.8856e-03, -6.0042e-03,  0.0000e+00,\n",
      "        -1.9633e-03, -5.8580e-02, -5.0157e-03, -6.8736e-03, -9.7577e-03,\n",
      "        -2.0838e-03,  2.5578e-02, -6.3082e-03, -2.8292e-03,  0.0000e+00,\n",
      "        -4.4827e-03,  0.0000e+00, -4.3872e-03, -6.0052e-03, -6.0039e-03,\n",
      "        -1.1297e-03, -3.1066e-03, -6.7068e-03, -1.7786e-02, -6.8405e-03,\n",
      "        -4.3715e-03, -7.0334e-03, -8.4420e-03, -1.2872e-03, -9.4092e-03,\n",
      "         0.0000e+00, -7.4575e-03, -8.5943e-03, -8.1651e-03,  0.0000e+00,\n",
      "         0.0000e+00, -5.5765e-03, -4.6258e-03,  0.0000e+00,  0.0000e+00,\n",
      "        -3.2963e-02, -4.0387e-03,  0.0000e+00, -7.0387e-03, -1.5246e-03,\n",
      "        -1.5498e-02, -7.5037e-03, -2.9243e-03,  7.8239e-03, -3.2520e-03,\n",
      "        -4.4780e-03, -3.7084e-03,  0.0000e+00, -6.0052e-03, -4.8385e-03,\n",
      "        -5.4372e-03, -3.1817e-03, -5.5559e-03,  0.0000e+00, -6.7158e-03,\n",
      "        -3.7265e-03, -2.6979e-03, -3.1903e-03,  2.8763e-04, -1.2815e-02,\n",
      "        -1.1994e-02, -9.9721e-04, -8.5302e-03,  0.0000e+00, -5.0930e-03,\n",
      "        -6.7562e-03, -6.0046e-03, -6.0031e-03, -4.1434e-03, -3.6254e-02,\n",
      "         0.0000e+00,  0.0000e+00, -7.9560e-03, -7.9681e-03, -5.4657e-03,\n",
      "        -5.8934e-03, -6.0000e-03, -6.7202e-03, -4.8855e-03, -2.5897e-03,\n",
      "         0.0000e+00, -2.4350e-03, -6.8661e-03, -9.5910e-04,  0.0000e+00,\n",
      "        -6.0045e-03, -5.7799e-03,  7.6478e-05, -4.5182e-03, -7.6562e-03,\n",
      "        -4.5129e-03,  0.0000e+00,  0.0000e+00, -8.4797e-03, -1.9706e-02,\n",
      "        -3.8355e-03, -3.9648e-03, -6.8622e-03, -7.3348e-03, -2.2780e-02,\n",
      "        -7.1449e-03, -5.6574e-03, -5.1282e-03, -4.0282e-03, -5.9921e-03,\n",
      "        -8.7039e-03, -5.4267e-03, -5.4064e-02,  0.0000e+00, -3.6912e-03,\n",
      "         0.0000e+00, -5.9903e-03, -2.5117e-02, -1.0447e-02, -3.3851e-03,\n",
      "         0.0000e+00, -5.9647e-03, -5.4093e-03,  5.2819e-03, -6.0051e-03,\n",
      "        -3.8375e-03, -3.2432e-03, -4.3733e-03, -6.0053e-03, -7.7055e-03,\n",
      "        -5.1581e-03, -6.0002e-03, -5.5569e-03, -4.6853e-03, -1.7699e-02,\n",
      "        -3.8895e-03, -2.6873e-03, -4.9978e-03, -9.2924e-03, -6.5038e-03,\n",
      "        -3.5238e-03, -3.6885e-03, -3.0154e-02, -7.1244e-03, -6.0041e-03,\n",
      "        -3.7731e-03, -2.6028e-02, -1.5319e-03, -1.0014e-02, -9.1031e-03,\n",
      "         0.0000e+00, -7.6957e-03,  0.0000e+00, -5.9686e-03, -5.3318e-03,\n",
      "        -5.4739e-03, -8.2829e-03, -3.9891e-03, -6.4896e-02, -3.9116e-03,\n",
      "        -6.0053e-03,  0.0000e+00,  0.0000e+00,  0.0000e+00, -5.2045e-03,\n",
      "        -8.0727e-03,  1.1677e-02,  0.0000e+00,  0.0000e+00, -8.6552e-03,\n",
      "        -1.0982e-02,  2.1264e-03, -7.6282e-03,  0.0000e+00, -2.1975e-04,\n",
      "        -4.1196e-03,  0.0000e+00,  1.1305e-02, -5.6146e-03, -6.5858e-03,\n",
      "        -6.7168e-03, -3.2337e-04, -5.6309e-03, -3.5147e-02, -4.1412e-02,\n",
      "         0.0000e+00, -1.5378e-03, -8.7241e-04, -7.8084e-03, -2.6485e-02,\n",
      "        -7.7086e-03, -6.0046e-03, -5.9604e-03, -4.5521e-03,  0.0000e+00,\n",
      "         2.7070e-03, -4.7364e-03,  0.0000e+00,  0.0000e+00, -5.1407e-03,\n",
      "        -1.8408e-02,  0.0000e+00,  0.0000e+00, -8.4104e-03, -6.9362e-03,\n",
      "        -6.0156e-03,  0.0000e+00, -5.8716e-03,  3.7938e-02,  0.0000e+00,\n",
      "         0.0000e+00, -6.8843e-03, -6.0044e-03, -8.1326e-03,  0.0000e+00,\n",
      "        -9.2531e-03, -3.4989e-02, -5.3423e-03, -5.7247e-03, -6.0048e-03,\n",
      "         1.1426e-03, -2.5870e-03,  1.3853e-02,  0.0000e+00,  0.0000e+00,\n",
      "        -4.2747e-03, -6.7566e-03,  1.2413e-03, -9.3253e-03, -5.3353e-03,\n",
      "         0.0000e+00,  0.0000e+00, -4.7140e-02, -4.7112e-03, -7.7342e-03,\n",
      "        -6.0046e-03, -5.4708e-03,  0.0000e+00, -4.2095e-03, -6.0047e-03,\n",
      "        -6.9790e-03, -5.7926e-03, -8.4241e-03, -8.2661e-03,  0.0000e+00,\n",
      "         0.0000e+00, -5.0455e-03,  0.0000e+00,  0.0000e+00, -8.0927e-03,\n",
      "        -7.9184e-03, -2.2083e-03, -2.7875e-03, -5.5575e-03,  0.0000e+00,\n",
      "        -6.1867e-02,  9.6455e-04, -3.1093e-03,  0.0000e+00, -3.5249e-03,\n",
      "         0.0000e+00, -6.0050e-03,  0.0000e+00,  0.0000e+00, -6.2654e-03,\n",
      "        -7.9591e-03, -8.5373e-03,  4.1707e-03,  0.0000e+00, -5.5521e-03,\n",
      "         1.0193e-03, -2.2600e-03, -9.5242e-03, -3.8707e-03, -5.0348e-04,\n",
      "         0.0000e+00, -9.8090e-04, -7.3564e-04, -1.2492e-03, -5.2328e-03,\n",
      "        -4.4385e-03, -5.8655e-03, -5.3301e-03,  0.0000e+00,  0.0000e+00,\n",
      "         3.0509e-03, -9.9567e-03, -4.8594e-03, -8.0807e-03, -1.3796e-02,\n",
      "        -7.6430e-03, -3.9059e-03,  0.0000e+00, -5.5379e-02, -1.1544e-02,\n",
      "        -6.0052e-03, -4.7970e-03, -7.9808e-03, -6.3525e-03, -6.0045e-03,\n",
      "        -2.2074e-02, -1.2275e-03, -6.5391e-03,  0.0000e+00, -8.0707e-03,\n",
      "         1.3910e-02, -5.6062e-03, -1.4326e-02, -5.5584e-03, -9.9247e-03,\n",
      "         2.3271e-03,  0.0000e+00,  4.6993e-03, -3.2216e-03, -9.0490e-03,\n",
      "        -6.4031e-03,  0.0000e+00,  0.0000e+00,  0.0000e+00, -3.9391e-03,\n",
      "        -4.1317e-03, -9.7102e-03, -8.6749e-03,  1.7244e-02,  3.7190e-03,\n",
      "         0.0000e+00,  0.0000e+00,  5.9742e-02, -3.4161e-03, -5.6023e-03,\n",
      "         0.0000e+00, -4.0527e-03,  2.5517e-03, -6.0052e-03, -3.7327e-03,\n",
      "        -5.2257e-03,  0.0000e+00, -6.0006e-03, -5.0893e-03, -6.0893e-03,\n",
      "        -3.5792e-03,  0.0000e+00, -6.3888e-03, -3.4936e-03, -4.2667e-03,\n",
      "        -7.9252e-03,  0.0000e+00,  0.0000e+00,  0.0000e+00, -7.1080e-03,\n",
      "        -6.0052e-03, -1.3191e-02, -1.5023e-03,  3.6158e-03, -6.0034e-03,\n",
      "        -6.1001e-03,  2.8942e-03, -3.2069e-04,  5.7639e-03, -6.0052e-03,\n",
      "        -6.7224e-03,  4.1537e-03, -6.2870e-03, -6.1815e-03,  0.0000e+00,\n",
      "        -3.8839e-03, -4.3618e-03, -1.0530e-02, -5.5550e-03, -6.0019e-03,\n",
      "        -5.4971e-03, -6.0025e-03, -6.0625e-03, -6.0052e-03, -7.6016e-03,\n",
      "        -8.1315e-03, -3.4427e-03, -6.1328e-03, -3.8113e-03,  0.0000e+00,\n",
      "        -4.4557e-03,  0.0000e+00, -9.4951e-03, -5.1575e-03, -3.0757e-03,\n",
      "        -6.0040e-03, -5.9845e-03, -5.6628e-03, -5.9736e-03, -6.8826e-03,\n",
      "        -6.0567e-03,  0.0000e+00, -5.2108e-02,  0.0000e+00,  0.0000e+00,\n",
      "        -2.1996e-03,  5.2888e-03, -6.0053e-03, -4.7432e-03,  1.0999e-02,\n",
      "        -5.8819e-03, -6.6546e-03,  6.7465e-03, -3.9745e-03, -6.5952e-03,\n",
      "        -3.4407e-03,  0.0000e+00, -4.3456e-03, -5.6984e-03,  0.0000e+00,\n",
      "        -3.5355e-02, -1.6340e-02, -4.5577e-03, -2.6346e-03, -8.4627e-03,\n",
      "         0.0000e+00,  6.0006e-02])), ('linear_layers.2.weight', tensor([[ 0.0402,  0.0206, -0.0723,  ...,  0.0657, -0.0556,  0.1212],\n",
      "        [-0.0866, -0.0278,  0.0548,  ...,  0.0609, -0.0302, -0.0756],\n",
      "        [-0.0617,  0.0880,  0.0790,  ..., -0.0231, -0.0412,  0.0351],\n",
      "        ...,\n",
      "        [ 0.0573,  0.0256,  0.0524,  ..., -0.0808,  0.0266,  0.0464],\n",
      "        [-0.0714,  0.0771, -0.0103,  ...,  0.0708,  0.0730, -0.0595],\n",
      "        [-0.0923, -0.0608, -0.0588,  ...,  0.0663,  0.0764, -0.0235]])), ('linear_layers.2.bias', tensor([ 4.3427e-02, -9.5696e-02,  1.2624e-01, -4.6153e-02, -4.7998e-02,\n",
      "        -9.2604e-02, -2.1163e-02, -5.7588e-02, -1.9619e-01, -2.0206e-02,\n",
      "         1.7194e-01,  2.6051e-02, -7.4115e-02, -8.6741e-02,  9.5206e-02,\n",
      "        -6.4657e-02, -1.5261e-02,  5.2393e-02, -6.3597e-02, -4.6984e-02,\n",
      "        -1.1938e-01, -8.4478e-02,  2.2606e-02, -5.1943e-02, -1.0221e-01,\n",
      "        -4.8974e-02, -8.1590e-02, -7.9108e-02, -4.7184e-02, -7.0384e-02,\n",
      "        -8.8312e-02, -5.9937e-02, -8.2002e-02, -5.9503e-02, -5.7402e-02,\n",
      "        -5.8242e-02,  4.7627e-02,  2.0410e-02, -7.1133e-02,  9.6640e-03,\n",
      "        -4.7258e-02, -5.1249e-02, -3.2044e-02, -1.0613e-01, -5.0271e-02,\n",
      "        -7.6389e-02,  1.0862e-01, -5.6112e-02, -6.9446e-02, -1.0072e-01,\n",
      "        -1.0797e-01,  1.1509e-01, -1.0532e-01,  1.0677e-01, -8.2845e-02,\n",
      "        -7.6967e-02,  1.4725e-02, -2.9909e-02, -6.8606e-02, -8.1435e-02,\n",
      "        -5.1025e-02, -2.1054e-03, -3.7806e-02,  1.3862e-01, -9.8524e-02,\n",
      "        -1.1812e-03, -1.0265e-01, -4.1427e-02, -5.2057e-02, -7.6851e-02,\n",
      "        -5.2841e-02, -5.1257e-02, -4.6092e-02, -4.9011e-02, -7.2273e-02,\n",
      "        -2.7710e-02, -7.2317e-02,  2.0346e-04, -5.3049e-02, -5.6031e-02,\n",
      "        -5.7539e-02,  3.3780e-02, -3.6993e-02, -1.2647e-01,  8.8928e-02,\n",
      "        -6.3185e-02, -7.8029e-02,  1.3011e-01, -6.4668e-02, -7.9964e-02,\n",
      "        -7.1587e-02, -8.1349e-02,  1.7218e-02, -1.1689e-01,  4.0670e-04,\n",
      "         8.5147e-02,  4.2465e-03,  3.8894e-02, -1.5226e-01, -6.3261e-02,\n",
      "        -1.9211e-01,  7.5541e-02, -4.6886e-02, -4.3180e-02, -3.8214e-02,\n",
      "         1.2179e-02, -6.0526e-02, -6.5269e-02,  1.5085e-01,  9.7556e-02,\n",
      "        -4.9592e-02, -2.9006e-02, -7.1775e-02, -8.2610e-02, -9.0225e-02,\n",
      "        -5.4072e-02,  7.4772e-02,  4.5482e-02, -8.7692e-02, -6.8548e-02,\n",
      "        -6.6711e-02, -3.0820e-02, -6.9567e-02, -2.8351e-02,  4.5570e-02,\n",
      "        -4.4761e-02, -7.6934e-02, -3.5761e-02, -1.1041e-01, -7.0514e-02,\n",
      "        -6.5375e-02, -3.9826e-02,  7.1506e-02, -7.2268e-02,  5.6747e-02,\n",
      "        -6.6303e-02, -7.0355e-02, -7.3231e-02, -8.8988e-02, -4.6027e-02,\n",
      "         7.3326e-02, -7.4626e-02, -3.7816e-02, -5.5555e-02, -1.5595e-02,\n",
      "        -1.1013e-01,  4.6324e-02, -5.0499e-02, -8.4091e-02, -7.2744e-02,\n",
      "         1.4217e-01, -7.5621e-02,  1.4142e-01, -8.0686e-02, -7.2134e-02,\n",
      "        -5.8830e-02,  1.1067e-02, -5.1267e-03, -5.3696e-02, -5.7844e-02,\n",
      "        -9.5031e-02, -8.1730e-02,  4.8120e-02, -6.8177e-02,  3.9781e-02,\n",
      "        -7.5631e-02, -6.3427e-02,  3.8886e-02, -6.5312e-02, -6.5158e-02,\n",
      "        -4.5855e-02,  7.7305e-02, -6.6773e-02, -8.8768e-02, -4.1523e-02,\n",
      "        -5.3920e-02, -3.6728e-02, -4.6468e-02, -4.2927e-02, -3.2664e-02,\n",
      "        -7.0866e-02,  2.0369e-02, -9.4173e-02, -7.8151e-02, -3.6637e-02,\n",
      "        -5.7410e-02, -8.6763e-02, -8.0284e-02, -4.9335e-02, -2.6295e-02,\n",
      "        -6.8756e-02, -7.2838e-02, -7.4528e-02, -5.4430e-02, -8.2740e-02,\n",
      "        -1.7694e-01, -5.8894e-02, -2.9975e-02,  1.1102e-01, -7.1612e-02,\n",
      "        -4.1857e-02, -1.7350e-02, -7.4152e-03, -7.0903e-02, -6.1542e-02,\n",
      "        -5.7352e-02, -7.0195e-02, -6.4003e-02,  1.0930e-01, -2.0561e-02,\n",
      "        -1.9776e-04, -3.2442e-02, -3.0438e-02, -4.1722e-02, -4.1112e-02,\n",
      "        -5.5836e-02, -9.5573e-02, -8.7078e-02, -6.0111e-02, -1.6382e-01,\n",
      "         1.0711e-01, -6.7880e-02, -8.8888e-02, -1.0594e-01, -6.1999e-02,\n",
      "        -2.7255e-02, -8.3306e-02, -2.1537e-01, -9.4288e-02, -2.3242e-02,\n",
      "        -7.7021e-02, -4.0926e-02, -7.6483e-02, -7.2196e-02, -1.7926e-01,\n",
      "        -7.1119e-02, -1.3325e-01, -5.8335e-02, -1.2291e-01, -7.1089e-02,\n",
      "        -7.2170e-02, -7.3928e-02, -7.6036e-02, -1.0435e-01,  5.3482e-02,\n",
      "        -8.3764e-02, -4.4051e-02, -1.0348e-01, -8.8012e-02,  2.1830e-02,\n",
      "         8.2582e-02,  9.5901e-02, -3.2844e-02, -9.1494e-02, -4.8691e-02,\n",
      "        -7.3546e-02])), ('linear_layers.4.weight', tensor([[-0.1191, -0.1014, -0.1176,  ..., -0.0880,  0.0654,  0.1182],\n",
      "        [-0.0103, -0.0668, -0.1239,  ...,  0.0696,  0.0400,  0.0484],\n",
      "        [-0.0148, -0.0796,  0.0608,  ..., -0.1351,  0.0247, -0.1023],\n",
      "        ...,\n",
      "        [-0.2502, -0.0361, -0.0635,  ..., -0.0127, -0.1073,  0.1060],\n",
      "        [-0.2831,  0.1060,  0.0045,  ...,  0.0999, -0.0530,  0.1050],\n",
      "        [-0.0062,  0.0694, -0.1420,  ..., -0.0254, -0.0357,  0.1013]])), ('linear_layers.4.bias', tensor([-0.2700, -0.0527, -0.0586, -0.0527, -0.0499, -0.0453, -0.0386, -0.0637,\n",
      "        -0.0240, -0.0630, -0.0853,  0.0595, -0.0866, -0.0344, -0.0185, -0.0406,\n",
      "         0.0571, -0.0467, -0.0200, -0.0433, -0.1184, -0.0324, -0.0103, -0.1067,\n",
      "        -0.0230, -0.0167, -0.0854, -0.0832, -0.0549,  0.0414, -0.0393, -0.0646,\n",
      "        -0.0946, -0.1008, -0.0165, -0.0656, -0.0572, -0.0982, -0.0231, -0.0479,\n",
      "        -0.0500, -0.0445, -0.0639, -0.0332, -0.0426, -0.0359, -0.0748, -0.0582,\n",
      "        -0.0628, -0.0299, -0.0636,  0.0072, -0.0521, -0.0005, -0.0792, -0.0450,\n",
      "        -0.0943,  0.1234, -0.0209, -0.0415, -0.0083, -0.0725, -0.0304, -0.0890,\n",
      "        -0.0782, -0.0360, -0.0446, -0.0668,  0.0785, -0.0963, -0.0255, -0.0766,\n",
      "         0.0540, -0.0614, -0.1085, -0.0998, -0.0015, -0.0151, -0.0629, -0.0375,\n",
      "        -0.0789, -0.0362, -0.0727, -0.0796, -0.0021, -0.0847, -0.0114, -0.0281,\n",
      "        -0.0235, -0.0209, -0.0804, -0.0263, -0.0350,  0.0396,  0.0580, -0.0462,\n",
      "        -0.0183, -0.0325, -0.1034, -0.0559, -0.0898, -0.0899, -0.0263, -0.0471,\n",
      "         0.0909, -0.0420, -0.0373, -0.0632, -0.0285, -0.0034,  0.1065, -0.0665,\n",
      "        -0.0519, -0.0405, -0.0777, -0.0374, -0.0424,  0.0752, -0.0140, -0.0060,\n",
      "        -0.0447, -0.0523, -0.0094,  0.0255,  0.0006, -0.0666,  0.0449, -0.0750])), ('linear_layers.6.weight', tensor([[-0.3573,  0.1506,  0.0782,  ...,  0.0206, -0.0109, -0.0940],\n",
      "        [-0.0015,  0.0110, -0.1084,  ..., -0.0077,  0.1157,  0.1118],\n",
      "        [-0.2147,  0.0163,  0.0975,  ...,  0.0394, -0.1410,  0.1494],\n",
      "        ...,\n",
      "        [-0.0652,  0.0364, -0.1220,  ...,  0.1541,  0.0625, -0.0380],\n",
      "        [ 0.0376,  0.0142, -0.0568,  ..., -0.1345, -0.0720, -0.0333],\n",
      "        [-0.0099,  0.0640, -0.0926,  ..., -0.1291, -0.1741,  0.1530]])), ('linear_layers.6.bias', tensor([-1.8928e-02,  5.0399e-02, -4.5271e-03, -7.0643e-02, -3.5465e-02,\n",
      "        -5.6537e-02, -8.3563e-02, -3.8605e-02,  4.5977e-02,  8.3669e-02,\n",
      "        -3.7502e-02, -6.2555e-02, -5.3027e-02,  8.7976e-02, -6.8693e-02,\n",
      "        -6.6055e-02, -3.1998e-02, -1.8311e-02,  2.2844e-02, -1.0546e-01,\n",
      "         6.0922e-02, -2.6856e-02, -6.0569e-02,  7.8910e-02, -2.3260e-02,\n",
      "        -1.9787e-02, -3.8896e-02,  1.3152e-02, -2.0154e-02, -7.8500e-02,\n",
      "        -7.8559e-03, -4.3362e-02, -4.0418e-02, -4.1872e-02, -2.2747e-02,\n",
      "        -2.9909e-04, -2.2437e-02,  3.6989e-02, -3.5501e-01, -3.5493e-02,\n",
      "        -3.1756e-02, -5.7244e-02, -3.2839e-02, -4.1063e-02,  3.9838e-02,\n",
      "         4.6932e-02, -1.0378e-03, -4.0268e-02,  6.3239e-02,  4.7738e-02,\n",
      "        -9.8861e-02,  3.7543e-02, -4.5561e-02, -8.5127e-02,  7.7197e-02,\n",
      "         3.6462e-02, -9.7932e-02,  0.0000e+00, -4.3358e-02, -2.2589e-02,\n",
      "        -1.0767e-01,  1.0206e-02, -8.3889e-02, -9.0616e-02])), ('linear_layers.8.weight', tensor([[-2.6599e-01,  2.0503e-01, -2.7564e-01, -1.6637e-01, -1.7245e-02,\n",
      "          6.4991e-03, -1.8093e-01, -6.8424e-02,  1.1041e-01,  2.0909e-01,\n",
      "         -1.7990e-01,  2.5519e-01,  1.6655e-01,  2.6123e-01, -2.4478e-02,\n",
      "          2.1930e-02,  9.8215e-03, -2.7593e-01, -1.4036e-02, -1.2289e-02,\n",
      "          2.1758e-01, -1.4401e-01,  1.8046e-01,  2.8182e-01, -1.4114e-02,\n",
      "         -1.4028e-01,  7.2615e-02,  6.1657e-02, -2.6680e-01, -5.3010e-02,\n",
      "          4.5771e-02, -2.3817e-01, -2.0825e-01, -1.4907e-02, -1.9084e-01,\n",
      "         -2.8770e-03,  2.2693e-02,  2.8310e-02,  2.0487e-01,  5.7156e-02,\n",
      "          2.4410e-01, -1.9050e-01, -1.1861e-01, -1.2963e-01,  1.5679e-01,\n",
      "          4.7483e-02, -2.3954e-01,  1.8717e-02, -1.9537e-02,  2.5583e-01,\n",
      "          2.0228e-01,  2.0959e-01, -3.4993e-02, -4.1560e-03,  3.0532e-01,\n",
      "          1.3888e-01,  2.9505e-04, -6.4425e-02,  9.7892e-02, -1.6258e-01,\n",
      "         -3.6594e-03,  1.7753e-01, -2.9240e-02, -1.1242e-01]])), ('linear_layers.8.bias', tensor([0.0418]))]), 'metrics': {'train': {'MSELoss': 0.07525676896644605, 'MSE': 0.07525943, 'MAE': 0.15536465, 'accuracy': 0.9015998867336825}, 'val': {'MSELoss': 0.10161534058196205, 'MSE': 0.09938542, 'MAE': 0.17942443, 'accuracy': 0.8653624856156502}, 'test': {'MSELoss': 0.11622775793075561, 'MSE': 0.112697706, 'MAE': 0.19569044, 'accuracy': 0.852112676056338}}, 'epoch_ix': 160, 'architecture': 'MLPRegressorCustom(\\n  (sigmoid): Sigmoid()\\n  (linear_layers): Sequential(\\n    (0): Linear(in_features=737, out_features=512, bias=True)\\n    (1): ReLU()\\n    (2): Linear(in_features=512, out_features=256, bias=True)\\n    (3): ReLU()\\n    (4): Linear(in_features=256, out_features=128, bias=True)\\n    (5): ReLU()\\n    (6): Linear(in_features=128, out_features=64, bias=True)\\n    (7): ReLU()\\n    (8): Linear(in_features=64, out_features=1, bias=True)\\n  )\\n)', 'cms': {'train': array([[3285,  370],\n",
      "       [ 325, 3083]]), 'val': array([[778, 126],\n",
      "       [108, 726]]), 'test': array([[112,  32],\n",
      "       [ 10, 130]])}}\n"
     ]
    }
   ],
   "source": [
    "experiments = {}\n",
    "global_best_val_mse = float('inf')\n",
    "best_model_experiment_name = None\n",
    "best_model = None\n",
    "\n",
    "for i,learning_rate in enumerate(learning_rates):\n",
    "    for j,sizes in enumerate(hidden_sizes):\n",
    "        experiment_title = 'sex_MLPReg_' + datetime.now().strftime(\"%Y-%m-%d %H:%M:%S\")\n",
    "        experiment_num = i*len(hidden_sizes) + j\n",
    "        print(\"experiment\", experiment_num, \":\", experiment_title)\n",
    "\n",
    "        config = {'target_col': 'kbi_sex_assigned_at_birth',\n",
    "          'features': ['fmri', 'smri'],\n",
    "          'model': ['abcd.models.regression.MLPRegressor', 'MLPRegressorCustom'],\n",
    "          'batch_size': 64,\n",
    "          'nr_epochs': 250,\n",
    "\n",
    "          #tune\n",
    "          'lr': 1e-3,\n",
    "          'hidden_sizes': [256, 64]\n",
    "        }\n",
    "\n",
    "        config['hidden_sizes'] = sizes\n",
    "        config['lr'] = learning_rate\n",
    "\n",
    "        #define and train model\n",
    "        models_path = os.path.join(output_path, experiment_title, 'models')\n",
    "        model = MLPRegressorCustom(save_path=models_path, input_size=len(feature_cols), hidden_sizes=config['hidden_sizes']) #modfiy\n",
    "        model = model.to(device)\n",
    "        trainer = train_model(model, device, config, experiment_title, dataloaders, verbose=False, bucketing_scheme=bucketing_scheme)\n",
    "        details = trainer.export_best_model(config=config)\n",
    "        \n",
    "        #update best model\n",
    "        local_best_val_mse = details['metrics']['val']['MSE']\n",
    "        if local_best_val_mse < global_best_val_mse:\n",
    "            global_best_val_mse = local_best_val_mse\n",
    "            best_model = details\n",
    "            best_model_experiment_name = experiment_title\n",
    "\n",
    "        #save experiment\n",
    "        experiments[experiment_title] = details\n",
    "\n",
    "print(\"\\n\\nExperiment over. Best model:\", best_model_experiment_name)"
   ]
  }
 ],
 "metadata": {
  "kernelspec": {
   "display_name": "cns",
   "language": "python",
   "name": "python3"
  },
  "language_info": {
   "codemirror_mode": {
    "name": "ipython",
    "version": 3
   },
   "file_extension": ".py",
   "mimetype": "text/x-python",
   "name": "python",
   "nbconvert_exporter": "python",
   "pygments_lexer": "ipython3",
   "version": "3.11.3"
  },
  "orig_nbformat": 4
 },
 "nbformat": 4,
 "nbformat_minor": 2
}
