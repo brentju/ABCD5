{
 "cells": [
  {
   "cell_type": "markdown",
   "metadata": {},
   "source": [
    "# Predicting Sex Assigned at Birth with Regression"
   ]
  },
  {
   "cell_type": "code",
   "execution_count": 1,
   "metadata": {},
   "outputs": [],
   "source": [
    "%load_ext autoreload\n",
    "%autoreload 2"
   ]
  },
  {
   "cell_type": "code",
   "execution_count": 2,
   "metadata": {},
   "outputs": [
    {
     "name": "stdout",
     "output_type": "stream",
     "text": [
      "Intel MKL WARNING: Support of Intel(R) Streaming SIMD Extensions 4.2 (Intel(R) SSE4.2) enabled only processors has been deprecated. Intel oneAPI Math Kernel Library 2025.0 will require Intel(R) Advanced Vector Extensions (Intel(R) AVX) instructions.\n",
      "Intel MKL WARNING: Support of Intel(R) Streaming SIMD Extensions 4.2 (Intel(R) SSE4.2) enabled only processors has been deprecated. Intel oneAPI Math Kernel Library 2025.0 will require Intel(R) Advanced Vector Extensions (Intel(R) AVX) instructions.\n"
     ]
    }
   ],
   "source": [
    "import os\n",
    "import pandas as pd\n",
    "import numpy as np\n",
    "from collections import OrderedDict\n",
    "import torch\n",
    "torch.manual_seed(0)\n",
    "from torch import nn\n",
    "from torch.utils.data import DataLoader\n",
    "from torchvision import datasets\n",
    "from torchvision.transforms import ToTensor\n",
    "from tqdm import tqdm\n",
    "from abcd.local.paths import output_path\n",
    "from abcd.data.read_data import get_subjects_events_sf, subject_cols_to_events\n",
    "import abcd.data.VARS as VARS\n",
    "from abcd.data.define_splits import SITES, save_restore_sex_fmri_splits\n",
    "from abcd.data.divide_with_splits import divide_events_by_splits\n",
    "from abcd.data.var_tailoring.normalization import normalize_var\n",
    "from abcd.data.pytorch.get_dataset import PandasDataset\n",
    "\n",
    "#regresssion-specific imports\n",
    "from abcd.models.regression.MLPRegressor import MLPRegressor, LinearRegressor, MLPRegressor3, MLPRegressorCustom\n",
    "from sklearn.metrics import mean_absolute_error, mean_squared_error, r2_score\n",
    "from abcd.training.RegressorTrainer import RegressorTrainer\n",
    "from abcd.validation.metrics.regression import translate_to_classes\n",
    "\n",
    "#plotting\n",
    "import matplotlib.pyplot as plt\n",
    "import pygal\n",
    "from abcd.plotting.pygal.rendering import display_html\n",
    "from sklearn.metrics import confusion_matrix\n",
    "import seaborn as sns\n",
    "import sklearn.metrics as metrics\n",
    "from sklearn.metrics import confusion_matrix\n",
    "from abcd.plotting.seaborn.confusion_matrix import plot_confusion_matrix"
   ]
  },
  {
   "cell_type": "code",
   "execution_count": 3,
   "metadata": {},
   "outputs": [],
   "source": [
    "from abcd.analysis.regression import preprocess, evaluate_regression, train_model"
   ]
  },
  {
   "cell_type": "code",
   "execution_count": 4,
   "metadata": {},
   "outputs": [
    {
     "name": "stdout",
     "output_type": "stream",
     "text": [
      "Using cpu device\n"
     ]
    }
   ],
   "source": [
    "# Determine device for training (TODO: figure out why doesn't work with mps)\n",
    "device = \"cpu\" #(\"cuda\" if torch.cuda.is_available() else \"mps\" if torch.backends.mps.is_available() else \"cpu\")\n",
    "print(\"Using {} device\".format(device))"
   ]
  },
  {
   "cell_type": "code",
   "execution_count": 5,
   "metadata": {},
   "outputs": [
    {
     "name": "stdout",
     "output_type": "stream",
     "text": [
      "There are 9632 subjects and 18808 visits with imaging\n",
      "Leaving baseline visits, we have 9085 events\n",
      "\n",
      "4703 visits with Male target\n",
      "4382 visits with Female target\n",
      "\n",
      "Created splits\n",
      "Nr. events: 7063 train, 1738 val, 284 test\n",
      "\n",
      "Created dataloaders\n",
      "Shape and datatype of X: torch.Size([64, 737]), torch.float32\n",
      "Shape and datatype of y: torch.Size([64]), torch.float32\n"
     ]
    }
   ],
   "source": [
    "dataloaders, events_train, events_id_test, events_ood_test, feature_cols = preprocess('kbi_sex_assigned_at_birth', ['fmri', 'smri'], ood_site_num=0)"
   ]
  },
  {
   "cell_type": "markdown",
   "metadata": {},
   "source": [
    "# Linear Regression"
   ]
  },
  {
   "cell_type": "code",
   "execution_count": 6,
   "metadata": {},
   "outputs": [],
   "source": [
    "#modify\n",
    "config = {'target_col': 'kbi_sex_assigned_at_birth',\n",
    "          'features': ['fmri', 'smri'],\n",
    "          'model': ['abcd.models.regression.MLPRegressor', 'LinearRegressor'],\n",
    "          'lr': 0.01,\n",
    "          'batch_size': 64,\n",
    "          'nr_epochs': 150\n",
    "        }\n",
    "\n",
    "#leave unmodified\n",
    "experiment_title = 'ABCD_sex_' + config['model'][1] #for saving results\n",
    "models_path = os.path.join(output_path, experiment_title, 'models')"
   ]
  },
  {
   "cell_type": "code",
   "execution_count": 7,
   "metadata": {},
   "outputs": [
    {
     "name": "stdout",
     "output_type": "stream",
     "text": [
      "LinearRegressor(\n",
      "  (sigmoid): Sigmoid()\n",
      "  (linear1): Linear(in_features=737, out_features=1, bias=True)\n",
      "  (linear_layers): Linear(in_features=737, out_features=1, bias=True)\n",
      ")\n"
     ]
    },
    {
     "name": "stderr",
     "output_type": "stream",
     "text": [
      "  0%|          | 0/150 [00:00<?, ?it/s]"
     ]
    },
    {
     "name": "stdout",
     "output_type": "stream",
     "text": [
      "Epoch 0\n",
      "train MSELoss: 0.246 MAE: 0.488 MSE: 0.246 r2: 0.017\n",
      "val MSELoss: 0.246 MAE: 0.489 MSE: 0.245 r2: 0.017\n",
      "test MSELoss: 0.249 MAE: 0.494 MSE: 0.249 r2: 0.004\n",
      "Saved PyTorch model state LinearRegressor_epoch0.pth in /Users/carolinezanze/Desktop/abcd5_output/ABCD_sex_LinearRegressor/models\n",
      "Saved trainer state RegressorTrainer_optimizer_epoch0.pth in /Users/carolinezanze/Desktop/abcd5_output/ABCD_sex_LinearRegressor/results/states\n",
      "Progress stored in /Users/carolinezanze/Desktop/abcd5_output/ABCD_sex_LinearRegressor/results\n"
     ]
    },
    {
     "name": "stderr",
     "output_type": "stream",
     "text": [
      "  1%|          | 1/150 [00:00<00:33,  4.46it/s]"
     ]
    },
    {
     "name": "stdout",
     "output_type": "stream",
     "text": [
      "Ending epoch 1, loss 0.22123585413168143\n"
     ]
    },
    {
     "name": "stderr",
     "output_type": "stream",
     "text": [
      "  9%|▊         | 13/150 [00:01<00:10, 12.69it/s]"
     ]
    },
    {
     "name": "stdout",
     "output_type": "stream",
     "text": [
      "Epoch 10\n",
      "train MSELoss: 0.141 MAE: 0.299 MSE: 0.141 r2: 0.435\n",
      "val MSELoss: 0.146 MAE: 0.302 MSE: 0.144 r2: 0.422\n",
      "test MSELoss: 0.132 MAE: 0.303 MSE: 0.134 r2: 0.463\n",
      "Ending epoch 11, loss 0.1367466187289169\n"
     ]
    },
    {
     "name": "stderr",
     "output_type": "stream",
     "text": [
      " 14%|█▍        | 21/150 [00:01<00:13,  9.86it/s]"
     ]
    },
    {
     "name": "stdout",
     "output_type": "stream",
     "text": [
      "Epoch 20\n",
      "train MSELoss: 0.112 MAE: 0.258 MSE: 0.113 r2: 0.549\n",
      "val MSELoss: 0.120 MAE: 0.263 MSE: 0.117 r2: 0.530\n",
      "test MSELoss: 0.117 MAE: 0.271 MSE: 0.118 r2: 0.528\n",
      "Ending epoch 21, loss 0.11933042273462356\n"
     ]
    },
    {
     "name": "stderr",
     "output_type": "stream",
     "text": [
      " 21%|██        | 31/150 [00:02<00:14,  8.08it/s]"
     ]
    },
    {
     "name": "stdout",
     "output_type": "stream",
     "text": [
      "Epoch 30\n",
      "train MSELoss: 0.110 MAE: 0.244 MSE: 0.110 r2: 0.560\n",
      "val MSELoss: 0.118 MAE: 0.250 MSE: 0.116 r2: 0.537\n",
      "test MSELoss: 0.124 MAE: 0.264 MSE: 0.124 r2: 0.503\n",
      "Ending epoch 31, loss 0.11194168296348941\n"
     ]
    },
    {
     "name": "stderr",
     "output_type": "stream",
     "text": [
      " 27%|██▋       | 41/150 [00:03<00:10, 10.05it/s]"
     ]
    },
    {
     "name": "stdout",
     "output_type": "stream",
     "text": [
      "Epoch 40\n",
      "train MSELoss: 0.105 MAE: 0.230 MSE: 0.105 r2: 0.578\n",
      "val MSELoss: 0.116 MAE: 0.238 MSE: 0.114 r2: 0.543\n",
      "test MSELoss: 0.109 MAE: 0.243 MSE: 0.109 r2: 0.563\n",
      "Ending epoch 41, loss 0.11081546706122321\n"
     ]
    },
    {
     "name": "stderr",
     "output_type": "stream",
     "text": [
      " 34%|███▍      | 51/150 [00:04<00:10,  9.83it/s]"
     ]
    },
    {
     "name": "stdout",
     "output_type": "stream",
     "text": [
      "Epoch 50\n",
      "train MSELoss: 0.124 MAE: 0.239 MSE: 0.124 r2: 0.502\n",
      "val MSELoss: 0.135 MAE: 0.247 MSE: 0.134 r2: 0.465\n",
      "test MSELoss: 0.116 MAE: 0.242 MSE: 0.117 r2: 0.531\n",
      "Saved PyTorch model state LinearRegressor_epoch50.pth in /Users/carolinezanze/Desktop/abcd5_output/ABCD_sex_LinearRegressor/models\n",
      "Saved trainer state RegressorTrainer_optimizer_epoch50.pth in /Users/carolinezanze/Desktop/abcd5_output/ABCD_sex_LinearRegressor/results/states\n",
      "Progress stored in /Users/carolinezanze/Desktop/abcd5_output/ABCD_sex_LinearRegressor/results\n",
      "Ending epoch 51, loss 0.1057124298300829\n"
     ]
    },
    {
     "name": "stderr",
     "output_type": "stream",
     "text": [
      " 41%|████      | 61/150 [00:05<00:07, 11.85it/s]"
     ]
    },
    {
     "name": "stdout",
     "output_type": "stream",
     "text": [
      "Epoch 60\n",
      "train MSELoss: 0.131 MAE: 0.242 MSE: 0.131 r2: 0.474\n",
      "val MSELoss: 0.140 MAE: 0.251 MSE: 0.137 r2: 0.450\n",
      "test MSELoss: 0.154 MAE: 0.267 MSE: 0.154 r2: 0.383\n",
      "Ending epoch 61, loss 0.10561520666689486\n"
     ]
    },
    {
     "name": "stderr",
     "output_type": "stream",
     "text": [
      " 47%|████▋     | 71/150 [00:06<00:06, 12.15it/s]"
     ]
    },
    {
     "name": "stdout",
     "output_type": "stream",
     "text": [
      "Epoch 70\n",
      "train MSELoss: 0.116 MAE: 0.225 MSE: 0.115 r2: 0.538\n",
      "val MSELoss: 0.128 MAE: 0.234 MSE: 0.126 r2: 0.493\n",
      "test MSELoss: 0.113 MAE: 0.230 MSE: 0.113 r2: 0.548\n",
      "Ending epoch 71, loss 0.09684459076405645\n"
     ]
    },
    {
     "name": "stderr",
     "output_type": "stream",
     "text": [
      " 54%|█████▍    | 81/150 [00:07<00:05, 11.81it/s]"
     ]
    },
    {
     "name": "stdout",
     "output_type": "stream",
     "text": [
      "Epoch 80\n",
      "train MSELoss: 0.114 MAE: 0.223 MSE: 0.114 r2: 0.543\n",
      "val MSELoss: 0.125 MAE: 0.233 MSE: 0.122 r2: 0.509\n",
      "test MSELoss: 0.140 MAE: 0.250 MSE: 0.139 r2: 0.443\n",
      "Ending epoch 81, loss 0.0978578562336462\n"
     ]
    },
    {
     "name": "stderr",
     "output_type": "stream",
     "text": [
      " 61%|██████    | 91/150 [00:07<00:05, 11.78it/s]"
     ]
    },
    {
     "name": "stdout",
     "output_type": "stream",
     "text": [
      "Epoch 90\n",
      "train MSELoss: 0.102 MAE: 0.209 MSE: 0.102 r2: 0.590\n",
      "val MSELoss: 0.115 MAE: 0.221 MSE: 0.112 r2: 0.550\n",
      "test MSELoss: 0.130 MAE: 0.238 MSE: 0.128 r2: 0.486\n",
      "Ending epoch 91, loss 0.09600888581963272\n"
     ]
    },
    {
     "name": "stderr",
     "output_type": "stream",
     "text": [
      " 67%|██████▋   | 101/150 [00:08<00:04, 11.28it/s]"
     ]
    },
    {
     "name": "stdout",
     "output_type": "stream",
     "text": [
      "Epoch 100\n",
      "train MSELoss: 0.106 MAE: 0.211 MSE: 0.105 r2: 0.578\n",
      "val MSELoss: 0.118 MAE: 0.223 MSE: 0.115 r2: 0.537\n",
      "test MSELoss: 0.135 MAE: 0.241 MSE: 0.134 r2: 0.464\n",
      "Saved PyTorch model state LinearRegressor_epoch100.pth in /Users/carolinezanze/Desktop/abcd5_output/ABCD_sex_LinearRegressor/models\n",
      "Saved trainer state RegressorTrainer_optimizer_epoch100.pth in /Users/carolinezanze/Desktop/abcd5_output/ABCD_sex_LinearRegressor/results/states\n",
      "Progress stored in /Users/carolinezanze/Desktop/abcd5_output/ABCD_sex_LinearRegressor/results\n",
      "Ending epoch 101, loss 0.10056656797055726\n"
     ]
    },
    {
     "name": "stderr",
     "output_type": "stream",
     "text": [
      " 74%|███████▍  | 111/150 [00:09<00:03, 11.77it/s]"
     ]
    },
    {
     "name": "stdout",
     "output_type": "stream",
     "text": [
      "Epoch 110\n",
      "train MSELoss: 0.098 MAE: 0.199 MSE: 0.098 r2: 0.607\n",
      "val MSELoss: 0.112 MAE: 0.212 MSE: 0.109 r2: 0.562\n",
      "test MSELoss: 0.123 MAE: 0.225 MSE: 0.121 r2: 0.514\n",
      "Ending epoch 111, loss 0.10021506065318177\n"
     ]
    },
    {
     "name": "stderr",
     "output_type": "stream",
     "text": [
      " 81%|████████  | 121/150 [00:10<00:02, 12.45it/s]"
     ]
    },
    {
     "name": "stdout",
     "output_type": "stream",
     "text": [
      "Epoch 120\n",
      "train MSELoss: 0.091 MAE: 0.190 MSE: 0.091 r2: 0.635\n",
      "val MSELoss: 0.108 MAE: 0.203 MSE: 0.106 r2: 0.575\n",
      "test MSELoss: 0.104 MAE: 0.207 MSE: 0.103 r2: 0.589\n",
      "Ending epoch 121, loss 0.09503912392097551\n"
     ]
    },
    {
     "name": "stderr",
     "output_type": "stream",
     "text": [
      " 87%|████████▋ | 131/150 [00:11<00:01, 11.71it/s]"
     ]
    },
    {
     "name": "stdout",
     "output_type": "stream",
     "text": [
      "Epoch 130\n",
      "train MSELoss: 0.088 MAE: 0.187 MSE: 0.088 r2: 0.648\n",
      "val MSELoss: 0.104 MAE: 0.201 MSE: 0.102 r2: 0.593\n",
      "test MSELoss: 0.117 MAE: 0.216 MSE: 0.114 r2: 0.543\n",
      "Ending epoch 131, loss 0.10139508397729548\n"
     ]
    },
    {
     "name": "stderr",
     "output_type": "stream",
     "text": [
      " 94%|█████████▍| 141/150 [00:11<00:00, 11.81it/s]"
     ]
    },
    {
     "name": "stdout",
     "output_type": "stream",
     "text": [
      "Epoch 140\n",
      "train MSELoss: 0.086 MAE: 0.185 MSE: 0.086 r2: 0.656\n",
      "val MSELoss: 0.103 MAE: 0.200 MSE: 0.101 r2: 0.597\n",
      "test MSELoss: 0.115 MAE: 0.215 MSE: 0.113 r2: 0.548\n",
      "Ending epoch 141, loss 0.09264761350444846\n"
     ]
    },
    {
     "name": "stderr",
     "output_type": "stream",
     "text": [
      "100%|██████████| 150/150 [00:12<00:00, 11.87it/s]\n"
     ]
    },
    {
     "name": "stdout",
     "output_type": "stream",
     "text": [
      "Finished training\n",
      "Epoch 150\n",
      "train MSELoss: 0.085 MAE: 0.182 MSE: 0.085 r2: 0.659\n",
      "val MSELoss: 0.103 MAE: 0.198 MSE: 0.101 r2: 0.594\n",
      "test MSELoss: 0.106 MAE: 0.205 MSE: 0.104 r2: 0.584\n",
      "Saved PyTorch model state LinearRegressor_epoch150.pth in /Users/carolinezanze/Desktop/abcd5_output/ABCD_sex_LinearRegressor/models\n",
      "Saved trainer state RegressorTrainer_optimizer_epoch150.pth in /Users/carolinezanze/Desktop/abcd5_output/ABCD_sex_LinearRegressor/results/states\n",
      "Progress stored in /Users/carolinezanze/Desktop/abcd5_output/ABCD_sex_LinearRegressor/results\n",
      "\n",
      "\n",
      "id test\n",
      "Mean absolute error (MAE):  0.19783905\n",
      "Mean squared error (MSE):  0.10144282\n",
      "Accuracy for Male class: 0.86\n",
      "Accuracy for Female class: 0.88\n",
      "\n",
      "ood test\n",
      "Mean absolute error (MAE):  0.20496145\n",
      "Mean squared error (MSE):  0.10386787\n",
      "Accuracy for Male class: 0.86\n",
      "Accuracy for Female class: 0.82\n"
     ]
    },
    {
     "data": {
      "text/plain": [
       "{'mae_id': 0.19783905,\n",
       " 'mse_id': 0.10144282,\n",
       " 'male_acc_id': 0.855779427359491,\n",
       " 'female_acc_id': 0.8779874213836478,\n",
       " 'cm_id': array([[807,  97],\n",
       "        [136, 698]]),\n",
       " 'mae_ood': 0.20496145,\n",
       " 'mse_ood': 0.10386787,\n",
       " 'male_acc_ood': 0.855072463768116,\n",
       " 'female_acc_ood': 0.821917808219178,\n",
       " 'cm_ood': array([[118,  26],\n",
       "        [ 20, 120]])}"
      ]
     },
     "execution_count": 7,
     "metadata": {},
     "output_type": "execute_result"
    },
    {
     "data": {
      "image/png": "[encoded data removed]",
      "text/plain": [
       "<Figure size 640x480 with 2 Axes>"
      ]
     },
     "metadata": {},
     "output_type": "display_data"
    },
    {
     "data": {
      "image/png": "[encoded data removed]",
      "text/plain": [
       "<Figure size 525x375 with 2 Axes>"
      ]
     },
     "metadata": {},
     "output_type": "display_data"
    }
   ],
   "source": [
    "model = LinearRegressor(save_path=models_path, input_size=len(feature_cols)) #modfiy\n",
    "\n",
    "model = model.to(device)\n",
    "print(model)\n",
    "train_model(model, device, config, experiment_title, dataloaders, verbose=True)\n",
    "evaluate_regression(model, events_id_test, events_ood_test, config['target_col'], feature_cols, experiment_title=experiment_title, show_cm=True)"
   ]
  },
  {
   "cell_type": "markdown",
   "metadata": {},
   "source": [
    "# MLP3 with custom"
   ]
  },
  {
   "cell_type": "code",
   "execution_count": null,
   "metadata": {},
   "outputs": [],
   "source": [
    "#modify\n",
    "exp_num = 0\n",
    "experiment_title = 'ABCD_sex_MLPReg_' + str(exp_num) #for saving results\n",
    "print(experiment_title)\n",
    "\n",
    "config = {'target_col': 'kbi_sex_assigned_at_birth',\n",
    "          'features': ['fmri', 'smri'],\n",
    "          'model': ['abcd.models.regression.MLPRegressor', 'MLPRegressorCustom'],\n",
    "          'lr': 1e-3,\n",
    "          'batch_size': 64,\n",
    "          'nr_epochs': 150,\n",
    "\n",
    "          #added for experimentation\n",
    "          'experiment_title': experiment_title,\n",
    "          'num_layers': 3,\n",
    "          'hidden_sizes': [256, 64]\n",
    "        }\n",
    "\n",
    "#leave unmodified\n",
    "models_path = os.path.join(output_path, experiment_title, 'models')"
   ]
  },
  {
   "cell_type": "code",
   "execution_count": null,
   "metadata": {},
   "outputs": [],
   "source": [
    "model = MLPRegressorCustom(save_path=models_path, input_size=len(feature_cols), num_layers=config['num_layers'], hidden_sizes=config['hidden_sizes']) #modfiy\n",
    "\n",
    "model = model.to(device)\n",
    "print(model)\n",
    "train_model(model, device, config, experiment_title, dataloaders, verbose=False)\n",
    "evals = evaluate_regression(model, events_id_test, events_ood_test, config['target_col'], feature_cols, experiment_title=experiment_title, show_cm=False)"
   ]
  },
  {
   "cell_type": "markdown",
   "metadata": {},
   "source": [
    "# Find best model"
   ]
  },
  {
   "cell_type": "code",
   "execution_count": 8,
   "metadata": {},
   "outputs": [],
   "source": [
    "hidden_sizes = [\n",
    "    (128, 64),\n",
    "    (256, 128, 64), \n",
    "    (512, 256, 128, 64),\n",
    "    (1024, 512, 256, 128, 64),\n",
    "]\n",
    "\n",
    "learning_rates = [1e-3, 1e-5, 1e-7]"
   ]
  },
  {
   "cell_type": "code",
   "execution_count": 9,
   "metadata": {},
   "outputs": [
    {
     "name": "stdout",
     "output_type": "stream",
     "text": [
      "experiment 0\n",
      "ABCD_sex_MLPReg_0 : learning rate = 0.001 , hidden sizes = (128, 64)\n"
     ]
    },
    {
     "name": "stderr",
     "output_type": "stream",
     "text": [
      "100%|██████████| 150/150 [00:45<00:00,  3.30it/s]\n"
     ]
    },
    {
     "name": "stdout",
     "output_type": "stream",
     "text": [
      "Accuracy for Male class: 0.92\n",
      "Accuracy for Female class: 0.80\n",
      "Accuracy for Male class: 0.94\n",
      "Accuracy for Female class: 0.76\n",
      "{'mae_id': 0.19628565, 'mse_id': 0.1103402, 'male_acc_id': 0.9172056921086675, 'female_acc_id': 0.7979274611398963, 'cm_id': array([[709, 195],\n",
      "       [ 64, 770]]), 'mae_ood': 0.22228779, 'mse_ood': 0.13385461, 'male_acc_ood': 0.9357798165137615, 'female_acc_ood': 0.76, 'cm_ood': array([[102,  42],\n",
      "       [  7, 133]])} \n",
      "\n",
      "experiment 1\n",
      "ABCD_sex_MLPReg_1 : learning rate = 0.001 , hidden sizes = (256, 128, 64)\n"
     ]
    },
    {
     "name": "stderr",
     "output_type": "stream",
     "text": [
      "100%|██████████| 150/150 [01:07<00:00,  2.23it/s]\n"
     ]
    },
    {
     "name": "stdout",
     "output_type": "stream",
     "text": [
      "Accuracy for Male class: 0.86\n",
      "Accuracy for Female class: 0.85\n",
      "Accuracy for Male class: 0.86\n",
      "Accuracy for Female class: 0.81\n",
      "{'mae_id': 0.17821096, 'mse_id': 0.10357069, 'male_acc_id': 0.8605927552140505, 'female_acc_id': 0.8548972188633616, 'cm_id': array([[784, 120],\n",
      "       [127, 707]]), 'mae_ood': 0.19305934, 'mse_ood': 0.11169787, 'male_acc_ood': 0.8646616541353384, 'female_acc_ood': 0.8079470198675497, 'cm_ood': array([[115,  29],\n",
      "       [ 18, 122]])} \n",
      "\n",
      "experiment 2\n",
      "ABCD_sex_MLPReg_2 : learning rate = 0.001 , hidden sizes = (512, 256, 128, 64)\n"
     ]
    },
    {
     "name": "stderr",
     "output_type": "stream",
     "text": [
      "100%|██████████| 150/150 [01:46<00:00,  1.41it/s]\n"
     ]
    },
    {
     "name": "stdout",
     "output_type": "stream",
     "text": [
      "Accuracy for Male class: 0.88\n",
      "Accuracy for Female class: 0.84\n",
      "Accuracy for Male class: 0.92\n",
      "Accuracy for Female class: 0.77\n",
      "{'mae_id': 0.21562906, 'mse_id': 0.101179734, 'male_acc_id': 0.8828932261768083, 'female_acc_id': 0.8442906574394463, 'cm_id': array([[769, 135],\n",
      "       [102, 732]]), 'mae_ood': 0.23928812, 'mse_ood': 0.11823708, 'male_acc_ood': 0.9210526315789473, 'female_acc_ood': 0.7705882352941177, 'cm_ood': array([[105,  39],\n",
      "       [  9, 131]])} \n",
      "\n",
      "experiment 3\n",
      "ABCD_sex_MLPReg_3 : learning rate = 0.001 , hidden sizes = (1024, 512, 256, 128, 64)\n"
     ]
    },
    {
     "name": "stderr",
     "output_type": "stream",
     "text": [
      "100%|██████████| 150/150 [03:04<00:00,  1.23s/it]\n"
     ]
    },
    {
     "name": "stdout",
     "output_type": "stream",
     "text": [
      "Accuracy for Male class: 0.83\n",
      "Accuracy for Female class: 0.89\n",
      "Accuracy for Male class: 0.83\n",
      "Accuracy for Female class: 0.85\n",
      "{'mae_id': 0.18931459, 'mse_id': 0.10817008, 'male_acc_id': 0.8289738430583501, 'female_acc_id': 0.8924731182795699, 'cm_id': array([[824,  80],\n",
      "       [170, 664]]), 'mae_ood': 0.20157844, 'mse_ood': 0.11100997, 'male_acc_ood': 0.8322147651006712, 'female_acc_ood': 0.8518518518518519, 'cm_ood': array([[124,  20],\n",
      "       [ 25, 115]])} \n",
      "\n",
      "experiment 4\n",
      "ABCD_sex_MLPReg_4 : learning rate = 1e-05 , hidden sizes = (128, 64)\n"
     ]
    },
    {
     "name": "stderr",
     "output_type": "stream",
     "text": [
      "100%|██████████| 150/150 [00:47<00:00,  3.18it/s]\n"
     ]
    },
    {
     "name": "stdout",
     "output_type": "stream",
     "text": [
      "Accuracy for Male class: 0.81\n",
      "Accuracy for Female class: 0.83\n",
      "Accuracy for Male class: 0.84\n",
      "Accuracy for Female class: 0.79\n",
      "{'mae_id': 0.30205873, 'mse_id': 0.13336843, 'male_acc_id': 0.8079748163693599, 'female_acc_id': 0.8292993630573249, 'cm_id': array([[770, 134],\n",
      "       [183, 651]]), 'mae_ood': 0.31230828, 'mse_ood': 0.13537027, 'male_acc_ood': 0.835820895522388, 'female_acc_ood': 0.7866666666666666, 'cm_ood': array([[112,  32],\n",
      "       [ 22, 118]])} \n",
      "\n",
      "experiment 5\n",
      "ABCD_sex_MLPReg_5 : learning rate = 1e-05 , hidden sizes = (256, 128, 64)\n"
     ]
    },
    {
     "name": "stderr",
     "output_type": "stream",
     "text": [
      "100%|██████████| 150/150 [01:08<00:00,  2.18it/s]\n"
     ]
    },
    {
     "name": "stdout",
     "output_type": "stream",
     "text": [
      "Accuracy for Male class: 0.86\n",
      "Accuracy for Female class: 0.83\n",
      "Accuracy for Male class: 0.89\n",
      "Accuracy for Female class: 0.77\n",
      "{'mae_id': 0.25214586, 'mse_id': 0.11498807, 'male_acc_id': 0.8552188552188552, 'female_acc_id': 0.8323494687131051, 'cm_id': array([[762, 142],\n",
      "       [129, 705]]), 'mae_ood': 0.2735093, 'mse_ood': 0.1259256, 'male_acc_ood': 0.8916666666666667, 'female_acc_ood': 0.774390243902439, 'cm_ood': array([[107,  37],\n",
      "       [ 13, 127]])} \n",
      "\n",
      "experiment 6\n",
      "ABCD_sex_MLPReg_6 : learning rate = 1e-05 , hidden sizes = (512, 256, 128, 64)\n"
     ]
    },
    {
     "name": "stderr",
     "output_type": "stream",
     "text": [
      "100%|██████████| 150/150 [01:52<00:00,  1.33it/s]\n"
     ]
    },
    {
     "name": "stdout",
     "output_type": "stream",
     "text": [
      "Accuracy for Male class: 0.87\n",
      "Accuracy for Female class: 0.86\n",
      "Accuracy for Male class: 0.86\n",
      "Accuracy for Female class: 0.80\n",
      "{'mae_id': 0.21406958, 'mse_id': 0.10527472, 'male_acc_id': 0.8683628318584071, 'female_acc_id': 0.8573141486810552, 'cm_id': array([[785, 119],\n",
      "       [119, 715]]), 'mae_ood': 0.23501062, 'mse_ood': 0.11622472, 'male_acc_ood': 0.8571428571428571, 'female_acc_ood': 0.8013245033112583, 'cm_ood': array([[114,  30],\n",
      "       [ 19, 121]])} \n",
      "\n",
      "experiment 7\n",
      "ABCD_sex_MLPReg_7 : learning rate = 1e-05 , hidden sizes = (1024, 512, 256, 128, 64)\n"
     ]
    },
    {
     "name": "stderr",
     "output_type": "stream",
     "text": [
      "100%|██████████| 150/150 [03:07<00:00,  1.25s/it]\n"
     ]
    },
    {
     "name": "stdout",
     "output_type": "stream",
     "text": [
      "Accuracy for Male class: 0.87\n",
      "Accuracy for Female class: 0.83\n",
      "Accuracy for Male class: 0.87\n",
      "Accuracy for Female class: 0.78\n",
      "{'mae_id': 0.18921182, 'mse_id': 0.107275404, 'male_acc_id': 0.8729792147806005, 'female_acc_id': 0.8302752293577982, 'cm_id': array([[756, 148],\n",
      "       [110, 724]]), 'mae_ood': 0.22310063, 'mse_ood': 0.12921062, 'male_acc_ood': 0.873015873015873, 'female_acc_ood': 0.7848101265822784, 'cm_ood': array([[110,  34],\n",
      "       [ 16, 124]])} \n",
      "\n",
      "experiment 8\n",
      "ABCD_sex_MLPReg_8 : learning rate = 1e-07 , hidden sizes = (128, 64)\n"
     ]
    },
    {
     "name": "stderr",
     "output_type": "stream",
     "text": [
      "100%|██████████| 150/150 [00:46<00:00,  3.25it/s]\n"
     ]
    },
    {
     "name": "stdout",
     "output_type": "stream",
     "text": [
      "Accuracy for Male class: 0.66\n",
      "Accuracy for Female class: 0.73\n",
      "Accuracy for Male class: 0.63\n",
      "Accuracy for Female class: 0.77\n",
      "{'mae_id': 0.47531164, 'mse_id': 0.2285499, 'male_acc_id': 0.6595174262734584, 'female_acc_id': 0.7318255250403877, 'cm_id': array([[738, 166],\n",
      "       [381, 453]]), 'mae_ood': 0.47680497, 'mse_ood': 0.22953705, 'male_acc_ood': 0.634020618556701, 'female_acc_ood': 0.7666666666666667, 'cm_ood': array([[123,  21],\n",
      "       [ 71,  69]])} \n",
      "\n",
      "experiment 9\n",
      "ABCD_sex_MLPReg_9 : learning rate = 1e-07 , hidden sizes = (256, 128, 64)\n"
     ]
    },
    {
     "name": "stderr",
     "output_type": "stream",
     "text": [
      "100%|██████████| 150/150 [01:09<00:00,  2.17it/s]\n"
     ]
    },
    {
     "name": "stdout",
     "output_type": "stream",
     "text": [
      "Accuracy for Male class: 0.64\n",
      "Accuracy for Female class: 0.66\n",
      "Accuracy for Male class: 0.56\n",
      "Accuracy for Female class: 0.84\n",
      "{'mae_id': 0.47494453, 'mse_id': 0.22935955, 'male_acc_id': 0.6415458937198067, 'female_acc_id': 0.6586059743954481, 'cm_id': array([[664, 240],\n",
      "       [371, 463]]), 'mae_ood': 0.48062128, 'mse_ood': 0.23508652, 'male_acc_ood': 0.5609756097560976, 'female_acc_ood': 0.8421052631578947, 'cm_ood': array([[138,   6],\n",
      "       [108,  32]])} \n",
      "\n",
      "experiment 10\n",
      "ABCD_sex_MLPReg_10 : learning rate = 1e-07 , hidden sizes = (512, 256, 128, 64)\n"
     ]
    },
    {
     "name": "stderr",
     "output_type": "stream",
     "text": [
      "100%|██████████| 150/150 [01:47<00:00,  1.39it/s]\n"
     ]
    },
    {
     "name": "stdout",
     "output_type": "stream",
     "text": [
      "Accuracy for Male class: 0.69\n",
      "Accuracy for Female class: 0.73\n",
      "Accuracy for Male class: 0.68\n",
      "Accuracy for Female class: 0.82\n",
      "{'mae_id': 0.45959663, 'mse_id': 0.21701917, 'male_acc_id': 0.6881616939364774, 'female_acc_id': 0.7296137339055794, 'cm_id': array([[715, 189],\n",
      "       [324, 510]]), 'mae_ood': 0.46404433, 'mse_ood': 0.21928228, 'male_acc_ood': 0.6847826086956522, 'female_acc_ood': 0.82, 'cm_ood': array([[126,  18],\n",
      "       [ 58,  82]])} \n",
      "\n",
      "experiment 11\n",
      "ABCD_sex_MLPReg_11 : learning rate = 1e-07 , hidden sizes = (1024, 512, 256, 128, 64)\n"
     ]
    },
    {
     "name": "stderr",
     "output_type": "stream",
     "text": [
      "  6%|▌         | 9/150 [00:12<03:16,  1.39s/it]\n"
     ]
    },
    {
     "ename": "KeyboardInterrupt",
     "evalue": "",
     "output_type": "error",
     "traceback": [
      "\u001b[0;31m---------------------------------------------------------------------------\u001b[0m",
      "\u001b[0;31mKeyboardInterrupt\u001b[0m                         Traceback (most recent call last)",
      "Cell \u001b[0;32mIn[9], line 28\u001b[0m\n\u001b[1;32m     26\u001b[0m model \u001b[39m=\u001b[39m MLPRegressorCustom(save_path\u001b[39m=\u001b[39mmodels_path, input_size\u001b[39m=\u001b[39m\u001b[39mlen\u001b[39m(feature_cols), num_layers\u001b[39m=\u001b[39mconfig[\u001b[39m'\u001b[39m\u001b[39mnum_layers\u001b[39m\u001b[39m'\u001b[39m], hidden_sizes\u001b[39m=\u001b[39mconfig[\u001b[39m'\u001b[39m\u001b[39mhidden_sizes\u001b[39m\u001b[39m'\u001b[39m])\n\u001b[1;32m     27\u001b[0m model \u001b[39m=\u001b[39m model\u001b[39m.\u001b[39mto(device)\n\u001b[0;32m---> 28\u001b[0m train_model(model, device, config, experiment_title, dataloaders, verbose\u001b[39m=\u001b[39;49m\u001b[39mFalse\u001b[39;49;00m)\n\u001b[1;32m     30\u001b[0m \u001b[39m#evaluate model\u001b[39;00m\n\u001b[1;32m     31\u001b[0m evals \u001b[39m=\u001b[39m evaluate_regression(model, events_id_test, events_ood_test, config[\u001b[39m'\u001b[39m\u001b[39mtarget_col\u001b[39m\u001b[39m'\u001b[39m], feature_cols, experiment_title\u001b[39m=\u001b[39mexperiment_title, show_cm\u001b[39m=\u001b[39m\u001b[39mFalse\u001b[39;00m)\n",
      "File \u001b[0;32m~/Desktop/ABCD5/abcd/analysis/regression.py:45\u001b[0m, in \u001b[0;36mtrain_model\u001b[0;34m(model, device, config, experiment_title, dataloaders, verbose)\u001b[0m\n\u001b[1;32m     42\u001b[0m trainer \u001b[39m=\u001b[39m RegressorTrainer(trainer_path, device, optimizer, loss_f)\n\u001b[1;32m     44\u001b[0m \u001b[39m# Train model\u001b[39;00m\n\u001b[0;32m---> 45\u001b[0m trainer\u001b[39m.\u001b[39;49mtrain(model, dataloaders[\u001b[39m'\u001b[39;49m\u001b[39mtrain\u001b[39;49m\u001b[39m'\u001b[39;49m], dataloaders, \n\u001b[1;32m     46\u001b[0m             nr_epochs\u001b[39m=\u001b[39;49mconfig[\u001b[39m'\u001b[39;49m\u001b[39mnr_epochs\u001b[39;49m\u001b[39m'\u001b[39;49m], starting_from_epoch\u001b[39m=\u001b[39;49m\u001b[39m0\u001b[39;49m,\n\u001b[1;32m     47\u001b[0m             print_loss_every\u001b[39m=\u001b[39;49m\u001b[39m10\u001b[39;49m, eval_every\u001b[39m=\u001b[39;49m\u001b[39m10\u001b[39;49m, export_every\u001b[39m=\u001b[39;49m\u001b[39m50\u001b[39;49m, verbose\u001b[39m=\u001b[39;49mverbose)\n",
      "File \u001b[0;32m~/Desktop/ABCD5/abcd/training/Trainer.py:53\u001b[0m, in \u001b[0;36mTrainer.train\u001b[0;34m(self, model, train_dataloader, eval_dataloaders, nr_epochs, starting_from_epoch, print_loss_every, eval_every, export_every, verbose)\u001b[0m\n\u001b[1;32m     51\u001b[0m \u001b[39mif\u001b[39;00m \u001b[39mself\u001b[39m\u001b[39m.\u001b[39mseed \u001b[39mis\u001b[39;00m \u001b[39mnot\u001b[39;00m \u001b[39mNone\u001b[39;00m:\n\u001b[1;32m     52\u001b[0m     train_dataloader\u001b[39m.\u001b[39mgenerator\u001b[39m.\u001b[39mmanual_seed(\u001b[39mself\u001b[39m\u001b[39m.\u001b[39mseed\u001b[39m+\u001b[39mt)            \n\u001b[0;32m---> 53\u001b[0m loss_value \u001b[39m=\u001b[39m \u001b[39mself\u001b[39;49m\u001b[39m.\u001b[39;49mtrain_epoch(model, train_dataloader)\n\u001b[1;32m     54\u001b[0m \u001b[39mif\u001b[39;00m t \u001b[39m%\u001b[39m print_loss_every \u001b[39m==\u001b[39m \u001b[39m0\u001b[39m \u001b[39mand\u001b[39;00m verbose:\n\u001b[1;32m     55\u001b[0m     \u001b[39mprint\u001b[39m(\u001b[39m\"\u001b[39m\u001b[39mEnding epoch \u001b[39m\u001b[39m{}\u001b[39;00m\u001b[39m, loss \u001b[39m\u001b[39m{}\u001b[39;00m\u001b[39m\"\u001b[39m\u001b[39m.\u001b[39mformat(t\u001b[39m+\u001b[39m\u001b[39m1\u001b[39m, loss_value))\n",
      "File \u001b[0;32m~/Desktop/ABCD5/abcd/training/Trainer.py:70\u001b[0m, in \u001b[0;36mTrainer.train_epoch\u001b[0;34m(self, model, dataloader, records_per_epoch)\u001b[0m\n\u001b[1;32m     67\u001b[0m \u001b[39mself\u001b[39m\u001b[39m.\u001b[39moptimizer\u001b[39m.\u001b[39mzero_grad()\n\u001b[1;32m     68\u001b[0m \u001b[39mfor\u001b[39;00m _, (X, y) \u001b[39min\u001b[39;00m \u001b[39menumerate\u001b[39m(dataloader):\n\u001b[1;32m     69\u001b[0m     \u001b[39m# Backpropagation step\u001b[39;00m\n\u001b[0;32m---> 70\u001b[0m     pred \u001b[39m=\u001b[39m model(X)\n\u001b[1;32m     71\u001b[0m     loss \u001b[39m=\u001b[39m \u001b[39mself\u001b[39m\u001b[39m.\u001b[39mloss_f(pred, y)\n\u001b[1;32m     72\u001b[0m     loss\u001b[39m.\u001b[39mbackward()\n",
      "File \u001b[0;32m~/anaconda3/envs/cns/lib/python3.11/site-packages/torch/nn/modules/module.py:1501\u001b[0m, in \u001b[0;36mModule._call_impl\u001b[0;34m(self, *args, **kwargs)\u001b[0m\n\u001b[1;32m   1496\u001b[0m \u001b[39m# If we don't have any hooks, we want to skip the rest of the logic in\u001b[39;00m\n\u001b[1;32m   1497\u001b[0m \u001b[39m# this function, and just call forward.\u001b[39;00m\n\u001b[1;32m   1498\u001b[0m \u001b[39mif\u001b[39;00m \u001b[39mnot\u001b[39;00m (\u001b[39mself\u001b[39m\u001b[39m.\u001b[39m_backward_hooks \u001b[39mor\u001b[39;00m \u001b[39mself\u001b[39m\u001b[39m.\u001b[39m_backward_pre_hooks \u001b[39mor\u001b[39;00m \u001b[39mself\u001b[39m\u001b[39m.\u001b[39m_forward_hooks \u001b[39mor\u001b[39;00m \u001b[39mself\u001b[39m\u001b[39m.\u001b[39m_forward_pre_hooks\n\u001b[1;32m   1499\u001b[0m         \u001b[39mor\u001b[39;00m _global_backward_pre_hooks \u001b[39mor\u001b[39;00m _global_backward_hooks\n\u001b[1;32m   1500\u001b[0m         \u001b[39mor\u001b[39;00m _global_forward_hooks \u001b[39mor\u001b[39;00m _global_forward_pre_hooks):\n\u001b[0;32m-> 1501\u001b[0m     \u001b[39mreturn\u001b[39;00m forward_call(\u001b[39m*\u001b[39;49margs, \u001b[39m*\u001b[39;49m\u001b[39m*\u001b[39;49mkwargs)\n\u001b[1;32m   1502\u001b[0m \u001b[39m# Do not call functions when jit is used\u001b[39;00m\n\u001b[1;32m   1503\u001b[0m full_backward_hooks, non_full_backward_hooks \u001b[39m=\u001b[39m [], []\n",
      "File \u001b[0;32m~/Desktop/ABCD5/abcd/models/regression/MLPRegressor.py:23\u001b[0m, in \u001b[0;36mMLPRegressor.forward\u001b[0;34m(self, x)\u001b[0m\n\u001b[1;32m     21\u001b[0m \u001b[39m\u001b[39m\u001b[39m'''Forward pass for MLP regression model'''\u001b[39;00m\n\u001b[1;32m     22\u001b[0m x \u001b[39m=\u001b[39m \u001b[39mself\u001b[39m\u001b[39m.\u001b[39mlinear_layers(x)\n\u001b[0;32m---> 23\u001b[0m x \u001b[39m=\u001b[39m \u001b[39mself\u001b[39;49m\u001b[39m.\u001b[39;49msigmoid(x)\u001b[39m.\u001b[39;49msqueeze()\n\u001b[1;32m     24\u001b[0m \u001b[39mreturn\u001b[39;00m x\n",
      "\u001b[0;31mKeyboardInterrupt\u001b[0m: "
     ]
    }
   ],
   "source": [
    "#IMPORTANT: change last_exp_num\n",
    "last_exp_num = 0\n",
    "experiments = {}\n",
    "\n",
    "for i,learning_rate in enumerate(learning_rates):\n",
    "    for j,sizes in enumerate(hidden_sizes):\n",
    "        #define experiment parameters\n",
    "        experiment_num = last_exp_num + i*len(hidden_sizes) + j\n",
    "        print(\"experiment\", experiment_num)\n",
    "        experiment_title = 'ABCD_sex_MLPReg_' + str(experiment_num) #for saving results\n",
    "        print(experiment_title, \": learning rate =\", learning_rate, \", hidden sizes =\", sizes)\n",
    "\n",
    "        config = {'target_col': 'kbi_sex_assigned_at_birth',\n",
    "                'features': ['fmri', 'smri'],\n",
    "                'model': ['abcd.models.regression.MLPRegressor', 'MLPRegressorCustom'],\n",
    "                'batch_size': 64,\n",
    "                'nr_epochs': 500,\n",
    "                }\n",
    "\n",
    "        config['hidden_sizes'] = sizes\n",
    "        config['num_layers'] = len(sizes) + 1\n",
    "        config['lr'] = learning_rate\n",
    "\n",
    "        #define and train model\n",
    "        models_path = os.path.join(output_path, experiment_title, 'models')\n",
    "        model = MLPRegressorCustom(save_path=models_path, input_size=len(feature_cols), num_layers=config['num_layers'], hidden_sizes=config['hidden_sizes'])\n",
    "        model = model.to(device)\n",
    "        train_model(model, device, config, experiment_title, dataloaders, verbose=False)\n",
    "\n",
    "        #evaluate model\n",
    "        evals = evaluate_regression(model, events_id_test, events_ood_test, config['target_col'], feature_cols, experiment_title=experiment_title, show_cm=False)\n",
    "        print(evals, \"\\n\")\n",
    "\n",
    "        #save experiment\n",
    "        experiments[experiment_title] = {'experiment_num': experiment_num, 'config': config, 'evals': evals}"
   ]
  },
  {
   "cell_type": "code",
   "execution_count": 10,
   "metadata": {},
   "outputs": [
    {
     "data": {
      "text/plain": [
       "{'ABCD_sex_MLPReg_0': {'experiment_num': 0,\n",
       "  'config': {'target_col': 'kbi_sex_assigned_at_birth',\n",
       "   'features': ['fmri', 'smri'],\n",
       "   'model': ['abcd.models.regression.MLPRegressor', 'MLPRegressorCustom'],\n",
       "   'batch_size': 64,\n",
       "   'nr_epochs': 150,\n",
       "   'hidden_sizes': (128, 64),\n",
       "   'num_layers': 3,\n",
       "   'lr': 0.001},\n",
       "  'evals': {'mae_id': 0.19628565,\n",
       "   'mse_id': 0.1103402,\n",
       "   'male_acc_id': 0.9172056921086675,\n",
       "   'female_acc_id': 0.7979274611398963,\n",
       "   'cm_id': array([[709, 195],\n",
       "          [ 64, 770]]),\n",
       "   'mae_ood': 0.22228779,\n",
       "   'mse_ood': 0.13385461,\n",
       "   'male_acc_ood': 0.9357798165137615,\n",
       "   'female_acc_ood': 0.76,\n",
       "   'cm_ood': array([[102,  42],\n",
       "          [  7, 133]])}},\n",
       " 'ABCD_sex_MLPReg_1': {'experiment_num': 1,\n",
       "  'config': {'target_col': 'kbi_sex_assigned_at_birth',\n",
       "   'features': ['fmri', 'smri'],\n",
       "   'model': ['abcd.models.regression.MLPRegressor', 'MLPRegressorCustom'],\n",
       "   'batch_size': 64,\n",
       "   'nr_epochs': 150,\n",
       "   'hidden_sizes': (256, 128, 64),\n",
       "   'num_layers': 4,\n",
       "   'lr': 0.001},\n",
       "  'evals': {'mae_id': 0.17821096,\n",
       "   'mse_id': 0.10357069,\n",
       "   'male_acc_id': 0.8605927552140505,\n",
       "   'female_acc_id': 0.8548972188633616,\n",
       "   'cm_id': array([[784, 120],\n",
       "          [127, 707]]),\n",
       "   'mae_ood': 0.19305934,\n",
       "   'mse_ood': 0.11169787,\n",
       "   'male_acc_ood': 0.8646616541353384,\n",
       "   'female_acc_ood': 0.8079470198675497,\n",
       "   'cm_ood': array([[115,  29],\n",
       "          [ 18, 122]])}},\n",
       " 'ABCD_sex_MLPReg_2': {'experiment_num': 2,\n",
       "  'config': {'target_col': 'kbi_sex_assigned_at_birth',\n",
       "   'features': ['fmri', 'smri'],\n",
       "   'model': ['abcd.models.regression.MLPRegressor', 'MLPRegressorCustom'],\n",
       "   'batch_size': 64,\n",
       "   'nr_epochs': 150,\n",
       "   'hidden_sizes': (512, 256, 128, 64),\n",
       "   'num_layers': 5,\n",
       "   'lr': 0.001},\n",
       "  'evals': {'mae_id': 0.21562906,\n",
       "   'mse_id': 0.101179734,\n",
       "   'male_acc_id': 0.8828932261768083,\n",
       "   'female_acc_id': 0.8442906574394463,\n",
       "   'cm_id': array([[769, 135],\n",
       "          [102, 732]]),\n",
       "   'mae_ood': 0.23928812,\n",
       "   'mse_ood': 0.11823708,\n",
       "   'male_acc_ood': 0.9210526315789473,\n",
       "   'female_acc_ood': 0.7705882352941177,\n",
       "   'cm_ood': array([[105,  39],\n",
       "          [  9, 131]])}},\n",
       " 'ABCD_sex_MLPReg_3': {'experiment_num': 3,\n",
       "  'config': {'target_col': 'kbi_sex_assigned_at_birth',\n",
       "   'features': ['fmri', 'smri'],\n",
       "   'model': ['abcd.models.regression.MLPRegressor', 'MLPRegressorCustom'],\n",
       "   'batch_size': 64,\n",
       "   'nr_epochs': 150,\n",
       "   'hidden_sizes': (1024, 512, 256, 128, 64),\n",
       "   'num_layers': 6,\n",
       "   'lr': 0.001},\n",
       "  'evals': {'mae_id': 0.18931459,\n",
       "   'mse_id': 0.10817008,\n",
       "   'male_acc_id': 0.8289738430583501,\n",
       "   'female_acc_id': 0.8924731182795699,\n",
       "   'cm_id': array([[824,  80],\n",
       "          [170, 664]]),\n",
       "   'mae_ood': 0.20157844,\n",
       "   'mse_ood': 0.11100997,\n",
       "   'male_acc_ood': 0.8322147651006712,\n",
       "   'female_acc_ood': 0.8518518518518519,\n",
       "   'cm_ood': array([[124,  20],\n",
       "          [ 25, 115]])}},\n",
       " 'ABCD_sex_MLPReg_4': {'experiment_num': 4,\n",
       "  'config': {'target_col': 'kbi_sex_assigned_at_birth',\n",
       "   'features': ['fmri', 'smri'],\n",
       "   'model': ['abcd.models.regression.MLPRegressor', 'MLPRegressorCustom'],\n",
       "   'batch_size': 64,\n",
       "   'nr_epochs': 150,\n",
       "   'hidden_sizes': (128, 64),\n",
       "   'num_layers': 3,\n",
       "   'lr': 1e-05},\n",
       "  'evals': {'mae_id': 0.30205873,\n",
       "   'mse_id': 0.13336843,\n",
       "   'male_acc_id': 0.8079748163693599,\n",
       "   'female_acc_id': 0.8292993630573249,\n",
       "   'cm_id': array([[770, 134],\n",
       "          [183, 651]]),\n",
       "   'mae_ood': 0.31230828,\n",
       "   'mse_ood': 0.13537027,\n",
       "   'male_acc_ood': 0.835820895522388,\n",
       "   'female_acc_ood': 0.7866666666666666,\n",
       "   'cm_ood': array([[112,  32],\n",
       "          [ 22, 118]])}},\n",
       " 'ABCD_sex_MLPReg_5': {'experiment_num': 5,\n",
       "  'config': {'target_col': 'kbi_sex_assigned_at_birth',\n",
       "   'features': ['fmri', 'smri'],\n",
       "   'model': ['abcd.models.regression.MLPRegressor', 'MLPRegressorCustom'],\n",
       "   'batch_size': 64,\n",
       "   'nr_epochs': 150,\n",
       "   'hidden_sizes': (256, 128, 64),\n",
       "   'num_layers': 4,\n",
       "   'lr': 1e-05},\n",
       "  'evals': {'mae_id': 0.25214586,\n",
       "   'mse_id': 0.11498807,\n",
       "   'male_acc_id': 0.8552188552188552,\n",
       "   'female_acc_id': 0.8323494687131051,\n",
       "   'cm_id': array([[762, 142],\n",
       "          [129, 705]]),\n",
       "   'mae_ood': 0.2735093,\n",
       "   'mse_ood': 0.1259256,\n",
       "   'male_acc_ood': 0.8916666666666667,\n",
       "   'female_acc_ood': 0.774390243902439,\n",
       "   'cm_ood': array([[107,  37],\n",
       "          [ 13, 127]])}},\n",
       " 'ABCD_sex_MLPReg_6': {'experiment_num': 6,\n",
       "  'config': {'target_col': 'kbi_sex_assigned_at_birth',\n",
       "   'features': ['fmri', 'smri'],\n",
       "   'model': ['abcd.models.regression.MLPRegressor', 'MLPRegressorCustom'],\n",
       "   'batch_size': 64,\n",
       "   'nr_epochs': 150,\n",
       "   'hidden_sizes': (512, 256, 128, 64),\n",
       "   'num_layers': 5,\n",
       "   'lr': 1e-05},\n",
       "  'evals': {'mae_id': 0.21406958,\n",
       "   'mse_id': 0.10527472,\n",
       "   'male_acc_id': 0.8683628318584071,\n",
       "   'female_acc_id': 0.8573141486810552,\n",
       "   'cm_id': array([[785, 119],\n",
       "          [119, 715]]),\n",
       "   'mae_ood': 0.23501062,\n",
       "   'mse_ood': 0.11622472,\n",
       "   'male_acc_ood': 0.8571428571428571,\n",
       "   'female_acc_ood': 0.8013245033112583,\n",
       "   'cm_ood': array([[114,  30],\n",
       "          [ 19, 121]])}},\n",
       " 'ABCD_sex_MLPReg_7': {'experiment_num': 7,\n",
       "  'config': {'target_col': 'kbi_sex_assigned_at_birth',\n",
       "   'features': ['fmri', 'smri'],\n",
       "   'model': ['abcd.models.regression.MLPRegressor', 'MLPRegressorCustom'],\n",
       "   'batch_size': 64,\n",
       "   'nr_epochs': 150,\n",
       "   'hidden_sizes': (1024, 512, 256, 128, 64),\n",
       "   'num_layers': 6,\n",
       "   'lr': 1e-05},\n",
       "  'evals': {'mae_id': 0.18921182,\n",
       "   'mse_id': 0.107275404,\n",
       "   'male_acc_id': 0.8729792147806005,\n",
       "   'female_acc_id': 0.8302752293577982,\n",
       "   'cm_id': array([[756, 148],\n",
       "          [110, 724]]),\n",
       "   'mae_ood': 0.22310063,\n",
       "   'mse_ood': 0.12921062,\n",
       "   'male_acc_ood': 0.873015873015873,\n",
       "   'female_acc_ood': 0.7848101265822784,\n",
       "   'cm_ood': array([[110,  34],\n",
       "          [ 16, 124]])}},\n",
       " 'ABCD_sex_MLPReg_8': {'experiment_num': 8,\n",
       "  'config': {'target_col': 'kbi_sex_assigned_at_birth',\n",
       "   'features': ['fmri', 'smri'],\n",
       "   'model': ['abcd.models.regression.MLPRegressor', 'MLPRegressorCustom'],\n",
       "   'batch_size': 64,\n",
       "   'nr_epochs': 150,\n",
       "   'hidden_sizes': (128, 64),\n",
       "   'num_layers': 3,\n",
       "   'lr': 1e-07},\n",
       "  'evals': {'mae_id': 0.47531164,\n",
       "   'mse_id': 0.2285499,\n",
       "   'male_acc_id': 0.6595174262734584,\n",
       "   'female_acc_id': 0.7318255250403877,\n",
       "   'cm_id': array([[738, 166],\n",
       "          [381, 453]]),\n",
       "   'mae_ood': 0.47680497,\n",
       "   'mse_ood': 0.22953705,\n",
       "   'male_acc_ood': 0.634020618556701,\n",
       "   'female_acc_ood': 0.7666666666666667,\n",
       "   'cm_ood': array([[123,  21],\n",
       "          [ 71,  69]])}},\n",
       " 'ABCD_sex_MLPReg_9': {'experiment_num': 9,\n",
       "  'config': {'target_col': 'kbi_sex_assigned_at_birth',\n",
       "   'features': ['fmri', 'smri'],\n",
       "   'model': ['abcd.models.regression.MLPRegressor', 'MLPRegressorCustom'],\n",
       "   'batch_size': 64,\n",
       "   'nr_epochs': 150,\n",
       "   'hidden_sizes': (256, 128, 64),\n",
       "   'num_layers': 4,\n",
       "   'lr': 1e-07},\n",
       "  'evals': {'mae_id': 0.47494453,\n",
       "   'mse_id': 0.22935955,\n",
       "   'male_acc_id': 0.6415458937198067,\n",
       "   'female_acc_id': 0.6586059743954481,\n",
       "   'cm_id': array([[664, 240],\n",
       "          [371, 463]]),\n",
       "   'mae_ood': 0.48062128,\n",
       "   'mse_ood': 0.23508652,\n",
       "   'male_acc_ood': 0.5609756097560976,\n",
       "   'female_acc_ood': 0.8421052631578947,\n",
       "   'cm_ood': array([[138,   6],\n",
       "          [108,  32]])}},\n",
       " 'ABCD_sex_MLPReg_10': {'experiment_num': 10,\n",
       "  'config': {'target_col': 'kbi_sex_assigned_at_birth',\n",
       "   'features': ['fmri', 'smri'],\n",
       "   'model': ['abcd.models.regression.MLPRegressor', 'MLPRegressorCustom'],\n",
       "   'batch_size': 64,\n",
       "   'nr_epochs': 150,\n",
       "   'hidden_sizes': (512, 256, 128, 64),\n",
       "   'num_layers': 5,\n",
       "   'lr': 1e-07},\n",
       "  'evals': {'mae_id': 0.45959663,\n",
       "   'mse_id': 0.21701917,\n",
       "   'male_acc_id': 0.6881616939364774,\n",
       "   'female_acc_id': 0.7296137339055794,\n",
       "   'cm_id': array([[715, 189],\n",
       "          [324, 510]]),\n",
       "   'mae_ood': 0.46404433,\n",
       "   'mse_ood': 0.21928228,\n",
       "   'male_acc_ood': 0.6847826086956522,\n",
       "   'female_acc_ood': 0.82,\n",
       "   'cm_ood': array([[126,  18],\n",
       "          [ 58,  82]])}}}"
      ]
     },
     "execution_count": 10,
     "metadata": {},
     "output_type": "execute_result"
    }
   ],
   "source": [
    "experiments"
   ]
  },
  {
   "cell_type": "code",
   "execution_count": null,
   "metadata": {},
   "outputs": [],
   "source": []
  }
 ],
 "metadata": {
  "kernelspec": {
   "display_name": "cns",
   "language": "python",
   "name": "python3"
  },
  "language_info": {
   "codemirror_mode": {
    "name": "ipython",
    "version": 3
   },
   "file_extension": ".py",
   "mimetype": "text/x-python",
   "name": "python",
   "nbconvert_exporter": "python",
   "pygments_lexer": "ipython3",
   "version": "3.11.3"
  },
  "orig_nbformat": 4
 },
 "nbformat": 4,
 "nbformat_minor": 2
}
