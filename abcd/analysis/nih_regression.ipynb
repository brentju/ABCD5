{
 "cells": [
  {
   "cell_type": "markdown",
   "metadata": {},
   "source": [
    "# Predicting Fluid Intelligence with Regression"
   ]
  },
  {
   "cell_type": "code",
   "execution_count": null,
   "metadata": {},
   "outputs": [],
   "source": [
    "%load_ext autoreload\n",
    "%autoreload 2"
   ]
  },
  {
   "cell_type": "code",
   "execution_count": null,
   "metadata": {},
   "outputs": [],
   "source": [
    "import os\n",
    "import pandas as pd\n",
    "import numpy as np\n",
    "from collections import OrderedDict\n",
    "import torch\n",
    "torch.manual_seed(0)\n",
    "from torch import nn\n",
    "from torch.utils.data import DataLoader\n",
    "from torchvision import datasets\n",
    "from torchvision.transforms import ToTensor\n",
    "from tqdm import tqdm\n",
    "from abcd.local.paths import output_path\n",
    "from abcd.data.read_data import get_subjects_events_sf, subject_cols_to_events\n",
    "import abcd.data.VARS as VARS\n",
    "from abcd.data.define_splits import SITES, save_restore_sex_fmri_splits\n",
    "from abcd.data.divide_with_splits import divide_events_by_splits\n",
    "from abcd.data.var_tailoring.normalization import normalize_var\n",
    "from abcd.data.pytorch.get_dataset import PandasDataset\n",
    "\n",
    "#regresssion-specific imports\n",
    "from abcd.models.regression.MLPRegressor import MLPRegressor, LinearRegressor, MLPRegressorCustom\n",
    "from sklearn.metrics import mean_absolute_error, mean_squared_error, r2_score\n",
    "from abcd.training.RegressorTrainer import RegressorTrainer\n",
    "\n",
    "#plotting\n",
    "import matplotlib.pyplot as plt\n",
    "import pygal\n",
    "from abcd.plotting.pygal.rendering import display_html\n",
    "from sklearn.metrics import confusion_matrix\n",
    "import seaborn as sns\n",
    "import sklearn.metrics as metrics\n",
    "from sklearn.metrics import confusion_matrix\n",
    "from abcd.plotting.seaborn.confusion_matrix import plot_confusion_matrix\n",
    "\n",
    "from datetime import datetime"
   ]
  },
  {
   "cell_type": "code",
   "execution_count": null,
   "metadata": {},
   "outputs": [],
   "source": [
    "from abcd.analysis.regression import preprocess, train_model"
   ]
  },
  {
   "cell_type": "code",
   "execution_count": null,
   "metadata": {},
   "outputs": [],
   "source": [
    "# Determine device for training (TODO: figure out why doesn't work with mps)\n",
    "device = \"cpu\" #(\"cuda\" if torch.cuda.is_available() else \"mps\" if torch.backends.mps.is_available() else \"cpu\")\n",
    "print(\"Using {} device\".format(device))"
   ]
  },
  {
   "cell_type": "code",
   "execution_count": null,
   "metadata": {},
   "outputs": [],
   "source": [
    "bucketing_scheme = \"fluid intelligence norm\"\n",
    "target_col = \"nihtbx_fluidcomp_uncorrected\"\n",
    "normalize_targets=True\n",
    "\n",
    "dataloaders, events_train, events_id_test, events_ood_test, feature_cols, thresholds = preprocess(target_col, ['fmri', 'smri'], ood_site_num=0, normalize_targets=normalize_targets)\n",
    "\n",
    "target_col = target_col + \"_norm\""
   ]
  },
  {
   "cell_type": "code",
   "execution_count": null,
   "metadata": {},
   "outputs": [],
   "source": [
    "events_train.head()"
   ]
  },
  {
   "cell_type": "markdown",
   "metadata": {},
   "source": [
    "# Linear Regression Baseline"
   ]
  },
  {
   "cell_type": "code",
   "execution_count": null,
   "metadata": {},
   "outputs": [],
   "source": [
    "#modify\n",
    "config = {'target_col': target_col,\n",
    "          'features': ['fmri', 'smri'],\n",
    "          'model': ['abcd.models.regression.MLPRegressor', 'LinearRegressor'],\n",
    "          'lr': 1e-5,\n",
    "          'batch_size': 64,\n",
    "          'nr_epochs': 1000,\n",
    "        }\n",
    "\n",
    "#leave unmodified\n",
    "exp_prefix = 'ABCD_fluid_'\n",
    "if target_col == 'nihtbx_fluidcomp_uncorrected_norm':\n",
    "    exp_prefix += 'norm_'\n",
    "experiment_title = exp_prefix + config['model'][1] + \"_\" + datetime.now().strftime(\"%Y-%m-%d %H:%M:%S\") #for saving results\n",
    "models_path = os.path.join(output_path, experiment_title, 'models')"
   ]
  },
  {
   "cell_type": "code",
   "execution_count": null,
   "metadata": {},
   "outputs": [],
   "source": [
    "model = LinearRegressor(save_path=models_path, input_size=len(feature_cols)) #modfiy\n",
    "\n",
    "model = model.to(device)\n",
    "print(model)\n",
    "trainer = train_model(model, device, config, experiment_title, dataloaders, verbose=False, bucketing_scheme=bucketing_scheme)\n",
    "best_model_details = trainer.export_best_model(config=config)"
   ]
  },
  {
   "cell_type": "markdown",
   "metadata": {},
   "source": [
    "# Custom MLP"
   ]
  },
  {
   "cell_type": "code",
   "execution_count": null,
   "metadata": {},
   "outputs": [],
   "source": [
    "config = {'target_col': target_col,\n",
    "          'features': ['fmri', 'smri'],\n",
    "          'model': ['abcd.models.regression.MLPRegressor', 'MLPRegressorCustom'],\n",
    "          'batch_size': 64,\n",
    "\n",
    "          #tune\n",
    "          'lr': 1e-5,\n",
    "          'nr_epochs': 500,\n",
    "          'hidden_sizes': [256, 64],\n",
    "          'l2_lambda': 0.1,\n",
    "          'dropout': 0.0,\n",
    "        }\n",
    "\n",
    "#modify\n",
    "exp_prefix = 'ABCD_fluid_'\n",
    "if target_col == 'nihtbx_fluidcomp_uncorrected_norm':\n",
    "    exp_prefix += 'norm_'\n",
    "experiment_title = exp_prefix + config['model'][1] + \"_\" + datetime.now().strftime(\"%Y-%m-%d %H:%M:%S\") #for saving results\n",
    "print(experiment_title)\n",
    "\n",
    "#leave unmodified\n",
    "models_path = os.path.join(output_path, experiment_title, 'models')"
   ]
  },
  {
   "cell_type": "code",
   "execution_count": null,
   "metadata": {},
   "outputs": [],
   "source": [
    "model = MLPRegressorCustom(save_path=models_path, input_size=len(feature_cols), hidden_sizes=config['hidden_sizes'], dropout_p=config['dropout']) #modfiy\n",
    "\n",
    "model = model.to(device)\n",
    "print(model)\n",
    "trainer = train_model(model, device, config, experiment_title, dataloaders, verbose=True, bucketing_scheme=bucketing_scheme, l2_lambda=config['l2_lambda'])\n",
    "trainer.export_best_model(config=config)\n",
    "best_model_details = trainer.export_best_model(config=config)"
   ]
  },
  {
   "cell_type": "markdown",
   "metadata": {},
   "source": [
    "# Hyperparameter Search with Cusom MLP"
   ]
  },
  {
   "cell_type": "code",
   "execution_count": null,
   "metadata": {},
   "outputs": [],
   "source": [
    "# hidden_sizes = [\n",
    "#     (256, 128, 64), \n",
    "#     (512, 256, 128, 64),\n",
    "#     (2048, 1028, 512, 256, 128, 64, 32, 16)\n",
    "# ]\n",
    "hidden_sizes = [\n",
    "    (512, 256, 128, 64),\n",
    "]\n",
    "\n",
    "learning_rates = [1e-5] #[1e-5, 1e-7]\n",
    "l2_lambdas = [0, 1e-4, 1e-3]\n",
    "dropout_probs = [0, 0.1, 0.3, 0.5, 0.7]"
   ]
  },
  {
   "cell_type": "code",
   "execution_count": null,
   "metadata": {},
   "outputs": [],
   "source": [
    "experiments = {}\n",
    "global_best_val_mse = float('inf')\n",
    "best_model_experiment_name = None\n",
    "best_model = None\n",
    "\n",
    "for i,learning_rate in enumerate(learning_rates):\n",
    "    for j,sizes in enumerate(hidden_sizes):\n",
    "      for k, l2_lambda in enumerate(l2_lambdas):\n",
    "        for l, dropout_prob in enumerate(dropout_probs):\n",
    "\n",
    "          experiment_title = 'fluid_norm_MLPReg_' + datetime.now().strftime(\"%Y-%m-%d %H:%M:%S\")\n",
    "          experiment_num = i*len(hidden_sizes)*len(l2_lambdas)*len(dropout_probs) + j*len(l2_lambdas)*len(dropout_probs) + k*len(dropout_probs)+ l\n",
    "          print(\"experiment\", experiment_num, \":\", experiment_title)\n",
    "\n",
    "          config = {'target_col': target_col,\n",
    "            'features': ['fmri', 'smri'],\n",
    "            'model': ['abcd.models.regression.MLPRegressor', 'MLPRegressorCustom'],\n",
    "            'batch_size': 64,\n",
    "            'nr_epochs': 1000,\n",
    "          }\n",
    "\n",
    "          config['hidden_sizes'] = sizes\n",
    "          config['lr'] = learning_rate\n",
    "          config['l2_lambda'] = l2_lambda\n",
    "          config['dropout'] = dropout_prob\n",
    "          \n",
    "          #define and train model\n",
    "          models_path = os.path.join(output_path, experiment_title, 'models')\n",
    "          model = MLPRegressorCustom(save_path=models_path, input_size=len(feature_cols), hidden_sizes=config['hidden_sizes'], dropout_p=config['dropout']) #modfiy\n",
    "          model = model.to(device)\n",
    "          trainer = train_model(model, device, config, experiment_title, dataloaders, verbose=False, bucketing_scheme=bucketing_scheme, l2_lambda=config['l2_lambda'])\n",
    "          details = trainer.export_best_model(config=config)\n",
    "          \n",
    "          #update best model\n",
    "          local_best_val_mse = details['metrics']['val']['MSE']\n",
    "          if local_best_val_mse < global_best_val_mse:\n",
    "              global_best_val_mse = local_best_val_mse\n",
    "              best_model = details\n",
    "              best_model_experiment_name = experiment_title\n",
    "\n",
    "          #save experiment\n",
    "          experiments[experiment_title] = details\n",
    "\n",
    "print(\"\\n\\nExperiment over. Best model:\", best_model_experiment_name)"
   ]
  }
 ],
 "metadata": {
  "kernelspec": {
   "display_name": "cns",
   "language": "python",
   "name": "python3"
  },
  "language_info": {
   "codemirror_mode": {
    "name": "ipython",
    "version": 3
   },
   "file_extension": ".py",
   "mimetype": "text/x-python",
   "name": "python",
   "nbconvert_exporter": "python",
   "pygments_lexer": "ipython3",
   "version": "3.11.3"
  },
  "orig_nbformat": 4
 },
 "nbformat": 4,
 "nbformat_minor": 2
}
