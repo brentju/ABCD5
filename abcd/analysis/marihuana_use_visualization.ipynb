{
 "cells": [
  {
   "cell_type": "code",
   "execution_count": 1,
   "metadata": {},
   "outputs": [],
   "source": [
    "%load_ext autoreload\n",
    "%autoreload 2"
   ]
  },
  {
   "cell_type": "code",
   "execution_count": 2,
   "metadata": {},
   "outputs": [],
   "source": [
    "import os\n",
    "import pandas as pd\n",
    "from abcd.local.paths import core_path, output_path\n",
    "from abcd.data.read_data import get_subjects_events, add_event_vars"
   ]
  },
  {
   "cell_type": "code",
   "execution_count": 3,
   "metadata": {},
   "outputs": [],
   "source": [
    "# Fetch subjects and events\n",
    "subjects_df, events_df = get_subjects_events()"
   ]
  },
  {
   "cell_type": "code",
   "execution_count": 4,
   "metadata": {},
   "outputs": [
    {
     "name": "stderr",
     "output_type": "stream",
     "text": [
      "c:\\users\\camgonza\\desktop\\abcd5\\abcd\\utils\\io.py:24: DtypeWarning: Columns (92,95,107,112,117,122,127,132,137,150,153,155,160,170,175,190,223,245,248,250,255,258,260,265,417,419,421,423,425,427,429,431,433,435,437,441,443,449,460,471,473,475,477,479,536,673,709,712,718,721,727,730,733,736,739,742,745,748,751,754,759,763,772,775,784,787,790,799,802,805,808,811,814) have mixed types. Specify dtype option on import or set low_memory=False.\n",
      "  df = pd.read_csv(path, sep=sep)\n"
     ]
    }
   ],
   "source": [
    "# Add substance use beh\n",
    "MARIHUANA_SCORES = {\"tlfb_mj_puff\": \"Ever tried (puff)\",\n",
    "             \"tlfb_mj_use\": \"Ever tried (smoked)\",\n",
    "             \"tlfb_blunt_use\": \"Ever tried (blunt)\",\n",
    "             \"tlfb_edible_use\": \"Ever tried (edible)\",\n",
    "             \"tlfb_mj_conc_use\": \"Ever tried (Conc)\",\n",
    "             \"first_mj_1b\": \"Total times\"}    \n",
    "\n",
    "su_file = os.path.join(core_path, \"substance-use\", \"su_y_sui.csv\")\n",
    "su_events_df = add_event_vars(events_df, su_file, vars=list(MARIHUANA_SCORES.keys()))"
   ]
  },
  {
   "cell_type": "code",
   "execution_count": 5,
   "metadata": {},
   "outputs": [
    {
     "name": "stdout",
     "output_type": "stream",
     "text": [
      "19605\n"
     ]
    }
   ],
   "source": [
    "print(len(su_events_df))"
   ]
  },
  {
   "cell_type": "code",
   "execution_count": 6,
   "metadata": {},
   "outputs": [
    {
     "data": {
      "text/html": [
       "<div>\n",
       "<style scoped>\n",
       "    .dataframe tbody tr th:only-of-type {\n",
       "        vertical-align: middle;\n",
       "    }\n",
       "\n",
       "    .dataframe tbody tr th {\n",
       "        vertical-align: top;\n",
       "    }\n",
       "\n",
       "    .dataframe thead th {\n",
       "        text-align: right;\n",
       "    }\n",
       "</style>\n",
       "<table border=\"1\" class=\"dataframe\">\n",
       "  <thead>\n",
       "    <tr style=\"text-align: right;\">\n",
       "      <th></th>\n",
       "      <th>variable</th>\n",
       "      <th># missing values</th>\n",
       "      <th># values == 0</th>\n",
       "      <th># values &gt;= 1</th>\n",
       "    </tr>\n",
       "  </thead>\n",
       "  <tbody>\n",
       "    <tr>\n",
       "      <th>0</th>\n",
       "      <td>Ever tried (puff)</td>\n",
       "      <td>14232</td>\n",
       "      <td>5370</td>\n",
       "      <td>3</td>\n",
       "    </tr>\n",
       "    <tr>\n",
       "      <th>1</th>\n",
       "      <td>Ever tried (smoked)</td>\n",
       "      <td>19598</td>\n",
       "      <td>3</td>\n",
       "      <td>4</td>\n",
       "    </tr>\n",
       "    <tr>\n",
       "      <th>2</th>\n",
       "      <td>Ever tried (blunt)</td>\n",
       "      <td>19598</td>\n",
       "      <td>7</td>\n",
       "      <td>0</td>\n",
       "    </tr>\n",
       "    <tr>\n",
       "      <th>3</th>\n",
       "      <td>Ever tried (edible)</td>\n",
       "      <td>19598</td>\n",
       "      <td>6</td>\n",
       "      <td>1</td>\n",
       "    </tr>\n",
       "    <tr>\n",
       "      <th>4</th>\n",
       "      <td>Ever tried (Conc)</td>\n",
       "      <td>14234</td>\n",
       "      <td>5371</td>\n",
       "      <td>0</td>\n",
       "    </tr>\n",
       "    <tr>\n",
       "      <th>5</th>\n",
       "      <td>Total times</td>\n",
       "      <td>19598</td>\n",
       "      <td>0</td>\n",
       "      <td>7</td>\n",
       "    </tr>\n",
       "  </tbody>\n",
       "</table>\n",
       "</div>"
      ],
      "text/plain": [
       "              variable  # missing values  # values == 0  # values >= 1\n",
       "0    Ever tried (puff)             14232           5370              3\n",
       "1  Ever tried (smoked)             19598              3              4\n",
       "2   Ever tried (blunt)             19598              7              0\n",
       "3  Ever tried (edible)             19598              6              1\n",
       "4    Ever tried (Conc)             14234           5371              0\n",
       "5          Total times             19598              0              7"
      ]
     },
     "execution_count": 6,
     "metadata": {},
     "output_type": "execute_result"
    }
   ],
   "source": [
    "# Get summary on variable values\n",
    "info_summary = {\"variable\": [], \"# missing values\": [], \"# values == 0\": [], \"# values >= 1\": []}\n",
    "\n",
    "for su_key, su_value in MARIHUANA_SCORES.items():\n",
    "    info_summary[\"variable\"].append(su_value)\n",
    "    info_summary[\"# missing values\"].append(su_events_df[su_key].isnull().sum())\n",
    "    info_summary[\"# values == 0\"].append(len(su_events_df.loc[su_events_df[su_key] == 0]))\n",
    "    info_summary[\"# values >= 1\"].append(len(su_events_df.loc[su_events_df[su_key] >= 1]))\n",
    "\n",
    "info_summary = pd.DataFrame(info_summary)\n",
    "info_summary"
   ]
  }
 ],
 "metadata": {
  "kernelspec": {
   "display_name": "abcd",
   "language": "python",
   "name": "python3"
  },
  "language_info": {
   "codemirror_mode": {
    "name": "ipython",
    "version": 3
   },
   "file_extension": ".py",
   "mimetype": "text/x-python",
   "name": "python",
   "nbconvert_exporter": "python",
   "pygments_lexer": "ipython3",
   "version": "3.11.3"
  },
  "orig_nbformat": 4
 },
 "nbformat": 4,
 "nbformat_minor": 2
}
