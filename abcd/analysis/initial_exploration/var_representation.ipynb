{
 "cells": [
  {
   "cell_type": "code",
   "execution_count": 1,
   "metadata": {},
   "outputs": [],
   "source": [
    "%load_ext autoreload\n",
    "%autoreload 2"
   ]
  },
  {
   "cell_type": "code",
   "execution_count": 12,
   "metadata": {},
   "outputs": [],
   "source": [
    "import os\n",
    "import pygal\n",
    "from abcd.local.paths import core_path, output_path\n",
    "from abcd.data.read_data import read_events_general_info, add_subject_sex, add_subject_ethnicity, add_event_vars, add_subject_vars, filter_events\n",
    "from abcd.data.define_splits import SITES, save_restore_sex_fmri_splits\n",
    "from abcd.data.var_tailoring.normalization import normalize_var\n",
    "from abcd.plotting.pygal.rendering import display_html\n",
    "from abcd.plotting.pygal.colors import palette\n",
    "import abcd.data.VARS as VARS"
   ]
  },
  {
   "cell_type": "code",
   "execution_count": 3,
   "metadata": {},
   "outputs": [
    {
     "name": "stdout",
     "output_type": "stream",
     "text": [
      "There are 11685 subjects and 88888 visits\n"
     ]
    },
    {
     "name": "stderr",
     "output_type": "stream",
     "text": [
      "100%|██████████| 11685/11685 [00:40<00:00, 291.02it/s]\n"
     ]
    },
    {
     "name": "stdout",
     "output_type": "stream",
     "text": [
      "There are 9908 subjects and 80171 visits\n"
     ]
    },
    {
     "name": "stderr",
     "output_type": "stream",
     "text": [
      "100%|██████████| 9908/9908 [00:28<00:00, 343.65it/s]"
     ]
    },
    {
     "name": "stdout",
     "output_type": "stream",
     "text": [
      "There are 9907 subjects and 80166 visits\n"
     ]
    },
    {
     "name": "stderr",
     "output_type": "stream",
     "text": [
      "\n"
     ]
    }
   ],
   "source": [
    "# Base dataframe with site id, family id, sex and ethnicity information\n",
    "subjects_df, events_df = read_events_general_info()\n",
    "print(\"There are {} subjects and {} visits\".format(len(subjects_df), len(events_df)))\n",
    "subjects_df, events_df = add_subject_sex(subjects_df, events_df)\n",
    "print(\"There are {} subjects and {} visits\".format(len(subjects_df), len(events_df)))\n",
    "subjects_df, events_df = add_subject_ethnicity(subjects_df, events_df)\n",
    "print(\"There are {} subjects and {} visits\".format(len(subjects_df), len(events_df)))"
   ]
  },
  {
   "cell_type": "code",
   "execution_count": 4,
   "metadata": {},
   "outputs": [
    {
     "name": "stdout",
     "output_type": "stream",
     "text": [
      "There are 38743 visits with CBCL scores\n"
     ]
    }
   ],
   "source": [
    "# CBCL\n",
    "mh_events_df = add_event_vars(events_df, VARS.CBCL_PATH, vars=list(VARS.CBCL_SCORES_raw.keys()))\n",
    "mh_events_df = mh_events_df.dropna() \n",
    "print(\"There are {} visits with CBCL scores\".format(len(mh_events_df)))"
   ]
  },
  {
   "cell_type": "code",
   "execution_count": 5,
   "metadata": {},
   "outputs": [
    {
     "name": "stdout",
     "output_type": "stream",
     "text": [
      "There are 9888 visits with Neurocognition scores\n"
     ]
    }
   ],
   "source": [
    "# Neurocognition\n",
    "neuro_events_df = add_event_vars(events_df, VARS.NIH_PATH, vars=list(VARS.NIH_TESTS_uncorrected.keys()))\n",
    "neuro_events_df = neuro_events_df.dropna() \n",
    "print(\"There are {} visits with Neurocognition scores\".format(len(neuro_events_df)))"
   ]
  },
  {
   "cell_type": "code",
   "execution_count": 6,
   "metadata": {},
   "outputs": [
    {
     "name": "stdout",
     "output_type": "stream",
     "text": [
      "There are 19163 visits with structural MRI info\n"
     ]
    }
   ],
   "source": [
    "# Structural MRI\n",
    "for smri_feature in VARS.STRUCT_FEATURES.keys():\n",
    "    smri_events_df = add_event_vars(events_df, os.path.join(core_path, \"imaging\", VARS.STRUCT_FILES[smri_feature]), vars=[smri_feature])\n",
    "    smri_events_df = smri_events_df.dropna() \n",
    "print(\"There are {} visits with structural MRI info\".format(len(smri_events_df)))"
   ]
  },
  {
   "cell_type": "code",
   "execution_count": 7,
   "metadata": {},
   "outputs": [
    {
     "name": "stdout",
     "output_type": "stream",
     "text": [
      "There are 19327 visits with functional MRI info\n"
     ]
    }
   ],
   "source": [
    "# Functional MRI\n",
    "fmri_events_df = add_event_vars(events_df, VARS.fMRI_PATH, vars=list(VARS.NAMED_CONNECTIONS.keys()))\n",
    "fmri_events_df = fmri_events_df.dropna() \n",
    "print(\"There are {} visits with functional MRI info\".format(len(fmri_events_df)))"
   ]
  },
  {
   "cell_type": "code",
   "execution_count": 8,
   "metadata": {},
   "outputs": [],
   "source": [
    "dfs = {\"General\": events_df, \"CBCL\": mh_events_df, \"Neurocog.\": neuro_events_df, \"sMRI\": smri_events_df, \"fMRI\": fmri_events_df}"
   ]
  },
  {
   "cell_type": "code",
   "execution_count": 9,
   "metadata": {},
   "outputs": [
    {
     "data": {
      "text/html": [
       "\n",
       "    <!DOCTYPE html>\n",
       "    <html>\n",
       "    <head>\n",
       "    <script type=\"text/javascript\" src=\"http://kozea.github.com/pygal.js/javascripts/svg.jquery.js\"></script>\n",
       "    <script type=\"text/javascript\" src=\"https://kozea.github.io/pygal.js/2.0.x/pygal-tooltips.min.js\"\"></script>\n",
       "    </head>\n",
       "    <body>\n",
       "        <figure>\n",
       "        <?xml version='1.0' encoding='utf-8'?>\n",
       "<svg xmlns:xlink=\"http://www.w3.org/1999/xlink\" xmlns=\"http://www.w3.org/2000/svg\" id=\"chart-2279e9cb-742a-433c-a1e9-086c0c308a5c\" class=\"pygal-chart\" viewBox=\"0 0 800 600\"><!--Generated with pygal 3.0.0 (etree) ©Kozea 2012-2016 on 2023-08-09--><!--http://pygal.org--><!--http://github.com/Kozea/pygal--><defs><style type=\"text/css\">#chart-2279e9cb-742a-433c-a1e9-086c0c308a5c{-webkit-user-select:none;-webkit-font-smoothing:antialiased;font-family:Consolas,\"Liberation Mono\",Menlo,Courier,monospace}#chart-2279e9cb-742a-433c-a1e9-086c0c308a5c .title{font-family:Consolas,\"Liberation Mono\",Menlo,Courier,monospace;font-size:16px}#chart-2279e9cb-742a-433c-a1e9-086c0c308a5c .legends .legend text{font-family:Consolas,\"Liberation Mono\",Menlo,Courier,monospace;font-size:14px}#chart-2279e9cb-742a-433c-a1e9-086c0c308a5c .axis text{font-family:Consolas,\"Liberation Mono\",Menlo,Courier,monospace;font-size:10px}#chart-2279e9cb-742a-433c-a1e9-086c0c308a5c .axis text.major{font-family:Consolas,\"Liberation Mono\",Menlo,Courier,monospace;font-size:10px}#chart-2279e9cb-742a-433c-a1e9-086c0c308a5c .text-overlay text.value{font-family:Consolas,\"Liberation Mono\",Menlo,Courier,monospace;font-size:16px}#chart-2279e9cb-742a-433c-a1e9-086c0c308a5c .text-overlay text.label{font-family:Consolas,\"Liberation Mono\",Menlo,Courier,monospace;font-size:10px}#chart-2279e9cb-742a-433c-a1e9-086c0c308a5c .tooltip{font-family:Consolas,\"Liberation Mono\",Menlo,Courier,monospace;font-size:14px}#chart-2279e9cb-742a-433c-a1e9-086c0c308a5c text.no_data{font-family:Consolas,\"Liberation Mono\",Menlo,Courier,monospace;font-size:64px}\n",
       "#chart-2279e9cb-742a-433c-a1e9-086c0c308a5c{background-color:rgba(249,249,249,1)}#chart-2279e9cb-742a-433c-a1e9-086c0c308a5c path,#chart-2279e9cb-742a-433c-a1e9-086c0c308a5c line,#chart-2279e9cb-742a-433c-a1e9-086c0c308a5c rect,#chart-2279e9cb-742a-433c-a1e9-086c0c308a5c circle{-webkit-transition:150ms;-moz-transition:150ms;transition:150ms}#chart-2279e9cb-742a-433c-a1e9-086c0c308a5c .graph &gt; .background{fill:rgba(249,249,249,1)}#chart-2279e9cb-742a-433c-a1e9-086c0c308a5c .plot &gt; .background{fill:rgba(255,255,255,1)}#chart-2279e9cb-742a-433c-a1e9-086c0c308a5c .graph{fill:rgba(0,0,0,.87)}#chart-2279e9cb-742a-433c-a1e9-086c0c308a5c text.no_data{fill:rgba(0,0,0,1)}#chart-2279e9cb-742a-433c-a1e9-086c0c308a5c .title{fill:rgba(0,0,0,1)}#chart-2279e9cb-742a-433c-a1e9-086c0c308a5c .legends .legend text{fill:rgba(0,0,0,.87)}#chart-2279e9cb-742a-433c-a1e9-086c0c308a5c .legends .legend:hover text{fill:rgba(0,0,0,1)}#chart-2279e9cb-742a-433c-a1e9-086c0c308a5c .axis .line{stroke:rgba(0,0,0,1)}#chart-2279e9cb-742a-433c-a1e9-086c0c308a5c .axis .guide.line{stroke:rgba(0,0,0,.54)}#chart-2279e9cb-742a-433c-a1e9-086c0c308a5c .axis .major.line{stroke:rgba(0,0,0,.87)}#chart-2279e9cb-742a-433c-a1e9-086c0c308a5c .axis text.major{fill:rgba(0,0,0,1)}#chart-2279e9cb-742a-433c-a1e9-086c0c308a5c .axis.y .guides:hover .guide.line,#chart-2279e9cb-742a-433c-a1e9-086c0c308a5c .line-graph .axis.x .guides:hover .guide.line,#chart-2279e9cb-742a-433c-a1e9-086c0c308a5c .stackedline-graph .axis.x .guides:hover .guide.line,#chart-2279e9cb-742a-433c-a1e9-086c0c308a5c .xy-graph .axis.x .guides:hover .guide.line{stroke:rgba(0,0,0,1)}#chart-2279e9cb-742a-433c-a1e9-086c0c308a5c .axis .guides:hover text{fill:rgba(0,0,0,1)}#chart-2279e9cb-742a-433c-a1e9-086c0c308a5c .reactive{fill-opacity:.7;stroke-opacity:.8;stroke-width:1}#chart-2279e9cb-742a-433c-a1e9-086c0c308a5c .ci{stroke:rgba(0,0,0,.87)}#chart-2279e9cb-742a-433c-a1e9-086c0c308a5c .reactive.active,#chart-2279e9cb-742a-433c-a1e9-086c0c308a5c .active .reactive{fill-opacity:.8;stroke-opacity:.9;stroke-width:4}#chart-2279e9cb-742a-433c-a1e9-086c0c308a5c .ci .reactive.active{stroke-width:1.5}#chart-2279e9cb-742a-433c-a1e9-086c0c308a5c .series text{fill:rgba(0,0,0,1)}#chart-2279e9cb-742a-433c-a1e9-086c0c308a5c .tooltip rect{fill:rgba(255,255,255,1);stroke:rgba(0,0,0,1);-webkit-transition:opacity 150ms;-moz-transition:opacity 150ms;transition:opacity 150ms}#chart-2279e9cb-742a-433c-a1e9-086c0c308a5c .tooltip .label{fill:rgba(0,0,0,.87)}#chart-2279e9cb-742a-433c-a1e9-086c0c308a5c .tooltip .label{fill:rgba(0,0,0,.87)}#chart-2279e9cb-742a-433c-a1e9-086c0c308a5c .tooltip .legend{font-size:.8em;fill:rgba(0,0,0,.54)}#chart-2279e9cb-742a-433c-a1e9-086c0c308a5c .tooltip .x_label{font-size:.6em;fill:rgba(0,0,0,1)}#chart-2279e9cb-742a-433c-a1e9-086c0c308a5c .tooltip .xlink{font-size:.5em;text-decoration:underline}#chart-2279e9cb-742a-433c-a1e9-086c0c308a5c .tooltip .value{font-size:1.5em}#chart-2279e9cb-742a-433c-a1e9-086c0c308a5c .bound{font-size:.5em}#chart-2279e9cb-742a-433c-a1e9-086c0c308a5c .max-value{font-size:.75em;fill:rgba(0,0,0,.54)}#chart-2279e9cb-742a-433c-a1e9-086c0c308a5c .map-element{fill:rgba(255,255,255,1);stroke:rgba(0,0,0,.54) !important}#chart-2279e9cb-742a-433c-a1e9-086c0c308a5c .map-element .reactive{fill-opacity:inherit;stroke-opacity:inherit}#chart-2279e9cb-742a-433c-a1e9-086c0c308a5c .color-0,#chart-2279e9cb-742a-433c-a1e9-086c0c308a5c .color-0 a:visited{stroke:#8A8A8A;fill:#8A8A8A}#chart-2279e9cb-742a-433c-a1e9-086c0c308a5c .color-1,#chart-2279e9cb-742a-433c-a1e9-086c0c308a5c .color-1 a:visited{stroke:#EAA4A4;fill:#EAA4A4}#chart-2279e9cb-742a-433c-a1e9-086c0c308a5c .color-2,#chart-2279e9cb-742a-433c-a1e9-086c0c308a5c .color-2 a:visited{stroke:#A99EEC;fill:#A99EEC}#chart-2279e9cb-742a-433c-a1e9-086c0c308a5c .color-3,#chart-2279e9cb-742a-433c-a1e9-086c0c308a5c .color-3 a:visited{stroke:#9AE2E0;fill:#9AE2E0}#chart-2279e9cb-742a-433c-a1e9-086c0c308a5c .color-4,#chart-2279e9cb-742a-433c-a1e9-086c0c308a5c .color-4 a:visited{stroke:#6AB8E8;fill:#6AB8E8}#chart-2279e9cb-742a-433c-a1e9-086c0c308a5c .text-overlay .color-0 text{fill:black}#chart-2279e9cb-742a-433c-a1e9-086c0c308a5c .text-overlay .color-1 text{fill:black}#chart-2279e9cb-742a-433c-a1e9-086c0c308a5c .text-overlay .color-2 text{fill:black}#chart-2279e9cb-742a-433c-a1e9-086c0c308a5c .text-overlay .color-3 text{fill:black}#chart-2279e9cb-742a-433c-a1e9-086c0c308a5c .text-overlay .color-4 text{fill:black}\n",
       "#chart-2279e9cb-742a-433c-a1e9-086c0c308a5c text.no_data{text-anchor:middle}#chart-2279e9cb-742a-433c-a1e9-086c0c308a5c .guide.line{fill:none}#chart-2279e9cb-742a-433c-a1e9-086c0c308a5c .centered{text-anchor:middle}#chart-2279e9cb-742a-433c-a1e9-086c0c308a5c .title{text-anchor:middle}#chart-2279e9cb-742a-433c-a1e9-086c0c308a5c .legends .legend text{fill-opacity:1}#chart-2279e9cb-742a-433c-a1e9-086c0c308a5c .axis.x text{text-anchor:middle}#chart-2279e9cb-742a-433c-a1e9-086c0c308a5c .axis.x:not(.web) text[transform]{text-anchor:start}#chart-2279e9cb-742a-433c-a1e9-086c0c308a5c .axis.x:not(.web) text[transform].backwards{text-anchor:end}#chart-2279e9cb-742a-433c-a1e9-086c0c308a5c .axis.y text{text-anchor:end}#chart-2279e9cb-742a-433c-a1e9-086c0c308a5c .axis.y text[transform].backwards{text-anchor:start}#chart-2279e9cb-742a-433c-a1e9-086c0c308a5c .axis.y2 text{text-anchor:start}#chart-2279e9cb-742a-433c-a1e9-086c0c308a5c .axis.y2 text[transform].backwards{text-anchor:end}#chart-2279e9cb-742a-433c-a1e9-086c0c308a5c .axis .guide.line{stroke-dasharray:4,4;stroke:black}#chart-2279e9cb-742a-433c-a1e9-086c0c308a5c .axis .major.guide.line{stroke-dasharray:6,6;stroke:black}#chart-2279e9cb-742a-433c-a1e9-086c0c308a5c .horizontal .axis.y .guide.line,#chart-2279e9cb-742a-433c-a1e9-086c0c308a5c .horizontal .axis.y2 .guide.line,#chart-2279e9cb-742a-433c-a1e9-086c0c308a5c .vertical .axis.x .guide.line{opacity:0}#chart-2279e9cb-742a-433c-a1e9-086c0c308a5c .horizontal .axis.always_show .guide.line,#chart-2279e9cb-742a-433c-a1e9-086c0c308a5c .vertical .axis.always_show .guide.line{opacity:1 !important}#chart-2279e9cb-742a-433c-a1e9-086c0c308a5c .axis.y .guides:hover .guide.line,#chart-2279e9cb-742a-433c-a1e9-086c0c308a5c .axis.y2 .guides:hover .guide.line,#chart-2279e9cb-742a-433c-a1e9-086c0c308a5c .axis.x .guides:hover .guide.line{opacity:1}#chart-2279e9cb-742a-433c-a1e9-086c0c308a5c .axis .guides:hover text{opacity:1}#chart-2279e9cb-742a-433c-a1e9-086c0c308a5c .nofill{fill:none}#chart-2279e9cb-742a-433c-a1e9-086c0c308a5c .subtle-fill{fill-opacity:.2}#chart-2279e9cb-742a-433c-a1e9-086c0c308a5c .dot{stroke-width:1px;fill-opacity:1;stroke-opacity:1}#chart-2279e9cb-742a-433c-a1e9-086c0c308a5c .dot.active{stroke-width:5px}#chart-2279e9cb-742a-433c-a1e9-086c0c308a5c .dot.negative{fill:transparent}#chart-2279e9cb-742a-433c-a1e9-086c0c308a5c text,#chart-2279e9cb-742a-433c-a1e9-086c0c308a5c tspan{stroke:none !important}#chart-2279e9cb-742a-433c-a1e9-086c0c308a5c .series text.active{opacity:1}#chart-2279e9cb-742a-433c-a1e9-086c0c308a5c .tooltip rect{fill-opacity:.95;stroke-width:.5}#chart-2279e9cb-742a-433c-a1e9-086c0c308a5c .tooltip text{fill-opacity:1}#chart-2279e9cb-742a-433c-a1e9-086c0c308a5c .showable{visibility:hidden}#chart-2279e9cb-742a-433c-a1e9-086c0c308a5c .showable.shown{visibility:visible}#chart-2279e9cb-742a-433c-a1e9-086c0c308a5c .gauge-background{fill:rgba(229,229,229,1);stroke:none}#chart-2279e9cb-742a-433c-a1e9-086c0c308a5c .bg-lines{stroke:rgba(249,249,249,1);stroke-width:2px}</style><script type=\"text/javascript\">window.pygal = window.pygal || {};window.pygal.config = window.pygal.config || {};window.pygal.config['2279e9cb-742a-433c-a1e9-086c0c308a5c'] = {\"allow_interruptions\": false, \"box_mode\": \"extremes\", \"classes\": [\"pygal-chart\"], \"css\": [\"file://style.css\", \"file://graph.css\"], \"defs\": [], \"disable_xml_declaration\": false, \"dots_size\": 2.5, \"dynamic_print_values\": false, \"explicit_size\": false, \"fill\": false, \"force_uri_protocol\": \"https\", \"formatter\": null, \"half_pie\": false, \"height\": 600, \"include_x_axis\": false, \"inner_radius\": 0, \"interpolate\": null, \"interpolation_parameters\": {}, \"interpolation_precision\": 250, \"inverse_y_axis\": false, \"js\": [\"//kozea.github.io/pygal.js/2.0.x/pygal-tooltips.min.js\"], \"legend_at_bottom\": false, \"legend_at_bottom_columns\": null, \"legend_box_size\": 12, \"logarithmic\": false, \"margin\": 20, \"margin_bottom\": null, \"margin_left\": null, \"margin_right\": null, \"margin_top\": null, \"max_scale\": 16, \"min_scale\": 4, \"missing_value_fill_truncation\": \"x\", \"no_data_text\": \"No data\", \"no_prefix\": false, \"order_min\": null, \"pretty_print\": false, \"print_labels\": false, \"print_values\": false, \"print_values_position\": \"center\", \"print_zeroes\": true, \"range\": null, \"rounded_bars\": null, \"secondary_range\": null, \"show_dots\": true, \"show_legend\": true, \"show_minor_x_labels\": true, \"show_minor_y_labels\": true, \"show_only_major_dots\": false, \"show_x_guides\": false, \"show_x_labels\": true, \"show_y_guides\": true, \"show_y_labels\": true, \"spacing\": 10, \"stack_from_top\": false, \"strict\": false, \"stroke\": true, \"stroke_style\": null, \"style\": {\"background\": \"rgba(249, 249, 249, 1)\", \"ci_colors\": [], \"colors\": [\"#8A8A8A\", \"#EAA4A4\", \"#A99EEC\", \"#9AE2E0\", \"#6AB8E8\"], \"dot_opacity\": \"1\", \"font_family\": \"Consolas, \\\"Liberation Mono\\\", Menlo, Courier, monospace\", \"foreground\": \"rgba(0, 0, 0, .87)\", \"foreground_strong\": \"rgba(0, 0, 0, 1)\", \"foreground_subtle\": \"rgba(0, 0, 0, .54)\", \"guide_stroke_color\": \"black\", \"guide_stroke_dasharray\": \"4,4\", \"label_font_family\": \"Consolas, \\\"Liberation Mono\\\", Menlo, Courier, monospace\", \"label_font_size\": 10, \"legend_font_family\": \"Consolas, \\\"Liberation Mono\\\", Menlo, Courier, monospace\", \"legend_font_size\": 14, \"major_guide_stroke_color\": \"black\", \"major_guide_stroke_dasharray\": \"6,6\", \"major_label_font_family\": \"Consolas, \\\"Liberation Mono\\\", Menlo, Courier, monospace\", \"major_label_font_size\": 10, \"no_data_font_family\": \"Consolas, \\\"Liberation Mono\\\", Menlo, Courier, monospace\", \"no_data_font_size\": 64, \"opacity\": \".7\", \"opacity_hover\": \".8\", \"plot_background\": \"rgba(255, 255, 255, 1)\", \"stroke_opacity\": \".8\", \"stroke_opacity_hover\": \".9\", \"stroke_width\": \"1\", \"stroke_width_hover\": \"4\", \"title_font_family\": \"Consolas, \\\"Liberation Mono\\\", Menlo, Courier, monospace\", \"title_font_size\": 16, \"tooltip_font_family\": \"Consolas, \\\"Liberation Mono\\\", Menlo, Courier, monospace\", \"tooltip_font_size\": 14, \"transition\": \"150ms\", \"value_background\": \"rgba(229, 229, 229, 1)\", \"value_colors\": [], \"value_font_family\": \"Consolas, \\\"Liberation Mono\\\", Menlo, Courier, monospace\", \"value_font_size\": 16, \"value_label_font_family\": \"Consolas, \\\"Liberation Mono\\\", Menlo, Courier, monospace\", \"value_label_font_size\": 10}, \"title\": \"Nr. subjects per visit\", \"tooltip_border_radius\": 0, \"tooltip_fancy_mode\": true, \"truncate_label\": null, \"truncate_legend\": null, \"width\": 800, \"x_label_rotation\": 0, \"x_labels\": [0, 0.5, 1, 1.5, 2, 2.5, 3, 3.5, 4], \"x_labels_major\": null, \"x_labels_major_count\": null, \"x_labels_major_every\": null, \"x_title\": \"Years since baseline visit\", \"xrange\": null, \"y_label_rotation\": 0, \"y_labels\": null, \"y_labels_major\": null, \"y_labels_major_count\": null, \"y_labels_major_every\": null, \"y_title\": \"Nr. subjects\", \"zero\": 0, \"legends\": [\"General\", \"CBCL\", \"Neurocog.\", \"sMRI\", \"fMRI\"]}</script><script type=\"text/javascript\" xlink:href=\"https://kozea.github.io/pygal.js/2.0.x/pygal-tooltips.min.js\" /></defs><title>Nr. subjects per visit</title><g class=\"graph bar-graph vertical\"><rect x=\"0\" y=\"0\" width=\"800\" height=\"600\" class=\"background\" /><g transform=\"translate(177, 46)\" class=\"plot\"><rect x=\"0\" y=\"0\" width=\"602.4\" height=\"488\" class=\"background\" /><g class=\"axis y always_show\"><g class=\"guides\"><path d=\"M0.000000 478.615385 h602.400000\" class=\"axis major line\" /><text x=\"-5\" y=\"482.11538461538464\" class=\"major\">0</text><title>0</title></g><g class=\"guides\"><path d=\"M0.000000 431.251827 h602.400000\" class=\"guide line\" /><text x=\"-5\" y=\"434.7518266027906\" class=\"\">1000</text><title>1000</title></g><g class=\"guides\"><path d=\"M0.000000 383.888269 h602.400000\" class=\"guide line\" /><text x=\"-5\" y=\"387.3882685901965\" class=\"\">2000</text><title>2000</title></g><g class=\"guides\"><path d=\"M0.000000 336.524711 h602.400000\" class=\"guide line\" /><text x=\"-5\" y=\"340.0247105776025\" class=\"\">3000</text><title>3000</title></g><g class=\"guides\"><path d=\"M0.000000 289.161153 h602.400000\" class=\"guide line\" /><text x=\"-5\" y=\"292.66115256500836\" class=\"\">4000</text><title>4000</title></g><g class=\"guides\"><path d=\"M0.000000 241.797595 h602.400000\" class=\"major guide line\" /><text x=\"-5\" y=\"245.29759455241432\" class=\"major\">5000</text><title>5000</title></g><g class=\"guides\"><path d=\"M0.000000 194.434037 h602.400000\" class=\"guide line\" /><text x=\"-5\" y=\"197.93403653982028\" class=\"\">6000</text><title>6000</title></g><g class=\"guides\"><path d=\"M0.000000 147.070479 h602.400000\" class=\"guide line\" /><text x=\"-5\" y=\"150.57047852722621\" class=\"\">7000</text><title>7000</title></g><g class=\"guides\"><path d=\"M0.000000 99.706921 h602.400000\" class=\"guide line\" /><text x=\"-5\" y=\"103.2069205146322\" class=\"\">8000</text><title>8000</title></g><g class=\"guides\"><path d=\"M0.000000 52.343363 h602.400000\" class=\"guide line\" /><text x=\"-5\" y=\"55.84336250203819\" class=\"\">9000</text><title>9000</title></g></g><g class=\"axis x\"><path d=\"M0.000000 0.000000 v488.000000\" class=\"line\" /><g class=\"guides\"><path d=\"M43.764103 0.000000 v488.000000\" class=\"axis guide line\" /><text x=\"43.76410256410256\" y=\"503.0\" class=\"\">0</text></g><g class=\"guides\"><path d=\"M108.123077 0.000000 v488.000000\" class=\"guide line\" /><text x=\"108.1230769230769\" y=\"503.0\" class=\"\">0.5</text></g><g class=\"guides\"><path d=\"M172.482051 0.000000 v488.000000\" class=\"guide line\" /><text x=\"172.4820512820513\" y=\"503.0\" class=\"\">1</text></g><g class=\"guides\"><path d=\"M236.841026 0.000000 v488.000000\" class=\"guide line\" /><text x=\"236.84102564102565\" y=\"503.0\" class=\"\">1.5</text></g><g class=\"guides\"><path d=\"M301.200000 0.000000 v488.000000\" class=\"guide line\" /><text x=\"301.2\" y=\"503.0\" class=\"\">2</text></g><g class=\"guides\"><path d=\"M365.558974 0.000000 v488.000000\" class=\"guide line\" /><text x=\"365.5589743589744\" y=\"503.0\" class=\"\">2.5</text></g><g class=\"guides\"><path d=\"M429.917949 0.000000 v488.000000\" class=\"guide line\" /><text x=\"429.9179487179487\" y=\"503.0\" class=\"\">3</text></g><g class=\"guides\"><path d=\"M494.276923 0.000000 v488.000000\" class=\"guide line\" /><text x=\"494.2769230769231\" y=\"503.0\" class=\"\">3.5</text></g><g class=\"guides\"><path d=\"M558.635897 0.000000 v488.000000\" class=\"guide line\" /><text x=\"558.6358974358974\" y=\"503.0\" class=\"\">4</text></g></g><g class=\"series serie-0 color-0\"><g class=\"bars\"><g class=\"bar\"><rect x=\"16.125784615384614\" y=\"9.384615384615415\" rx=\"0\" ry=\"0\" width=\"9.967917948717947\" height=\"469.2307692307692\" class=\"rect reactive tooltip-trigger\" /><desc class=\"value\">9907</desc><desc class=\"x centered\">21.109743589743587</desc><desc class=\"y centered\">244.00000000000003</desc><desc class=\"x_label\">0</desc></g><g class=\"bar\"><rect x=\"80.48475897435895\" y=\"19.662507473348285\" rx=\"0\" ry=\"0\" width=\"9.967917948717947\" height=\"458.95287714203636\" class=\"rect reactive tooltip-trigger\" /><desc class=\"value\">9690</desc><desc class=\"x centered\">85.46871794871792</desc><desc class=\"y centered\">249.13894604436646</desc><desc class=\"x_label\">0.5</desc></g><g class=\"bar\"><rect x=\"144.8437333333333\" y=\"19.141508335209778\" rx=\"0\" ry=\"0\" width=\"9.967917948717947\" height=\"459.47387628017486\" class=\"rect reactive tooltip-trigger\" /><desc class=\"value\">9701</desc><desc class=\"x centered\">149.82769230769227</desc><desc class=\"y centered\">248.8784464752972</desc><desc class=\"x_label\">1</desc></g><g class=\"bar\"><rect x=\"209.20270769230765\" y=\"20.657142191612763\" rx=\"0\" ry=\"0\" width=\"9.967917948717947\" height=\"457.9582424237719\" class=\"rect reactive tooltip-trigger\" /><desc class=\"value\">9669</desc><desc class=\"x centered\">214.18666666666664</desc><desc class=\"y centered\">249.6362634034987</desc><desc class=\"x_label\">1.5</desc></g><g class=\"bar\"><rect x=\"273.561682051282\" y=\"18.80996342912158\" rx=\"0\" ry=\"0\" width=\"9.967917948717947\" height=\"459.80542118626306\" class=\"rect reactive tooltip-trigger\" /><desc class=\"value\">9708</desc><desc class=\"x centered\">278.545641025641</desc><desc class=\"y centered\">248.7126740222531</desc><desc class=\"x_label\">2</desc></g><g class=\"bar\"><rect x=\"337.9206564102564\" y=\"41.35501704311639\" rx=\"0\" ry=\"0\" width=\"9.967917948717947\" height=\"437.26036757226825\" class=\"rect reactive tooltip-trigger\" /><desc class=\"value\">9232</desc><desc class=\"x centered\">342.9046153846154</desc><desc class=\"y centered\">259.9852008292505</desc><desc class=\"x_label\">2.5</desc></g><g class=\"bar\"><rect x=\"402.2796307692307\" y=\"12.321155981396203\" rx=\"0\" ry=\"0\" width=\"9.967917948717947\" height=\"466.29422863398844\" class=\"rect reactive tooltip-trigger\" /><desc class=\"value\">9845</desc><desc class=\"x centered\">407.2635897435897</desc><desc class=\"y centered\">245.46827029839042</desc><desc class=\"x_label\">3</desc></g><g class=\"bar\"><rect x=\"466.63860512820514\" y=\"103.63809582967747\" rx=\"0\" ry=\"0\" width=\"9.967917948717947\" height=\"374.9772887857072\" class=\"rect reactive tooltip-trigger\" /><desc class=\"value\">7917</desc><desc class=\"x centered\">471.6225641025641</desc><desc class=\"y centered\">291.12674022253105</desc><desc class=\"x_label\">3.5</desc></g><g class=\"bar\"><rect x=\"530.9975794871795\" y=\"265.62146423274913\" rx=\"0\" ry=\"0\" width=\"9.967917948717947\" height=\"212.9939203826355\" class=\"rect reactive tooltip-trigger\" /><desc class=\"value\">4497</desc><desc class=\"x centered\">535.9815384615384</desc><desc class=\"y centered\">372.1184244240669</desc><desc class=\"x_label\">4</desc></g></g></g><g class=\"series serie-1 color-1\"><g class=\"bars\"><g class=\"bar\"><rect x=\"27.4529641025641\" y=\"9.574069616665781\" rx=\"0\" ry=\"0\" width=\"9.967917948717947\" height=\"469.04131499871886\" class=\"rect reactive tooltip-trigger\" /><desc class=\"value\">9903</desc><desc class=\"x centered\">32.43692307692307</desc><desc class=\"y centered\">244.0947271160252</desc><desc class=\"x_label\">0</desc></g><g class=\"bar\"><rect x=\"91.81193846153845\" y=\"478.61538461538464\" rx=\"0\" ry=\"0\" width=\"9.967917948717947\" height=\"0.0\" class=\"rect reactive tooltip-trigger\" /><desc class=\"value\">0</desc><desc class=\"x centered\">96.79589743589742</desc><desc class=\"y centered\">478.61538461538464</desc><desc class=\"x_label\">0.5</desc></g><g class=\"bar\"><rect x=\"156.17091282051277\" y=\"19.709871031360876\" rx=\"0\" ry=\"0\" width=\"9.967917948717947\" height=\"458.90551358402377\" class=\"rect reactive tooltip-trigger\" /><desc class=\"value\">9689</desc><desc class=\"x centered\">161.15487179487175</desc><desc class=\"y centered\">249.16262782337276</desc><desc class=\"x_label\">1</desc></g><g class=\"bar\"><rect x=\"220.52988717948713\" y=\"478.61538461538464\" rx=\"0\" ry=\"0\" width=\"9.967917948717947\" height=\"0.0\" class=\"rect reactive tooltip-trigger\" /><desc class=\"value\">0</desc><desc class=\"x centered\">225.51384615384612</desc><desc class=\"y centered\">478.61538461538464</desc><desc class=\"x_label\">1.5</desc></g><g class=\"bar\"><rect x=\"284.88886153846147\" y=\"127.41460195199966\" rx=\"0\" ry=\"0\" width=\"9.967917948717947\" height=\"351.200782663385\" class=\"rect reactive tooltip-trigger\" /><desc class=\"value\">7415</desc><desc class=\"x centered\">289.87282051282045</desc><desc class=\"y centered\">303.01499328369215</desc><desc class=\"x_label\">2</desc></g><g class=\"bar\"><rect x=\"349.2478358974359\" y=\"478.61538461538464\" rx=\"0\" ry=\"0\" width=\"9.967917948717947\" height=\"0.0\" class=\"rect reactive tooltip-trigger\" /><desc class=\"value\">0</desc><desc class=\"x centered\">354.2317948717949</desc><desc class=\"y centered\">478.61538461538464</desc><desc class=\"x_label\">2.5</desc></g><g class=\"bar\"><rect x=\"413.6068102564102\" y=\"132.57722977537242\" rx=\"0\" ry=\"0\" width=\"9.967917948717947\" height=\"346.0381548400122\" class=\"rect reactive tooltip-trigger\" /><desc class=\"value\">7306</desc><desc class=\"x centered\">418.5907692307692</desc><desc class=\"y centered\">305.59630719537853</desc><desc class=\"x_label\">3</desc></g><g class=\"bar\"><rect x=\"477.9657846153846\" y=\"478.61538461538464\" rx=\"0\" ry=\"0\" width=\"9.967917948717947\" height=\"0.0\" class=\"rect reactive tooltip-trigger\" /><desc class=\"value\">0</desc><desc class=\"x centered\">482.9497435897436</desc><desc class=\"y centered\">478.61538461538464</desc><desc class=\"x_label\">3.5</desc></g><g class=\"bar\"><rect x=\"542.3247589743589\" y=\"268.79482261959294\" rx=\"0\" ry=\"0\" width=\"9.967917948717947\" height=\"209.8205619957917\" class=\"rect reactive tooltip-trigger\" /><desc class=\"value\">4430</desc><desc class=\"x centered\">547.3087179487179</desc><desc class=\"y centered\">373.7051036174888</desc><desc class=\"x_label\">4</desc></g></g></g><g class=\"series serie-2 color-2\"><g class=\"bars\"><g class=\"bar\"><rect x=\"38.78014358974359\" y=\"18.47841852303344\" rx=\"0\" ry=\"0\" width=\"9.967917948717947\" height=\"460.1369660923512\" class=\"rect reactive tooltip-trigger\" /><desc class=\"value\">9715</desc><desc class=\"x centered\">43.76410256410256</desc><desc class=\"y centered\">248.54690156920904</desc><desc class=\"x_label\">0</desc></g><g class=\"bar\"><rect x=\"103.13911794871792\" y=\"478.61538461538464\" rx=\"0\" ry=\"0\" width=\"9.967917948717947\" height=\"0.0\" class=\"rect reactive tooltip-trigger\" /><desc class=\"value\">0</desc><desc class=\"x centered\">108.1230769230769</desc><desc class=\"y centered\">478.61538461538464</desc><desc class=\"x_label\">0.5</desc></g><g class=\"bar\"><rect x=\"167.49809230769227\" y=\"478.61538461538464\" rx=\"0\" ry=\"0\" width=\"9.967917948717947\" height=\"0.0\" class=\"rect reactive tooltip-trigger\" /><desc class=\"value\">0</desc><desc class=\"x centered\">172.48205128205126</desc><desc class=\"y centered\">478.61538461538464</desc><desc class=\"x_label\">1</desc></g><g class=\"bar\"><rect x=\"231.85706666666664\" y=\"478.61538461538464\" rx=\"0\" ry=\"0\" width=\"9.967917948717947\" height=\"0.0\" class=\"rect reactive tooltip-trigger\" /><desc class=\"value\">0</desc><desc class=\"x centered\">236.84102564102562</desc><desc class=\"y centered\">478.61538461538464</desc><desc class=\"x_label\">1.5</desc></g><g class=\"bar\"><rect x=\"296.21604102564095\" y=\"475.48938978655343\" rx=\"0\" ry=\"0\" width=\"9.967917948717947\" height=\"3.1259948288312103\" class=\"rect reactive tooltip-trigger\" /><desc class=\"value\">66</desc><desc class=\"x centered\">301.19999999999993</desc><desc class=\"y centered\">477.05238720096906</desc><desc class=\"x_label\">2</desc></g><g class=\"bar\"><rect x=\"360.57501538461537\" y=\"478.61538461538464\" rx=\"0\" ry=\"0\" width=\"9.967917948717947\" height=\"0.0\" class=\"rect reactive tooltip-trigger\" /><desc class=\"value\">0</desc><desc class=\"x centered\">365.55897435897435</desc><desc class=\"y centered\">478.61538461538464</desc><desc class=\"x_label\">2.5</desc></g><g class=\"bar\"><rect x=\"424.9339897435897\" y=\"478.61538461538464\" rx=\"0\" ry=\"0\" width=\"9.967917948717947\" height=\"0.0\" class=\"rect reactive tooltip-trigger\" /><desc class=\"value\">0</desc><desc class=\"x centered\">429.91794871794866</desc><desc class=\"y centered\">478.61538461538464</desc><desc class=\"x_label\">3</desc></g><g class=\"bar\"><rect x=\"489.2929641025641\" y=\"478.61538461538464\" rx=\"0\" ry=\"0\" width=\"9.967917948717947\" height=\"0.0\" class=\"rect reactive tooltip-trigger\" /><desc class=\"value\">0</desc><desc class=\"x centered\">494.2769230769231</desc><desc class=\"y centered\">478.61538461538464</desc><desc class=\"x_label\">3.5</desc></g><g class=\"bar\"><rect x=\"553.6519384615384\" y=\"473.54748390803707\" rx=\"0\" ry=\"0\" width=\"9.967917948717947\" height=\"5.067900707347576\" class=\"rect reactive tooltip-trigger\" /><desc class=\"value\">107</desc><desc class=\"x centered\">558.6358974358974</desc><desc class=\"y centered\">476.08143426171085</desc><desc class=\"x_label\">4</desc></g></g></g><g class=\"series serie-3 color-3\"><g class=\"bars\"><g class=\"bar\"><rect x=\"50.107323076923066\" y=\"37.56593240210884\" rx=\"0\" ry=\"0\" width=\"9.967917948717947\" height=\"441.0494522132758\" class=\"rect reactive tooltip-trigger\" /><desc class=\"value\">9312</desc><desc class=\"x centered\">55.091282051282036</desc><desc class=\"y centered\">258.09065850874674</desc><desc class=\"x_label\">0</desc></g><g class=\"bar\"><rect x=\"114.4662974358974\" y=\"478.61538461538464\" rx=\"0\" ry=\"0\" width=\"9.967917948717947\" height=\"0.0\" class=\"rect reactive tooltip-trigger\" /><desc class=\"value\">0</desc><desc class=\"x centered\">119.45025641025637</desc><desc class=\"y centered\">478.61538461538464</desc><desc class=\"x_label\">0.5</desc></g><g class=\"bar\"><rect x=\"178.82527179487175\" y=\"478.61538461538464\" rx=\"0\" ry=\"0\" width=\"9.967917948717947\" height=\"0.0\" class=\"rect reactive tooltip-trigger\" /><desc class=\"value\">0</desc><desc class=\"x centered\">183.80923076923074</desc><desc class=\"y centered\">478.61538461538464</desc><desc class=\"x_label\">1</desc></g><g class=\"bar\"><rect x=\"243.18424615384612\" y=\"478.61538461538464\" rx=\"0\" ry=\"0\" width=\"9.967917948717947\" height=\"0.0\" class=\"rect reactive tooltip-trigger\" /><desc class=\"value\">0</desc><desc class=\"x centered\">248.1682051282051</desc><desc class=\"y centered\">478.61538461538464</desc><desc class=\"x_label\">1.5</desc></g><g class=\"bar\"><rect x=\"307.5432205128204\" y=\"145.7916624608862\" rx=\"0\" ry=\"0\" width=\"9.967917948717947\" height=\"332.82372215449845\" class=\"rect reactive tooltip-trigger\" /><desc class=\"value\">7027</desc><desc class=\"x centered\">312.5271794871794</desc><desc class=\"y centered\">312.2035235381354</desc><desc class=\"x_label\">2</desc></g><g class=\"bar\"><rect x=\"371.90219487179485\" y=\"478.61538461538464\" rx=\"0\" ry=\"0\" width=\"9.967917948717947\" height=\"0.0\" class=\"rect reactive tooltip-trigger\" /><desc class=\"value\">0</desc><desc class=\"x centered\">376.88615384615383</desc><desc class=\"y centered\">478.61538461538464</desc><desc class=\"x_label\">2.5</desc></g><g class=\"bar\"><rect x=\"436.26116923076916\" y=\"478.61538461538464\" rx=\"0\" ry=\"0\" width=\"9.967917948717947\" height=\"0.0\" class=\"rect reactive tooltip-trigger\" /><desc class=\"value\">0</desc><desc class=\"x centered\">441.24512820512814</desc><desc class=\"y centered\">478.61538461538464</desc><desc class=\"x_label\">3</desc></g><g class=\"bar\"><rect x=\"500.6201435897436\" y=\"478.61538461538464\" rx=\"0\" ry=\"0\" width=\"9.967917948717947\" height=\"0.0\" class=\"rect reactive tooltip-trigger\" /><desc class=\"value\">0</desc><desc class=\"x centered\">505.60410256410256</desc><desc class=\"y centered\">478.61538461538464</desc><desc class=\"x_label\">3.5</desc></g><g class=\"bar\"><rect x=\"564.9791179487179\" y=\"344.86069678781905\" rx=\"0\" ry=\"0\" width=\"9.967917948717947\" height=\"133.7546878275656\" class=\"rect reactive tooltip-trigger\" /><desc class=\"value\">2824</desc><desc class=\"x centered\">569.9630769230769</desc><desc class=\"y centered\">411.73804070160185</desc><desc class=\"x_label\">4</desc></g></g></g><g class=\"series serie-4 color-4\"><g class=\"bars\"><g class=\"bar\"><rect x=\"61.43450256410256\" y=\"34.487301131290224\" rx=\"0\" ry=\"0\" width=\"9.967917948717947\" height=\"444.1280834840944\" class=\"rect reactive tooltip-trigger\" /><desc class=\"value\">9377</desc><desc class=\"x centered\">66.41846153846153</desc><desc class=\"y centered\">256.55134287333743</desc><desc class=\"x_label\">0</desc></g><g class=\"bar\"><rect x=\"125.7934769230769\" y=\"478.61538461538464\" rx=\"0\" ry=\"0\" width=\"9.967917948717947\" height=\"0.0\" class=\"rect reactive tooltip-trigger\" /><desc class=\"value\">0</desc><desc class=\"x centered\">130.77743589743588</desc><desc class=\"y centered\">478.61538461538464</desc><desc class=\"x_label\">0.5</desc></g><g class=\"bar\"><rect x=\"190.15245128205123\" y=\"478.61538461538464\" rx=\"0\" ry=\"0\" width=\"9.967917948717947\" height=\"0.0\" class=\"rect reactive tooltip-trigger\" /><desc class=\"value\">0</desc><desc class=\"x centered\">195.13641025641022</desc><desc class=\"y centered\">478.61538461538464</desc><desc class=\"x_label\">1</desc></g><g class=\"bar\"><rect x=\"254.5114256410256\" y=\"478.61538461538464\" rx=\"0\" ry=\"0\" width=\"9.967917948717947\" height=\"0.0\" class=\"rect reactive tooltip-trigger\" /><desc class=\"value\">0</desc><desc class=\"x centered\">259.4953846153846</desc><desc class=\"y centered\">478.61538461538464</desc><desc class=\"x_label\">1.5</desc></g><g class=\"bar\"><rect x=\"318.87039999999996\" y=\"140.48694396347565\" rx=\"0\" ry=\"0\" width=\"9.967917948717947\" height=\"338.128440651909\" class=\"rect reactive tooltip-trigger\" /><desc class=\"value\">7139</desc><desc class=\"x centered\">323.85435897435895</desc><desc class=\"y centered\">309.5511642894302</desc><desc class=\"x_label\">2</desc></g><g class=\"bar\"><rect x=\"383.2293743589743\" y=\"478.61538461538464\" rx=\"0\" ry=\"0\" width=\"9.967917948717947\" height=\"0.0\" class=\"rect reactive tooltip-trigger\" /><desc class=\"value\">0</desc><desc class=\"x centered\">388.2133333333333</desc><desc class=\"y centered\">478.61538461538464</desc><desc class=\"x_label\">2.5</desc></g><g class=\"bar\"><rect x=\"447.5883487179487\" y=\"478.61538461538464\" rx=\"0\" ry=\"0\" width=\"9.967917948717947\" height=\"0.0\" class=\"rect reactive tooltip-trigger\" /><desc class=\"value\">0</desc><desc class=\"x centered\">452.5723076923077</desc><desc class=\"y centered\">478.61538461538464</desc><desc class=\"x_label\">3</desc></g><g class=\"bar\"><rect x=\"511.94732307692306\" y=\"478.61538461538464\" rx=\"0\" ry=\"0\" width=\"9.967917948717947\" height=\"0.0\" class=\"rect reactive tooltip-trigger\" /><desc class=\"value\">0</desc><desc class=\"x centered\">516.931282051282</desc><desc class=\"y centered\">478.61538461538464</desc><desc class=\"x_label\">3.5</desc></g><g class=\"bar\"><rect x=\"576.3062974358974\" y=\"345.47642304198274\" rx=\"0\" ry=\"0\" width=\"9.967917948717947\" height=\"133.1389615734019\" class=\"rect reactive tooltip-trigger\" /><desc class=\"value\">2811</desc><desc class=\"x centered\">581.2902564102563</desc><desc class=\"y centered\">412.04590382868366</desc><desc class=\"x_label\">4</desc></g></g></g></g><g class=\"titles\"><text x=\"400.0\" y=\"26\" class=\"title plot_title\">Nr. subjects per visit</text><text x=\"478.79999999999995\" y=\"580\" class=\"title\">Years since baseline visit</text><text x=\"97.6\" y=\"316.0\" class=\"title\" transform=\"rotate(-90 97.600000 290.000000)\">Nr. subjects</text></g><g transform=\"translate(177, 46)\" class=\"plot overlay\"><g class=\"series serie-0 color-0\" /><g class=\"series serie-1 color-1\" /><g class=\"series serie-2 color-2\" /><g class=\"series serie-3 color-3\" /><g class=\"series serie-4 color-4\" /></g><g transform=\"translate(177, 46)\" class=\"plot text-overlay\"><g class=\"series serie-0 color-0\" /><g class=\"series serie-1 color-1\" /><g class=\"series serie-2 color-2\" /><g class=\"series serie-3 color-3\" /><g class=\"series serie-4 color-4\" /></g><g transform=\"translate(177, 46)\" class=\"plot tooltip-overlay\"><g transform=\"translate(0 0)\" style=\"opacity: 0\" class=\"tooltip\"><rect rx=\"0\" ry=\"0\" width=\"0\" height=\"0\" class=\"tooltip-box\" /><g class=\"text\" /></g></g><g transform=\"translate(10, 56)\" class=\"legends\"><g id=\"activate-serie-0\" class=\"legend reactive activate-serie\"><rect x=\"0.0\" y=\"1.0\" width=\"12\" height=\"12\" class=\"color-0 reactive\" /><text x=\"17.0\" y=\"11.2\">General</text></g><g id=\"activate-serie-1\" class=\"legend reactive activate-serie\"><rect x=\"0.0\" y=\"22.0\" width=\"12\" height=\"12\" class=\"color-1 reactive\" /><text x=\"17.0\" y=\"32.2\">CBCL</text></g><g id=\"activate-serie-2\" class=\"legend reactive activate-serie\"><rect x=\"0.0\" y=\"43.0\" width=\"12\" height=\"12\" class=\"color-2 reactive\" /><text x=\"17.0\" y=\"53.2\">Neurocog.</text></g><g id=\"activate-serie-3\" class=\"legend reactive activate-serie\"><rect x=\"0.0\" y=\"64.0\" width=\"12\" height=\"12\" class=\"color-3 reactive\" /><text x=\"17.0\" y=\"74.2\">sMRI</text></g><g id=\"activate-serie-4\" class=\"legend reactive activate-serie\"><rect x=\"0.0\" y=\"85.0\" width=\"12\" height=\"12\" class=\"color-4 reactive\" /><text x=\"17.0\" y=\"95.2\">fMRI</text></g></g><g transform=\"translate(790, 56)\" class=\"legends\" /></g></svg>\n",
       "        </figure>\n",
       "    </body>\n",
       "    </html>\n",
       "    "
      ],
      "text/plain": [
       "<IPython.core.display.HTML object>"
      ]
     },
     "metadata": {},
     "output_type": "display_data"
    }
   ],
   "source": [
    "visit_ixs = [0, 0.5, 1, 1.5, 2, 2.5, 3, 3.5, 4]\n",
    "visit_names = {0: \"baseline_year_1_arm_1\", 0.5: \"6_month_follow_up_arm_1\", 1: \"1_year_follow_up_y_arm_1\", 1.5: \"18_month_follow_up_arm_1\", 2: \"2_year_follow_up_y_arm_1\", 2.5: \"30_month_follow_up_arm_1\", 3: \"3_year_follow_up_y_arm_1\", 3.5: \"42_month_follow_up_arm_1\", 4: \"4_year_follow_up_y_arm_1\"}\n",
    "custom_style = pygal.style.Style(\n",
    "    colors=tuple([palette['mid_gray'], palette['red'], palette['purple'], palette['mint'], palette['light_blue']])\n",
    "    )\n",
    "bar_chart = pygal.Bar(x_label_rotation=45, style=custom_style)\n",
    "\n",
    "plot = pygal.Bar(style=custom_style)\n",
    "plot.title = \"Nr. subjects per visit\"\n",
    "plot.x_labels = visit_ixs\n",
    "plot.x_title = \"Years since baseline visit\"\n",
    "plot.y_title = \"Nr. subjects\"\n",
    "for df_name, df in dfs.items():\n",
    "    nr_subjects = [len(df[\"eventname\"].loc[(df[\"eventname\"] == visit_names[visit_ix])]) for visit_ix in visit_ixs]\n",
    "    plot.add(df_name, nr_subjects)\n",
    "display_html(plot)"
   ]
  }
 ],
 "metadata": {
  "kernelspec": {
   "display_name": "abcd",
   "language": "python",
   "name": "python3"
  },
  "language_info": {
   "codemirror_mode": {
    "name": "ipython",
    "version": 3
   },
   "file_extension": ".py",
   "mimetype": "text/x-python",
   "name": "python",
   "nbconvert_exporter": "python",
   "pygments_lexer": "ipython3",
   "version": "3.11.4"
  },
  "orig_nbformat": 4
 },
 "nbformat": 4,
 "nbformat_minor": 2
}
