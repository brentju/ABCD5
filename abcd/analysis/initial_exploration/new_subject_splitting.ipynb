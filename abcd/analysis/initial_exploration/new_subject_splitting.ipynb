{
 "cells": [
  {
   "cell_type": "code",
   "execution_count": 2,
   "metadata": {},
   "outputs": [],
   "source": [
    "%load_ext autoreload\n",
    "%autoreload 2"
   ]
  },
  {
   "cell_type": "code",
   "execution_count": 5,
   "metadata": {},
   "outputs": [],
   "source": [
    "import os\n",
    "import pandas as pd\n",
    "from tqdm import tqdm\n",
    "import abcd.data.VARS as VARS\n",
    "from abcd.local.paths import core_path, output_path\n",
    "from abcd.data.read_data import add_event_vars, filter_subjects, add_subject_sex, get_subjects_events_sf, filter_df_by_visits, add_subject_vars, filter_events, get_subjects_events_visits\n",
    "from abcd.data.define_splits import SITES, save_restore_visit_splits"
   ]
  },
  {
   "cell_type": "code",
   "execution_count": 3,
   "metadata": {},
   "outputs": [
    {
     "name": "stdout",
     "output_type": "stream",
     "text": [
      "There are 19327 visits and 9749 subjects\n"
     ]
    }
   ],
   "source": [
    "subjects_df, events_df = get_subjects_events_sf()\n",
    "print(\"There are {} visits and {} subjects\".format(len(events_df), len(subjects_df)))   "
   ]
  },
  {
   "cell_type": "code",
   "execution_count": 4,
   "metadata": {},
   "outputs": [
    {
     "name": "stderr",
     "output_type": "stream",
     "text": [
      "100%|██████████| 9749/9749 [00:11<00:00, 856.31it/s] \n"
     ]
    },
    {
     "name": "stdout",
     "output_type": "stream",
     "text": [
      "There are 9377 visits and 9377 subjects\n"
     ]
    }
   ],
   "source": [
    "visits = ['baseline_year_1_arm_1']#, '2_year_follow_up_y_arm_1']\n",
    "subjects_df, events_df = filter_df_by_visits(subjects_df, events_df, visits = visits)\n",
    "print(\"There are {} visits and {} subjects\".format(len(events_df), len(subjects_df)))  \n"
   ]
  },
  {
   "cell_type": "code",
   "execution_count": 5,
   "metadata": {},
   "outputs": [
    {
     "name": "stderr",
     "output_type": "stream",
     "text": [
      "c:\\users\\camgonza\\desktop\\abcd5\\abcd\\utils\\io.py:25: DtypeWarning: Columns (49) have mixed types. Specify dtype option on import or set low_memory=False.\n",
      "  df = pd.read_csv(path, sep=sep, usecols=cols)\n",
      "100%|██████████| 9377/9377 [00:28<00:00, 329.18it/s]"
     ]
    },
    {
     "name": "stdout",
     "output_type": "stream",
     "text": [
      "There are 9233 subjects\n"
     ]
    },
    {
     "name": "stderr",
     "output_type": "stream",
     "text": [
      "\n"
     ]
    }
   ],
   "source": [
    "# Adding per-subject NIH Neurocognition scores\n",
    "subjects_df_nih = add_subject_vars(subjects_df, VARS.NIH_PATH, vars=list(VARS.NIH_TESTS_uncorrected.keys()), leave_first=True)\n",
    "print(\"There are {} subjects\".format(len(subjects_df_nih)))"
   ]
  },
  {
   "cell_type": "code",
   "execution_count": 6,
   "metadata": {},
   "outputs": [
    {
     "name": "stderr",
     "output_type": "stream",
     "text": [
      "100%|██████████| 9377/9377 [00:34<00:00, 268.68it/s]\n"
     ]
    },
    {
     "name": "stdout",
     "output_type": "stream",
     "text": [
      "There are 8670 subjects\n"
     ]
    }
   ],
   "source": [
    "# Adding per-subject household income information\n",
    "subjects_df_income = add_subject_vars(subjects_df, VARS.DEMO_PATH, vars=[\"demo_comb_income_v2\"], leave_first=True)\n",
    "subjects_df_income = subjects_df_income[subjects_df_income['demo_comb_income_v2'].isin(VARS.VALUES['demo_comb_income_v2'].keys())] # Filtering our 777 and 999\n",
    "print(\"There are {} subjects\".format(len(subjects_df_income)))"
   ]
  },
  {
   "cell_type": "code",
   "execution_count": 7,
   "metadata": {},
   "outputs": [
    {
     "name": "stderr",
     "output_type": "stream",
     "text": [
      "100%|██████████| 9373/9373 [00:08<00:00, 1156.73it/s]\n"
     ]
    },
    {
     "name": "stdout",
     "output_type": "stream",
     "text": [
      "There are 9373 visits and 9373 subjects\n"
     ]
    }
   ],
   "source": [
    "# Adding per-visit CBCL scores\n",
    "events_df_cbcl = add_event_vars(events_df, VARS.CBCL_PATH, vars=list(VARS.CBCL_SCORES_t.keys()))\n",
    "events_df_cbcl = events_df_cbcl.dropna() \n",
    "subjects_df_cbcl, events_df_cbcl = filter_df_by_visits(subjects_df, events_df_cbcl, visits=visits)\n",
    "print(\"There are {} visits and {} subjects\".format(len(events_df_cbcl), len(subjects_df_cbcl)))   "
   ]
  },
  {
   "cell_type": "code",
   "execution_count": 8,
   "metadata": {},
   "outputs": [
    {
     "name": "stderr",
     "output_type": "stream",
     "text": [
      "100%|██████████| 9376/9376 [00:07<00:00, 1242.65it/s]\n"
     ]
    },
    {
     "name": "stdout",
     "output_type": "stream",
     "text": [
      "There are 9376 visits and 9376 subjects\n"
     ]
    }
   ],
   "source": [
    "# Adding per-visit sleep information\n",
    "events_df_sleep = add_event_vars(events_df, VARS.SLEEP_PATHS['sleepdisturb1_p'], vars=['sleepdisturb1_p', 'sleepdisturb2_p'])\n",
    "events_df_sleep = events_df_sleep.dropna() \n",
    "subjects_df_sleep, events_df_sleep = filter_df_by_visits(subjects_df, events_df_sleep, visits=visits)\n",
    "print(\"There are {} visits and {} subjects\".format(len(events_df_sleep), len(subjects_df_sleep)))   "
   ]
  },
  {
   "cell_type": "code",
   "execution_count": 5,
   "metadata": {},
   "outputs": [
    {
     "name": "stderr",
     "output_type": "stream",
     "text": [
      "c:\\users\\camgonza\\desktop\\abcd5\\abcd\\utils\\io.py:25: DtypeWarning: Columns (49) have mixed types. Specify dtype option on import or set low_memory=False.\n",
      "  df = pd.read_csv(path, sep=sep, usecols=cols)\n",
      "100%|██████████| 9377/9377 [00:24<00:00, 378.60it/s]\n",
      "100%|██████████| 9233/9233 [00:34<00:00, 264.09it/s]\n"
     ]
    },
    {
     "name": "stdout",
     "output_type": "stream",
     "text": [
      "There are 8537 visits and 8537 subjects\n"
     ]
    },
    {
     "name": "stderr",
     "output_type": "stream",
     "text": [
      "100%|██████████| 8535/8535 [00:17<00:00, 490.24it/s]\n"
     ]
    },
    {
     "name": "stdout",
     "output_type": "stream",
     "text": [
      "There are 8535 visits and 8535 subjects\n"
     ]
    },
    {
     "name": "stderr",
     "output_type": "stream",
     "text": [
      "100%|██████████| 8535/8535 [00:13<00:00, 635.24it/s]\n"
     ]
    },
    {
     "name": "stdout",
     "output_type": "stream",
     "text": [
      "There are 8535 visits and 8535 subjects\n"
     ]
    }
   ],
   "source": [
    "# All together\n",
    "subjects_df = add_subject_vars(subjects_df, VARS.NIH_PATH, vars=list(VARS.NIH_TESTS_uncorrected.keys()), leave_first=True)\n",
    "subjects_df = add_subject_vars(subjects_df, VARS.DEMO_PATH, vars=[\"demo_comb_income_v2\"], leave_first=True)\n",
    "subjects_df = subjects_df[subjects_df['demo_comb_income_v2'].isin(VARS.VALUES['demo_comb_income_v2'].keys())] # Filtering our 777 and 999\n",
    "events_df = filter_events(subjects_df, events_df)\n",
    "print(\"There are {} visits and {} subjects\".format(len(events_df), len(subjects_df))) \n",
    "events_df = add_event_vars(events_df, VARS.CBCL_PATH, vars=list(VARS.CBCL_SCORES_t.keys()))\n",
    "events_df = events_df.dropna() \n",
    "subjects_df, events_df = filter_df_by_visits(subjects_df, events_df, visits=visits)\n",
    "print(\"There are {} visits and {} subjects\".format(len(events_df), len(subjects_df))) \n",
    "events_df = add_event_vars(events_df, VARS.SLEEP_PATHS['sleepdisturb1_p'], vars=['sleepdisturb1_p', 'sleepdisturb2_p'])\n",
    "events_df = events_df.dropna() \n",
    "subjects_df, events_df = filter_df_by_visits(subjects_df, events_df, visits=visits)\n",
    "print(\"There are {} visits and {} subjects\".format(len(events_df), len(subjects_df))) "
   ]
  },
  {
   "cell_type": "code",
   "execution_count": 10,
   "metadata": {},
   "outputs": [
    {
     "name": "stderr",
     "output_type": "stream",
     "text": [
      "100%|██████████| 9749/9749 [00:11<00:00, 885.87it/s] \n",
      "c:\\users\\camgonza\\desktop\\abcd5\\abcd\\utils\\io.py:25: DtypeWarning: Columns (49) have mixed types. Specify dtype option on import or set low_memory=False.\n",
      "  df = pd.read_csv(path, sep=sep, usecols=cols)\n",
      "100%|██████████| 2303/2303 [00:05<00:00, 421.60it/s]\n",
      "100%|██████████| 2278/2278 [00:11<00:00, 196.55it/s]\n",
      "100%|██████████| 2123/2123 [00:02<00:00, 1036.71it/s]\n",
      "100%|██████████| 2106/2106 [00:02<00:00, 1016.97it/s]\n",
      "100%|██████████| 21/21 [00:00<00:00, 64.98it/s]\n"
     ]
    }
   ],
   "source": [
    "k=5\n",
    "visits = ['baseline_year_1_arm_1', '2_year_follow_up_y_arm_1', '4_year_follow_up_y_arm_1']\n",
    "subjects_df, events_df = get_subjects_events_visits(visits)\n",
    "splits = save_restore_visit_splits(visits=visits, k=k)"
   ]
  },
  {
   "cell_type": "code",
   "execution_count": 11,
   "metadata": {},
   "outputs": [
    {
     "data": {
      "text/html": [
       "\n",
       "    <!DOCTYPE html>\n",
       "    <html>\n",
       "    <head>\n",
       "    <script type=\"text/javascript\" src=\"http://kozea.github.com/pygal.js/javascripts/svg.jquery.js\"></script>\n",
       "    <script type=\"text/javascript\" src=\"https://kozea.github.io/pygal.js/2.0.x/pygal-tooltips.min.js\"\"></script>\n",
       "    </head>\n",
       "    <body>\n",
       "        <figure>\n",
       "        <?xml version='1.0' encoding='utf-8'?>\n",
       "<svg xmlns:xlink=\"http://www.w3.org/1999/xlink\" xmlns=\"http://www.w3.org/2000/svg\" id=\"chart-e997eeed-b93b-426a-aeee-4496b49e81c2\" class=\"pygal-chart\" viewBox=\"0 0 800 600\"><!--Generated with pygal 3.0.0 (etree) ©Kozea 2012-2016 on 2023-08-17--><!--http://pygal.org--><!--http://github.com/Kozea/pygal--><defs><style type=\"text/css\">#chart-e997eeed-b93b-426a-aeee-4496b49e81c2{-webkit-user-select:none;-webkit-font-smoothing:antialiased;font-family:Consolas,\"Liberation Mono\",Menlo,Courier,monospace}#chart-e997eeed-b93b-426a-aeee-4496b49e81c2 .title{font-family:Consolas,\"Liberation Mono\",Menlo,Courier,monospace;font-size:16px}#chart-e997eeed-b93b-426a-aeee-4496b49e81c2 .legends .legend text{font-family:Consolas,\"Liberation Mono\",Menlo,Courier,monospace;font-size:14px}#chart-e997eeed-b93b-426a-aeee-4496b49e81c2 .axis text{font-family:Consolas,\"Liberation Mono\",Menlo,Courier,monospace;font-size:10px}#chart-e997eeed-b93b-426a-aeee-4496b49e81c2 .axis text.major{font-family:Consolas,\"Liberation Mono\",Menlo,Courier,monospace;font-size:10px}#chart-e997eeed-b93b-426a-aeee-4496b49e81c2 .text-overlay text.value{font-family:Consolas,\"Liberation Mono\",Menlo,Courier,monospace;font-size:16px}#chart-e997eeed-b93b-426a-aeee-4496b49e81c2 .text-overlay text.label{font-family:Consolas,\"Liberation Mono\",Menlo,Courier,monospace;font-size:10px}#chart-e997eeed-b93b-426a-aeee-4496b49e81c2 .tooltip{font-family:Consolas,\"Liberation Mono\",Menlo,Courier,monospace;font-size:14px}#chart-e997eeed-b93b-426a-aeee-4496b49e81c2 text.no_data{font-family:Consolas,\"Liberation Mono\",Menlo,Courier,monospace;font-size:64px}\n",
       "#chart-e997eeed-b93b-426a-aeee-4496b49e81c2{background-color:rgba(249,249,249,1)}#chart-e997eeed-b93b-426a-aeee-4496b49e81c2 path,#chart-e997eeed-b93b-426a-aeee-4496b49e81c2 line,#chart-e997eeed-b93b-426a-aeee-4496b49e81c2 rect,#chart-e997eeed-b93b-426a-aeee-4496b49e81c2 circle{-webkit-transition:150ms;-moz-transition:150ms;transition:150ms}#chart-e997eeed-b93b-426a-aeee-4496b49e81c2 .graph &gt; .background{fill:rgba(249,249,249,1)}#chart-e997eeed-b93b-426a-aeee-4496b49e81c2 .plot &gt; .background{fill:rgba(255,255,255,1)}#chart-e997eeed-b93b-426a-aeee-4496b49e81c2 .graph{fill:rgba(0,0,0,.87)}#chart-e997eeed-b93b-426a-aeee-4496b49e81c2 text.no_data{fill:rgba(0,0,0,1)}#chart-e997eeed-b93b-426a-aeee-4496b49e81c2 .title{fill:rgba(0,0,0,1)}#chart-e997eeed-b93b-426a-aeee-4496b49e81c2 .legends .legend text{fill:rgba(0,0,0,.87)}#chart-e997eeed-b93b-426a-aeee-4496b49e81c2 .legends .legend:hover text{fill:rgba(0,0,0,1)}#chart-e997eeed-b93b-426a-aeee-4496b49e81c2 .axis .line{stroke:rgba(0,0,0,1)}#chart-e997eeed-b93b-426a-aeee-4496b49e81c2 .axis .guide.line{stroke:rgba(0,0,0,.54)}#chart-e997eeed-b93b-426a-aeee-4496b49e81c2 .axis .major.line{stroke:rgba(0,0,0,.87)}#chart-e997eeed-b93b-426a-aeee-4496b49e81c2 .axis text.major{fill:rgba(0,0,0,1)}#chart-e997eeed-b93b-426a-aeee-4496b49e81c2 .axis.y .guides:hover .guide.line,#chart-e997eeed-b93b-426a-aeee-4496b49e81c2 .line-graph .axis.x .guides:hover .guide.line,#chart-e997eeed-b93b-426a-aeee-4496b49e81c2 .stackedline-graph .axis.x .guides:hover .guide.line,#chart-e997eeed-b93b-426a-aeee-4496b49e81c2 .xy-graph .axis.x .guides:hover .guide.line{stroke:rgba(0,0,0,1)}#chart-e997eeed-b93b-426a-aeee-4496b49e81c2 .axis .guides:hover text{fill:rgba(0,0,0,1)}#chart-e997eeed-b93b-426a-aeee-4496b49e81c2 .reactive{fill-opacity:.7;stroke-opacity:.8;stroke-width:1}#chart-e997eeed-b93b-426a-aeee-4496b49e81c2 .ci{stroke:rgba(0,0,0,.87)}#chart-e997eeed-b93b-426a-aeee-4496b49e81c2 .reactive.active,#chart-e997eeed-b93b-426a-aeee-4496b49e81c2 .active .reactive{fill-opacity:.8;stroke-opacity:.9;stroke-width:4}#chart-e997eeed-b93b-426a-aeee-4496b49e81c2 .ci .reactive.active{stroke-width:1.5}#chart-e997eeed-b93b-426a-aeee-4496b49e81c2 .series text{fill:rgba(0,0,0,1)}#chart-e997eeed-b93b-426a-aeee-4496b49e81c2 .tooltip rect{fill:rgba(255,255,255,1);stroke:rgba(0,0,0,1);-webkit-transition:opacity 150ms;-moz-transition:opacity 150ms;transition:opacity 150ms}#chart-e997eeed-b93b-426a-aeee-4496b49e81c2 .tooltip .label{fill:rgba(0,0,0,.87)}#chart-e997eeed-b93b-426a-aeee-4496b49e81c2 .tooltip .label{fill:rgba(0,0,0,.87)}#chart-e997eeed-b93b-426a-aeee-4496b49e81c2 .tooltip .legend{font-size:.8em;fill:rgba(0,0,0,.54)}#chart-e997eeed-b93b-426a-aeee-4496b49e81c2 .tooltip .x_label{font-size:.6em;fill:rgba(0,0,0,1)}#chart-e997eeed-b93b-426a-aeee-4496b49e81c2 .tooltip .xlink{font-size:.5em;text-decoration:underline}#chart-e997eeed-b93b-426a-aeee-4496b49e81c2 .tooltip .value{font-size:1.5em}#chart-e997eeed-b93b-426a-aeee-4496b49e81c2 .bound{font-size:.5em}#chart-e997eeed-b93b-426a-aeee-4496b49e81c2 .max-value{font-size:.75em;fill:rgba(0,0,0,.54)}#chart-e997eeed-b93b-426a-aeee-4496b49e81c2 .map-element{fill:rgba(255,255,255,1);stroke:rgba(0,0,0,.54) !important}#chart-e997eeed-b93b-426a-aeee-4496b49e81c2 .map-element .reactive{fill-opacity:inherit;stroke-opacity:inherit}#chart-e997eeed-b93b-426a-aeee-4496b49e81c2 .color-0,#chart-e997eeed-b93b-426a-aeee-4496b49e81c2 .color-0 a:visited{stroke:#9AE2E0;fill:#9AE2E0}#chart-e997eeed-b93b-426a-aeee-4496b49e81c2 .color-1,#chart-e997eeed-b93b-426a-aeee-4496b49e81c2 .color-1 a:visited{stroke:#6AB8E8;fill:#6AB8E8}#chart-e997eeed-b93b-426a-aeee-4496b49e81c2 .color-2,#chart-e997eeed-b93b-426a-aeee-4496b49e81c2 .color-2 a:visited{stroke:#A99EEC;fill:#A99EEC}#chart-e997eeed-b93b-426a-aeee-4496b49e81c2 .color-3,#chart-e997eeed-b93b-426a-aeee-4496b49e81c2 .color-3 a:visited{stroke:#FE8AA8;fill:#FE8AA8}#chart-e997eeed-b93b-426a-aeee-4496b49e81c2 .color-4,#chart-e997eeed-b93b-426a-aeee-4496b49e81c2 .color-4 a:visited{stroke:#FFB293;fill:#FFB293}#chart-e997eeed-b93b-426a-aeee-4496b49e81c2 .text-overlay .color-0 text{fill:black}#chart-e997eeed-b93b-426a-aeee-4496b49e81c2 .text-overlay .color-1 text{fill:black}#chart-e997eeed-b93b-426a-aeee-4496b49e81c2 .text-overlay .color-2 text{fill:black}#chart-e997eeed-b93b-426a-aeee-4496b49e81c2 .text-overlay .color-3 text{fill:black}#chart-e997eeed-b93b-426a-aeee-4496b49e81c2 .text-overlay .color-4 text{fill:black}\n",
       "#chart-e997eeed-b93b-426a-aeee-4496b49e81c2 text.no_data{text-anchor:middle}#chart-e997eeed-b93b-426a-aeee-4496b49e81c2 .guide.line{fill:none}#chart-e997eeed-b93b-426a-aeee-4496b49e81c2 .centered{text-anchor:middle}#chart-e997eeed-b93b-426a-aeee-4496b49e81c2 .title{text-anchor:middle}#chart-e997eeed-b93b-426a-aeee-4496b49e81c2 .legends .legend text{fill-opacity:1}#chart-e997eeed-b93b-426a-aeee-4496b49e81c2 .axis.x text{text-anchor:middle}#chart-e997eeed-b93b-426a-aeee-4496b49e81c2 .axis.x:not(.web) text[transform]{text-anchor:start}#chart-e997eeed-b93b-426a-aeee-4496b49e81c2 .axis.x:not(.web) text[transform].backwards{text-anchor:end}#chart-e997eeed-b93b-426a-aeee-4496b49e81c2 .axis.y text{text-anchor:end}#chart-e997eeed-b93b-426a-aeee-4496b49e81c2 .axis.y text[transform].backwards{text-anchor:start}#chart-e997eeed-b93b-426a-aeee-4496b49e81c2 .axis.y2 text{text-anchor:start}#chart-e997eeed-b93b-426a-aeee-4496b49e81c2 .axis.y2 text[transform].backwards{text-anchor:end}#chart-e997eeed-b93b-426a-aeee-4496b49e81c2 .axis .guide.line{stroke-dasharray:4,4;stroke:black}#chart-e997eeed-b93b-426a-aeee-4496b49e81c2 .axis .major.guide.line{stroke-dasharray:6,6;stroke:black}#chart-e997eeed-b93b-426a-aeee-4496b49e81c2 .horizontal .axis.y .guide.line,#chart-e997eeed-b93b-426a-aeee-4496b49e81c2 .horizontal .axis.y2 .guide.line,#chart-e997eeed-b93b-426a-aeee-4496b49e81c2 .vertical .axis.x .guide.line{opacity:0}#chart-e997eeed-b93b-426a-aeee-4496b49e81c2 .horizontal .axis.always_show .guide.line,#chart-e997eeed-b93b-426a-aeee-4496b49e81c2 .vertical .axis.always_show .guide.line{opacity:1 !important}#chart-e997eeed-b93b-426a-aeee-4496b49e81c2 .axis.y .guides:hover .guide.line,#chart-e997eeed-b93b-426a-aeee-4496b49e81c2 .axis.y2 .guides:hover .guide.line,#chart-e997eeed-b93b-426a-aeee-4496b49e81c2 .axis.x .guides:hover .guide.line{opacity:1}#chart-e997eeed-b93b-426a-aeee-4496b49e81c2 .axis .guides:hover text{opacity:1}#chart-e997eeed-b93b-426a-aeee-4496b49e81c2 .nofill{fill:none}#chart-e997eeed-b93b-426a-aeee-4496b49e81c2 .subtle-fill{fill-opacity:.2}#chart-e997eeed-b93b-426a-aeee-4496b49e81c2 .dot{stroke-width:1px;fill-opacity:1;stroke-opacity:1}#chart-e997eeed-b93b-426a-aeee-4496b49e81c2 .dot.active{stroke-width:5px}#chart-e997eeed-b93b-426a-aeee-4496b49e81c2 .dot.negative{fill:transparent}#chart-e997eeed-b93b-426a-aeee-4496b49e81c2 text,#chart-e997eeed-b93b-426a-aeee-4496b49e81c2 tspan{stroke:none !important}#chart-e997eeed-b93b-426a-aeee-4496b49e81c2 .series text.active{opacity:1}#chart-e997eeed-b93b-426a-aeee-4496b49e81c2 .tooltip rect{fill-opacity:.95;stroke-width:.5}#chart-e997eeed-b93b-426a-aeee-4496b49e81c2 .tooltip text{fill-opacity:1}#chart-e997eeed-b93b-426a-aeee-4496b49e81c2 .showable{visibility:hidden}#chart-e997eeed-b93b-426a-aeee-4496b49e81c2 .showable.shown{visibility:visible}#chart-e997eeed-b93b-426a-aeee-4496b49e81c2 .gauge-background{fill:rgba(229,229,229,1);stroke:none}#chart-e997eeed-b93b-426a-aeee-4496b49e81c2 .bg-lines{stroke:rgba(249,249,249,1);stroke-width:2px}</style><script type=\"text/javascript\">window.pygal = window.pygal || {};window.pygal.config = window.pygal.config || {};window.pygal.config['e997eeed-b93b-426a-aeee-4496b49e81c2'] = {\"allow_interruptions\": false, \"box_mode\": \"extremes\", \"classes\": [\"pygal-chart\"], \"css\": [\"file://style.css\", \"file://graph.css\"], \"defs\": [], \"disable_xml_declaration\": false, \"dots_size\": 2.5, \"dynamic_print_values\": false, \"explicit_size\": false, \"fill\": false, \"force_uri_protocol\": \"https\", \"formatter\": null, \"half_pie\": false, \"height\": 600, \"include_x_axis\": false, \"inner_radius\": 0, \"interpolate\": null, \"interpolation_parameters\": {}, \"interpolation_precision\": 250, \"inverse_y_axis\": false, \"js\": [\"//kozea.github.io/pygal.js/2.0.x/pygal-tooltips.min.js\"], \"legend_at_bottom\": false, \"legend_at_bottom_columns\": null, \"legend_box_size\": 12, \"logarithmic\": false, \"margin\": 20, \"margin_bottom\": null, \"margin_left\": null, \"margin_right\": null, \"margin_top\": null, \"max_scale\": 16, \"min_scale\": 4, \"missing_value_fill_truncation\": \"x\", \"no_data_text\": \"No data\", \"no_prefix\": false, \"order_min\": null, \"pretty_print\": false, \"print_labels\": false, \"print_values\": false, \"print_values_position\": \"center\", \"print_zeroes\": true, \"range\": null, \"rounded_bars\": null, \"secondary_range\": null, \"show_dots\": true, \"show_legend\": true, \"show_minor_x_labels\": true, \"show_minor_y_labels\": true, \"show_only_major_dots\": false, \"show_x_guides\": false, \"show_x_labels\": true, \"show_y_guides\": true, \"show_y_labels\": true, \"spacing\": 10, \"stack_from_top\": false, \"strict\": false, \"stroke\": true, \"stroke_style\": null, \"style\": {\"background\": \"rgba(249, 249, 249, 1)\", \"ci_colors\": [], \"colors\": [\"#9AE2E0\", \"#6AB8E8\", \"#A99EEC\", \"#FE8AA8\", \"#FFB293\"], \"dot_opacity\": \"1\", \"font_family\": \"Consolas, \\\"Liberation Mono\\\", Menlo, Courier, monospace\", \"foreground\": \"rgba(0, 0, 0, .87)\", \"foreground_strong\": \"rgba(0, 0, 0, 1)\", \"foreground_subtle\": \"rgba(0, 0, 0, .54)\", \"guide_stroke_color\": \"black\", \"guide_stroke_dasharray\": \"4,4\", \"label_font_family\": \"Consolas, \\\"Liberation Mono\\\", Menlo, Courier, monospace\", \"label_font_size\": 10, \"legend_font_family\": \"Consolas, \\\"Liberation Mono\\\", Menlo, Courier, monospace\", \"legend_font_size\": 14, \"major_guide_stroke_color\": \"black\", \"major_guide_stroke_dasharray\": \"6,6\", \"major_label_font_family\": \"Consolas, \\\"Liberation Mono\\\", Menlo, Courier, monospace\", \"major_label_font_size\": 10, \"no_data_font_family\": \"Consolas, \\\"Liberation Mono\\\", Menlo, Courier, monospace\", \"no_data_font_size\": 64, \"opacity\": \".7\", \"opacity_hover\": \".8\", \"plot_background\": \"rgba(255, 255, 255, 1)\", \"stroke_opacity\": \".8\", \"stroke_opacity_hover\": \".9\", \"stroke_width\": \"1\", \"stroke_width_hover\": \"4\", \"title_font_family\": \"Consolas, \\\"Liberation Mono\\\", Menlo, Courier, monospace\", \"title_font_size\": 16, \"tooltip_font_family\": \"Consolas, \\\"Liberation Mono\\\", Menlo, Courier, monospace\", \"tooltip_font_size\": 14, \"transition\": \"150ms\", \"value_background\": \"rgba(229, 229, 229, 1)\", \"value_colors\": [], \"value_font_family\": \"Consolas, \\\"Liberation Mono\\\", Menlo, Courier, monospace\", \"value_font_size\": 16, \"value_label_font_family\": \"Consolas, \\\"Liberation Mono\\\", Menlo, Courier, monospace\", \"value_label_font_size\": 10}, \"title\": \"# subjects per split\", \"tooltip_border_radius\": 0, \"tooltip_fancy_mode\": true, \"truncate_label\": null, \"truncate_legend\": null, \"width\": 800, \"x_label_rotation\": 45, \"x_labels\": [\"site 01\", \"site 02\", \"site 03\", \"site 04\", \"site 05\", \"site 06\", \"site 07\", \"site 08\", \"site 09\", \"site 10\", \"site 11\", \"site 12\", \"site 13\", \"site 14\", \"site 15\", \"site 16\", \"site 17\", \"site 18\", \"site 19\", \"site 20\", \"site 21\"], \"x_labels_major\": null, \"x_labels_major_count\": null, \"x_labels_major_every\": null, \"x_title\": null, \"xrange\": null, \"y_label_rotation\": 0, \"y_labels\": null, \"y_labels_major\": null, \"y_labels_major_count\": null, \"y_labels_major_every\": null, \"y_title\": null, \"zero\": 0, \"legends\": [\"0\", \"1\", \"2\", \"3\", \"4\"]}</script><script type=\"text/javascript\" xlink:href=\"https://kozea.github.io/pygal.js/2.0.x/pygal-tooltips.min.js\" /></defs><title># subjects per split</title><g class=\"graph bar-graph vertical\"><rect x=\"0\" y=\"0\" width=\"800\" height=\"600\" class=\"background\" /><g transform=\"translate(72, 46)\" class=\"plot\"><rect x=\"0\" y=\"0\" width=\"697.901515190165\" height=\"494.301515190165\" class=\"background\" /><g class=\"axis y always_show\"><g class=\"guides\"><path d=\"M0.000000 484.795717 h697.901515\" class=\"axis major line\" /><text x=\"-5\" y=\"488.29571682112334\" class=\"major\">0</text><title>0</title></g><g class=\"guides\"><path d=\"M0.000000 379.175735 h697.901515\" class=\"guide line\" /><text x=\"-5\" y=\"382.67573494288297\" class=\"\">10</text><title>10</title></g><g class=\"guides\"><path d=\"M0.000000 273.555753 h697.901515\" class=\"guide line\" /><text x=\"-5\" y=\"277.0557530646426\" class=\"\">20</text><title>20</title></g><g class=\"guides\"><path d=\"M0.000000 167.935771 h697.901515\" class=\"guide line\" /><text x=\"-5\" y=\"171.43577118640218\" class=\"\">30</text><title>30</title></g><g class=\"guides\"><path d=\"M0.000000 62.315789 h697.901515\" class=\"guide line\" /><text x=\"-5\" y=\"65.81578930816181\" class=\"\">40</text><title>40</title></g></g><g class=\"axis x\"><path d=\"M0.000000 0.000000 v494.301515\" class=\"line\" /><g class=\"guides\"><path d=\"M29.398782 0.000000 v494.301515\" class=\"guide line\" /><text x=\"29.398781775409883\" y=\"509.301515190165\" class=\"\" transform=\"rotate(45 29.398782 509.301515)\">site 01</text></g><g class=\"guides\"><path d=\"M61.353979 0.000000 v494.301515\" class=\"guide line\" /><text x=\"61.35397935737714\" y=\"509.301515190165\" class=\"\" transform=\"rotate(45 61.353979 509.301515)\">site 02</text></g><g class=\"guides\"><path d=\"M93.309177 0.000000 v494.301515\" class=\"guide line\" /><text x=\"93.30917693934438\" y=\"509.301515190165\" class=\"\" transform=\"rotate(45 93.309177 509.301515)\">site 03</text></g><g class=\"guides\"><path d=\"M125.264375 0.000000 v494.301515\" class=\"guide line\" /><text x=\"125.26437452131167\" y=\"509.301515190165\" class=\"\" transform=\"rotate(45 125.264375 509.301515)\">site 04</text></g><g class=\"guides\"><path d=\"M157.219572 0.000000 v494.301515\" class=\"guide line\" /><text x=\"157.21957210327892\" y=\"509.301515190165\" class=\"\" transform=\"rotate(45 157.219572 509.301515)\">site 05</text></g><g class=\"guides\"><path d=\"M189.174770 0.000000 v494.301515\" class=\"guide line\" /><text x=\"189.17476968524622\" y=\"509.301515190165\" class=\"\" transform=\"rotate(45 189.174770 509.301515)\">site 06</text></g><g class=\"guides\"><path d=\"M221.129967 0.000000 v494.301515\" class=\"guide line\" /><text x=\"221.1299672672135\" y=\"509.301515190165\" class=\"\" transform=\"rotate(45 221.129967 509.301515)\">site 07</text></g><g class=\"guides\"><path d=\"M253.085165 0.000000 v494.301515\" class=\"guide line\" /><text x=\"253.0851648491807\" y=\"509.301515190165\" class=\"\" transform=\"rotate(45 253.085165 509.301515)\">site 08</text></g><g class=\"guides\"><path d=\"M285.040362 0.000000 v494.301515\" class=\"guide line\" /><text x=\"285.04036243114797\" y=\"509.301515190165\" class=\"\" transform=\"rotate(45 285.040362 509.301515)\">site 09</text></g><g class=\"guides\"><path d=\"M316.995560 0.000000 v494.301515\" class=\"guide line\" /><text x=\"316.9955600131152\" y=\"509.301515190165\" class=\"\" transform=\"rotate(45 316.995560 509.301515)\">site 10</text></g><g class=\"guides\"><path d=\"M348.950758 0.000000 v494.301515\" class=\"guide line\" /><text x=\"348.9507575950825\" y=\"509.301515190165\" class=\"\" transform=\"rotate(45 348.950758 509.301515)\">site 11</text></g><g class=\"guides\"><path d=\"M380.905955 0.000000 v494.301515\" class=\"guide line\" /><text x=\"380.9059551770498\" y=\"509.301515190165\" class=\"\" transform=\"rotate(45 380.905955 509.301515)\">site 12</text></g><g class=\"guides\"><path d=\"M412.861153 0.000000 v494.301515\" class=\"guide line\" /><text x=\"412.861152759017\" y=\"509.301515190165\" class=\"\" transform=\"rotate(45 412.861153 509.301515)\">site 13</text></g><g class=\"guides\"><path d=\"M444.816350 0.000000 v494.301515\" class=\"guide line\" /><text x=\"444.81635034098434\" y=\"509.301515190165\" class=\"\" transform=\"rotate(45 444.816350 509.301515)\">site 14</text></g><g class=\"guides\"><path d=\"M476.771548 0.000000 v494.301515\" class=\"guide line\" /><text x=\"476.7715479229515\" y=\"509.301515190165\" class=\"\" transform=\"rotate(45 476.771548 509.301515)\">site 15</text></g><g class=\"guides\"><path d=\"M508.726746 0.000000 v494.301515\" class=\"guide line\" /><text x=\"508.7267455049189\" y=\"509.301515190165\" class=\"\" transform=\"rotate(45 508.726746 509.301515)\">site 16</text></g><g class=\"guides\"><path d=\"M540.681943 0.000000 v494.301515\" class=\"guide line\" /><text x=\"540.6819430868861\" y=\"509.301515190165\" class=\"\" transform=\"rotate(45 540.681943 509.301515)\">site 17</text></g><g class=\"guides\"><path d=\"M572.637141 0.000000 v494.301515\" class=\"guide line\" /><text x=\"572.6371406688534\" y=\"509.301515190165\" class=\"\" transform=\"rotate(45 572.637141 509.301515)\">site 18</text></g><g class=\"guides\"><path d=\"M604.592338 0.000000 v494.301515\" class=\"guide line\" /><text x=\"604.5923382508205\" y=\"509.301515190165\" class=\"\" transform=\"rotate(45 604.592338 509.301515)\">site 19</text></g><g class=\"guides\"><path d=\"M636.547536 0.000000 v494.301515\" class=\"guide line\" /><text x=\"636.547535832788\" y=\"509.301515190165\" class=\"\" transform=\"rotate(45 636.547536 509.301515)\">site 20</text></g><g class=\"guides\"><path d=\"M668.502733 0.000000 v494.301515\" class=\"guide line\" /><text x=\"668.5027334147551\" y=\"509.301515190165\" class=\"\" transform=\"rotate(45 668.502733 509.301515)\">site 21</text></g></g><g class=\"series serie-0 color-0\"><g class=\"bars\"><g class=\"bar\"><rect x=\"15.67594172580986\" y=\"368.61373675505894\" rx=\"0\" ry=\"0\" width=\"4.949221001495089\" height=\"116.1819800660644\" class=\"rect reactive tooltip-trigger\" /><desc class=\"value\">11</desc><desc class=\"x centered\">18.150552226557405</desc><desc class=\"y centered\">426.70472678809114</desc><desc class=\"x_label\">site 01</desc></g><g class=\"bar\"><rect x=\"47.63113930777711\" y=\"157.37377299857815\" rx=\"0\" ry=\"0\" width=\"4.949221001495089\" height=\"327.4219438225452\" class=\"rect reactive tooltip-trigger\" /><desc class=\"value\">31</desc><desc class=\"x centered\">50.105749808524656</desc><desc class=\"y centered\">321.08474490985077</desc><desc class=\"x_label\">site 02</desc></g><g class=\"bar\"><rect x=\"79.58633688974439\" y=\"210.18376393769836\" rx=\"0\" ry=\"0\" width=\"4.949221001495089\" height=\"274.611952883425\" class=\"rect reactive tooltip-trigger\" /><desc class=\"value\">26</desc><desc class=\"x centered\">82.06094739049193</desc><desc class=\"y centered\">347.4897403794108</desc><desc class=\"x_label\">site 03</desc></g><g class=\"bar\"><rect x=\"111.54153447171163\" y=\"9.5057983690416\" rx=\"0\" ry=\"0\" width=\"4.949221001495089\" height=\"475.28991845208174\" class=\"rect reactive tooltip-trigger\" /><desc class=\"value\">45</desc><desc class=\"x centered\">114.01614497245917</desc><desc class=\"y centered\">247.15075759508247</desc><desc class=\"x_label\">site 04</desc></g><g class=\"bar\"><rect x=\"143.49673205367893\" y=\"305.2417476281147\" rx=\"0\" ry=\"0\" width=\"4.949221001495089\" height=\"179.55396919300864\" class=\"rect reactive tooltip-trigger\" /><desc class=\"value\">17</desc><desc class=\"x centered\">145.97134255442646</desc><desc class=\"y centered\">395.01873222461904</desc><desc class=\"x_label\">site 05</desc></g><g class=\"bar\"><rect x=\"175.45192963564617\" y=\"199.62176574987433\" rx=\"0\" ry=\"0\" width=\"4.949221001495089\" height=\"285.173951071249\" class=\"rect reactive tooltip-trigger\" /><desc class=\"value\">27</desc><desc class=\"x centered\">177.9265401363937</desc><desc class=\"y centered\">342.20874128549883</desc><desc class=\"x_label\">site 06</desc></g><g class=\"bar\"><rect x=\"207.40712721761344\" y=\"453.10972225765124\" rx=\"0\" ry=\"0\" width=\"4.949221001495089\" height=\"31.685994563472093\" class=\"rect reactive tooltip-trigger\" /><desc class=\"value\">3</desc><desc class=\"x centered\">209.88173771836097</desc><desc class=\"y centered\">468.9527195393873</desc><desc class=\"x_label\">site 07</desc></g><g class=\"bar\"><rect x=\"239.3623247995807\" y=\"389.737733130707\" rx=\"0\" ry=\"0\" width=\"4.949221001495089\" height=\"95.05798369041634\" class=\"rect reactive tooltip-trigger\" /><desc class=\"value\">9</desc><desc class=\"x centered\">241.83693530032824</desc><desc class=\"y centered\">437.26672497591517</desc><desc class=\"x_label\">site 08</desc></g><g class=\"bar\"><rect x=\"271.3175223815479\" y=\"400.29973131853103\" rx=\"0\" ry=\"0\" width=\"4.949221001495089\" height=\"84.4959855025923\" class=\"rect reactive tooltip-trigger\" /><desc class=\"value\">8</desc><desc class=\"x centered\">273.79213288229545</desc><desc class=\"y centered\">442.54772406982715</desc><desc class=\"x_label\">site 09</desc></g><g class=\"bar\"><rect x=\"303.27271996351516\" y=\"199.62176574987433\" rx=\"0\" ry=\"0\" width=\"4.949221001495089\" height=\"285.173951071249\" class=\"rect reactive tooltip-trigger\" /><desc class=\"value\">27</desc><desc class=\"x centered\">305.7473304642627</desc><desc class=\"y centered\">342.20874128549883</desc><desc class=\"x_label\">site 10</desc></g><g class=\"bar\"><rect x=\"335.22791754548246\" y=\"389.737733130707\" rx=\"0\" ry=\"0\" width=\"4.949221001495089\" height=\"95.05798369041634\" class=\"rect reactive tooltip-trigger\" /><desc class=\"value\">9</desc><desc class=\"x centered\">337.70252804623</desc><desc class=\"y centered\">437.26672497591517</desc><desc class=\"x_label\">site 11</desc></g><g class=\"bar\"><rect x=\"367.18311512744975\" y=\"273.5557530646426\" rx=\"0\" ry=\"0\" width=\"4.949221001495089\" height=\"211.23996375648073\" class=\"rect reactive tooltip-trigger\" /><desc class=\"value\">20</desc><desc class=\"x centered\">369.6577256281973</desc><desc class=\"y centered\">379.17573494288297</desc><desc class=\"x_label\">site 12</desc></g><g class=\"bar\"><rect x=\"399.13831270941694\" y=\"146.81177481075412\" rx=\"0\" ry=\"0\" width=\"4.949221001495089\" height=\"337.9839420103692\" class=\"rect reactive tooltip-trigger\" /><desc class=\"value\">32</desc><desc class=\"x centered\">401.61292321016447</desc><desc class=\"y centered\">315.8037458159387</desc><desc class=\"x_label\">site 13</desc></g><g class=\"bar\"><rect x=\"431.0935102913843\" y=\"326.36574400376276\" rx=\"0\" ry=\"0\" width=\"4.949221001495089\" height=\"158.42997281736058\" class=\"rect reactive tooltip-trigger\" /><desc class=\"value\">15</desc><desc class=\"x centered\">433.5681207921318</desc><desc class=\"y centered\">405.580730412443</desc><desc class=\"x_label\">site 14</desc></g><g class=\"bar\"><rect x=\"463.0487078733515\" y=\"389.737733130707\" rx=\"0\" ry=\"0\" width=\"4.949221001495089\" height=\"95.05798369041634\" class=\"rect reactive tooltip-trigger\" /><desc class=\"value\">9</desc><desc class=\"x centered\">465.523318374099</desc><desc class=\"y centered\">437.26672497591517</desc><desc class=\"x_label\">site 15</desc></g><g class=\"bar\"><rect x=\"495.0039054553187\" y=\"51.75379112033772\" rx=\"0\" ry=\"0\" width=\"4.949221001495089\" height=\"433.0419257007856\" class=\"rect reactive tooltip-trigger\" /><desc class=\"value\">41</desc><desc class=\"x centered\">497.47851595606625</desc><desc class=\"y centered\">268.27475397073056</desc><desc class=\"x_label\">site 16</desc></g><g class=\"bar\"><rect x=\"526.959103037286\" y=\"368.61373675505894\" rx=\"0\" ry=\"0\" width=\"4.949221001495089\" height=\"116.1819800660644\" class=\"rect reactive tooltip-trigger\" /><desc class=\"value\">11</desc><desc class=\"x centered\">529.4337135380335</desc><desc class=\"y centered\">426.70472678809114</desc><desc class=\"x_label\">site 17</desc></g><g class=\"bar\"><rect x=\"558.9143006192534\" y=\"315.8037458159388\" rx=\"0\" ry=\"0\" width=\"4.949221001495089\" height=\"168.99197100518455\" class=\"rect reactive tooltip-trigger\" /><desc class=\"value\">16</desc><desc class=\"x centered\">561.3889111200009</desc><desc class=\"y centered\">400.29973131853103</desc><desc class=\"x_label\">site 18</desc></g><g class=\"bar\"><rect x=\"590.8694982012206\" y=\"262.99375487681857\" rx=\"0\" ry=\"0\" width=\"4.949221001495089\" height=\"221.80196194430476\" class=\"rect reactive tooltip-trigger\" /><desc class=\"value\">21</desc><desc class=\"x centered\">593.3441087019681</desc><desc class=\"y centered\">373.894735848971</desc><desc class=\"x_label\">site 19</desc></g><g class=\"bar\"><rect x=\"622.8246957831878\" y=\"220.7457621255224\" rx=\"0\" ry=\"0\" width=\"4.949221001495089\" height=\"264.04995469560095\" class=\"rect reactive tooltip-trigger\" /><desc class=\"value\">25</desc><desc class=\"x centered\">625.2993062839354</desc><desc class=\"y centered\">352.77073947332286</desc><desc class=\"x_label\">site 20</desc></g><g class=\"bar\"><rect x=\"654.7798933651551\" y=\"189.0597675620503\" rx=\"0\" ry=\"0\" width=\"4.949221001495089\" height=\"295.73594925907304\" class=\"rect reactive tooltip-trigger\" /><desc class=\"value\">28</desc><desc class=\"x centered\">657.2545038659026</desc><desc class=\"y centered\">336.92774219158684</desc><desc class=\"x_label\">site 21</desc></g></g></g><g class=\"series serie-1 color-1\"><g class=\"bars\"><g class=\"bar\"><rect x=\"21.3000565002361\" y=\"368.61373675505894\" rx=\"0\" ry=\"0\" width=\"4.949221001495089\" height=\"116.1819800660644\" class=\"rect reactive tooltip-trigger\" /><desc class=\"value\">11</desc><desc class=\"x centered\">23.774667000983644</desc><desc class=\"y centered\">426.70472678809114</desc><desc class=\"x_label\">site 01</desc></g><g class=\"bar\"><rect x=\"53.25525408220335\" y=\"157.37377299857815\" rx=\"0\" ry=\"0\" width=\"4.949221001495089\" height=\"327.4219438225452\" class=\"rect reactive tooltip-trigger\" /><desc class=\"value\">31</desc><desc class=\"x centered\">55.729864582950896</desc><desc class=\"y centered\">321.08474490985077</desc><desc class=\"x_label\">site 02</desc></g><g class=\"bar\"><rect x=\"85.21045166417062\" y=\"210.18376393769836\" rx=\"0\" ry=\"0\" width=\"4.949221001495089\" height=\"274.611952883425\" class=\"rect reactive tooltip-trigger\" /><desc class=\"value\">26</desc><desc class=\"x centered\">87.68506216491816</desc><desc class=\"y centered\">347.4897403794108</desc><desc class=\"x_label\">site 03</desc></g><g class=\"bar\"><rect x=\"117.16564924613786\" y=\"20.06779655686563\" rx=\"0\" ry=\"0\" width=\"4.949221001495089\" height=\"464.7279202642577\" class=\"rect reactive tooltip-trigger\" /><desc class=\"value\">44</desc><desc class=\"x centered\">119.6402597468854</desc><desc class=\"y centered\">252.43175668899448</desc><desc class=\"x_label\">site 04</desc></g><g class=\"bar\"><rect x=\"149.12084682810516\" y=\"315.8037458159388\" rx=\"0\" ry=\"0\" width=\"4.949221001495089\" height=\"168.99197100518455\" class=\"rect reactive tooltip-trigger\" /><desc class=\"value\">16</desc><desc class=\"x centered\">151.5954573288527</desc><desc class=\"y centered\">400.29973131853103</desc><desc class=\"x_label\">site 05</desc></g><g class=\"bar\"><rect x=\"181.0760444100724\" y=\"210.18376393769836\" rx=\"0\" ry=\"0\" width=\"4.949221001495089\" height=\"274.611952883425\" class=\"rect reactive tooltip-trigger\" /><desc class=\"value\">26</desc><desc class=\"x centered\">183.55065491081993</desc><desc class=\"y centered\">347.4897403794108</desc><desc class=\"x_label\">site 06</desc></g><g class=\"bar\"><rect x=\"213.03124199203967\" y=\"453.10972225765124\" rx=\"0\" ry=\"0\" width=\"4.949221001495089\" height=\"31.685994563472093\" class=\"rect reactive tooltip-trigger\" /><desc class=\"value\">3</desc><desc class=\"x centered\">215.5058524927872</desc><desc class=\"y centered\">468.9527195393873</desc><desc class=\"x_label\">site 07</desc></g><g class=\"bar\"><rect x=\"244.98643957400694\" y=\"389.737733130707\" rx=\"0\" ry=\"0\" width=\"4.949221001495089\" height=\"95.05798369041634\" class=\"rect reactive tooltip-trigger\" /><desc class=\"value\">9</desc><desc class=\"x centered\">247.46105007475447</desc><desc class=\"y centered\">437.26672497591517</desc><desc class=\"x_label\">site 08</desc></g><g class=\"bar\"><rect x=\"276.94163715597415\" y=\"400.29973131853103\" rx=\"0\" ry=\"0\" width=\"4.949221001495089\" height=\"84.4959855025923\" class=\"rect reactive tooltip-trigger\" /><desc class=\"value\">8</desc><desc class=\"x centered\">279.4162476567217</desc><desc class=\"y centered\">442.54772406982715</desc><desc class=\"x_label\">site 09</desc></g><g class=\"bar\"><rect x=\"308.8968347379414\" y=\"199.62176574987433\" rx=\"0\" ry=\"0\" width=\"4.949221001495089\" height=\"285.173951071249\" class=\"rect reactive tooltip-trigger\" /><desc class=\"value\">27</desc><desc class=\"x centered\">311.3714452386889</desc><desc class=\"y centered\">342.20874128549883</desc><desc class=\"x_label\">site 10</desc></g><g class=\"bar\"><rect x=\"340.8520323199087\" y=\"389.737733130707\" rx=\"0\" ry=\"0\" width=\"4.949221001495089\" height=\"95.05798369041634\" class=\"rect reactive tooltip-trigger\" /><desc class=\"value\">9</desc><desc class=\"x centered\">343.3266428206562</desc><desc class=\"y centered\">437.26672497591517</desc><desc class=\"x_label\">site 11</desc></g><g class=\"bar\"><rect x=\"372.807229901876\" y=\"273.5557530646426\" rx=\"0\" ry=\"0\" width=\"4.949221001495089\" height=\"211.23996375648073\" class=\"rect reactive tooltip-trigger\" /><desc class=\"value\">20</desc><desc class=\"x centered\">375.2818404026235</desc><desc class=\"y centered\">379.17573494288297</desc><desc class=\"x_label\">site 12</desc></g><g class=\"bar\"><rect x=\"404.76242748384317\" y=\"157.37377299857815\" rx=\"0\" ry=\"0\" width=\"4.949221001495089\" height=\"327.4219438225452\" class=\"rect reactive tooltip-trigger\" /><desc class=\"value\">31</desc><desc class=\"x centered\">407.2370379845907</desc><desc class=\"y centered\">321.08474490985077</desc><desc class=\"x_label\">site 13</desc></g><g class=\"bar\"><rect x=\"436.7176250658105\" y=\"336.9277421915868\" rx=\"0\" ry=\"0\" width=\"4.949221001495089\" height=\"147.86797462953655\" class=\"rect reactive tooltip-trigger\" /><desc class=\"value\">14</desc><desc class=\"x centered\">439.19223556655805</desc><desc class=\"y centered\">410.86172950635506</desc><desc class=\"x_label\">site 14</desc></g><g class=\"bar\"><rect x=\"468.6728226477777\" y=\"389.737733130707\" rx=\"0\" ry=\"0\" width=\"4.949221001495089\" height=\"95.05798369041634\" class=\"rect reactive tooltip-trigger\" /><desc class=\"value\">9</desc><desc class=\"x centered\">471.14743314852524</desc><desc class=\"y centered\">437.26672497591517</desc><desc class=\"x_label\">site 15</desc></g><g class=\"bar\"><rect x=\"500.62802022974495\" y=\"62.31578930816181\" rx=\"0\" ry=\"0\" width=\"4.949221001495089\" height=\"422.4799275129615\" class=\"rect reactive tooltip-trigger\" /><desc class=\"value\">40</desc><desc class=\"x centered\">503.1026307304925</desc><desc class=\"y centered\">273.55575306464254</desc><desc class=\"x_label\">site 16</desc></g><g class=\"bar\"><rect x=\"532.5832178117123\" y=\"368.61373675505894\" rx=\"0\" ry=\"0\" width=\"4.949221001495089\" height=\"116.1819800660644\" class=\"rect reactive tooltip-trigger\" /><desc class=\"value\">11</desc><desc class=\"x centered\">535.0578283124598</desc><desc class=\"y centered\">426.70472678809114</desc><desc class=\"x_label\">site 17</desc></g><g class=\"bar\"><rect x=\"564.5384153936797\" y=\"315.8037458159388\" rx=\"0\" ry=\"0\" width=\"4.949221001495089\" height=\"168.99197100518455\" class=\"rect reactive tooltip-trigger\" /><desc class=\"value\">16</desc><desc class=\"x centered\">567.0130258944272</desc><desc class=\"y centered\">400.29973131853103</desc><desc class=\"x_label\">site 18</desc></g><g class=\"bar\"><rect x=\"596.4936129756469\" y=\"273.5557530646426\" rx=\"0\" ry=\"0\" width=\"4.949221001495089\" height=\"211.23996375648073\" class=\"rect reactive tooltip-trigger\" /><desc class=\"value\">20</desc><desc class=\"x centered\">598.9682234763944</desc><desc class=\"y centered\">379.17573494288297</desc><desc class=\"x_label\">site 19</desc></g><g class=\"bar\"><rect x=\"628.4488105576141\" y=\"220.7457621255224\" rx=\"0\" ry=\"0\" width=\"4.949221001495089\" height=\"264.04995469560095\" class=\"rect reactive tooltip-trigger\" /><desc class=\"value\">25</desc><desc class=\"x centered\">630.9234210583617</desc><desc class=\"y centered\">352.77073947332286</desc><desc class=\"x_label\">site 20</desc></g><g class=\"bar\"><rect x=\"660.4040081395814\" y=\"199.62176574987433\" rx=\"0\" ry=\"0\" width=\"4.949221001495089\" height=\"285.173951071249\" class=\"rect reactive tooltip-trigger\" /><desc class=\"value\">27</desc><desc class=\"x centered\">662.8786186403289</desc><desc class=\"y centered\">342.20874128549883</desc><desc class=\"x_label\">site 21</desc></g></g></g><g class=\"series serie-2 color-2\"><g class=\"bars\"><g class=\"bar\"><rect x=\"26.924171274662335\" y=\"368.61373675505894\" rx=\"0\" ry=\"0\" width=\"4.949221001495089\" height=\"116.1819800660644\" class=\"rect reactive tooltip-trigger\" /><desc class=\"value\">11</desc><desc class=\"x centered\">29.39878177540988</desc><desc class=\"y centered\">426.70472678809114</desc><desc class=\"x_label\">site 01</desc></g><g class=\"bar\"><rect x=\"58.87936885662958\" y=\"157.37377299857815\" rx=\"0\" ry=\"0\" width=\"4.949221001495089\" height=\"327.4219438225452\" class=\"rect reactive tooltip-trigger\" /><desc class=\"value\">31</desc><desc class=\"x centered\">61.35397935737713</desc><desc class=\"y centered\">321.08474490985077</desc><desc class=\"x_label\">site 02</desc></g><g class=\"bar\"><rect x=\"90.83456643859687\" y=\"210.18376393769836\" rx=\"0\" ry=\"0\" width=\"4.949221001495089\" height=\"274.611952883425\" class=\"rect reactive tooltip-trigger\" /><desc class=\"value\">26</desc><desc class=\"x centered\">93.30917693934441</desc><desc class=\"y centered\">347.4897403794108</desc><desc class=\"x_label\">site 03</desc></g><g class=\"bar\"><rect x=\"122.7897640205641\" y=\"20.06779655686563\" rx=\"0\" ry=\"0\" width=\"4.949221001495089\" height=\"464.7279202642577\" class=\"rect reactive tooltip-trigger\" /><desc class=\"value\">44</desc><desc class=\"x centered\">125.26437452131165</desc><desc class=\"y centered\">252.43175668899448</desc><desc class=\"x_label\">site 04</desc></g><g class=\"bar\"><rect x=\"154.7449616025314\" y=\"315.8037458159388\" rx=\"0\" ry=\"0\" width=\"4.949221001495089\" height=\"168.99197100518455\" class=\"rect reactive tooltip-trigger\" /><desc class=\"value\">16</desc><desc class=\"x centered\">157.21957210327892</desc><desc class=\"y centered\">400.29973131853103</desc><desc class=\"x_label\">site 05</desc></g><g class=\"bar\"><rect x=\"186.70015918449863\" y=\"210.18376393769836\" rx=\"0\" ry=\"0\" width=\"4.949221001495089\" height=\"274.611952883425\" class=\"rect reactive tooltip-trigger\" /><desc class=\"value\">26</desc><desc class=\"x centered\">189.17476968524616</desc><desc class=\"y centered\">347.4897403794108</desc><desc class=\"x_label\">site 06</desc></g><g class=\"bar\"><rect x=\"218.6553567664659\" y=\"463.6717204454753\" rx=\"0\" ry=\"0\" width=\"4.949221001495089\" height=\"21.123996375648062\" class=\"rect reactive tooltip-trigger\" /><desc class=\"value\">2</desc><desc class=\"x centered\">221.12996726721343</desc><desc class=\"y centered\">474.2337186332993</desc><desc class=\"x_label\">site 07</desc></g><g class=\"bar\"><rect x=\"250.61055434843317\" y=\"389.737733130707\" rx=\"0\" ry=\"0\" width=\"4.949221001495089\" height=\"95.05798369041634\" class=\"rect reactive tooltip-trigger\" /><desc class=\"value\">9</desc><desc class=\"x centered\">253.0851648491807</desc><desc class=\"y centered\">437.26672497591517</desc><desc class=\"x_label\">site 08</desc></g><g class=\"bar\"><rect x=\"282.5657519304004\" y=\"400.29973131853103\" rx=\"0\" ry=\"0\" width=\"4.949221001495089\" height=\"84.4959855025923\" class=\"rect reactive tooltip-trigger\" /><desc class=\"value\">8</desc><desc class=\"x centered\">285.0403624311479</desc><desc class=\"y centered\">442.54772406982715</desc><desc class=\"x_label\">site 09</desc></g><g class=\"bar\"><rect x=\"314.5209495123676\" y=\"199.62176574987433\" rx=\"0\" ry=\"0\" width=\"4.949221001495089\" height=\"285.173951071249\" class=\"rect reactive tooltip-trigger\" /><desc class=\"value\">27</desc><desc class=\"x centered\">316.99556001311515</desc><desc class=\"y centered\">342.20874128549883</desc><desc class=\"x_label\">site 10</desc></g><g class=\"bar\"><rect x=\"346.4761470943349\" y=\"389.737733130707\" rx=\"0\" ry=\"0\" width=\"4.949221001495089\" height=\"95.05798369041634\" class=\"rect reactive tooltip-trigger\" /><desc class=\"value\">9</desc><desc class=\"x centered\">348.95075759508245</desc><desc class=\"y centered\">437.26672497591517</desc><desc class=\"x_label\">site 11</desc></g><g class=\"bar\"><rect x=\"378.4313446763022\" y=\"284.11775125246663\" rx=\"0\" ry=\"0\" width=\"4.949221001495089\" height=\"200.6779655686567\" class=\"rect reactive tooltip-trigger\" /><desc class=\"value\">19</desc><desc class=\"x centered\">380.90595517704975</desc><desc class=\"y centered\">384.45673403679496</desc><desc class=\"x_label\">site 12</desc></g><g class=\"bar\"><rect x=\"410.3865422582694\" y=\"157.37377299857815\" rx=\"0\" ry=\"0\" width=\"4.949221001495089\" height=\"327.4219438225452\" class=\"rect reactive tooltip-trigger\" /><desc class=\"value\">31</desc><desc class=\"x centered\">412.86115275901693</desc><desc class=\"y centered\">321.08474490985077</desc><desc class=\"x_label\">site 13</desc></g><g class=\"bar\"><rect x=\"442.34173984023676\" y=\"336.9277421915868\" rx=\"0\" ry=\"0\" width=\"4.949221001495089\" height=\"147.86797462953655\" class=\"rect reactive tooltip-trigger\" /><desc class=\"value\">14</desc><desc class=\"x centered\">444.8163503409843</desc><desc class=\"y centered\">410.86172950635506</desc><desc class=\"x_label\">site 14</desc></g><g class=\"bar\"><rect x=\"474.29693742220394\" y=\"389.737733130707\" rx=\"0\" ry=\"0\" width=\"4.949221001495089\" height=\"95.05798369041634\" class=\"rect reactive tooltip-trigger\" /><desc class=\"value\">9</desc><desc class=\"x centered\">476.77154792295147</desc><desc class=\"y centered\">437.26672497591517</desc><desc class=\"x_label\">site 15</desc></g><g class=\"bar\"><rect x=\"506.2521350041712\" y=\"62.31578930816181\" rx=\"0\" ry=\"0\" width=\"4.949221001495089\" height=\"422.4799275129615\" class=\"rect reactive tooltip-trigger\" /><desc class=\"value\">40</desc><desc class=\"x centered\">508.7267455049187</desc><desc class=\"y centered\">273.55575306464254</desc><desc class=\"x_label\">site 16</desc></g><g class=\"bar\"><rect x=\"538.2073325861385\" y=\"368.61373675505894\" rx=\"0\" ry=\"0\" width=\"4.949221001495089\" height=\"116.1819800660644\" class=\"rect reactive tooltip-trigger\" /><desc class=\"value\">11</desc><desc class=\"x centered\">540.681943086886</desc><desc class=\"y centered\">426.70472678809114</desc><desc class=\"x_label\">site 17</desc></g><g class=\"bar\"><rect x=\"570.1625301681058\" y=\"315.8037458159388\" rx=\"0\" ry=\"0\" width=\"4.949221001495089\" height=\"168.99197100518455\" class=\"rect reactive tooltip-trigger\" /><desc class=\"value\">16</desc><desc class=\"x centered\">572.6371406688534</desc><desc class=\"y centered\">400.29973131853103</desc><desc class=\"x_label\">site 18</desc></g><g class=\"bar\"><rect x=\"602.1177277500731\" y=\"273.5557530646426\" rx=\"0\" ry=\"0\" width=\"4.949221001495089\" height=\"211.23996375648073\" class=\"rect reactive tooltip-trigger\" /><desc class=\"value\">20</desc><desc class=\"x centered\">604.5923382508206</desc><desc class=\"y centered\">379.17573494288297</desc><desc class=\"x_label\">site 19</desc></g><g class=\"bar\"><rect x=\"634.0729253320403\" y=\"231.30776031334642\" rx=\"0\" ry=\"0\" width=\"4.949221001495089\" height=\"253.48795650777691\" class=\"rect reactive tooltip-trigger\" /><desc class=\"value\">24</desc><desc class=\"x centered\">636.5475358327878</desc><desc class=\"y centered\">358.0517385672349</desc><desc class=\"x_label\">site 20</desc></g><g class=\"bar\"><rect x=\"666.0281229140076\" y=\"199.62176574987433\" rx=\"0\" ry=\"0\" width=\"4.949221001495089\" height=\"285.173951071249\" class=\"rect reactive tooltip-trigger\" /><desc class=\"value\">27</desc><desc class=\"x centered\">668.5027334147551</desc><desc class=\"y centered\">342.20874128549883</desc><desc class=\"x_label\">site 21</desc></g></g></g><g class=\"series serie-3 color-3\"><g class=\"bars\"><g class=\"bar\"><rect x=\"32.54828604908857\" y=\"379.17573494288297\" rx=\"0\" ry=\"0\" width=\"4.949221001495089\" height=\"105.61998187824037\" class=\"rect reactive tooltip-trigger\" /><desc class=\"value\">10</desc><desc class=\"x centered\">35.02289654983611</desc><desc class=\"y centered\">431.9857258820032</desc><desc class=\"x_label\">site 01</desc></g><g class=\"bar\"><rect x=\"64.50348363105583\" y=\"157.37377299857815\" rx=\"0\" ry=\"0\" width=\"4.949221001495089\" height=\"327.4219438225452\" class=\"rect reactive tooltip-trigger\" /><desc class=\"value\">31</desc><desc class=\"x centered\">66.97809413180337</desc><desc class=\"y centered\">321.08474490985077</desc><desc class=\"x_label\">site 02</desc></g><g class=\"bar\"><rect x=\"96.4586812130231\" y=\"210.18376393769836\" rx=\"0\" ry=\"0\" width=\"4.949221001495089\" height=\"274.611952883425\" class=\"rect reactive tooltip-trigger\" /><desc class=\"value\">26</desc><desc class=\"x centered\">98.93329171377064</desc><desc class=\"y centered\">347.4897403794108</desc><desc class=\"x_label\">site 03</desc></g><g class=\"bar\"><rect x=\"128.41387879499035\" y=\"20.06779655686563\" rx=\"0\" ry=\"0\" width=\"4.949221001495089\" height=\"464.7279202642577\" class=\"rect reactive tooltip-trigger\" /><desc class=\"value\">44</desc><desc class=\"x centered\">130.88848929573788</desc><desc class=\"y centered\">252.43175668899448</desc><desc class=\"x_label\">site 04</desc></g><g class=\"bar\"><rect x=\"160.36907637695762\" y=\"315.8037458159388\" rx=\"0\" ry=\"0\" width=\"4.949221001495089\" height=\"168.99197100518455\" class=\"rect reactive tooltip-trigger\" /><desc class=\"value\">16</desc><desc class=\"x centered\">162.84368687770515</desc><desc class=\"y centered\">400.29973131853103</desc><desc class=\"x_label\">site 05</desc></g><g class=\"bar\"><rect x=\"192.32427395892486\" y=\"210.18376393769836\" rx=\"0\" ry=\"0\" width=\"4.949221001495089\" height=\"274.611952883425\" class=\"rect reactive tooltip-trigger\" /><desc class=\"value\">26</desc><desc class=\"x centered\">194.7988844596724</desc><desc class=\"y centered\">347.4897403794108</desc><desc class=\"x_label\">site 06</desc></g><g class=\"bar\"><rect x=\"224.27947154089216\" y=\"463.6717204454753\" rx=\"0\" ry=\"0\" width=\"4.949221001495089\" height=\"21.123996375648062\" class=\"rect reactive tooltip-trigger\" /><desc class=\"value\">2</desc><desc class=\"x centered\">226.7540820416397</desc><desc class=\"y centered\">474.2337186332993</desc><desc class=\"x_label\">site 07</desc></g><g class=\"bar\"><rect x=\"256.2346691228594\" y=\"389.737733130707\" rx=\"0\" ry=\"0\" width=\"4.949221001495089\" height=\"95.05798369041634\" class=\"rect reactive tooltip-trigger\" /><desc class=\"value\">9</desc><desc class=\"x centered\">258.7092796236069</desc><desc class=\"y centered\">437.26672497591517</desc><desc class=\"x_label\">site 08</desc></g><g class=\"bar\"><rect x=\"288.1898667048266\" y=\"400.29973131853103\" rx=\"0\" ry=\"0\" width=\"4.949221001495089\" height=\"84.4959855025923\" class=\"rect reactive tooltip-trigger\" /><desc class=\"value\">8</desc><desc class=\"x centered\">290.66447720557414</desc><desc class=\"y centered\">442.54772406982715</desc><desc class=\"x_label\">site 09</desc></g><g class=\"bar\"><rect x=\"320.14506428679385\" y=\"199.62176574987433\" rx=\"0\" ry=\"0\" width=\"4.949221001495089\" height=\"285.173951071249\" class=\"rect reactive tooltip-trigger\" /><desc class=\"value\">27</desc><desc class=\"x centered\">322.6196747875414</desc><desc class=\"y centered\">342.20874128549883</desc><desc class=\"x_label\">site 10</desc></g><g class=\"bar\"><rect x=\"352.10026186876115\" y=\"400.29973131853103\" rx=\"0\" ry=\"0\" width=\"4.949221001495089\" height=\"84.4959855025923\" class=\"rect reactive tooltip-trigger\" /><desc class=\"value\">8</desc><desc class=\"x centered\">354.5748723695087</desc><desc class=\"y centered\">442.54772406982715</desc><desc class=\"x_label\">site 11</desc></g><g class=\"bar\"><rect x=\"384.05545945072845\" y=\"284.11775125246663\" rx=\"0\" ry=\"0\" width=\"4.949221001495089\" height=\"200.6779655686567\" class=\"rect reactive tooltip-trigger\" /><desc class=\"value\">19</desc><desc class=\"x centered\">386.530069951476</desc><desc class=\"y centered\">384.45673403679496</desc><desc class=\"x_label\">site 12</desc></g><g class=\"bar\"><rect x=\"416.01065703269563\" y=\"157.37377299857815\" rx=\"0\" ry=\"0\" width=\"4.949221001495089\" height=\"327.4219438225452\" class=\"rect reactive tooltip-trigger\" /><desc class=\"value\">31</desc><desc class=\"x centered\">418.48526753344316</desc><desc class=\"y centered\">321.08474490985077</desc><desc class=\"x_label\">site 13</desc></g><g class=\"bar\"><rect x=\"447.965854614663\" y=\"336.9277421915868\" rx=\"0\" ry=\"0\" width=\"4.949221001495089\" height=\"147.86797462953655\" class=\"rect reactive tooltip-trigger\" /><desc class=\"value\">14</desc><desc class=\"x centered\">450.4404651154105</desc><desc class=\"y centered\">410.86172950635506</desc><desc class=\"x_label\">site 14</desc></g><g class=\"bar\"><rect x=\"479.92105219663017\" y=\"400.29973131853103\" rx=\"0\" ry=\"0\" width=\"4.949221001495089\" height=\"84.4959855025923\" class=\"rect reactive tooltip-trigger\" /><desc class=\"value\">8</desc><desc class=\"x centered\">482.3956626973777</desc><desc class=\"y centered\">442.54772406982715</desc><desc class=\"x_label\">site 15</desc></g><g class=\"bar\"><rect x=\"511.8762497785974\" y=\"62.31578930816181\" rx=\"0\" ry=\"0\" width=\"4.949221001495089\" height=\"422.4799275129615\" class=\"rect reactive tooltip-trigger\" /><desc class=\"value\">40</desc><desc class=\"x centered\">514.3508602793449</desc><desc class=\"y centered\">273.55575306464254</desc><desc class=\"x_label\">site 16</desc></g><g class=\"bar\"><rect x=\"543.8314473605648\" y=\"379.17573494288297\" rx=\"0\" ry=\"0\" width=\"4.949221001495089\" height=\"105.61998187824037\" class=\"rect reactive tooltip-trigger\" /><desc class=\"value\">10</desc><desc class=\"x centered\">546.3060578613123</desc><desc class=\"y centered\">431.9857258820032</desc><desc class=\"x_label\">site 17</desc></g><g class=\"bar\"><rect x=\"575.7866449425321\" y=\"315.8037458159388\" rx=\"0\" ry=\"0\" width=\"4.949221001495089\" height=\"168.99197100518455\" class=\"rect reactive tooltip-trigger\" /><desc class=\"value\">16</desc><desc class=\"x centered\">578.2612554432797</desc><desc class=\"y centered\">400.29973131853103</desc><desc class=\"x_label\">site 18</desc></g><g class=\"bar\"><rect x=\"607.7418425244994\" y=\"273.5557530646426\" rx=\"0\" ry=\"0\" width=\"4.949221001495089\" height=\"211.23996375648073\" class=\"rect reactive tooltip-trigger\" /><desc class=\"value\">20</desc><desc class=\"x centered\">610.2164530252469</desc><desc class=\"y centered\">379.17573494288297</desc><desc class=\"x_label\">site 19</desc></g><g class=\"bar\"><rect x=\"639.6970401064666\" y=\"231.30776031334642\" rx=\"0\" ry=\"0\" width=\"4.949221001495089\" height=\"253.48795650777691\" class=\"rect reactive tooltip-trigger\" /><desc class=\"value\">24</desc><desc class=\"x centered\">642.1716506072141</desc><desc class=\"y centered\">358.0517385672349</desc><desc class=\"x_label\">site 20</desc></g><g class=\"bar\"><rect x=\"671.6522376884338\" y=\"199.62176574987433\" rx=\"0\" ry=\"0\" width=\"4.949221001495089\" height=\"285.173951071249\" class=\"rect reactive tooltip-trigger\" /><desc class=\"value\">27</desc><desc class=\"x centered\">674.1268481891814</desc><desc class=\"y centered\">342.20874128549883</desc><desc class=\"x_label\">site 21</desc></g></g></g><g class=\"series serie-4 color-4\"><g class=\"bars\"><g class=\"bar\"><rect x=\"38.172400823514806\" y=\"379.17573494288297\" rx=\"0\" ry=\"0\" width=\"4.949221001495089\" height=\"105.61998187824037\" class=\"rect reactive tooltip-trigger\" /><desc class=\"value\">10</desc><desc class=\"x centered\">40.64701132426235</desc><desc class=\"y centered\">431.9857258820032</desc><desc class=\"x_label\">site 01</desc></g><g class=\"bar\"><rect x=\"70.12759840548206\" y=\"157.37377299857815\" rx=\"0\" ry=\"0\" width=\"4.949221001495089\" height=\"327.4219438225452\" class=\"rect reactive tooltip-trigger\" /><desc class=\"value\">31</desc><desc class=\"x centered\">72.6022089062296</desc><desc class=\"y centered\">321.08474490985077</desc><desc class=\"x_label\">site 02</desc></g><g class=\"bar\"><rect x=\"102.08279598744933\" y=\"220.7457621255224\" rx=\"0\" ry=\"0\" width=\"4.949221001495089\" height=\"264.04995469560095\" class=\"rect reactive tooltip-trigger\" /><desc class=\"value\">25</desc><desc class=\"x centered\">104.55740648819688</desc><desc class=\"y centered\">352.77073947332286</desc><desc class=\"x_label\">site 03</desc></g><g class=\"bar\"><rect x=\"134.03799356941659\" y=\"20.06779655686563\" rx=\"0\" ry=\"0\" width=\"4.949221001495089\" height=\"464.7279202642577\" class=\"rect reactive tooltip-trigger\" /><desc class=\"value\">44</desc><desc class=\"x centered\">136.51260407016412</desc><desc class=\"y centered\">252.43175668899448</desc><desc class=\"x_label\">site 04</desc></g><g class=\"bar\"><rect x=\"165.99319115138388\" y=\"315.8037458159388\" rx=\"0\" ry=\"0\" width=\"4.949221001495089\" height=\"168.99197100518455\" class=\"rect reactive tooltip-trigger\" /><desc class=\"value\">16</desc><desc class=\"x centered\">168.4678016521314</desc><desc class=\"y centered\">400.29973131853103</desc><desc class=\"x_label\">site 05</desc></g><g class=\"bar\"><rect x=\"197.94838873335112\" y=\"210.18376393769836\" rx=\"0\" ry=\"0\" width=\"4.949221001495089\" height=\"274.611952883425\" class=\"rect reactive tooltip-trigger\" /><desc class=\"value\">26</desc><desc class=\"x centered\">200.42299923409865</desc><desc class=\"y centered\">347.4897403794108</desc><desc class=\"x_label\">site 06</desc></g><g class=\"bar\"><rect x=\"229.9035863153184\" y=\"463.6717204454753\" rx=\"0\" ry=\"0\" width=\"4.949221001495089\" height=\"21.123996375648062\" class=\"rect reactive tooltip-trigger\" /><desc class=\"value\">2</desc><desc class=\"x centered\">232.37819681606592</desc><desc class=\"y centered\">474.2337186332993</desc><desc class=\"x_label\">site 07</desc></g><g class=\"bar\"><rect x=\"261.8587838972856\" y=\"400.29973131853103\" rx=\"0\" ry=\"0\" width=\"4.949221001495089\" height=\"84.4959855025923\" class=\"rect reactive tooltip-trigger\" /><desc class=\"value\">8</desc><desc class=\"x centered\">264.33339439803314</desc><desc class=\"y centered\">442.54772406982715</desc><desc class=\"x_label\">site 08</desc></g><g class=\"bar\"><rect x=\"293.81398147925285\" y=\"400.29973131853103\" rx=\"0\" ry=\"0\" width=\"4.949221001495089\" height=\"84.4959855025923\" class=\"rect reactive tooltip-trigger\" /><desc class=\"value\">8</desc><desc class=\"x centered\">296.2885919800004</desc><desc class=\"y centered\">442.54772406982715</desc><desc class=\"x_label\">site 09</desc></g><g class=\"bar\"><rect x=\"325.7691790612201\" y=\"210.18376393769836\" rx=\"0\" ry=\"0\" width=\"4.949221001495089\" height=\"274.611952883425\" class=\"rect reactive tooltip-trigger\" /><desc class=\"value\">26</desc><desc class=\"x centered\">328.2437895619676</desc><desc class=\"y centered\">347.4897403794108</desc><desc class=\"x_label\">site 10</desc></g><g class=\"bar\"><rect x=\"357.7243766431874\" y=\"400.29973131853103\" rx=\"0\" ry=\"0\" width=\"4.949221001495089\" height=\"84.4959855025923\" class=\"rect reactive tooltip-trigger\" /><desc class=\"value\">8</desc><desc class=\"x centered\">360.1989871439349</desc><desc class=\"y centered\">442.54772406982715</desc><desc class=\"x_label\">site 11</desc></g><g class=\"bar\"><rect x=\"389.6795742251547\" y=\"284.11775125246663\" rx=\"0\" ry=\"0\" width=\"4.949221001495089\" height=\"200.6779655686567\" class=\"rect reactive tooltip-trigger\" /><desc class=\"value\">19</desc><desc class=\"x centered\">392.1541847259022</desc><desc class=\"y centered\">384.45673403679496</desc><desc class=\"x_label\">site 12</desc></g><g class=\"bar\"><rect x=\"421.63477180712187\" y=\"157.37377299857815\" rx=\"0\" ry=\"0\" width=\"4.949221001495089\" height=\"327.4219438225452\" class=\"rect reactive tooltip-trigger\" /><desc class=\"value\">31</desc><desc class=\"x centered\">424.1093823078694</desc><desc class=\"y centered\">321.08474490985077</desc><desc class=\"x_label\">site 13</desc></g><g class=\"bar\"><rect x=\"453.5899693890892\" y=\"336.9277421915868\" rx=\"0\" ry=\"0\" width=\"4.949221001495089\" height=\"147.86797462953655\" class=\"rect reactive tooltip-trigger\" /><desc class=\"value\">14</desc><desc class=\"x centered\">456.06457988983675</desc><desc class=\"y centered\">410.86172950635506</desc><desc class=\"x_label\">site 14</desc></g><g class=\"bar\"><rect x=\"485.5451669710564\" y=\"400.29973131853103\" rx=\"0\" ry=\"0\" width=\"4.949221001495089\" height=\"84.4959855025923\" class=\"rect reactive tooltip-trigger\" /><desc class=\"value\">8</desc><desc class=\"x centered\">488.01977747180393</desc><desc class=\"y centered\">442.54772406982715</desc><desc class=\"x_label\">site 15</desc></g><g class=\"bar\"><rect x=\"517.5003645530237\" y=\"62.31578930816181\" rx=\"0\" ry=\"0\" width=\"4.949221001495089\" height=\"422.4799275129615\" class=\"rect reactive tooltip-trigger\" /><desc class=\"value\">40</desc><desc class=\"x centered\">519.9749750537712</desc><desc class=\"y centered\">273.55575306464254</desc><desc class=\"x_label\">site 16</desc></g><g class=\"bar\"><rect x=\"549.4555621349909\" y=\"379.17573494288297\" rx=\"0\" ry=\"0\" width=\"4.949221001495089\" height=\"105.61998187824037\" class=\"rect reactive tooltip-trigger\" /><desc class=\"value\">10</desc><desc class=\"x centered\">551.9301726357385</desc><desc class=\"y centered\">431.9857258820032</desc><desc class=\"x_label\">site 17</desc></g><g class=\"bar\"><rect x=\"581.4107597169583\" y=\"326.36574400376276\" rx=\"0\" ry=\"0\" width=\"4.949221001495089\" height=\"158.42997281736058\" class=\"rect reactive tooltip-trigger\" /><desc class=\"value\">15</desc><desc class=\"x centered\">583.8853702177058</desc><desc class=\"y centered\">405.580730412443</desc><desc class=\"x_label\">site 18</desc></g><g class=\"bar\"><rect x=\"613.3659572989255\" y=\"273.5557530646426\" rx=\"0\" ry=\"0\" width=\"4.949221001495089\" height=\"211.23996375648073\" class=\"rect reactive tooltip-trigger\" /><desc class=\"value\">20</desc><desc class=\"x centered\">615.8405677996731</desc><desc class=\"y centered\">379.17573494288297</desc><desc class=\"x_label\">site 19</desc></g><g class=\"bar\"><rect x=\"645.3211548808928\" y=\"231.30776031334642\" rx=\"0\" ry=\"0\" width=\"4.949221001495089\" height=\"253.48795650777691\" class=\"rect reactive tooltip-trigger\" /><desc class=\"value\">24</desc><desc class=\"x centered\">647.7957653816403</desc><desc class=\"y centered\">358.0517385672349</desc><desc class=\"x_label\">site 20</desc></g><g class=\"bar\"><rect x=\"677.27635246286\" y=\"199.62176574987433\" rx=\"0\" ry=\"0\" width=\"4.949221001495089\" height=\"285.173951071249\" class=\"rect reactive tooltip-trigger\" /><desc class=\"value\">27</desc><desc class=\"x centered\">679.7509629636075</desc><desc class=\"y centered\">342.20874128549883</desc><desc class=\"x_label\">site 21</desc></g></g></g></g><g class=\"titles\"><text x=\"400.0\" y=\"26\" class=\"title plot_title\"># subjects per split</text></g><g transform=\"translate(72, 46)\" class=\"plot overlay\"><g class=\"series serie-0 color-0\" /><g class=\"series serie-1 color-1\" /><g class=\"series serie-2 color-2\" /><g class=\"series serie-3 color-3\" /><g class=\"series serie-4 color-4\" /></g><g transform=\"translate(72, 46)\" class=\"plot text-overlay\"><g class=\"series serie-0 color-0\" /><g class=\"series serie-1 color-1\" /><g class=\"series serie-2 color-2\" /><g class=\"series serie-3 color-3\" /><g class=\"series serie-4 color-4\" /></g><g transform=\"translate(72, 46)\" class=\"plot tooltip-overlay\"><g transform=\"translate(0 0)\" style=\"opacity: 0\" class=\"tooltip\"><rect rx=\"0\" ry=\"0\" width=\"0\" height=\"0\" class=\"tooltip-box\" /><g class=\"text\" /></g></g><g transform=\"translate(10, 56)\" class=\"legends\"><g id=\"activate-serie-0\" class=\"legend reactive activate-serie\"><rect x=\"0.0\" y=\"1.0\" width=\"12\" height=\"12\" class=\"color-0 reactive\" /><text x=\"17.0\" y=\"11.2\">0</text></g><g id=\"activate-serie-1\" class=\"legend reactive activate-serie\"><rect x=\"0.0\" y=\"22.0\" width=\"12\" height=\"12\" class=\"color-1 reactive\" /><text x=\"17.0\" y=\"32.2\">1</text></g><g id=\"activate-serie-2\" class=\"legend reactive activate-serie\"><rect x=\"0.0\" y=\"43.0\" width=\"12\" height=\"12\" class=\"color-2 reactive\" /><text x=\"17.0\" y=\"53.2\">2</text></g><g id=\"activate-serie-3\" class=\"legend reactive activate-serie\"><rect x=\"0.0\" y=\"64.0\" width=\"12\" height=\"12\" class=\"color-3 reactive\" /><text x=\"17.0\" y=\"74.2\">3</text></g><g id=\"activate-serie-4\" class=\"legend reactive activate-serie\"><rect x=\"0.0\" y=\"85.0\" width=\"12\" height=\"12\" class=\"color-4 reactive\" /><text x=\"17.0\" y=\"95.2\">4</text></g></g><g transform=\"translate(780, 56)\" class=\"legends\" /></g></svg>\n",
       "        </figure>\n",
       "    </body>\n",
       "    </html>\n",
       "    "
      ],
      "text/plain": [
       "<IPython.core.display.HTML object>"
      ]
     },
     "metadata": {},
     "output_type": "display_data"
    }
   ],
   "source": [
    "# Plot number of subjects per split\n",
    "import pygal\n",
    "from abcd.plotting.pygal.rendering import display_html\n",
    "from abcd.plotting.pygal.colors import CAT_COLORS\n",
    "\n",
    "custom_style = pygal.style.Style(\n",
    "    colors=tuple([CAT_COLORS['split'][str(split_ix)] for split_ix in range(5)])\n",
    "    #,background='transparent'\n",
    "    )\n",
    "\n",
    "bar_chart = pygal.Bar(x_label_rotation=45, style=custom_style)\n",
    "bar_chart.title = '# subjects per split'\n",
    "bar_chart.x_labels = [x.replace(\"site\", \"site \") for x in SITES]\n",
    "for split_ix in range(k):\n",
    "    bar_chart.add(str(split_ix), [len(splits[site][str(split_ix)]) for site in SITES])\n",
    "display_html(bar_chart)"
   ]
  }
 ],
 "metadata": {
  "kernelspec": {
   "display_name": "abcd",
   "language": "python",
   "name": "python3"
  },
  "language_info": {
   "codemirror_mode": {
    "name": "ipython",
    "version": 3
   },
   "file_extension": ".py",
   "mimetype": "text/x-python",
   "name": "python",
   "nbconvert_exporter": "python",
   "pygments_lexer": "ipython3",
   "version": "3.11.4"
  },
  "orig_nbformat": 4
 },
 "nbformat": 4,
 "nbformat_minor": 2
}
