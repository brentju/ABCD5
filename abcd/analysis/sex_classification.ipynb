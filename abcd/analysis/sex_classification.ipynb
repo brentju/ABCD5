{
 "cells": [
  {
   "cell_type": "code",
   "execution_count": 1,
   "metadata": {},
   "outputs": [],
   "source": [
    "%load_ext autoreload\n",
    "%autoreload 2"
   ]
  },
  {
   "cell_type": "code",
   "execution_count": 2,
   "metadata": {},
   "outputs": [],
   "source": [
    "import os\n",
    "import pandas as pd\n",
    "from collections import OrderedDict\n",
    "import torch\n",
    "torch.manual_seed(0)\n",
    "from torch import nn\n",
    "from torch.utils.data import DataLoader\n",
    "from torchvision import datasets\n",
    "from torchvision.transforms import ToTensor\n",
    "from tqdm import tqdm\n",
    "from abcd.local.paths import output_path\n",
    "from abcd.data.read_data import get_subjects_events_sf, subject_cols_to_events\n",
    "import abcd.data.VARS as VARS\n",
    "from abcd.data.define_splits import SITES, save_restore_sex_fmri_splits\n",
    "from abcd.data.divide_with_splits import divide_events_by_splits\n",
    "from abcd.data.var_tailoring.normalization import normalize_var\n",
    "from abcd.data.pytorch.get_dataset import PandasDataset\n",
    "from abcd.training.ClassifierTrainer import ClassifierTrainer\n",
    "from abcd.local.paths import core_path\n",
    "import abcd.data.VARS as VARS\n",
    "from abcd.exp.Experiment import Experiment\n",
    "import importlib"
   ]
  },
  {
   "cell_type": "code",
   "execution_count": 4,
   "metadata": {},
   "outputs": [],
   "source": [
    "config = {'target_col': 'kbi_sex_assigned_at_birth',\n",
    "          'features': ['fmri', 'smri'],\n",
    "          'model': ['abcd.models.classification.FullyConnected', 'FullyConnected3'],\n",
    "          'lr': 1e-3,\n",
    "          'batch_size': 64,\n",
    "          'nr_epochs': 150}\n",
    "\n",
    "exp = Experiment(name='sex_fs_FC3', config=config)"
   ]
  },
  {
   "cell_type": "code",
   "execution_count": 5,
   "metadata": {},
   "outputs": [
    {
     "name": "stdout",
     "output_type": "stream",
     "text": [
      "There are 9632 subjects and 18808 visits with imaging\n",
      "Leaving baseline visits, we have 9085 visits\n"
     ]
    }
   ],
   "source": [
    "# Fetch subjects and events\n",
    "subjects_df, events_df = get_subjects_events_sf()\n",
    "print(\"There are {} subjects and {} visits with imaging\".format(len(subjects_df), len(events_df)))\n",
    "# Leave only the baseline visits\n",
    "events_df = events_df.loc[(events_df['eventname'] == 'baseline_year_1_arm_1')]\n",
    "print(\"Leaving baseline visits, we have {} visits\".format(len(events_df)))"
   ]
  },
  {
   "cell_type": "code",
   "execution_count": 6,
   "metadata": {},
   "outputs": [
    {
     "name": "stdout",
     "output_type": "stream",
     "text": [
      "4703 visits with Male target\n",
      "4382 visits with Female target\n"
     ]
    }
   ],
   "source": [
    "# Add the target to the events df, if not there\n",
    "target_col = config['target_col']\n",
    "if target_col not in events_df.columns:\n",
    "    events_df = subject_cols_to_events(subjects_df, events_df, columns=[target_col])\n",
    "\n",
    "# Change ABCD values to class integers starting from 0\n",
    "labels = sorted(list(set(events_df[target_col])))\n",
    "for ix, label in enumerate(labels):\n",
    "    events_df.loc[events_df[target_col] == label, target_col] = ix\n",
    "labels = [VARS.VALUES[target_col][label] for label in labels] if target_col in VARS.VALUES else [str(label) for label in labels]\n",
    "\n",
    "# Print label distribution\n",
    "for val in set(events_df[target_col]):\n",
    "    print('{} visits with {} target'.format(len(events_df.loc[events_df[target_col] == val]), labels[int(val)]))\n"
   ]
  },
  {
   "cell_type": "code",
   "execution_count": 7,
   "metadata": {},
   "outputs": [],
   "source": [
    "# Define features\n",
    "features_fmri = list(VARS.NAMED_CONNECTIONS.keys())\n",
    "features_smri = [var_name + '_' + parcel for var_name in VARS.DESIKAN_STRUCT_FEATURES.keys() for parcel in VARS.DESIKAN_PARCELS[var_name] + VARS.DESIKAN_MEANS]\n",
    "feature_cols = []\n",
    "if 'fmri' in config['features']:\n",
    "    feature_cols += features_fmri\n",
    "if 'smri' in config['features']:\n",
    "    feature_cols += features_smri"
   ]
  },
  {
   "cell_type": "code",
   "execution_count": 8,
   "metadata": {},
   "outputs": [],
   "source": [
    "# Normalize features\n",
    "for var_id in feature_cols:\n",
    "    events_df = normalize_var(events_df, var_id, var_id)"
   ]
  },
  {
   "cell_type": "code",
   "execution_count": 9,
   "metadata": {},
   "outputs": [
    {
     "name": "stdout",
     "output_type": "stream",
     "text": [
      "Nr. events train: 7047, val: 1754, test: 284\n"
     ]
    }
   ],
   "source": [
    "# Divide events into training, validation and testing\n",
    "splits = save_restore_sex_fmri_splits(k=5)\n",
    "ood_site_id = SITES[0]\n",
    "events_train, events_id_test, events_ood_test = divide_events_by_splits(events_df, splits, ood_site_id)\n",
    "print(\"Nr. events train: {}, val: {}, test: {}\".format(len(events_train), len(events_id_test), len(events_ood_test)))"
   ]
  },
  {
   "cell_type": "code",
   "execution_count": 10,
   "metadata": {},
   "outputs": [],
   "source": [
    "# Define PyTorch datasets and dataloaders\n",
    "datasets = OrderedDict([('Train', PandasDataset(events_train, feature_cols, target_col)),\n",
    "            ('Val', PandasDataset(events_id_test, feature_cols, target_col)),\n",
    "            ('Test', PandasDataset(events_ood_test, feature_cols, target_col))])"
   ]
  },
  {
   "cell_type": "code",
   "execution_count": 11,
   "metadata": {},
   "outputs": [
    {
     "name": "stdout",
     "output_type": "stream",
     "text": [
      "Shape of X: torch.Size([64, 737])\n",
      "Shape of y: torch.Size([64]) torch.int64\n"
     ]
    }
   ],
   "source": [
    "# Create dataloaders\n",
    "batch_size = config['batch_size']\n",
    "dataloaders = OrderedDict([(dataset_name, DataLoader(dataset, batch_size=batch_size, shuffle=True))\n",
    "    for dataset_name, dataset in datasets.items()])\n",
    "\n",
    "for X, y in dataloaders['Train']:\n",
    "    print(f\"Shape of X: {X.shape}\")\n",
    "    print(f\"Shape of y: {y.shape} {y.dtype}\")\n",
    "    break"
   ]
  },
  {
   "cell_type": "code",
   "execution_count": 12,
   "metadata": {},
   "outputs": [
    {
     "name": "stdout",
     "output_type": "stream",
     "text": [
      "Using cpu device\n"
     ]
    }
   ],
   "source": [
    "# Determine device for training\n",
    "device = (\"cuda\" if torch.cuda.is_available() else \"mps\" if torch.backends.mps.is_available() else \"cpu\")\n",
    "print(\"Using {} device\".format(device))"
   ]
  },
  {
   "cell_type": "code",
   "execution_count": 13,
   "metadata": {},
   "outputs": [
    {
     "name": "stdout",
     "output_type": "stream",
     "text": [
      "FullyConnected3(\n",
      "  (softmax): Softmax(dim=1)\n",
      "  (flatten): Flatten(start_dim=1, end_dim=-1)\n",
      "  (linear_layers): Sequential(\n",
      "    (0): Linear(in_features=737, out_features=512, bias=True)\n",
      "    (1): ReLU()\n",
      "    (2): Linear(in_features=512, out_features=512, bias=True)\n",
      "    (3): ReLU()\n",
      "    (4): Linear(in_features=512, out_features=2, bias=True)\n",
      "  )\n",
      ")\n"
     ]
    }
   ],
   "source": [
    "# Define model\n",
    "models_path = os.path.join(exp.path, 'models')\n",
    "module = importlib.import_module(config['model'][0])\n",
    "model = getattr(module, config['model'][1])(save_path=models_path, labels=labels, input_size=len(feature_cols))\n",
    "#model = FullyConnected5(save_path=models_path, labels=labels, input_size=len(feature_cols))\n",
    "model = model.to(device)\n",
    "print(model)"
   ]
  },
  {
   "cell_type": "code",
   "execution_count": 14,
   "metadata": {},
   "outputs": [],
   "source": [
    "# Define optimizer and trainer\n",
    "learning_rate = config['lr']\n",
    "loss_f = nn.CrossEntropyLoss()\n",
    "trainer_path = os.path.join(exp.path, 'trainer')\n",
    "optimizer = torch.optim.Adam(model.parameters(), lr=learning_rate)\n",
    "trainer = ClassifierTrainer(trainer_path, device, optimizer, loss_f, labels=labels)"
   ]
  },
  {
   "cell_type": "code",
   "execution_count": 15,
   "metadata": {},
   "outputs": [
    {
     "name": "stderr",
     "output_type": "stream",
     "text": [
      "  0%|          | 0/150 [00:00<?, ?it/s]"
     ]
    },
    {
     "name": "stdout",
     "output_type": "stream",
     "text": [
      "Epoch 0\n",
      "Train CrossEntropyLoss: 0.701 B-Acc.: 0.500 F1: 0.325\n",
      "Val CrossEntropyLoss: 0.702 B-Acc.: 0.500 F1: 0.325\n",
      "Test CrossEntropyLoss: 0.699 B-Acc.: 0.500 F1: 0.330\n",
      "Saved PyTorch model state FullyConnected3_epoch0.pth in C:\\\\Users\\camgonza\\Box\\Camila Gonzalez's Files\\Data\\ABCD\\output\\exp\\sex_fs_FC3\\models\n",
      "Saved trainer state ClassifierTrainer_optimizer_epoch0.pth in C:\\\\Users\\camgonza\\Box\\Camila Gonzalez's Files\\Data\\ABCD\\output\\exp\\sex_fs_FC3\\trainer\\states\n",
      "Progress stored in C:\\\\Users\\camgonza\\Box\\Camila Gonzalez's Files\\Data\\ABCD\\output\\exp\\sex_fs_FC3\\trainer\n"
     ]
    },
    {
     "name": "stderr",
     "output_type": "stream",
     "text": [
      "  1%|          | 1/150 [00:01<04:35,  1.85s/it]"
     ]
    },
    {
     "name": "stdout",
     "output_type": "stream",
     "text": [
      "Ending epoch 1, loss 0.6291009362216469\n"
     ]
    },
    {
     "name": "stderr",
     "output_type": "stream",
     "text": [
      " 10%|█         | 15/150 [00:25<04:39,  2.07s/it]"
     ]
    },
    {
     "name": "stdout",
     "output_type": "stream",
     "text": [
      "Epoch 15\n",
      "Train CrossEntropyLoss: 0.363 B-Acc.: 0.835 F1: 0.836\n",
      "Val CrossEntropyLoss: 0.396 B-Acc.: 0.821 F1: 0.822\n",
      "Test CrossEntropyLoss: 0.368 B-Acc.: 0.813 F1: 0.813\n"
     ]
    },
    {
     "name": "stderr",
     "output_type": "stream",
     "text": [
      " 11%|█         | 16/150 [00:28<05:30,  2.46s/it]"
     ]
    },
    {
     "name": "stdout",
     "output_type": "stream",
     "text": [
      "Ending epoch 16, loss 0.37572511829234456\n"
     ]
    },
    {
     "name": "stderr",
     "output_type": "stream",
     "text": [
      " 20%|██        | 30/150 [00:56<03:54,  1.96s/it]"
     ]
    },
    {
     "name": "stdout",
     "output_type": "stream",
     "text": [
      "Epoch 30\n",
      "Train CrossEntropyLoss: 0.341 B-Acc.: 0.848 F1: 0.849\n",
      "Val CrossEntropyLoss: 0.381 B-Acc.: 0.828 F1: 0.829\n",
      "Test CrossEntropyLoss: 0.351 B-Acc.: 0.837 F1: 0.837\n",
      "Saved PyTorch model state FullyConnected3_epoch30.pth in C:\\\\Users\\camgonza\\Box\\Camila Gonzalez's Files\\Data\\ABCD\\output\\exp\\sex_fs_FC3\\models\n",
      "Saved trainer state ClassifierTrainer_optimizer_epoch30.pth in C:\\\\Users\\camgonza\\Box\\Camila Gonzalez's Files\\Data\\ABCD\\output\\exp\\sex_fs_FC3\\trainer\\states\n",
      "Progress stored in C:\\\\Users\\camgonza\\Box\\Camila Gonzalez's Files\\Data\\ABCD\\output\\exp\\sex_fs_FC3\\trainer\n"
     ]
    },
    {
     "name": "stderr",
     "output_type": "stream",
     "text": [
      " 21%|██        | 31/150 [01:00<04:55,  2.48s/it]"
     ]
    },
    {
     "name": "stdout",
     "output_type": "stream",
     "text": [
      "Ending epoch 31, loss 0.326115421346716\n"
     ]
    },
    {
     "name": "stderr",
     "output_type": "stream",
     "text": [
      " 30%|███       | 45/150 [01:29<03:41,  2.11s/it]"
     ]
    },
    {
     "name": "stdout",
     "output_type": "stream",
     "text": [
      "Epoch 45\n",
      "Train CrossEntropyLoss: 0.425 B-Acc.: 0.799 F1: 0.796\n",
      "Val CrossEntropyLoss: 0.469 B-Acc.: 0.782 F1: 0.779\n",
      "Test CrossEntropyLoss: 0.437 B-Acc.: 0.804 F1: 0.800\n"
     ]
    },
    {
     "name": "stderr",
     "output_type": "stream",
     "text": [
      " 31%|███       | 46/150 [01:32<04:10,  2.40s/it]"
     ]
    },
    {
     "name": "stdout",
     "output_type": "stream",
     "text": [
      "Ending epoch 46, loss 0.3337305576817409\n"
     ]
    },
    {
     "name": "stderr",
     "output_type": "stream",
     "text": [
      " 40%|████      | 60/150 [02:02<03:14,  2.17s/it]"
     ]
    },
    {
     "name": "stdout",
     "output_type": "stream",
     "text": [
      "Epoch 60\n",
      "Train CrossEntropyLoss: 0.338 B-Acc.: 0.846 F1: 0.847\n",
      "Val CrossEntropyLoss: 0.381 B-Acc.: 0.825 F1: 0.826\n",
      "Test CrossEntropyLoss: 0.352 B-Acc.: 0.840 F1: 0.840\n",
      "Saved PyTorch model state FullyConnected3_epoch60.pth in C:\\\\Users\\camgonza\\Box\\Camila Gonzalez's Files\\Data\\ABCD\\output\\exp\\sex_fs_FC3\\models\n",
      "Saved trainer state ClassifierTrainer_optimizer_epoch60.pth in C:\\\\Users\\camgonza\\Box\\Camila Gonzalez's Files\\Data\\ABCD\\output\\exp\\sex_fs_FC3\\trainer\\states\n",
      "Progress stored in C:\\\\Users\\camgonza\\Box\\Camila Gonzalez's Files\\Data\\ABCD\\output\\exp\\sex_fs_FC3\\trainer\n"
     ]
    },
    {
     "name": "stderr",
     "output_type": "stream",
     "text": [
      " 41%|████      | 61/150 [02:06<04:04,  2.75s/it]"
     ]
    },
    {
     "name": "stdout",
     "output_type": "stream",
     "text": [
      "Ending epoch 61, loss 0.36267208274420315\n"
     ]
    },
    {
     "name": "stderr",
     "output_type": "stream",
     "text": [
      " 50%|█████     | 75/150 [02:37<02:44,  2.19s/it]"
     ]
    },
    {
     "name": "stdout",
     "output_type": "stream",
     "text": [
      "Epoch 75\n",
      "Train CrossEntropyLoss: 0.328 B-Acc.: 0.856 F1: 0.857\n",
      "Val CrossEntropyLoss: 0.374 B-Acc.: 0.833 F1: 0.834\n",
      "Test CrossEntropyLoss: 0.381 B-Acc.: 0.837 F1: 0.837\n"
     ]
    },
    {
     "name": "stderr",
     "output_type": "stream",
     "text": [
      " 51%|█████     | 76/150 [02:40<03:07,  2.54s/it]"
     ]
    },
    {
     "name": "stdout",
     "output_type": "stream",
     "text": [
      "Ending epoch 76, loss 0.3069926300295838\n"
     ]
    },
    {
     "name": "stderr",
     "output_type": "stream",
     "text": [
      " 60%|██████    | 90/150 [03:11<02:09,  2.15s/it]"
     ]
    },
    {
     "name": "stdout",
     "output_type": "stream",
     "text": [
      "Epoch 90\n",
      "Train CrossEntropyLoss: 0.421 B-Acc.: 0.811 F1: 0.801\n",
      "Val CrossEntropyLoss: 0.482 B-Acc.: 0.799 F1: 0.789\n",
      "Test CrossEntropyLoss: 0.500 B-Acc.: 0.795 F1: 0.786\n",
      "Saved PyTorch model state FullyConnected3_epoch90.pth in C:\\\\Users\\camgonza\\Box\\Camila Gonzalez's Files\\Data\\ABCD\\output\\exp\\sex_fs_FC3\\models\n",
      "Saved trainer state ClassifierTrainer_optimizer_epoch90.pth in C:\\\\Users\\camgonza\\Box\\Camila Gonzalez's Files\\Data\\ABCD\\output\\exp\\sex_fs_FC3\\trainer\\states\n",
      "Progress stored in C:\\\\Users\\camgonza\\Box\\Camila Gonzalez's Files\\Data\\ABCD\\output\\exp\\sex_fs_FC3\\trainer\n"
     ]
    },
    {
     "name": "stderr",
     "output_type": "stream",
     "text": [
      " 61%|██████    | 91/150 [03:15<02:39,  2.71s/it]"
     ]
    },
    {
     "name": "stdout",
     "output_type": "stream",
     "text": [
      "Ending epoch 91, loss 0.31932664159181956\n"
     ]
    },
    {
     "name": "stderr",
     "output_type": "stream",
     "text": [
      " 70%|███████   | 105/150 [03:45<01:36,  2.15s/it]"
     ]
    },
    {
     "name": "stdout",
     "output_type": "stream",
     "text": [
      "Epoch 105\n",
      "Train CrossEntropyLoss: 0.285 B-Acc.: 0.878 F1: 0.876\n",
      "Val CrossEntropyLoss: 0.338 B-Acc.: 0.851 F1: 0.849\n",
      "Test CrossEntropyLoss: 0.347 B-Acc.: 0.829 F1: 0.826\n"
     ]
    },
    {
     "name": "stderr",
     "output_type": "stream",
     "text": [
      " 71%|███████   | 106/150 [03:48<01:48,  2.46s/it]"
     ]
    },
    {
     "name": "stdout",
     "output_type": "stream",
     "text": [
      "Ending epoch 106, loss 0.28300395017271646\n"
     ]
    },
    {
     "name": "stderr",
     "output_type": "stream",
     "text": [
      " 80%|████████  | 120/150 [04:18<01:02,  2.10s/it]"
     ]
    },
    {
     "name": "stdout",
     "output_type": "stream",
     "text": [
      "Epoch 120\n",
      "Train CrossEntropyLoss: 0.487 B-Acc.: 0.787 F1: 0.784\n",
      "Val CrossEntropyLoss: 0.562 B-Acc.: 0.774 F1: 0.769\n",
      "Test CrossEntropyLoss: 0.449 B-Acc.: 0.804 F1: 0.801\n",
      "Saved PyTorch model state FullyConnected3_epoch120.pth in C:\\\\Users\\camgonza\\Box\\Camila Gonzalez's Files\\Data\\ABCD\\output\\exp\\sex_fs_FC3\\models\n",
      "Saved trainer state ClassifierTrainer_optimizer_epoch120.pth in C:\\\\Users\\camgonza\\Box\\Camila Gonzalez's Files\\Data\\ABCD\\output\\exp\\sex_fs_FC3\\trainer\\states\n",
      "Progress stored in C:\\\\Users\\camgonza\\Box\\Camila Gonzalez's Files\\Data\\ABCD\\output\\exp\\sex_fs_FC3\\trainer\n"
     ]
    },
    {
     "name": "stderr",
     "output_type": "stream",
     "text": [
      " 81%|████████  | 121/150 [04:22<01:21,  2.82s/it]"
     ]
    },
    {
     "name": "stdout",
     "output_type": "stream",
     "text": [
      "Ending epoch 121, loss 0.29539132319592143\n"
     ]
    },
    {
     "name": "stderr",
     "output_type": "stream",
     "text": [
      " 90%|█████████ | 135/150 [04:53<00:32,  2.17s/it]"
     ]
    },
    {
     "name": "stdout",
     "output_type": "stream",
     "text": [
      "Epoch 135\n",
      "Train CrossEntropyLoss: 0.289 B-Acc.: 0.871 F1: 0.872\n",
      "Val CrossEntropyLoss: 0.348 B-Acc.: 0.848 F1: 0.849\n",
      "Test CrossEntropyLoss: 0.347 B-Acc.: 0.844 F1: 0.844\n"
     ]
    },
    {
     "name": "stderr",
     "output_type": "stream",
     "text": [
      " 91%|█████████ | 136/150 [04:57<00:35,  2.55s/it]"
     ]
    },
    {
     "name": "stdout",
     "output_type": "stream",
     "text": [
      "Ending epoch 136, loss 0.27310926567863775\n"
     ]
    },
    {
     "name": "stderr",
     "output_type": "stream",
     "text": [
      "100%|██████████| 150/150 [05:36<00:00,  2.24s/it]\n"
     ]
    },
    {
     "name": "stdout",
     "output_type": "stream",
     "text": [
      "Finished training\n",
      "Epoch 150\n",
      "Train CrossEntropyLoss: 0.257 B-Acc.: 0.889 F1: 0.889\n",
      "Val CrossEntropyLoss: 0.333 B-Acc.: 0.856 F1: 0.857\n",
      "Test CrossEntropyLoss: 0.309 B-Acc.: 0.831 F1: 0.831\n",
      "Saved PyTorch model state FullyConnected3_epoch150.pth in C:\\\\Users\\camgonza\\Box\\Camila Gonzalez's Files\\Data\\ABCD\\output\\exp\\sex_fs_FC3\\models\n",
      "Saved trainer state ClassifierTrainer_optimizer_epoch150.pth in C:\\\\Users\\camgonza\\Box\\Camila Gonzalez's Files\\Data\\ABCD\\output\\exp\\sex_fs_FC3\\trainer\\states\n",
      "Progress stored in C:\\\\Users\\camgonza\\Box\\Camila Gonzalez's Files\\Data\\ABCD\\output\\exp\\sex_fs_FC3\\trainer\n"
     ]
    }
   ],
   "source": [
    "# Train model\n",
    "nr_epochs = config['nr_epochs']\n",
    "trainer.train(model, dataloaders['Train'], dataloaders, \n",
    "              nr_epochs=nr_epochs, starting_from_epoch=0,\n",
    "              print_loss_every=int(nr_epochs/10), eval_every=int(nr_epochs/10), export_every=int(nr_epochs/5), verbose=True)"
   ]
  },
  {
   "cell_type": "code",
   "execution_count": 17,
   "metadata": {},
   "outputs": [],
   "source": [
    "exp.finish(notes='device: {}'.format(device))"
   ]
  }
 ],
 "metadata": {
  "kernelspec": {
   "display_name": "abcd",
   "language": "python",
   "name": "python3"
  },
  "language_info": {
   "codemirror_mode": {
    "name": "ipython",
    "version": 3
   },
   "file_extension": ".py",
   "mimetype": "text/x-python",
   "name": "python",
   "nbconvert_exporter": "python",
   "pygments_lexer": "ipython3",
   "version": "3.11.4"
  },
  "orig_nbformat": 4
 },
 "nbformat": 4,
 "nbformat_minor": 2
}
