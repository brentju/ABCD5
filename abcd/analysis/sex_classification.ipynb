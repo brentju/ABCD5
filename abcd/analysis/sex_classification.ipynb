{
 "cells": [
  {
   "cell_type": "code",
   "execution_count": 1,
   "metadata": {},
   "outputs": [],
   "source": [
    "%load_ext autoreload\n",
    "%autoreload 2"
   ]
  },
  {
   "cell_type": "code",
   "execution_count": 2,
   "metadata": {},
   "outputs": [],
   "source": [
    "import os\n",
    "import pandas as pd\n",
    "from collections import OrderedDict\n",
    "import torch\n",
    "torch.manual_seed(0)\n",
    "from torch import nn\n",
    "from torch.utils.data import DataLoader\n",
    "from torchvision import datasets\n",
    "from torchvision.transforms import ToTensor\n",
    "from tqdm import tqdm\n",
    "from abcd.local.paths import output_path\n",
    "from abcd.data.read_data import get_subjects_events_sf, add_event_vars, add_subject_vars, filter_events, filter_subjects\n",
    "import abcd.data.VARS as VARS\n",
    "from abcd.data.define_splits import SITES, save_restore_sex_fmri_splits\n",
    "from abcd.data.divide_with_splits import divide_events_by_splits\n",
    "from abcd.data.var_tailoring.normalization import normalize_var\n",
    "from abcd.data.pytorch.get_dataset import PandasDataset\n",
    "from abcd.models.classification.FullyConnected import FullyConnected3\n",
    "from abcd.training.ClassifierTrainer import ClassifierTrainer\n",
    "from abcd.local.paths import core_path, output_path\n",
    "from abcd.data.VARS import STRUCT_FILES, STRUCT_FEATURES"
   ]
  },
  {
   "cell_type": "code",
   "execution_count": 3,
   "metadata": {},
   "outputs": [
    {
     "name": "stdout",
     "output_type": "stream",
     "text": [
      "Leaving baseline visits, we have 9086 events\n"
     ]
    }
   ],
   "source": [
    "# Fetch subjects and events\n",
    "subjects_df, events_df = get_subjects_events_sf()\n",
    "# Change to 0 (male) and 1 (female)\n",
    "events_df.loc[events_df[\"kbi_sex_assigned_at_birth\"] == 1.0, \"kbi_sex_assigned_at_birth\"] = 0\n",
    "events_df.loc[events_df[\"kbi_sex_assigned_at_birth\"] == 2.0, \"kbi_sex_assigned_at_birth\"] = 1\n",
    "# Leave only the baseline visits\n",
    "events_df = events_df.loc[(events_df['eventname'] == 'baseline_year_1_arm_1')]\n",
    "print(\"Leaving baseline visits, we have {} events\".format(len(events_df)))"
   ]
  },
  {
   "cell_type": "code",
   "execution_count": 4,
   "metadata": {},
   "outputs": [
    {
     "name": "stdout",
     "output_type": "stream",
     "text": [
      "4704 visits with Male target\n",
      "4382 visits with Female target\n"
     ]
    }
   ],
   "source": [
    "# Define target and features\n",
    "target_col = 'kbi_sex_assigned_at_birth'\n",
    "labels = [\"Male\", \"Female\"]\n",
    "feature_cols = list(VARS.NAMED_CONNECTIONS.keys()) + list(VARS.STRUCT_FEATURES.keys())\n",
    "\n",
    "# Print distribution of baseline class\n",
    "for val in set(events_df['kbi_sex_assigned_at_birth']):\n",
    "    print('{} visits with {} target'.format(len(events_df.loc[events_df[\"kbi_sex_assigned_at_birth\"] == val]), labels[int(val)]))"
   ]
  },
  {
   "cell_type": "code",
   "execution_count": 5,
   "metadata": {},
   "outputs": [],
   "source": [
    "# Normalize features\n",
    "for var_id in feature_cols:\n",
    "    events_df = normalize_var(events_df, var_id, var_id)"
   ]
  },
  {
   "cell_type": "code",
   "execution_count": 6,
   "metadata": {},
   "outputs": [
    {
     "name": "stdout",
     "output_type": "stream",
     "text": [
      "Nr. events train: 7064, val: 1738, test: 284\n"
     ]
    }
   ],
   "source": [
    "# Divide events into training, validation and testing\n",
    "splits = save_restore_sex_fmri_splits(k=5)\n",
    "ood_site_id = SITES[0]\n",
    "events_train, events_id_test, events_ood_test = divide_events_by_splits(events_df, splits, ood_site_id)\n",
    "print(\"Nr. events train: {}, val: {}, test: {}\".format(len(events_train), len(events_id_test), len(events_ood_test)))"
   ]
  },
  {
   "cell_type": "code",
   "execution_count": 7,
   "metadata": {},
   "outputs": [],
   "source": [
    "# Define PyTorch datasets and dataloaders\n",
    "datasets = OrderedDict([('train', PandasDataset(events_train, feature_cols, target_col)),\n",
    "            ('val', PandasDataset(events_id_test, feature_cols, target_col)),\n",
    "            ('test', PandasDataset(events_ood_test, feature_cols, target_col))])"
   ]
  },
  {
   "cell_type": "code",
   "execution_count": 8,
   "metadata": {},
   "outputs": [
    {
     "name": "stdout",
     "output_type": "stream",
     "text": [
      "Shape of X: torch.Size([64, 177])\n",
      "Shape of y: torch.Size([64]) torch.int64\n"
     ]
    }
   ],
   "source": [
    "# Create dataloaders\n",
    "batch_size = 64\n",
    "dataloaders = OrderedDict([(dataset_name, DataLoader(dataset, batch_size=batch_size, shuffle=True))\n",
    "    for dataset_name, dataset in datasets.items()])\n",
    "\n",
    "for X, y in dataloaders['train']:\n",
    "    print(f\"Shape of X: {X.shape}\")\n",
    "    print(f\"Shape of y: {y.shape} {y.dtype}\")\n",
    "    break"
   ]
  },
  {
   "cell_type": "code",
   "execution_count": 9,
   "metadata": {},
   "outputs": [
    {
     "name": "stdout",
     "output_type": "stream",
     "text": [
      "Using cpu device\n"
     ]
    }
   ],
   "source": [
    "# Determine device for training\n",
    "device = (\"cuda\" if torch.cuda.is_available() else \"mps\" if torch.backends.mps.is_available() else \"cpu\")\n",
    "print(\"Using {} device\".format(device))"
   ]
  },
  {
   "cell_type": "code",
   "execution_count": 10,
   "metadata": {},
   "outputs": [
    {
     "name": "stdout",
     "output_type": "stream",
     "text": [
      "FullyConnected3(\n",
      "  (softmax): Softmax(dim=1)\n",
      "  (flatten): Flatten(start_dim=1, end_dim=-1)\n",
      "  (linear_layers): Sequential(\n",
      "    (0): Linear(in_features=177, out_features=512, bias=True)\n",
      "    (1): ReLU()\n",
      "    (2): Linear(in_features=512, out_features=512, bias=True)\n",
      "    (3): ReLU()\n",
      "    (4): Linear(in_features=512, out_features=2, bias=True)\n",
      "  )\n",
      ")\n"
     ]
    }
   ],
   "source": [
    "# Define model\n",
    "models_path = os.path.join(output_path, 'ABCD_sex_prediction_sf', 'models')\n",
    "model = FullyConnected3(save_path=models_path, labels=labels, input_size=len(feature_cols))\n",
    "model = model.to(device)\n",
    "print(model)"
   ]
  },
  {
   "cell_type": "code",
   "execution_count": 11,
   "metadata": {},
   "outputs": [],
   "source": [
    "# Define optimizer and trainer\n",
    "learning_rate = 1e-3\n",
    "loss_f = nn.CrossEntropyLoss()\n",
    "trainer_path = os.path.join(output_path, 'ABCD_sex_prediction_sf', 'results')\n",
    "optimizer = torch.optim.Adam(model.parameters(), lr=learning_rate)\n",
    "trainer = ClassifierTrainer(trainer_path, device, optimizer, loss_f, labels=labels)"
   ]
  },
  {
   "cell_type": "code",
   "execution_count": 12,
   "metadata": {},
   "outputs": [
    {
     "name": "stderr",
     "output_type": "stream",
     "text": [
      "  0%|          | 0/150 [00:00<?, ?it/s]"
     ]
    },
    {
     "name": "stdout",
     "output_type": "stream",
     "text": [
      "Epoch 0\n",
      "train CrossEntropyLoss: 0.693 B-Acc.: 0.518 F1: 0.467\n",
      "val CrossEntropyLoss: 0.693 B-Acc.: 0.524 F1: 0.470\n",
      "test CrossEntropyLoss: 0.693 B-Acc.: 0.519 F1: 0.457\n",
      "Saved PyTorch model state FullyConnected3_epoch0.pth in C:\\Users\\camgonza\\Box\\Camila Gonzalez's Files\\DATA\\ABCD\\output\\ABCD_sex_prediction_sf\\models\n",
      "Saved trainer state ClassifierTrainer_optimizer_epoch0.pth in C:\\Users\\camgonza\\Box\\Camila Gonzalez's Files\\DATA\\ABCD\\output\\ABCD_sex_prediction_sf\\results\\states\n",
      "Progress stored in C:\\Users\\camgonza\\Box\\Camila Gonzalez's Files\\DATA\\ABCD\\output\\ABCD_sex_prediction_sf\\results\n"
     ]
    },
    {
     "name": "stderr",
     "output_type": "stream",
     "text": [
      "  1%|          | 1/150 [00:03<09:20,  3.76s/it]"
     ]
    },
    {
     "name": "stdout",
     "output_type": "stream",
     "text": [
      "Starting epoch 1, loss 0.6646638566309268\n"
     ]
    },
    {
     "name": "stderr",
     "output_type": "stream",
     "text": [
      "  7%|▋         | 10/150 [00:20<05:00,  2.15s/it]"
     ]
    },
    {
     "name": "stdout",
     "output_type": "stream",
     "text": [
      "Epoch 10\n",
      "train CrossEntropyLoss: 0.496 B-Acc.: 0.758 F1: 0.757\n",
      "val CrossEntropyLoss: 0.521 B-Acc.: 0.748 F1: 0.747\n",
      "test CrossEntropyLoss: 0.484 B-Acc.: 0.751 F1: 0.749\n"
     ]
    },
    {
     "name": "stderr",
     "output_type": "stream",
     "text": [
      "  7%|▋         | 11/150 [00:24<05:52,  2.54s/it]"
     ]
    },
    {
     "name": "stdout",
     "output_type": "stream",
     "text": [
      "Starting epoch 11, loss 0.5059393335570086\n"
     ]
    },
    {
     "name": "stderr",
     "output_type": "stream",
     "text": [
      " 13%|█▎        | 20/150 [00:45<05:19,  2.45s/it]"
     ]
    },
    {
     "name": "stdout",
     "output_type": "stream",
     "text": [
      "Epoch 20\n",
      "train CrossEntropyLoss: 0.503 B-Acc.: 0.749 F1: 0.749\n",
      "val CrossEntropyLoss: 0.516 B-Acc.: 0.743 F1: 0.742\n",
      "test CrossEntropyLoss: 0.506 B-Acc.: 0.777 F1: 0.776\n"
     ]
    },
    {
     "name": "stderr",
     "output_type": "stream",
     "text": [
      " 14%|█▍        | 21/150 [00:48<05:42,  2.66s/it]"
     ]
    },
    {
     "name": "stdout",
     "output_type": "stream",
     "text": [
      "Starting epoch 21, loss 0.49983624053430986\n"
     ]
    },
    {
     "name": "stderr",
     "output_type": "stream",
     "text": [
      " 20%|██        | 30/150 [01:07<04:24,  2.20s/it]"
     ]
    },
    {
     "name": "stdout",
     "output_type": "stream",
     "text": [
      "Epoch 30\n",
      "train CrossEntropyLoss: 0.486 B-Acc.: 0.764 F1: 0.763\n",
      "val CrossEntropyLoss: 0.507 B-Acc.: 0.752 F1: 0.751\n",
      "test CrossEntropyLoss: 0.470 B-Acc.: 0.757 F1: 0.757\n"
     ]
    },
    {
     "name": "stderr",
     "output_type": "stream",
     "text": [
      " 21%|██        | 31/150 [01:10<04:46,  2.40s/it]"
     ]
    },
    {
     "name": "stdout",
     "output_type": "stream",
     "text": [
      "Starting epoch 31, loss 0.5080854436298748\n"
     ]
    },
    {
     "name": "stderr",
     "output_type": "stream",
     "text": [
      " 27%|██▋       | 40/150 [01:27<03:34,  1.95s/it]"
     ]
    },
    {
     "name": "stdout",
     "output_type": "stream",
     "text": [
      "Epoch 40\n",
      "train CrossEntropyLoss: 0.486 B-Acc.: 0.765 F1: 0.764\n",
      "val CrossEntropyLoss: 0.505 B-Acc.: 0.749 F1: 0.748\n",
      "test CrossEntropyLoss: 0.488 B-Acc.: 0.754 F1: 0.753\n"
     ]
    },
    {
     "name": "stderr",
     "output_type": "stream",
     "text": [
      " 27%|██▋       | 41/150 [01:30<04:05,  2.25s/it]"
     ]
    },
    {
     "name": "stdout",
     "output_type": "stream",
     "text": [
      "Starting epoch 41, loss 0.49853463672302867\n"
     ]
    },
    {
     "name": "stderr",
     "output_type": "stream",
     "text": [
      " 33%|███▎      | 50/150 [01:47<03:14,  1.95s/it]"
     ]
    },
    {
     "name": "stdout",
     "output_type": "stream",
     "text": [
      "Epoch 50\n",
      "train CrossEntropyLoss: 0.483 B-Acc.: 0.766 F1: 0.766\n",
      "val CrossEntropyLoss: 0.503 B-Acc.: 0.752 F1: 0.752\n",
      "test CrossEntropyLoss: 0.471 B-Acc.: 0.764 F1: 0.764\n",
      "Saved PyTorch model state FullyConnected3_epoch50.pth in C:\\Users\\camgonza\\Box\\Camila Gonzalez's Files\\DATA\\ABCD\\output\\ABCD_sex_prediction_sf\\models\n",
      "Saved trainer state ClassifierTrainer_optimizer_epoch50.pth in C:\\Users\\camgonza\\Box\\Camila Gonzalez's Files\\DATA\\ABCD\\output\\ABCD_sex_prediction_sf\\results\\states\n",
      "Progress stored in C:\\Users\\camgonza\\Box\\Camila Gonzalez's Files\\DATA\\ABCD\\output\\ABCD_sex_prediction_sf\\results\n"
     ]
    },
    {
     "name": "stderr",
     "output_type": "stream",
     "text": [
      " 34%|███▍      | 51/150 [01:50<03:53,  2.36s/it]"
     ]
    },
    {
     "name": "stdout",
     "output_type": "stream",
     "text": [
      "Starting epoch 51, loss 0.49777019292384656\n"
     ]
    },
    {
     "name": "stderr",
     "output_type": "stream",
     "text": [
      " 40%|████      | 60/150 [02:08<02:56,  1.97s/it]"
     ]
    },
    {
     "name": "stdout",
     "output_type": "stream",
     "text": [
      "Epoch 60\n",
      "train CrossEntropyLoss: 0.488 B-Acc.: 0.767 F1: 0.767\n",
      "val CrossEntropyLoss: 0.504 B-Acc.: 0.753 F1: 0.753\n",
      "test CrossEntropyLoss: 0.502 B-Acc.: 0.761 F1: 0.761\n"
     ]
    },
    {
     "name": "stderr",
     "output_type": "stream",
     "text": [
      " 41%|████      | 61/150 [02:11<03:24,  2.29s/it]"
     ]
    },
    {
     "name": "stdout",
     "output_type": "stream",
     "text": [
      "Starting epoch 61, loss 0.49162068291827365\n"
     ]
    },
    {
     "name": "stderr",
     "output_type": "stream",
     "text": [
      " 47%|████▋     | 70/150 [02:29<02:38,  1.98s/it]"
     ]
    },
    {
     "name": "stdout",
     "output_type": "stream",
     "text": [
      "Epoch 70\n",
      "train CrossEntropyLoss: 0.484 B-Acc.: 0.767 F1: 0.765\n",
      "val CrossEntropyLoss: 0.516 B-Acc.: 0.748 F1: 0.747\n",
      "test CrossEntropyLoss: 0.481 B-Acc.: 0.754 F1: 0.753\n"
     ]
    },
    {
     "name": "stderr",
     "output_type": "stream",
     "text": [
      " 47%|████▋     | 71/150 [02:32<02:54,  2.21s/it]"
     ]
    },
    {
     "name": "stdout",
     "output_type": "stream",
     "text": [
      "Starting epoch 71, loss 0.4938839606873624\n"
     ]
    },
    {
     "name": "stderr",
     "output_type": "stream",
     "text": [
      " 53%|█████▎    | 80/150 [02:49<02:14,  1.92s/it]"
     ]
    },
    {
     "name": "stdout",
     "output_type": "stream",
     "text": [
      "Epoch 80\n",
      "train CrossEntropyLoss: 0.505 B-Acc.: 0.754 F1: 0.747\n",
      "val CrossEntropyLoss: 0.534 B-Acc.: 0.732 F1: 0.724\n",
      "test CrossEntropyLoss: 0.527 B-Acc.: 0.707 F1: 0.696\n"
     ]
    },
    {
     "name": "stderr",
     "output_type": "stream",
     "text": [
      " 54%|█████▍    | 81/150 [02:52<02:28,  2.15s/it]"
     ]
    },
    {
     "name": "stdout",
     "output_type": "stream",
     "text": [
      "Starting epoch 81, loss 0.49141479988355896\n"
     ]
    },
    {
     "name": "stderr",
     "output_type": "stream",
     "text": [
      " 60%|██████    | 90/150 [03:09<01:55,  1.93s/it]"
     ]
    },
    {
     "name": "stdout",
     "output_type": "stream",
     "text": [
      "Epoch 90\n",
      "train CrossEntropyLoss: 0.494 B-Acc.: 0.765 F1: 0.761\n",
      "val CrossEntropyLoss: 0.536 B-Acc.: 0.745 F1: 0.741\n",
      "test CrossEntropyLoss: 0.501 B-Acc.: 0.741 F1: 0.737\n"
     ]
    },
    {
     "name": "stderr",
     "output_type": "stream",
     "text": [
      " 61%|██████    | 91/150 [03:12<02:07,  2.15s/it]"
     ]
    },
    {
     "name": "stdout",
     "output_type": "stream",
     "text": [
      "Starting epoch 91, loss 0.49945278103287155\n"
     ]
    },
    {
     "name": "stderr",
     "output_type": "stream",
     "text": [
      " 67%|██████▋   | 100/150 [03:29<01:37,  1.95s/it]"
     ]
    },
    {
     "name": "stdout",
     "output_type": "stream",
     "text": [
      "Epoch 100\n",
      "train CrossEntropyLoss: 0.480 B-Acc.: 0.767 F1: 0.767\n",
      "val CrossEntropyLoss: 0.509 B-Acc.: 0.751 F1: 0.751\n",
      "test CrossEntropyLoss: 0.488 B-Acc.: 0.774 F1: 0.774\n",
      "Saved PyTorch model state FullyConnected3_epoch100.pth in C:\\Users\\camgonza\\Box\\Camila Gonzalez's Files\\DATA\\ABCD\\output\\ABCD_sex_prediction_sf\\models\n",
      "Saved trainer state ClassifierTrainer_optimizer_epoch100.pth in C:\\Users\\camgonza\\Box\\Camila Gonzalez's Files\\DATA\\ABCD\\output\\ABCD_sex_prediction_sf\\results\\states\n",
      "Progress stored in C:\\Users\\camgonza\\Box\\Camila Gonzalez's Files\\DATA\\ABCD\\output\\ABCD_sex_prediction_sf\\results\n"
     ]
    },
    {
     "name": "stderr",
     "output_type": "stream",
     "text": [
      " 67%|██████▋   | 101/150 [03:33<01:52,  2.30s/it]"
     ]
    },
    {
     "name": "stdout",
     "output_type": "stream",
     "text": [
      "Starting epoch 101, loss 0.490458007331367\n"
     ]
    },
    {
     "name": "stderr",
     "output_type": "stream",
     "text": [
      " 73%|███████▎  | 110/150 [03:50<01:19,  1.98s/it]"
     ]
    },
    {
     "name": "stdout",
     "output_type": "stream",
     "text": [
      "Epoch 110\n",
      "train CrossEntropyLoss: 0.483 B-Acc.: 0.773 F1: 0.771\n",
      "val CrossEntropyLoss: 0.511 B-Acc.: 0.751 F1: 0.749\n",
      "test CrossEntropyLoss: 0.511 B-Acc.: 0.734 F1: 0.730\n"
     ]
    },
    {
     "name": "stderr",
     "output_type": "stream",
     "text": [
      " 74%|███████▍  | 111/150 [03:53<01:28,  2.27s/it]"
     ]
    },
    {
     "name": "stdout",
     "output_type": "stream",
     "text": [
      "Starting epoch 111, loss 0.48164466640970727\n"
     ]
    },
    {
     "name": "stderr",
     "output_type": "stream",
     "text": [
      " 80%|████████  | 120/150 [04:10<00:54,  1.83s/it]"
     ]
    },
    {
     "name": "stdout",
     "output_type": "stream",
     "text": [
      "Epoch 120\n",
      "train CrossEntropyLoss: 0.498 B-Acc.: 0.748 F1: 0.747\n",
      "val CrossEntropyLoss: 0.517 B-Acc.: 0.740 F1: 0.739\n",
      "test CrossEntropyLoss: 0.502 B-Acc.: 0.759 F1: 0.758\n"
     ]
    },
    {
     "name": "stderr",
     "output_type": "stream",
     "text": [
      " 81%|████████  | 121/150 [04:12<01:00,  2.08s/it]"
     ]
    },
    {
     "name": "stdout",
     "output_type": "stream",
     "text": [
      "Starting epoch 121, loss 0.4821877715823887\n"
     ]
    },
    {
     "name": "stderr",
     "output_type": "stream",
     "text": [
      " 87%|████████▋ | 130/150 [04:29<00:36,  1.84s/it]"
     ]
    },
    {
     "name": "stdout",
     "output_type": "stream",
     "text": [
      "Epoch 130\n",
      "train CrossEntropyLoss: 0.472 B-Acc.: 0.774 F1: 0.774\n",
      "val CrossEntropyLoss: 0.506 B-Acc.: 0.753 F1: 0.753\n",
      "test CrossEntropyLoss: 0.505 B-Acc.: 0.771 F1: 0.771\n"
     ]
    },
    {
     "name": "stderr",
     "output_type": "stream",
     "text": [
      " 87%|████████▋ | 131/150 [04:32<00:39,  2.10s/it]"
     ]
    },
    {
     "name": "stdout",
     "output_type": "stream",
     "text": [
      "Starting epoch 131, loss 0.4797613991273416\n"
     ]
    },
    {
     "name": "stderr",
     "output_type": "stream",
     "text": [
      " 93%|█████████▎| 140/150 [04:48<00:17,  1.80s/it]"
     ]
    },
    {
     "name": "stdout",
     "output_type": "stream",
     "text": [
      "Epoch 140\n",
      "train CrossEntropyLoss: 0.487 B-Acc.: 0.761 F1: 0.756\n",
      "val CrossEntropyLoss: 0.517 B-Acc.: 0.739 F1: 0.734\n",
      "test CrossEntropyLoss: 0.528 B-Acc.: 0.727 F1: 0.721\n"
     ]
    },
    {
     "name": "stderr",
     "output_type": "stream",
     "text": [
      " 94%|█████████▍| 141/150 [04:50<00:18,  2.05s/it]"
     ]
    },
    {
     "name": "stdout",
     "output_type": "stream",
     "text": [
      "Starting epoch 141, loss 0.47953805246868647\n"
     ]
    },
    {
     "name": "stderr",
     "output_type": "stream",
     "text": [
      "100%|██████████| 150/150 [05:07<00:00,  2.05s/it]\n"
     ]
    },
    {
     "name": "stdout",
     "output_type": "stream",
     "text": [
      "\n",
      "Finished training\n",
      "Epoch 150\n",
      "train CrossEntropyLoss: 0.467 B-Acc.: 0.777 F1: 0.776\n",
      "val CrossEntropyLoss: 0.512 B-Acc.: 0.751 F1: 0.750\n",
      "test CrossEntropyLoss: 0.521 B-Acc.: 0.730 F1: 0.728\n",
      "Saved PyTorch model state FullyConnected3_epoch150.pth in C:\\Users\\camgonza\\Box\\Camila Gonzalez's Files\\DATA\\ABCD\\output\\ABCD_sex_prediction_sf\\models\n",
      "Saved trainer state ClassifierTrainer_optimizer_epoch150.pth in C:\\Users\\camgonza\\Box\\Camila Gonzalez's Files\\DATA\\ABCD\\output\\ABCD_sex_prediction_sf\\results\\states\n",
      "Progress stored in C:\\Users\\camgonza\\Box\\Camila Gonzalez's Files\\DATA\\ABCD\\output\\ABCD_sex_prediction_sf\\results\n"
     ]
    }
   ],
   "source": [
    "# Train model\n",
    "trainer.train(model, dataloaders['train'], dataloaders, \n",
    "              nr_epochs=150, starting_from_epoch=0,\n",
    "              print_loss_every=10, eval_every=10, export_every=50, verbose=True)"
   ]
  }
 ],
 "metadata": {
  "kernelspec": {
   "display_name": "abcd",
   "language": "python",
   "name": "python3"
  },
  "language_info": {
   "codemirror_mode": {
    "name": "ipython",
    "version": 3
   },
   "file_extension": ".py",
   "mimetype": "text/x-python",
   "name": "python",
   "nbconvert_exporter": "python",
   "pygments_lexer": "ipython3",
   "version": "3.11.4"
  },
  "orig_nbformat": 4
 },
 "nbformat": 4,
 "nbformat_minor": 2
}
